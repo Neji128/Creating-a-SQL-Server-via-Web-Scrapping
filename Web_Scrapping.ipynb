{
 "cells": [
  {
   "cell_type": "code",
   "execution_count": 1,
   "metadata": {},
   "outputs": [],
   "source": [
    "#importing pertinent libraries\n",
    "import pandas as pd\n",
    "from urllib.request import urlopen\n",
    "from bs4 import BeautifulSoup\n",
    "import numpy as np\n",
    "import sqlite3, requests, re\n",
    "import json"
   ]
  },
  {
   "cell_type": "code",
   "execution_count": 2,
   "metadata": {},
   "outputs": [
    {
     "data": {
      "text/plain": [
       "['http://www.ufcstats.com/fighter-details/da603332ad41f165',\n",
       " 'http://www.ufcstats.com/fighter-details/040a74bb0a465c54',\n",
       " 'http://www.ufcstats.com/fighter-details/31ee470ef5dc8d7f',\n",
       " 'http://www.ufcstats.com/fighter-details/2144954270be834d',\n",
       " 'http://www.ufcstats.com/fighter-details/e741536153227386',\n",
       " 'http://www.ufcstats.com/fighter-details/aa6e591c2a2cdecd',\n",
       " 'http://www.ufcstats.com/fighter-details/39f62b833e4cf126',\n",
       " 'http://www.ufcstats.com/fighter-details/bd92cf5da5413d2a',\n",
       " 'http://www.ufcstats.com/fighter-details/5e4eec08896c9423',\n",
       " 'http://www.ufcstats.com/fighter-details/af997f7611673880',\n",
       " 'http://www.ufcstats.com/fighter-details/a373085066dbfb54',\n",
       " 'http://www.ufcstats.com/fighter-details/33a331684283900f',\n",
       " 'http://www.ufcstats.com/fighter-details/15df64c02b6b0fde',\n",
       " 'http://www.ufcstats.com/fighter-details/ee0b69e307c857e5',\n",
       " 'http://www.ufcstats.com/fighter-details/d615d6a10a4704cd',\n",
       " 'http://www.ufcstats.com/fighter-details/8fd76e1b49c00ae2',\n",
       " 'http://www.ufcstats.com/fighter-details/9abc648e76c4493a',\n",
       " 'http://www.ufcstats.com/fighter-details/1c5879330d42255f',\n",
       " 'http://www.ufcstats.com/fighter-details/61fb8098ccf81c7f',\n",
       " 'http://www.ufcstats.com/fighter-details/c487223b0289bda9',\n",
       " 'http://www.ufcstats.com/fighter-details/a08ddd04eaffd81d',\n",
       " 'http://www.ufcstats.com/fighter-details/2dea80c069847321',\n",
       " 'http://www.ufcstats.com/fighter-details/f16ddfa31236efed',\n",
       " 'http://www.ufcstats.com/fighter-details/0541480fbf719d86',\n",
       " 'http://www.ufcstats.com/fighter-details/49b130de1da2e1bf',\n",
       " 'http://www.ufcstats.com/fighter-details/196ed28337adc630',\n",
       " 'http://www.ufcstats.com/fighter-details/dd1b90eea08887f6',\n",
       " 'http://www.ufcstats.com/fighter-details/4665cbf36b08193b',\n",
       " 'http://www.ufcstats.com/fighter-details/87a1dc546b1c5caf',\n",
       " 'http://www.ufcstats.com/fighter-details/2f95a3c6d58b2aad',\n",
       " 'http://www.ufcstats.com/fighter-details/184b955181bdef52',\n",
       " 'http://www.ufcstats.com/fighter-details/0b31f87be71ebbb1',\n",
       " 'http://www.ufcstats.com/fighter-details/c6bf75775b278ed8',\n",
       " 'http://www.ufcstats.com/fighter-details/a0e75f4a13eb73f1',\n",
       " 'http://www.ufcstats.com/fighter-details/269d103c96a4c3a5',\n",
       " 'http://www.ufcstats.com/fighter-details/3738e68d2261e60f',\n",
       " 'http://www.ufcstats.com/statistics/fighters?char=a&page=4',\n",
       " 'http://www.ufcstats.com/fighter-details/d221ee27afc7a60e',\n",
       " 'http://www.ufcstats.com/fighter-details/c61b49cec6abd6b9',\n",
       " 'http://www.ufcstats.com/fighter-details/49f78022126bf4a4',\n",
       " 'http://www.ufcstats.com/fighter-details/063649e21bc9d6d5',\n",
       " 'http://www.ufcstats.com/fighter-details/9bad58fa651d6196',\n",
       " 'http://www.ufcstats.com/fighter-details/e20ad078a7d63361',\n",
       " 'http://www.ufcstats.com/fighter-details/46e2ca71fd5089cb',\n",
       " 'http://www.ufcstats.com/fighter-details/b1d19449397541dc',\n",
       " 'http://www.ufcstats.com/fighter-details/c4fe2e9a06ea5bcb',\n",
       " 'http://www.ufcstats.com/fighter-details/2f5cbecbbe18bac4',\n",
       " 'http://www.ufcstats.com/fighter-details/2eada40ac8801559',\n",
       " 'http://www.ufcstats.com/fighter-details/41b34b7f11f6d085',\n",
       " 'http://www.ufcstats.com/fighter-details/1e13936d708bcff7',\n",
       " 'http://www.ufcstats.com/fighter-details/2f181c0467965b98',\n",
       " 'http://www.ufcstats.com/fighter-details/b0550072e5f0afa7',\n",
       " 'http://www.ufcstats.com/fighter-details/1ccff7f0cfdf85eb',\n",
       " 'http://www.ufcstats.com/fighter-details/55ee431411ccf07a',\n",
       " 'http://www.ufcstats.com/fighter-details/a77633a989013265',\n",
       " 'http://www.ufcstats.com/fighter-details/8753e125f4499816',\n",
       " 'http://www.ufcstats.com/fighter-details/26387c19f32dda0f',\n",
       " 'http://www.ufcstats.com/fighter-details/1e38bba6738b7b10',\n",
       " 'http://www.ufcstats.com/fighter-details/79ded75550efc139',\n",
       " 'http://www.ufcstats.com/fighter-details/e76d9f656ceb82ab',\n",
       " 'http://www.ufcstats.com/fighter-details/c136b2a8852da5bd',\n",
       " 'http://www.ufcstats.com/fighter-details/e70de1859b7ee78e',\n",
       " 'http://www.ufcstats.com/fighter-details/91186547a7f3f758',\n",
       " 'http://www.ufcstats.com/fighter-details/d25e39e74efb0a77',\n",
       " 'http://www.ufcstats.com/fighter-details/d26934530dc5b248',\n",
       " 'http://www.ufcstats.com/statistics/fighters?char=a&page=5',\n",
       " 'http://www.ufcstats.com/fighter-details/ff222167cce02919',\n",
       " 'http://www.ufcstats.com/fighter-details/19ba965651486013',\n",
       " 'http://www.ufcstats.com/fighter-details/ee18ff42063174df',\n",
       " 'http://www.ufcstats.com/fighter-details/b757c73f443d4fca',\n",
       " 'http://www.ufcstats.com/fighter-details/c912f676692c353a',\n",
       " 'http://www.ufcstats.com/fighter-details/91e3388e69060e69',\n",
       " 'http://www.ufcstats.com/fighter-details/ebc5af72ad5a28cb',\n",
       " 'http://www.ufcstats.com/fighter-details/9b28292abe3166d5',\n",
       " 'http://www.ufcstats.com/fighter-details/4665f9f909cd7214',\n",
       " 'http://www.ufcstats.com/fighter-details/1fc64507a0cb38cf',\n",
       " 'http://www.ufcstats.com/fighter-details/5140122c3eecd307',\n",
       " 'http://www.ufcstats.com/fighter-details/d0d7160824278840',\n",
       " 'http://www.ufcstats.com/fighter-details/b361180739bed4b0',\n",
       " 'http://www.ufcstats.com/fighter-details/dbea8c1cb327ab3d',\n",
       " 'http://www.ufcstats.com/statistics/fighters?char=a&page=all',\n",
       " 'http://www.ufcstats.com/fighter-details/6a1901c62ab3870f',\n",
       " 'http://www.ufcstats.com/fighter-details/770b9d4813c25902',\n",
       " 'http://www.ufcstats.com/fighter-details/70fa1c64a2c439ef',\n",
       " 'http://www.ufcstats.com/fighter-details/d0f3959b4a9747e6',\n",
       " 'http://www.ufcstats.com/fighter-details/578ef12674df1e6a',\n",
       " 'http://www.ufcstats.com/fighter-details/ba5c6eeb8ef45f5c',\n",
       " 'http://www.ufcstats.com/fighter-details/2af2f2e26c4c0402',\n",
       " 'http://www.ufcstats.com/fighter-details/23a8c33869bf5392',\n",
       " 'http://www.ufcstats.com/fighter-details/bf0e700106d00e55',\n",
       " 'http://www.ufcstats.com/fighter-details/d562b12b8fe88336',\n",
       " 'http://www.ufcstats.com/fighter-details/dbd198f780286aca',\n",
       " 'http://www.ufcstats.com/fighter-details/0c1a04afca64e38f',\n",
       " 'http://www.ufcstats.com/statistics/fighters?char=a',\n",
       " 'http://www.ufcstats.com/fighter-details/44aa652b181bcf68',\n",
       " 'http://www.ufcstats.com/fighter-details/1ffc38f67785797b',\n",
       " 'http://www.ufcstats.com/fighter-details/25b31165758402dd',\n",
       " 'http://www.ufcstats.com/fighter-details/2620f3eb21c79614',\n",
       " 'http://www.ufcstats.com/fighter-details/73ef22f25d0f70e2',\n",
       " 'http://www.ufcstats.com/fighter-details/dc5a6b2fdb27e7dc',\n",
       " 'http://www.ufcstats.com/fighter-details/93fe7332d16c6ad9',\n",
       " 'http://www.ufcstats.com/fighter-details/1338e2c7480bdf9e',\n",
       " 'http://www.ufcstats.com/fighter-details/4438482bd1d5a029',\n",
       " 'http://www.ufcstats.com/fighter-details/1562b12763cc8d67',\n",
       " 'http://www.ufcstats.com/fighter-details/67a992d4cff22466',\n",
       " 'http://www.ufcstats.com/fighter-details/6eaec40f724852f4',\n",
       " 'http://www.ufcstats.com/fighter-details/0e9869d712e81f8f',\n",
       " 'http://www.ufcstats.com/fighter-details/1cf1310684a841f5',\n",
       " 'http://www.ufcstats.com/fighter-details/36541f1e6c5d4955',\n",
       " 'http://www.ufcstats.com/fighter-details/cad24459b28592ca',\n",
       " 'http://www.ufcstats.com/fighter-details/210935fd21670f6d',\n",
       " 'http://www.ufcstats.com/statistics/fighters?char=a&page=2',\n",
       " 'http://www.ufcstats.com/statistics/fighters?char=a&page=3',\n",
       " 'http://www.ufcstats.com/fighter-details/8f382b3baa954d2a',\n",
       " 'http://www.ufcstats.com/fighter-details/1291edf2d566a71a',\n",
       " 'http://www.ufcstats.com/fighter-details/9bcfb40dbcd50568',\n",
       " 'http://www.ufcstats.com/fighter-details/6cadc0a0ba7dc015',\n",
       " 'http://www.ufcstats.com/fighter-details/247fbbfafea60bb1',\n",
       " 'http://www.ufcstats.com/fighter-details/7578cc6bd750206b',\n",
       " 'http://www.ufcstats.com/fighter-details/86d9dbe1bfcbade7',\n",
       " 'http://www.ufcstats.com/fighter-details/8738eacd62e82a32',\n",
       " 'http://www.ufcstats.com/fighter-details/9e3dbb9c68ed5d1a',\n",
       " 'http://www.ufcstats.com/fighter-details/7bd94b60d7521e4a',\n",
       " 'http://www.ufcstats.com/fighter-details/cf946e03ba2e7666',\n",
       " 'http://www.ufcstats.com/fighter-details/d802174b0c0c1f4e',\n",
       " 'http://www.ufcstats.com/fighter-details/30ad2050273d016a',\n",
       " 'http://www.ufcstats.com/fighter-details/d343df8ba11f4c4e',\n",
       " 'http://www.ufcstats.com/fighter-details/7a15f3694c5cbc02',\n",
       " 'http://www.ufcstats.com/fighter-details/033d19259f589457',\n",
       " 'http://www.ufcstats.com/fighter-details/956dcac65e7b34d6',\n",
       " 'http://www.ufcstats.com/fighter-details/399afbabc02376b5',\n",
       " 'http://www.ufcstats.com/fighter-details/c482c8605455a213',\n",
       " 'http://www.ufcstats.com/fighter-details/e17770faae3ca54c',\n",
       " 'http://www.ufcstats.com/fighter-details/6fd953151d981979',\n",
       " 'http://www.ufcstats.com/fighter-details/c0ed7b208197e8de',\n",
       " 'http://www.ufcstats.com/fighter-details/16690d100f995f8f',\n",
       " 'http://www.ufcstats.com/fighter-details/20821819c401ced8',\n",
       " 'http://www.ufcstats.com/fighter-details/d53482bef23235ba',\n",
       " 'http://www.ufcstats.com/fighter-details/46d0a888d87d91ac',\n",
       " 'http://www.ufcstats.com/fighter-details/05fbfe628658c538',\n",
       " 'http://www.ufcstats.com/fighter-details/fe5a9547479396ab',\n",
       " 'http://www.ufcstats.com/fighter-details/c11036da9162cb5f',\n",
       " 'http://www.ufcstats.com/fighter-details/d156513a19acf856',\n",
       " 'http://www.ufcstats.com/fighter-details/669a3cb6e394f515',\n",
       " 'http://www.ufcstats.com/fighter-details/53adf5b845d91e4a',\n",
       " 'http://www.ufcstats.com/fighter-details/38b50fd1e1b5b656',\n",
       " 'http://www.ufcstats.com/fighter-details/6ebe96a116e79e52',\n",
       " 'http://www.ufcstats.com/fighter-details/58bbef3770bb2dfc',\n",
       " 'http://www.ufcstats.com/fighter-details/1e327b281ef6a745',\n",
       " 'http://www.ufcstats.com/fighter-details/fd7acf42bd6e7e95',\n",
       " 'http://www.ufcstats.com/fighter-details/4b37a0bc2ab4cae1',\n",
       " 'http://www.ufcstats.com/fighter-details/2b074403b7c6cdb4',\n",
       " 'http://www.ufcstats.com/fighter-details/1897b7b913736a7c',\n",
       " 'http://www.ufcstats.com/fighter-details/04643fd03d9159cc',\n",
       " 'http://www.ufcstats.com/fighter-details/83b00f7597e5ac83',\n",
       " 'http://www.ufcstats.com/fighter-details/9be6020024133293',\n",
       " 'http://www.ufcstats.com/fighter-details/78d48d3874dacafd',\n",
       " 'http://www.ufcstats.com/fighter-details/00debc804e2b1cd4',\n",
       " 'http://statleaders.ufc.com',\n",
       " 'http://www.ufcstats.com/fighter-details/9c9455912d917e4e',\n",
       " 'http://www.ufcstats.com/fighter-details/06827d70c53ff0d9',\n",
       " 'http://www.ufcstats.com/fighter-details/d317a5e2b3f88c5f',\n",
       " 'http://www.ufcstats.com/fighter-details/71002dbc1743b9a7',\n",
       " 'http://www.ufcstats.com/fighter-details/7279654c7674cd24',\n",
       " 'http://www.ufcstats.com/fighter-details/e06fd1260ac865a7',\n",
       " 'http://www.ufcstats.com/fighter-details/7c6e87729e824ef4',\n",
       " 'http://www.ufcstats.com/fighter-details/de62052b2ede65ba',\n",
       " 'http://www.ufcstats.com/statistics/fighters?char=a&page=6',\n",
       " 'http://www.ufcstats.com/fighter-details/c9f6385af6df66d7',\n",
       " 'http://www.ufcstats.com/fighter-details/2f13e4020cea5b38',\n",
       " 'http://www.ufcstats.com/fighter-details/9199e0735b83dd32']"
      ]
     },
     "execution_count": 2,
     "metadata": {},
     "output_type": "execute_result"
    }
   ],
   "source": [
    "#extracting UFC data\n",
    "\n",
    "#creating a list of unique fighter URLs available on website\n",
    "fighter_urls = []\n",
    "response = requests.get('http://www.ufcstats.com/statistics/fighters?char=a&page=all')\n",
    "soup = BeautifulSoup(response.content, 'html.parser')\n",
    "\n",
    "#targeting URLs that contain fighter data\n",
    "fighters = soup.findAll('a', attrs={'href': re.compile('http:')})\n",
    "for fighter in fighters:\n",
    "    fighter_urls.append(fighter.get('href'))\n",
    "\n",
    "#removing duplicate URLs\n",
    "fighter_urls = list(set(fighter_urls))\n",
    "fighter_urls"
   ]
  },
  {
   "cell_type": "code",
   "execution_count": 3,
   "metadata": {},
   "outputs": [],
   "source": [
    "#removing invalid URLs\n",
    "for url in fighter_urls:\n",
    "    if 'fighter-details' not in url:\n",
    "        fighter_urls.remove(url)"
   ]
  },
  {
   "cell_type": "code",
   "execution_count": 4,
   "metadata": {},
   "outputs": [
    {
     "data": {
      "text/plain": [
       "['http://www.ufcstats.com/fighter-details/da603332ad41f165',\n",
       " 'http://www.ufcstats.com/fighter-details/040a74bb0a465c54',\n",
       " 'http://www.ufcstats.com/fighter-details/31ee470ef5dc8d7f',\n",
       " 'http://www.ufcstats.com/fighter-details/2144954270be834d',\n",
       " 'http://www.ufcstats.com/fighter-details/e741536153227386',\n",
       " 'http://www.ufcstats.com/fighter-details/aa6e591c2a2cdecd',\n",
       " 'http://www.ufcstats.com/fighter-details/39f62b833e4cf126',\n",
       " 'http://www.ufcstats.com/fighter-details/bd92cf5da5413d2a',\n",
       " 'http://www.ufcstats.com/fighter-details/5e4eec08896c9423',\n",
       " 'http://www.ufcstats.com/fighter-details/af997f7611673880',\n",
       " 'http://www.ufcstats.com/fighter-details/a373085066dbfb54',\n",
       " 'http://www.ufcstats.com/fighter-details/33a331684283900f',\n",
       " 'http://www.ufcstats.com/fighter-details/15df64c02b6b0fde',\n",
       " 'http://www.ufcstats.com/fighter-details/ee0b69e307c857e5',\n",
       " 'http://www.ufcstats.com/fighter-details/d615d6a10a4704cd',\n",
       " 'http://www.ufcstats.com/fighter-details/8fd76e1b49c00ae2',\n",
       " 'http://www.ufcstats.com/fighter-details/9abc648e76c4493a',\n",
       " 'http://www.ufcstats.com/fighter-details/1c5879330d42255f',\n",
       " 'http://www.ufcstats.com/fighter-details/61fb8098ccf81c7f',\n",
       " 'http://www.ufcstats.com/fighter-details/c487223b0289bda9',\n",
       " 'http://www.ufcstats.com/fighter-details/a08ddd04eaffd81d',\n",
       " 'http://www.ufcstats.com/fighter-details/2dea80c069847321',\n",
       " 'http://www.ufcstats.com/fighter-details/f16ddfa31236efed',\n",
       " 'http://www.ufcstats.com/fighter-details/0541480fbf719d86',\n",
       " 'http://www.ufcstats.com/fighter-details/49b130de1da2e1bf',\n",
       " 'http://www.ufcstats.com/fighter-details/196ed28337adc630',\n",
       " 'http://www.ufcstats.com/fighter-details/dd1b90eea08887f6',\n",
       " 'http://www.ufcstats.com/fighter-details/4665cbf36b08193b',\n",
       " 'http://www.ufcstats.com/fighter-details/87a1dc546b1c5caf',\n",
       " 'http://www.ufcstats.com/fighter-details/2f95a3c6d58b2aad',\n",
       " 'http://www.ufcstats.com/fighter-details/184b955181bdef52',\n",
       " 'http://www.ufcstats.com/fighter-details/0b31f87be71ebbb1',\n",
       " 'http://www.ufcstats.com/fighter-details/c6bf75775b278ed8',\n",
       " 'http://www.ufcstats.com/fighter-details/a0e75f4a13eb73f1',\n",
       " 'http://www.ufcstats.com/fighter-details/269d103c96a4c3a5',\n",
       " 'http://www.ufcstats.com/fighter-details/3738e68d2261e60f',\n",
       " 'http://www.ufcstats.com/fighter-details/d221ee27afc7a60e',\n",
       " 'http://www.ufcstats.com/fighter-details/c61b49cec6abd6b9',\n",
       " 'http://www.ufcstats.com/fighter-details/49f78022126bf4a4',\n",
       " 'http://www.ufcstats.com/fighter-details/063649e21bc9d6d5',\n",
       " 'http://www.ufcstats.com/fighter-details/9bad58fa651d6196',\n",
       " 'http://www.ufcstats.com/fighter-details/e20ad078a7d63361',\n",
       " 'http://www.ufcstats.com/fighter-details/46e2ca71fd5089cb',\n",
       " 'http://www.ufcstats.com/fighter-details/b1d19449397541dc',\n",
       " 'http://www.ufcstats.com/fighter-details/c4fe2e9a06ea5bcb',\n",
       " 'http://www.ufcstats.com/fighter-details/2f5cbecbbe18bac4',\n",
       " 'http://www.ufcstats.com/fighter-details/2eada40ac8801559',\n",
       " 'http://www.ufcstats.com/fighter-details/41b34b7f11f6d085',\n",
       " 'http://www.ufcstats.com/fighter-details/1e13936d708bcff7',\n",
       " 'http://www.ufcstats.com/fighter-details/2f181c0467965b98',\n",
       " 'http://www.ufcstats.com/fighter-details/b0550072e5f0afa7',\n",
       " 'http://www.ufcstats.com/fighter-details/1ccff7f0cfdf85eb',\n",
       " 'http://www.ufcstats.com/fighter-details/55ee431411ccf07a',\n",
       " 'http://www.ufcstats.com/fighter-details/a77633a989013265',\n",
       " 'http://www.ufcstats.com/fighter-details/8753e125f4499816',\n",
       " 'http://www.ufcstats.com/fighter-details/26387c19f32dda0f',\n",
       " 'http://www.ufcstats.com/fighter-details/1e38bba6738b7b10',\n",
       " 'http://www.ufcstats.com/fighter-details/79ded75550efc139',\n",
       " 'http://www.ufcstats.com/fighter-details/e76d9f656ceb82ab',\n",
       " 'http://www.ufcstats.com/fighter-details/c136b2a8852da5bd',\n",
       " 'http://www.ufcstats.com/fighter-details/e70de1859b7ee78e',\n",
       " 'http://www.ufcstats.com/fighter-details/91186547a7f3f758',\n",
       " 'http://www.ufcstats.com/fighter-details/d25e39e74efb0a77',\n",
       " 'http://www.ufcstats.com/fighter-details/d26934530dc5b248',\n",
       " 'http://www.ufcstats.com/fighter-details/ff222167cce02919',\n",
       " 'http://www.ufcstats.com/fighter-details/19ba965651486013',\n",
       " 'http://www.ufcstats.com/fighter-details/ee18ff42063174df',\n",
       " 'http://www.ufcstats.com/fighter-details/b757c73f443d4fca',\n",
       " 'http://www.ufcstats.com/fighter-details/c912f676692c353a',\n",
       " 'http://www.ufcstats.com/fighter-details/91e3388e69060e69',\n",
       " 'http://www.ufcstats.com/fighter-details/ebc5af72ad5a28cb',\n",
       " 'http://www.ufcstats.com/fighter-details/9b28292abe3166d5',\n",
       " 'http://www.ufcstats.com/fighter-details/4665f9f909cd7214',\n",
       " 'http://www.ufcstats.com/fighter-details/1fc64507a0cb38cf',\n",
       " 'http://www.ufcstats.com/fighter-details/5140122c3eecd307',\n",
       " 'http://www.ufcstats.com/fighter-details/d0d7160824278840',\n",
       " 'http://www.ufcstats.com/fighter-details/b361180739bed4b0',\n",
       " 'http://www.ufcstats.com/fighter-details/dbea8c1cb327ab3d',\n",
       " 'http://www.ufcstats.com/fighter-details/6a1901c62ab3870f',\n",
       " 'http://www.ufcstats.com/fighter-details/770b9d4813c25902',\n",
       " 'http://www.ufcstats.com/fighter-details/70fa1c64a2c439ef',\n",
       " 'http://www.ufcstats.com/fighter-details/d0f3959b4a9747e6',\n",
       " 'http://www.ufcstats.com/fighter-details/578ef12674df1e6a',\n",
       " 'http://www.ufcstats.com/fighter-details/ba5c6eeb8ef45f5c',\n",
       " 'http://www.ufcstats.com/fighter-details/2af2f2e26c4c0402',\n",
       " 'http://www.ufcstats.com/fighter-details/23a8c33869bf5392',\n",
       " 'http://www.ufcstats.com/fighter-details/bf0e700106d00e55',\n",
       " 'http://www.ufcstats.com/fighter-details/d562b12b8fe88336',\n",
       " 'http://www.ufcstats.com/fighter-details/dbd198f780286aca',\n",
       " 'http://www.ufcstats.com/fighter-details/0c1a04afca64e38f',\n",
       " 'http://www.ufcstats.com/fighter-details/44aa652b181bcf68',\n",
       " 'http://www.ufcstats.com/fighter-details/1ffc38f67785797b',\n",
       " 'http://www.ufcstats.com/fighter-details/25b31165758402dd',\n",
       " 'http://www.ufcstats.com/fighter-details/2620f3eb21c79614',\n",
       " 'http://www.ufcstats.com/fighter-details/73ef22f25d0f70e2',\n",
       " 'http://www.ufcstats.com/fighter-details/dc5a6b2fdb27e7dc',\n",
       " 'http://www.ufcstats.com/fighter-details/93fe7332d16c6ad9',\n",
       " 'http://www.ufcstats.com/fighter-details/1338e2c7480bdf9e',\n",
       " 'http://www.ufcstats.com/fighter-details/4438482bd1d5a029',\n",
       " 'http://www.ufcstats.com/fighter-details/1562b12763cc8d67',\n",
       " 'http://www.ufcstats.com/fighter-details/67a992d4cff22466',\n",
       " 'http://www.ufcstats.com/fighter-details/6eaec40f724852f4',\n",
       " 'http://www.ufcstats.com/fighter-details/0e9869d712e81f8f',\n",
       " 'http://www.ufcstats.com/fighter-details/1cf1310684a841f5',\n",
       " 'http://www.ufcstats.com/fighter-details/36541f1e6c5d4955',\n",
       " 'http://www.ufcstats.com/fighter-details/cad24459b28592ca',\n",
       " 'http://www.ufcstats.com/fighter-details/210935fd21670f6d',\n",
       " 'http://www.ufcstats.com/statistics/fighters?char=a&page=3',\n",
       " 'http://www.ufcstats.com/fighter-details/8f382b3baa954d2a',\n",
       " 'http://www.ufcstats.com/fighter-details/1291edf2d566a71a',\n",
       " 'http://www.ufcstats.com/fighter-details/9bcfb40dbcd50568',\n",
       " 'http://www.ufcstats.com/fighter-details/6cadc0a0ba7dc015',\n",
       " 'http://www.ufcstats.com/fighter-details/247fbbfafea60bb1',\n",
       " 'http://www.ufcstats.com/fighter-details/7578cc6bd750206b',\n",
       " 'http://www.ufcstats.com/fighter-details/86d9dbe1bfcbade7',\n",
       " 'http://www.ufcstats.com/fighter-details/8738eacd62e82a32',\n",
       " 'http://www.ufcstats.com/fighter-details/9e3dbb9c68ed5d1a',\n",
       " 'http://www.ufcstats.com/fighter-details/7bd94b60d7521e4a',\n",
       " 'http://www.ufcstats.com/fighter-details/cf946e03ba2e7666',\n",
       " 'http://www.ufcstats.com/fighter-details/d802174b0c0c1f4e',\n",
       " 'http://www.ufcstats.com/fighter-details/30ad2050273d016a',\n",
       " 'http://www.ufcstats.com/fighter-details/d343df8ba11f4c4e',\n",
       " 'http://www.ufcstats.com/fighter-details/7a15f3694c5cbc02',\n",
       " 'http://www.ufcstats.com/fighter-details/033d19259f589457',\n",
       " 'http://www.ufcstats.com/fighter-details/956dcac65e7b34d6',\n",
       " 'http://www.ufcstats.com/fighter-details/399afbabc02376b5',\n",
       " 'http://www.ufcstats.com/fighter-details/c482c8605455a213',\n",
       " 'http://www.ufcstats.com/fighter-details/e17770faae3ca54c',\n",
       " 'http://www.ufcstats.com/fighter-details/6fd953151d981979',\n",
       " 'http://www.ufcstats.com/fighter-details/c0ed7b208197e8de',\n",
       " 'http://www.ufcstats.com/fighter-details/16690d100f995f8f',\n",
       " 'http://www.ufcstats.com/fighter-details/20821819c401ced8',\n",
       " 'http://www.ufcstats.com/fighter-details/d53482bef23235ba',\n",
       " 'http://www.ufcstats.com/fighter-details/46d0a888d87d91ac',\n",
       " 'http://www.ufcstats.com/fighter-details/05fbfe628658c538',\n",
       " 'http://www.ufcstats.com/fighter-details/fe5a9547479396ab',\n",
       " 'http://www.ufcstats.com/fighter-details/c11036da9162cb5f',\n",
       " 'http://www.ufcstats.com/fighter-details/d156513a19acf856',\n",
       " 'http://www.ufcstats.com/fighter-details/669a3cb6e394f515',\n",
       " 'http://www.ufcstats.com/fighter-details/53adf5b845d91e4a',\n",
       " 'http://www.ufcstats.com/fighter-details/38b50fd1e1b5b656',\n",
       " 'http://www.ufcstats.com/fighter-details/6ebe96a116e79e52',\n",
       " 'http://www.ufcstats.com/fighter-details/58bbef3770bb2dfc',\n",
       " 'http://www.ufcstats.com/fighter-details/1e327b281ef6a745',\n",
       " 'http://www.ufcstats.com/fighter-details/fd7acf42bd6e7e95',\n",
       " 'http://www.ufcstats.com/fighter-details/4b37a0bc2ab4cae1',\n",
       " 'http://www.ufcstats.com/fighter-details/2b074403b7c6cdb4',\n",
       " 'http://www.ufcstats.com/fighter-details/1897b7b913736a7c',\n",
       " 'http://www.ufcstats.com/fighter-details/04643fd03d9159cc',\n",
       " 'http://www.ufcstats.com/fighter-details/83b00f7597e5ac83',\n",
       " 'http://www.ufcstats.com/fighter-details/9be6020024133293',\n",
       " 'http://www.ufcstats.com/fighter-details/78d48d3874dacafd',\n",
       " 'http://www.ufcstats.com/fighter-details/00debc804e2b1cd4',\n",
       " 'http://www.ufcstats.com/fighter-details/9c9455912d917e4e',\n",
       " 'http://www.ufcstats.com/fighter-details/06827d70c53ff0d9',\n",
       " 'http://www.ufcstats.com/fighter-details/d317a5e2b3f88c5f',\n",
       " 'http://www.ufcstats.com/fighter-details/71002dbc1743b9a7',\n",
       " 'http://www.ufcstats.com/fighter-details/7279654c7674cd24',\n",
       " 'http://www.ufcstats.com/fighter-details/e06fd1260ac865a7',\n",
       " 'http://www.ufcstats.com/fighter-details/7c6e87729e824ef4',\n",
       " 'http://www.ufcstats.com/fighter-details/de62052b2ede65ba',\n",
       " 'http://www.ufcstats.com/fighter-details/c9f6385af6df66d7',\n",
       " 'http://www.ufcstats.com/fighter-details/2f13e4020cea5b38',\n",
       " 'http://www.ufcstats.com/fighter-details/9199e0735b83dd32']"
      ]
     },
     "execution_count": 4,
     "metadata": {},
     "output_type": "execute_result"
    }
   ],
   "source": [
    "fighter_urls"
   ]
  },
  {
   "cell_type": "code",
   "execution_count": 5,
   "metadata": {
    "scrolled": false
   },
   "outputs": [
    {
     "name": "stdout",
     "output_type": "stream",
     "text": [
      "Saad Awad\n",
      "Record: 9-5-0\n",
      "Height:\n",
      "      \n",
      "      5' 11\"\n",
      "Sub. Avg.:\n",
      "          \n",
      "          0.5\n",
      "Height:\n",
      "      \n",
      "      5' 11\"\n",
      "Weight:\n",
      "      \n",
      "      155 lbs.\n",
      "Reach:\n",
      "      \n",
      "      --\n",
      "STANCE:\n",
      "DOB:\n",
      "      \n",
      "      \n",
      "        Jun 07, 1983\n",
      "Career Statistics:\n",
      "Str. Acc.:\n",
      "          \n",
      "          26%\n",
      "SApM:\n",
      "          \n",
      "          1.87\n",
      "Str. Def:\n",
      "          \n",
      "          60%\n",
      "\n",
      "TD Avg.:\n",
      "          \n",
      "          0.50\n",
      "TD Acc.:\n",
      "          \n",
      "          16%\n",
      "TD Def.:\n",
      "          \n",
      "          100%\n",
      "Sub. Avg.:\n",
      "          \n",
      "          0.5\n"
     ]
    }
   ],
   "source": [
    "tester = fighter_urls[0]\n",
    "response = requests.get(tester)\n",
    "soup = BeautifulSoup(response.content, 'html.parser')\n",
    "tester_info = soup.findAll('h2', attrs={'class': re.compile('b-content')})\n",
    "\n",
    "#Retrieving fighter name\n",
    "name = soup.findChildren('span', attrs={'class': re.compile('b-content__title-highlight')})\n",
    "print(name[0].text.strip())\n",
    "\n",
    "#Retrieving fighter record\n",
    "record = soup.findChildren('span', attrs={'class': re.compile('b-content__title-record')})\n",
    "print(record[0].text.strip())\n",
    "\n",
    "\n",
    "base_stats_titles = soup.findChildren('li', attrs={'class': re.compile('b-list')})\n",
    "print(base_stats_titles[0].text.strip())\n",
    "\n",
    "\n",
    "base_stats = soup.findChildren('li', attrs={'class': re.compile('b-list')})\n",
    "print(base_stats[13].text.strip())\n",
    "\n",
    "for x in range(0, 5):\n",
    "    base_stats = soup.findChildren('li', attrs={'class': re.compile('b-list')})\n",
    "    print(base_stats[x].text.strip())\n",
    "\n",
    "#Retrieving careeer stats:\n",
    "career_stat_title = soup.findAll('i', attrs={'class': re.compile('b-list__box-item-title')})\n",
    "print(career_stat_title[5].text.strip().title())\n",
    "for x in range(6, 14):\n",
    "    base_stats = soup.findChildren('li', attrs={'class': re.compile('b-list')})\n",
    "    print(base_stats[x].text.strip())"
   ]
  },
  {
   "cell_type": "code",
   "execution_count": 38,
   "metadata": {},
   "outputs": [
    {
     "name": "stdout",
     "output_type": "stream",
     "text": [
      "height:  <li class=\"b-list__box-list-item b-list__box-list-item_type_block\">\n",
      "<i class=\"b-list__box-item-title b-list__box-item-title_type_width\">\n",
      "        Height:\n",
      "      </i>\n",
      "      5' 11\"\n",
      "    </li>\n"
     ]
    }
   ],
   "source": [
    "print('height: ', base_stats[0])"
   ]
  },
  {
   "cell_type": "code",
   "execution_count": 36,
   "metadata": {},
   "outputs": [
    {
     "name": "stdout",
     "output_type": "stream",
     "text": [
      "height:  \n",
      "\n",
      "        Height:\n",
      "      \n",
      "      5' 11\"\n",
      "    \n",
      "inches: \n",
      "\n",
      "        Height:\n",
      "      \n",
      "      5' 11\"\n",
      "    \n"
     ]
    }
   ],
   "source": [
    "#feet\n",
    "print('height: ', base_stats[0].text)\n",
    "#inches\n",
    "print('inches:', base_stats[0].text)"
   ]
  },
  {
   "cell_type": "code",
   "execution_count": 35,
   "metadata": {},
   "outputs": [
    {
     "name": "stdout",
     "output_type": "stream",
     "text": [
      "height:  \n",
      "      \n",
      "      5' 11\"\n",
      "inches: \n",
      "      \n",
      "      5' 11\"\n"
     ]
    }
   ],
   "source": [
    "#feet\n",
    "print('height: ', base_stats[0].text.strip().split(':')[1])\n",
    "#inches\n",
    "print('inches:', base_stats[0].text.strip().split(':')[1])"
   ]
  },
  {
   "cell_type": "code",
   "execution_count": 31,
   "metadata": {},
   "outputs": [
    {
     "name": "stdout",
     "output_type": "stream",
     "text": [
      "height:  5' 11\"\n",
      "inches: 5' 11\"\n"
     ]
    }
   ],
   "source": [
    "#feet\n",
    "print('height: ', base_stats[0].text.strip().split(':')[1].strip())\n",
    "#inches\n",
    "print('inches:', base_stats[0].text.strip().split(':')[1].strip())"
   ]
  },
  {
   "cell_type": "code",
   "execution_count": 28,
   "metadata": {},
   "outputs": [
    {
     "name": "stdout",
     "output_type": "stream",
     "text": [
      "height:  5 11\"\n",
      "inches: 5 11\n"
     ]
    }
   ],
   "source": [
    "#feet\n",
    "print('height:', base_stats[0].text.strip().split(':')[1].strip().replace(\"'\", \"\"))\n",
    "#inches\n",
    "print('inches:', base_stats[0].text.strip().split(':')[1].strip().replace(\"'\", \"\").replace('\"', ''))"
   ]
  },
  {
   "cell_type": "code",
   "execution_count": 24,
   "metadata": {},
   "outputs": [
    {
     "name": "stdout",
     "output_type": "stream",
     "text": [
      "height:  5\n",
      "inches: 11\n"
     ]
    }
   ],
   "source": [
    "#feet\n",
    "print('height:', int(base_stats[0].text.strip().split(':')[1].strip().split(' ')[0].replace(\"'\", \"\")))\n",
    "#inches\n",
    "print('inches:', int(base_stats[0].text.strip().split(':')[1].strip().split(' ')[1].replace(\"'\", \"\").replace('\"', '')))"
   ]
  },
  {
   "cell_type": "code",
   "execution_count": 49,
   "metadata": {},
   "outputs": [
    {
     "data": {
      "text/plain": [
       "['Height']"
      ]
     },
     "execution_count": 49,
     "metadata": {},
     "output_type": "execute_result"
    }
   ],
   "source": [
    "career_stat_title[0].text.split(':')[0].split()"
   ]
  },
  {
   "cell_type": "code",
   "execution_count": 21,
   "metadata": {},
   "outputs": [
    {
     "name": "stdout",
     "output_type": "stream",
     "text": [
      "Height:\n",
      "      \n",
      "      5' 11\"\n",
      "Weight:\n",
      "      \n",
      "      155 lbs.\n",
      "Reach:\n",
      "      \n",
      "      --\n",
      "STANCE:\n",
      "DOB:\n",
      "      \n",
      "      \n",
      "        Jun 07, 1983\n",
      "height:  5\n",
      "inches: 11\n",
      "weight 155\n",
      "reach --\n",
      "stance \n",
      "DOB:  Jun 07, 1983\n"
     ]
    }
   ],
   "source": [
    "for x in range(0, 5):\n",
    "    base_stats = soup.findChildren('li', attrs={'class': re.compile('b-list')})\n",
    "    print(base_stats[x].text.strip())\n",
    "#Retrieving height\n",
    "base_stats = soup.findChildren('li', attrs={'class': re.compile('b-list')})\n",
    "\n",
    "#feet\n",
    "print('height:', int(base_stats[0].text.strip().split(':')[1].strip().split(' ')[0].replace(\"'\", \"\")))\n",
    "#inches\n",
    "print('inches:', int(base_stats[0].text.strip().split(':')[1].strip().split(' ')[1].replace(\"'\", \"\").replace('\"', '')))\n",
    "\n",
    "#Weight\n",
    "print('weight', base_stats[1].text.strip().split(':')[1].strip().replace(' lbs.', ''))\n",
    "\n",
    "#Reach\n",
    "print('reach', base_stats[2].text.strip().split(':')[1].strip().replace('\"', ''))\n",
    "\n",
    "#Stance\n",
    "print('stance', base_stats[3].text.strip().split(':')[1].strip())\n",
    "\n",
    "#DOB\n",
    "print('DOB: ', base_stats[4].text.strip().split(':')[1].strip())"
   ]
  },
  {
   "cell_type": "code",
   "execution_count": 7,
   "metadata": {},
   "outputs": [
    {
     "name": "stdout",
     "output_type": "stream",
     "text": [
      "Str. Acc.:\n",
      "          \n",
      "          26%\n",
      "SApM:\n",
      "          \n",
      "          1.87\n",
      "Str. Def:\n",
      "          \n",
      "          60%\n",
      "\n",
      "TD Avg.:\n",
      "          \n",
      "          0.50\n",
      "TD Acc.:\n",
      "          \n",
      "          16%\n",
      "TD Def.:\n",
      "          \n",
      "          100%\n",
      "Sub. Avg.:\n",
      "          \n",
      "          0.5\n"
     ]
    }
   ],
   "source": [
    "#Retrieving careeer stats:\n",
    "career_stats = base_stats[6:]\n",
    "for x in range(0,8):\n",
    "    print(career_stats[x].text.strip())"
   ]
  },
  {
   "cell_type": "code",
   "execution_count": 8,
   "metadata": {},
   "outputs": [
    {
     "name": "stdout",
     "output_type": "stream",
     "text": [
      "Significant Strike Accuracy:  26\n"
     ]
    }
   ],
   "source": [
    "#Striking Accuracy %\n",
    "print('Significant Strike Accuracy:', career_stats[0].text.split(':')[1].replace('%', '').strip())"
   ]
  },
  {
   "cell_type": "code",
   "execution_count": 9,
   "metadata": {},
   "outputs": [
    {
     "name": "stdout",
     "output_type": "stream",
     "text": [
      "Significant Strikes Absorbed per Minute:  1.87\n"
     ]
    }
   ],
   "source": [
    "#Striking Accuracy %\n",
    "print('Significant Strikes Absorbed per Minute:', career_stats[1].text.split(':')[1].strip())"
   ]
  },
  {
   "cell_type": "code",
   "execution_count": 10,
   "metadata": {},
   "outputs": [
    {
     "name": "stdout",
     "output_type": "stream",
     "text": [
      "Significant Strike Defence:  60\n"
     ]
    }
   ],
   "source": [
    "#Striking Defence %\n",
    "print('Significant Strike Defence:', career_stats[2].text.split(':')[1].replace('%', '').strip())"
   ]
  },
  {
   "cell_type": "code",
   "execution_count": 11,
   "metadata": {},
   "outputs": [
    {
     "name": "stdout",
     "output_type": "stream",
     "text": [
      "Takedown Average:  0.50\n"
     ]
    }
   ],
   "source": [
    "#Average Takedowns Landed per 15 min\n",
    "print('Takedown Average:', career_stats[4].text.split(':')[1].strip())"
   ]
  },
  {
   "cell_type": "code",
   "execution_count": 12,
   "metadata": {},
   "outputs": [
    {
     "name": "stdout",
     "output_type": "stream",
     "text": [
      "Takedown Accuracy:  16%\n"
     ]
    }
   ],
   "source": [
    "#Takedown Accuracy\n",
    "print('Takedown Accuracy:', career_stats[5].text.split(':')[1].strip())"
   ]
  },
  {
   "cell_type": "code",
   "execution_count": 13,
   "metadata": {},
   "outputs": [
    {
     "name": "stdout",
     "output_type": "stream",
     "text": [
      "Takedown Defence:  100\n"
     ]
    }
   ],
   "source": [
    "#Takedown Defense %\n",
    "print('Takedown Defence:', career_stats[6].text.split(':')[1].replace('%', '').strip())"
   ]
  },
  {
   "cell_type": "code",
   "execution_count": 14,
   "metadata": {},
   "outputs": [
    {
     "name": "stdout",
     "output_type": "stream",
     "text": [
      "Submission averages:  0.5\n"
     ]
    }
   ],
   "source": [
    "#Average Submissiongs Attempted per 15 min\n",
    "print('Submission averages:', career_stats[7].text.split(':')[1].strip())"
   ]
  }
 ],
 "metadata": {
  "kernelspec": {
   "display_name": "Python [conda env:work-env] *",
   "language": "python",
   "name": "conda-env-work-env-py"
  },
  "language_info": {
   "codemirror_mode": {
    "name": "ipython",
    "version": 3
   },
   "file_extension": ".py",
   "mimetype": "text/x-python",
   "name": "python",
   "nbconvert_exporter": "python",
   "pygments_lexer": "ipython3",
   "version": "3.7.7"
  }
 },
 "nbformat": 4,
 "nbformat_minor": 2
}
