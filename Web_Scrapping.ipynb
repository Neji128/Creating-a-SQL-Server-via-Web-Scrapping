{
 "cells": [
  {
   "cell_type": "markdown",
   "metadata": {},
   "source": [
    "# UFC_Stats Web Scraping"
   ]
  },
  {
   "cell_type": "markdown",
   "metadata": {},
   "source": [
    "## importing pertinent libraries"
   ]
  },
  {
   "cell_type": "code",
   "execution_count": 1,
   "metadata": {},
   "outputs": [],
   "source": [
    "#importing pertinent libraries\n",
    "import pandas as pd\n",
    "from urllib.request import urlopen\n",
    "from bs4 import BeautifulSoup\n",
    "import requests, re\n",
    "import json\n",
    "import itertools\n",
    "import dask.dataframe as dd"
   ]
  },
  {
   "cell_type": "markdown",
   "metadata": {},
   "source": [
    "## Extracting UFC urls"
   ]
  },
  {
   "cell_type": "code",
   "execution_count": 39,
   "metadata": {},
   "outputs": [
    {
     "data": {
      "text/plain": [
       "['http://www.ufcstats.com/fighter-details/9199e0735b83dd32',\n",
       " 'http://www.ufcstats.com/fighter-details/1cf1310684a841f5',\n",
       " 'http://www.ufcstats.com/fighter-details/0541480fbf719d86',\n",
       " 'http://www.ufcstats.com/fighter-details/d26934530dc5b248',\n",
       " 'http://www.ufcstats.com/fighter-details/c487223b0289bda9',\n",
       " 'http://www.ufcstats.com/fighter-details/25b31165758402dd',\n",
       " 'http://www.ufcstats.com/fighter-details/399afbabc02376b5',\n",
       " 'http://www.ufcstats.com/fighter-details/210935fd21670f6d',\n",
       " 'http://www.ufcstats.com/fighter-details/9bcfb40dbcd50568',\n",
       " 'http://www.ufcstats.com/fighter-details/41b34b7f11f6d085',\n",
       " 'http://www.ufcstats.com/fighter-details/78d48d3874dacafd',\n",
       " 'http://www.ufcstats.com/fighter-details/6cadc0a0ba7dc015',\n",
       " 'http://www.ufcstats.com/fighter-details/7bd94b60d7521e4a',\n",
       " 'http://www.ufcstats.com/fighter-details/063649e21bc9d6d5',\n",
       " 'http://www.ufcstats.com/fighter-details/d221ee27afc7a60e',\n",
       " 'http://www.ufcstats.com/fighter-details/c4fe2e9a06ea5bcb',\n",
       " 'http://www.ufcstats.com/fighter-details/20821819c401ced8',\n",
       " 'http://www.ufcstats.com/fighter-details/05fbfe628658c538',\n",
       " 'http://www.ufcstats.com/fighter-details/e76d9f656ceb82ab',\n",
       " 'http://www.ufcstats.com/fighter-details/a08ddd04eaffd81d',\n",
       " 'http://www.ufcstats.com/fighter-details/b757c73f443d4fca',\n",
       " 'http://www.ufcstats.com/fighter-details/da603332ad41f165',\n",
       " 'http://www.ufcstats.com/fighter-details/2dea80c069847321',\n",
       " 'http://www.ufcstats.com/fighter-details/49f78022126bf4a4',\n",
       " 'http://www.ufcstats.com/fighter-details/36541f1e6c5d4955',\n",
       " 'http://www.ufcstats.com/fighter-details/9be6020024133293',\n",
       " 'http://www.ufcstats.com/fighter-details/1e327b281ef6a745',\n",
       " 'http://www.ufcstats.com/fighter-details/4b37a0bc2ab4cae1',\n",
       " 'http://www.ufcstats.com/fighter-details/ff222167cce02919',\n",
       " 'http://www.ufcstats.com/fighter-details/040a74bb0a465c54',\n",
       " 'http://www.ufcstats.com/fighter-details/6ebe96a116e79e52',\n",
       " 'http://www.ufcstats.com/fighter-details/d0d7160824278840',\n",
       " 'http://www.ufcstats.com/fighter-details/b361180739bed4b0',\n",
       " 'http://www.ufcstats.com/fighter-details/2144954270be834d',\n",
       " 'http://www.ufcstats.com/fighter-details/6eaec40f724852f4',\n",
       " 'http://www.ufcstats.com/fighter-details/578ef12674df1e6a',\n",
       " 'http://www.ufcstats.com/fighter-details/2f13e4020cea5b38',\n",
       " 'http://www.ufcstats.com/fighter-details/dc5a6b2fdb27e7dc',\n",
       " 'http://www.ufcstats.com/fighter-details/1ffc38f67785797b',\n",
       " 'http://www.ufcstats.com/fighter-details/33a331684283900f',\n",
       " 'http://www.ufcstats.com/fighter-details/7279654c7674cd24',\n",
       " 'http://www.ufcstats.com/fighter-details/49b130de1da2e1bf',\n",
       " 'http://www.ufcstats.com/statistics/fighters?char=a&page=6',\n",
       " 'http://www.ufcstats.com/fighter-details/fd7acf42bd6e7e95',\n",
       " 'http://www.ufcstats.com/fighter-details/70fa1c64a2c439ef',\n",
       " 'http://www.ufcstats.com/fighter-details/e741536153227386',\n",
       " 'http://www.ufcstats.com/fighter-details/de62052b2ede65ba',\n",
       " 'http://www.ufcstats.com/statistics/fighters?char=a&page=2',\n",
       " 'http://www.ufcstats.com/fighter-details/dbea8c1cb327ab3d',\n",
       " 'http://www.ufcstats.com/fighter-details/ee0b69e307c857e5',\n",
       " 'http://www.ufcstats.com/fighter-details/0e9869d712e81f8f',\n",
       " 'http://www.ufcstats.com/fighter-details/bf0e700106d00e55',\n",
       " 'http://www.ufcstats.com/fighter-details/d562b12b8fe88336',\n",
       " 'http://www.ufcstats.com/fighter-details/1e38bba6738b7b10',\n",
       " 'http://www.ufcstats.com/statistics/fighters?char=a&page=all',\n",
       " 'http://www.ufcstats.com/statistics/fighters?char=a&page=5',\n",
       " 'http://www.ufcstats.com/fighter-details/c0ed7b208197e8de',\n",
       " 'http://www.ufcstats.com/fighter-details/23a8c33869bf5392',\n",
       " 'http://www.ufcstats.com/fighter-details/1c5879330d42255f',\n",
       " 'http://www.ufcstats.com/fighter-details/53adf5b845d91e4a',\n",
       " 'http://www.ufcstats.com/fighter-details/79ded75550efc139',\n",
       " 'http://www.ufcstats.com/fighter-details/e70de1859b7ee78e',\n",
       " 'http://www.ufcstats.com/fighter-details/184b955181bdef52',\n",
       " 'http://www.ufcstats.com/fighter-details/6fd953151d981979',\n",
       " 'http://www.ufcstats.com/fighter-details/a77633a989013265',\n",
       " 'http://www.ufcstats.com/fighter-details/247fbbfafea60bb1',\n",
       " 'http://www.ufcstats.com/fighter-details/a373085066dbfb54',\n",
       " 'http://www.ufcstats.com/fighter-details/ba5c6eeb8ef45f5c',\n",
       " 'http://www.ufcstats.com/fighter-details/55ee431411ccf07a',\n",
       " 'http://www.ufcstats.com/fighter-details/d802174b0c0c1f4e',\n",
       " 'http://www.ufcstats.com/fighter-details/73ef22f25d0f70e2',\n",
       " 'http://www.ufcstats.com/fighter-details/956dcac65e7b34d6',\n",
       " 'http://www.ufcstats.com/fighter-details/c912f676692c353a',\n",
       " 'http://www.ufcstats.com/fighter-details/e17770faae3ca54c',\n",
       " 'http://www.ufcstats.com/fighter-details/ebc5af72ad5a28cb',\n",
       " 'http://www.ufcstats.com/fighter-details/79cb2a690b9ba5e8',\n",
       " 'http://www.ufcstats.com/fighter-details/033d19259f589457',\n",
       " 'http://www.ufcstats.com/fighter-details/71002dbc1743b9a7',\n",
       " 'http://www.ufcstats.com/fighter-details/d25e39e74efb0a77',\n",
       " 'http://www.ufcstats.com/fighter-details/770b9d4813c25902',\n",
       " 'http://www.ufcstats.com/fighter-details/04643fd03d9159cc',\n",
       " 'http://www.ufcstats.com/fighter-details/c6bf75775b278ed8',\n",
       " 'http://www.ufcstats.com/fighter-details/7578cc6bd750206b',\n",
       " 'http://www.ufcstats.com/fighter-details/dd1b90eea08887f6',\n",
       " 'http://www.ufcstats.com/fighter-details/1338e2c7480bdf9e',\n",
       " 'http://www.ufcstats.com/fighter-details/1ccff7f0cfdf85eb',\n",
       " 'http://www.ufcstats.com/fighter-details/83b00f7597e5ac83',\n",
       " 'http://www.ufcstats.com/fighter-details/c136b2a8852da5bd',\n",
       " 'http://www.ufcstats.com/fighter-details/9abc648e76c4493a',\n",
       " 'http://www.ufcstats.com/fighter-details/e06fd1260ac865a7',\n",
       " 'http://www.ufcstats.com/fighter-details/8f382b3baa954d2a',\n",
       " 'http://www.ufcstats.com/fighter-details/a0e75f4a13eb73f1',\n",
       " 'http://www.ufcstats.com/fighter-details/6a1901c62ab3870f',\n",
       " 'http://www.ufcstats.com/fighter-details/c61b49cec6abd6b9',\n",
       " 'http://www.ufcstats.com/fighter-details/8753e125f4499816',\n",
       " 'http://www.ufcstats.com/fighter-details/46d0a888d87d91ac',\n",
       " 'http://www.ufcstats.com/fighter-details/1562b12763cc8d67',\n",
       " 'http://www.ufcstats.com/fighter-details/cf946e03ba2e7666',\n",
       " 'http://www.ufcstats.com/fighter-details/9b28292abe3166d5',\n",
       " 'http://www.ufcstats.com/fighter-details/2af2f2e26c4c0402',\n",
       " 'http://www.ufcstats.com/fighter-details/1897b7b913736a7c',\n",
       " 'http://www.ufcstats.com/fighter-details/2f181c0467965b98',\n",
       " 'http://www.ufcstats.com/fighter-details/61fb8098ccf81c7f',\n",
       " 'http://www.ufcstats.com/statistics/fighters?char=a&page=4',\n",
       " 'http://www.ufcstats.com/fighter-details/16690d100f995f8f',\n",
       " 'http://www.ufcstats.com/fighter-details/2b074403b7c6cdb4',\n",
       " 'http://www.ufcstats.com/fighter-details/f16ddfa31236efed',\n",
       " 'http://www.ufcstats.com/fighter-details/cad24459b28592ca',\n",
       " 'http://www.ufcstats.com/fighter-details/91186547a7f3f758',\n",
       " 'http://www.ufcstats.com/fighter-details/5140122c3eecd307',\n",
       " 'http://statleaders.ufc.com',\n",
       " 'http://www.ufcstats.com/fighter-details/d317a5e2b3f88c5f',\n",
       " 'http://www.ufcstats.com/fighter-details/15df64c02b6b0fde',\n",
       " 'http://www.ufcstats.com/fighter-details/9e3dbb9c68ed5d1a',\n",
       " 'http://www.ufcstats.com/fighter-details/4665cbf36b08193b',\n",
       " 'http://www.ufcstats.com/fighter-details/8fd76e1b49c00ae2',\n",
       " 'http://www.ufcstats.com/fighter-details/38b50fd1e1b5b656',\n",
       " 'http://www.ufcstats.com/fighter-details/dbd198f780286aca',\n",
       " 'http://www.ufcstats.com/fighter-details/aa6e591c2a2cdecd',\n",
       " 'http://www.ufcstats.com/fighter-details/ae071698e1a3ccd4',\n",
       " 'http://www.ufcstats.com/fighter-details/1e13936d708bcff7',\n",
       " 'http://www.ufcstats.com/fighter-details/d343df8ba11f4c4e',\n",
       " 'http://www.ufcstats.com/fighter-details/7c6e87729e824ef4',\n",
       " 'http://www.ufcstats.com/fighter-details/2f95a3c6d58b2aad',\n",
       " 'http://www.ufcstats.com/fighter-details/87a1dc546b1c5caf',\n",
       " 'http://www.ufcstats.com/fighter-details/269d103c96a4c3a5',\n",
       " 'http://www.ufcstats.com/fighter-details/30ad2050273d016a',\n",
       " 'http://www.ufcstats.com/statistics/fighters?char=a&page=3',\n",
       " 'http://www.ufcstats.com/fighter-details/d53482bef23235ba',\n",
       " 'http://www.ufcstats.com/fighter-details/1fc64507a0cb38cf',\n",
       " 'http://www.ufcstats.com/fighter-details/5e4eec08896c9423',\n",
       " 'http://www.ufcstats.com/fighter-details/ee18ff42063174df',\n",
       " 'http://www.ufcstats.com/fighter-details/1291edf2d566a71a',\n",
       " 'http://www.ufcstats.com/fighter-details/4438482bd1d5a029',\n",
       " 'http://www.ufcstats.com/fighter-details/0c1a04afca64e38f',\n",
       " 'http://www.ufcstats.com/fighter-details/b1d19449397541dc',\n",
       " 'http://www.ufcstats.com/fighter-details/0b31f87be71ebbb1',\n",
       " 'http://www.ufcstats.com/fighter-details/af997f7611673880',\n",
       " 'http://www.ufcstats.com/fighter-details/669a3cb6e394f515',\n",
       " 'http://www.ufcstats.com/fighter-details/58bbef3770bb2dfc',\n",
       " 'http://www.ufcstats.com/fighter-details/c11036da9162cb5f',\n",
       " 'http://www.ufcstats.com/fighter-details/06827d70c53ff0d9',\n",
       " 'http://www.ufcstats.com/fighter-details/3738e68d2261e60f',\n",
       " 'http://www.ufcstats.com/fighter-details/c9f6385af6df66d7',\n",
       " 'http://www.ufcstats.com/fighter-details/9c9455912d917e4e',\n",
       " 'http://www.ufcstats.com/fighter-details/46e2ca71fd5089cb',\n",
       " 'http://www.ufcstats.com/fighter-details/44aa652b181bcf68',\n",
       " 'http://www.ufcstats.com/fighter-details/c482c8605455a213',\n",
       " 'http://www.ufcstats.com/fighter-details/67a992d4cff22466',\n",
       " 'http://www.ufcstats.com/fighter-details/d156513a19acf856',\n",
       " 'http://www.ufcstats.com/fighter-details/fe5a9547479396ab',\n",
       " 'http://www.ufcstats.com/fighter-details/00debc804e2b1cd4',\n",
       " 'http://www.ufcstats.com/fighter-details/7a15f3694c5cbc02',\n",
       " 'http://www.ufcstats.com/fighter-details/b0550072e5f0afa7',\n",
       " 'http://www.ufcstats.com/fighter-details/2f5cbecbbe18bac4',\n",
       " 'http://www.ufcstats.com/fighter-details/19ba965651486013',\n",
       " 'http://www.ufcstats.com/fighter-details/9bad58fa651d6196',\n",
       " 'http://www.ufcstats.com/fighter-details/93fe7332d16c6ad9',\n",
       " 'http://www.ufcstats.com/fighter-details/d0f3959b4a9747e6',\n",
       " 'http://www.ufcstats.com/fighter-details/31ee470ef5dc8d7f',\n",
       " 'http://www.ufcstats.com/fighter-details/8738eacd62e82a32',\n",
       " 'http://www.ufcstats.com/fighter-details/196ed28337adc630',\n",
       " 'http://www.ufcstats.com/fighter-details/86d9dbe1bfcbade7',\n",
       " 'http://www.ufcstats.com/fighter-details/2620f3eb21c79614',\n",
       " 'http://www.ufcstats.com/fighter-details/d615d6a10a4704cd',\n",
       " 'http://www.ufcstats.com/fighter-details/bd92cf5da5413d2a',\n",
       " 'http://www.ufcstats.com/fighter-details/e20ad078a7d63361',\n",
       " 'http://www.ufcstats.com/fighter-details/4665f9f909cd7214',\n",
       " 'http://www.ufcstats.com/fighter-details/39f62b833e4cf126',\n",
       " 'http://www.ufcstats.com/statistics/fighters?char=a',\n",
       " 'http://www.ufcstats.com/fighter-details/91e3388e69060e69',\n",
       " 'http://www.ufcstats.com/fighter-details/26387c19f32dda0f',\n",
       " 'http://www.ufcstats.com/fighter-details/2eada40ac8801559']"
      ]
     },
     "execution_count": 39,
     "metadata": {},
     "output_type": "execute_result"
    }
   ],
   "source": [
    "#creating a list of unique fighter URLs available on website\n",
    "fighter_url_list = []\n",
    "response = requests.get('http://www.ufcstats.com/statistics/fighters?char=a&page=all')\n",
    "soup = BeautifulSoup(response.content, 'html.parser')\n",
    "\n",
    "#targeting URLs that contain fighter data\n",
    "fighters = soup.findAll('a', attrs={'href': re.compile('http:')})\n",
    "for fighter in fighters:\n",
    "    fighter_url_list.append(fighter.get('href'))\n",
    "\n",
    "#removing duplicate URLs\n",
    "fighter_url_list = list(set(fighter_url_list))\n",
    "fighter_url_list"
   ]
  },
  {
   "cell_type": "markdown",
   "metadata": {},
   "source": [
    "Looks like there are some URLs we don't need in out list. Let's weed them out."
   ]
  },
  {
   "cell_type": "code",
   "execution_count": 40,
   "metadata": {},
   "outputs": [
    {
     "data": {
      "text/plain": [
       "['http://www.ufcstats.com/fighter-details/9199e0735b83dd32',\n",
       " 'http://www.ufcstats.com/fighter-details/1cf1310684a841f5',\n",
       " 'http://www.ufcstats.com/fighter-details/0541480fbf719d86',\n",
       " 'http://www.ufcstats.com/fighter-details/d26934530dc5b248',\n",
       " 'http://www.ufcstats.com/fighter-details/c487223b0289bda9',\n",
       " 'http://www.ufcstats.com/fighter-details/25b31165758402dd',\n",
       " 'http://www.ufcstats.com/fighter-details/399afbabc02376b5',\n",
       " 'http://www.ufcstats.com/fighter-details/210935fd21670f6d',\n",
       " 'http://www.ufcstats.com/fighter-details/9bcfb40dbcd50568',\n",
       " 'http://www.ufcstats.com/fighter-details/41b34b7f11f6d085',\n",
       " 'http://www.ufcstats.com/fighter-details/78d48d3874dacafd',\n",
       " 'http://www.ufcstats.com/fighter-details/6cadc0a0ba7dc015',\n",
       " 'http://www.ufcstats.com/fighter-details/7bd94b60d7521e4a',\n",
       " 'http://www.ufcstats.com/fighter-details/063649e21bc9d6d5',\n",
       " 'http://www.ufcstats.com/fighter-details/d221ee27afc7a60e']"
      ]
     },
     "execution_count": 40,
     "metadata": {},
     "output_type": "execute_result"
    }
   ],
   "source": [
    "#removing invalid URLs\n",
    "for url in fighter_url_list:\n",
    "    if 'fighter-details' not in url:\n",
    "        fighter_url_list.remove(url)\n",
    "\n",
    "fighter_url_list[:15]   "
   ]
  },
  {
   "cell_type": "markdown",
   "metadata": {},
   "source": [
    "## Creating Soup Dataframes"
   ]
  },
  {
   "cell_type": "markdown",
   "metadata": {},
   "source": [
    "### Information DataFrames"
   ]
  },
  {
   "cell_type": "code",
   "execution_count": 41,
   "metadata": {},
   "outputs": [],
   "source": [
    "def fighter_info_generator(url):\n",
    "    '''This function parses basic request to a url'''\n",
    "    \n",
    "    response = requests.get(url)\n",
    "    \n",
    "    soup = BeautifulSoup(response.content, 'html.parser')\n",
    "    \n",
    "    return soup"
   ]
  },
  {
   "cell_type": "code",
   "execution_count": 42,
   "metadata": {},
   "outputs": [],
   "source": [
    "#creating a soup list to reduce number of website requests\n",
    "basic_soup_list = list(map(fighter_info_generator, fighter_url_list))"
   ]
  },
  {
   "cell_type": "code",
   "execution_count": 43,
   "metadata": {},
   "outputs": [],
   "source": [
    "def base_stats_soup(soup):\n",
    "    '''This function identifies all statistics for later extraction'''\n",
    "    \n",
    "    base_stats = soup.findChildren('li', attrs={'class': re.compile('b-list')})\n",
    "    \n",
    "    return base_stats"
   ]
  },
  {
   "cell_type": "code",
   "execution_count": 6,
   "metadata": {},
   "outputs": [],
   "source": [
    "def fighter_history_fetcher(soup):\n",
    "    '''This function is meant to extract the html information for each fighter as a list of urls. '''\n",
    "    \n",
    "    soup_holder = soup.findAll('a', attrs={'href': re.compile('fight-details')})\n",
    "    \n",
    "    list_of_fights = []\n",
    "    \n",
    "    for x in soup_holder:\n",
    "        fight_holder = []\n",
    "        \n",
    "        fight_holder.append(x.get('href'))\n",
    "        \n",
    "        list_of_fights.append(fight_holder) \n",
    "        \n",
    "    return list_of_fights"
   ]
  },
  {
   "cell_type": "markdown",
   "metadata": {},
   "source": [
    "#### Construction of soup_database"
   ]
  },
  {
   "cell_type": "code",
   "execution_count": 44,
   "metadata": {},
   "outputs": [],
   "source": [
    "'''soup_database is meant to hold all soups creating during the scrapping process to minimize the requests to website'''\n",
    "\n",
    "soup_database = pd.DataFrame()\n",
    "\n",
    "soup_database['url'] = fighter_url_list\n",
    "soup_database['base_soup'] = basic_soup_list\n",
    "\n",
    "fighter_history_urls_list = list(map(fighter_history_fetcher, basic_soup_list))\n",
    "soup_database['fight_urls'] = fighter_history_urls_list"
   ]
  },
  {
   "cell_type": "code",
   "execution_count": 45,
   "metadata": {},
   "outputs": [],
   "source": [
    "fight_soup_urls = []\n",
    "\n",
    "for url_list in soup_database.fight_urls:\n",
    "    for url in url_list:\n",
    "        if url not in fight_soup_urls:\n",
    "            fight_soup_urls.append(url) \n",
    "        else:\n",
    "            pass"
   ]
  },
  {
   "cell_type": "code",
   "execution_count": 46,
   "metadata": {},
   "outputs": [],
   "source": [
    "#flattening url list for smoother iteration\n",
    "fight_soup_urls = list(itertools.chain(*fight_soup_urls))"
   ]
  },
  {
   "cell_type": "code",
   "execution_count": null,
   "metadata": {},
   "outputs": [],
   "source": [
    "fight_soups = list(map(fighter_info_generator, fight_soup_urls))"
   ]
  },
  {
   "cell_type": "code",
   "execution_count": 48,
   "metadata": {},
   "outputs": [
    {
     "ename": "TypeError",
     "evalue": "__init__() missing 4 required positional arguments: 'dsk', 'name', 'meta', and 'divisions'",
     "output_type": "error",
     "traceback": [
      "\u001b[1;31m---------------------------------------------------------------------------\u001b[0m",
      "\u001b[1;31mTypeError\u001b[0m                                 Traceback (most recent call last)",
      "\u001b[1;32m<ipython-input-48-50db2bced30d>\u001b[0m in \u001b[0;36m<module>\u001b[1;34m\u001b[0m\n\u001b[0;32m      1\u001b[0m \u001b[1;34m'''fight_soups_df is meant to hold all fight soups for later parcing. Running this cells takes a lot of time.'''\u001b[0m\u001b[1;33m\u001b[0m\u001b[1;33m\u001b[0m\u001b[0m\n\u001b[0;32m      2\u001b[0m \u001b[1;33m\u001b[0m\u001b[0m\n\u001b[1;32m----> 3\u001b[1;33m \u001b[0mfight_soups_df\u001b[0m \u001b[1;33m=\u001b[0m \u001b[0mdd\u001b[0m\u001b[1;33m.\u001b[0m\u001b[0mDataFrame\u001b[0m\u001b[1;33m(\u001b[0m\u001b[1;33m)\u001b[0m\u001b[1;33m\u001b[0m\u001b[1;33m\u001b[0m\u001b[0m\n\u001b[0m\u001b[0;32m      4\u001b[0m \u001b[1;33m\u001b[0m\u001b[0m\n\u001b[0;32m      5\u001b[0m \u001b[0mfight_soups\u001b[0m \u001b[1;33m=\u001b[0m \u001b[0mlist\u001b[0m\u001b[1;33m(\u001b[0m\u001b[0mmap\u001b[0m\u001b[1;33m(\u001b[0m\u001b[0mfighter_info_generator\u001b[0m\u001b[1;33m,\u001b[0m \u001b[0mfight_soup_urls\u001b[0m\u001b[1;33m)\u001b[0m\u001b[1;33m)\u001b[0m\u001b[1;33m\u001b[0m\u001b[1;33m\u001b[0m\u001b[0m\n",
      "\u001b[1;31mTypeError\u001b[0m: __init__() missing 4 required positional arguments: 'dsk', 'name', 'meta', and 'divisions'"
     ]
    }
   ],
   "source": [
    "'''fight_soups_df is meant to hold all fight soups for later parcing. Running this cells takes a lot of time.'''\n",
    "\n",
    "fight_soups_df = pd.DataFrame()\n",
    "\n",
    "fight_soups_df['soups'] = fight_soups"
   ]
  },
  {
   "cell_type": "code",
   "execution_count": 15,
   "metadata": {},
   "outputs": [
    {
     "data": {
      "text/html": [
       "<div>\n",
       "<style scoped>\n",
       "    .dataframe tbody tr th:only-of-type {\n",
       "        vertical-align: middle;\n",
       "    }\n",
       "\n",
       "    .dataframe tbody tr th {\n",
       "        vertical-align: top;\n",
       "    }\n",
       "\n",
       "    .dataframe thead th {\n",
       "        text-align: right;\n",
       "    }\n",
       "</style>\n",
       "<table border=\"1\" class=\"dataframe\">\n",
       "  <thead>\n",
       "    <tr style=\"text-align: right;\">\n",
       "      <th></th>\n",
       "      <th>url</th>\n",
       "      <th>base_soup</th>\n",
       "      <th>fight_urls</th>\n",
       "    </tr>\n",
       "  </thead>\n",
       "  <tbody>\n",
       "    <tr>\n",
       "      <th>0</th>\n",
       "      <td>http://www.ufcstats.com/fighter-details/956dca...</td>\n",
       "      <td>[html, \\n, [if lt IE 7]&gt;      &lt;html class=\"no-...</td>\n",
       "      <td>[[http://www.ufcstats.com/fight-details/e5908d...</td>\n",
       "    </tr>\n",
       "    <tr>\n",
       "      <th>1</th>\n",
       "      <td>http://www.ufcstats.com/fighter-details/04643f...</td>\n",
       "      <td>[html, \\n, [if lt IE 7]&gt;      &lt;html class=\"no-...</td>\n",
       "      <td>[[http://www.ufcstats.com/fight-details/81bd1c...</td>\n",
       "    </tr>\n",
       "    <tr>\n",
       "      <th>2</th>\n",
       "      <td>http://www.ufcstats.com/fighter-details/7c6e87...</td>\n",
       "      <td>[html, \\n, [if lt IE 7]&gt;      &lt;html class=\"no-...</td>\n",
       "      <td>[[http://www.ufcstats.com/fight-details/a16d8d...</td>\n",
       "    </tr>\n",
       "    <tr>\n",
       "      <th>3</th>\n",
       "      <td>http://www.ufcstats.com/fighter-details/d15651...</td>\n",
       "      <td>[html, \\n, [if lt IE 7]&gt;      &lt;html class=\"no-...</td>\n",
       "      <td>[[http://www.ufcstats.com/fight-details/b70dff...</td>\n",
       "    </tr>\n",
       "    <tr>\n",
       "      <th>4</th>\n",
       "      <td>http://www.ufcstats.com/fighter-details/4b37a0...</td>\n",
       "      <td>[html, \\n, [if lt IE 7]&gt;      &lt;html class=\"no-...</td>\n",
       "      <td>[[http://www.ufcstats.com/fight-details/260241...</td>\n",
       "    </tr>\n",
       "  </tbody>\n",
       "</table>\n",
       "</div>"
      ],
      "text/plain": [
       "                                                 url  \\\n",
       "0  http://www.ufcstats.com/fighter-details/956dca...   \n",
       "1  http://www.ufcstats.com/fighter-details/04643f...   \n",
       "2  http://www.ufcstats.com/fighter-details/7c6e87...   \n",
       "3  http://www.ufcstats.com/fighter-details/d15651...   \n",
       "4  http://www.ufcstats.com/fighter-details/4b37a0...   \n",
       "\n",
       "                                           base_soup  \\\n",
       "0  [html, \\n, [if lt IE 7]>      <html class=\"no-...   \n",
       "1  [html, \\n, [if lt IE 7]>      <html class=\"no-...   \n",
       "2  [html, \\n, [if lt IE 7]>      <html class=\"no-...   \n",
       "3  [html, \\n, [if lt IE 7]>      <html class=\"no-...   \n",
       "4  [html, \\n, [if lt IE 7]>      <html class=\"no-...   \n",
       "\n",
       "                                          fight_urls  \n",
       "0  [[http://www.ufcstats.com/fight-details/e5908d...  \n",
       "1  [[http://www.ufcstats.com/fight-details/81bd1c...  \n",
       "2  [[http://www.ufcstats.com/fight-details/a16d8d...  \n",
       "3  [[http://www.ufcstats.com/fight-details/b70dff...  \n",
       "4  [[http://www.ufcstats.com/fight-details/260241...  "
      ]
     },
     "execution_count": 15,
     "metadata": {},
     "output_type": "execute_result"
    }
   ],
   "source": [
    "soup_database.head()"
   ]
  },
  {
   "cell_type": "code",
   "execution_count": 7,
   "metadata": {},
   "outputs": [],
   "source": [
    "def stats_soup(soup):\n",
    "    '''parses soups down to the level of stats for faster, fluid parsing'''\n",
    "    \n",
    "    base_stats = soup.findChildren('li', attrs={'class': re.compile('b-list')})\n",
    "    \n",
    "    return base_stats"
   ]
  },
  {
   "cell_type": "code",
   "execution_count": 17,
   "metadata": {},
   "outputs": [],
   "source": [
    "stats_soups = list(map(stats_soup, basic_soup_list))"
   ]
  },
  {
   "cell_type": "code",
   "execution_count": 18,
   "metadata": {},
   "outputs": [],
   "source": [
    "soup_database['stats_soup'] = stats_soups"
   ]
  },
  {
   "cell_type": "code",
   "execution_count": 8,
   "metadata": {},
   "outputs": [],
   "source": [
    "def fight_url_flattener(fight_url_list):\n",
    "    flattened_fight_urls = []\n",
    "    holder = fight_url_list.split(',')\n",
    "    \n",
    "    for x in range(0, len(holder)):\n",
    "        \n",
    "        flattened_fight_urls.append(holder[x].replace(\"'\", \"\").replace(\"[\", \"\").replace(\"]\", \"\").replace(\" \", \"\"))\n",
    "    \n",
    "    return flattened_fight_urls"
   ]
  },
  {
   "cell_type": "code",
   "execution_count": 177,
   "metadata": {},
   "outputs": [],
   "source": [
    "soup_database_df.fight_urls = list(map(fight_url_flattener, soup_database_df.fight_urls))"
   ]
  },
  {
   "cell_type": "code",
   "execution_count": 184,
   "metadata": {},
   "outputs": [],
   "source": [
    "soup_database_df.to_csv('soup_database_csv', index=False)"
   ]
  },
  {
   "cell_type": "markdown",
   "metadata": {},
   "source": [
    "#### Basic Statistics DataFrame Construction"
   ]
  },
  {
   "cell_type": "code",
   "execution_count": 9,
   "metadata": {},
   "outputs": [],
   "source": [
    "def fighter_name(soup):\n",
    "    '''soup: this soup must be parsed at the class level via the stats soup'''\n",
    "    name = soup.findChildren('span', attrs={'class': re.compile('b-content__title-highlight')})\n",
    "    \n",
    "    return name[0].text.strip()"
   ]
  },
  {
   "cell_type": "code",
   "execution_count": 10,
   "metadata": {},
   "outputs": [],
   "source": [
    "def fighter_record(soup):\n",
    "    \n",
    "    record = soup.findChildren('span', attrs={'class': re.compile('b-content__title-record')})\n",
    "    \n",
    "    return record[0].text.strip().split(':')[1].strip()"
   ]
  },
  {
   "cell_type": "code",
   "execution_count": 11,
   "metadata": {},
   "outputs": [],
   "source": [
    "def basic_stats_height(soup):\n",
    "    '''soups run thorugh this function should be run through stats_soup function beforehand.'''\n",
    "    \n",
    "    #feet\n",
    "    height = soup[0].text.strip().split(':')[1].strip().split(' ')[0].replace(\"'\", \"\")\n",
    "    \n",
    "   #inches\n",
    "    if height == '--':\n",
    "        pass\n",
    "    else:\n",
    "        \n",
    "        height = int(height)\n",
    "        \n",
    "        inches = int(soup[0].text.strip().split(':')[1].strip().split(' ')[1].replace(\"'\", \"\").replace('\"', '').replace(\"--\", \"0\"))\n",
    "\n",
    "        height_to_inches = (height * 12) \n",
    "    \n",
    "        final_height = height_to_inches + inches\n",
    "    \n",
    "        return (inches + height_to_inches)"
   ]
  },
  {
   "cell_type": "code",
   "execution_count": 12,
   "metadata": {},
   "outputs": [],
   "source": [
    "def basic_stats_weight(soup):\n",
    "    \n",
    "    weight = soup[1].text.strip().split(':')[1].strip().replace(' lbs.', '')\n",
    "    \n",
    "    if weight == '--':\n",
    "        pass\n",
    "    else:\n",
    "        weight = int(weight)\n",
    "    return weight "
   ]
  },
  {
   "cell_type": "code",
   "execution_count": 13,
   "metadata": {},
   "outputs": [],
   "source": [
    "def basic_stats_reach(soup):\n",
    "    \n",
    "    reach = soup[2].text.strip().split(':')[1].strip().replace('\"', '')\n",
    "    \n",
    "    if reach == '--':\n",
    "        pass\n",
    "    else:\n",
    "        reach = int(reach)\n",
    "    return reach"
   ]
  },
  {
   "cell_type": "code",
   "execution_count": 14,
   "metadata": {},
   "outputs": [],
   "source": [
    "def basic_stats_stance(soup):\n",
    "    \n",
    "    stance = soup[3].text.strip().split(':')[1].strip()\n",
    "    return stance"
   ]
  },
  {
   "cell_type": "code",
   "execution_count": 15,
   "metadata": {},
   "outputs": [],
   "source": [
    "def basic_stats_DOB(soup):\n",
    "    \n",
    "    DOB = soup[4].text.strip().split(':')[1].strip()\n",
    "    return DOB"
   ]
  },
  {
   "cell_type": "code",
   "execution_count": 48,
   "metadata": {},
   "outputs": [
    {
     "ename": "NameError",
     "evalue": "name 'basic_soup_list' is not defined",
     "output_type": "error",
     "traceback": [
      "\u001b[1;31m---------------------------------------------------------------------------\u001b[0m",
      "\u001b[1;31mNameError\u001b[0m                                 Traceback (most recent call last)",
      "\u001b[1;32m<ipython-input-48-4749f85b88b1>\u001b[0m in \u001b[0;36m<module>\u001b[1;34m\u001b[0m\n\u001b[1;32m----> 1\u001b[1;33m \u001b[0mfighter_names\u001b[0m \u001b[1;33m=\u001b[0m \u001b[0mlist\u001b[0m\u001b[1;33m(\u001b[0m\u001b[0mmap\u001b[0m\u001b[1;33m(\u001b[0m\u001b[0mfighter_name\u001b[0m\u001b[1;33m,\u001b[0m \u001b[0mbasic_soup_list\u001b[0m\u001b[1;33m)\u001b[0m\u001b[1;33m)\u001b[0m\u001b[1;33m\u001b[0m\u001b[1;33m\u001b[0m\u001b[0m\n\u001b[0m\u001b[0;32m      2\u001b[0m \u001b[1;33m\u001b[0m\u001b[0m\n\u001b[0;32m      3\u001b[0m \u001b[0mfighter_records\u001b[0m \u001b[1;33m=\u001b[0m \u001b[0mlist\u001b[0m\u001b[1;33m(\u001b[0m\u001b[0mmap\u001b[0m\u001b[1;33m(\u001b[0m\u001b[0mfighter_record\u001b[0m\u001b[1;33m,\u001b[0m \u001b[0mbasic_soup_list\u001b[0m\u001b[1;33m)\u001b[0m\u001b[1;33m)\u001b[0m\u001b[1;33m\u001b[0m\u001b[1;33m\u001b[0m\u001b[0m\n\u001b[0;32m      4\u001b[0m \u001b[1;33m\u001b[0m\u001b[0m\n\u001b[0;32m      5\u001b[0m \u001b[0mfighter_heights\u001b[0m \u001b[1;33m=\u001b[0m  \u001b[0mlist\u001b[0m\u001b[1;33m(\u001b[0m\u001b[0mmap\u001b[0m\u001b[1;33m(\u001b[0m\u001b[0mbasic_stats_height\u001b[0m\u001b[1;33m,\u001b[0m \u001b[0mstats_soups\u001b[0m\u001b[1;33m)\u001b[0m\u001b[1;33m)\u001b[0m\u001b[1;33m\u001b[0m\u001b[1;33m\u001b[0m\u001b[0m\n",
      "\u001b[1;31mNameError\u001b[0m: name 'basic_soup_list' is not defined"
     ]
    }
   ],
   "source": [
    "fighter_names = list(map(fighter_name, basic_soup_list))\n",
    "\n",
    "fighter_records = list(map(fighter_record, basic_soup_list))\n",
    "\n",
    "fighter_heights =  list(map(basic_stats_height, stats_soups))\n",
    "\n",
    "fighter_weights = list(map(basic_stats_weight, stats_soups))\n",
    "\n",
    "fighter_reachs = list(map(basic_stats_reach, stats_soups))\n",
    "\n",
    "fighter_stances = list(map(basic_stats_stance, stats_soups))\n",
    "\n",
    "fighter_DOBs = list(map(basic_stats_DOB, stats_soups))"
   ]
  },
  {
   "cell_type": "code",
   "execution_count": 28,
   "metadata": {},
   "outputs": [],
   "source": [
    "fighter_basic_stats_df = pd.DataFrame()\n",
    "\n",
    "fighter_basic_stats_df['name'] = fighter_names\n",
    "fighter_basic_stats_df['record'] = fighter_records\n",
    "fighter_basic_stats_df['height'] = fighter_heights\n",
    "fighter_basic_stats_df['weight'] = fighter_weights\n",
    "fighter_basic_stats_df['reach'] = fighter_reachs\n",
    "fighter_basic_stats_df['stance'] = fighter_stances\n",
    "fighter_basic_stats_df['DOB'] = fighter_DOBs"
   ]
  },
  {
   "cell_type": "code",
   "execution_count": 29,
   "metadata": {},
   "outputs": [
    {
     "data": {
      "text/html": [
       "<div>\n",
       "<style scoped>\n",
       "    .dataframe tbody tr th:only-of-type {\n",
       "        vertical-align: middle;\n",
       "    }\n",
       "\n",
       "    .dataframe tbody tr th {\n",
       "        vertical-align: top;\n",
       "    }\n",
       "\n",
       "    .dataframe thead th {\n",
       "        text-align: right;\n",
       "    }\n",
       "</style>\n",
       "<table border=\"1\" class=\"dataframe\">\n",
       "  <thead>\n",
       "    <tr style=\"text-align: right;\">\n",
       "      <th></th>\n",
       "      <th>name</th>\n",
       "      <th>record</th>\n",
       "      <th>height</th>\n",
       "      <th>weight</th>\n",
       "      <th>reach</th>\n",
       "      <th>stance</th>\n",
       "      <th>DOB</th>\n",
       "    </tr>\n",
       "  </thead>\n",
       "  <tbody>\n",
       "    <tr>\n",
       "      <th>0</th>\n",
       "      <td>David Avellan</td>\n",
       "      <td>2-1-0</td>\n",
       "      <td>69.0</td>\n",
       "      <td>185</td>\n",
       "      <td>--</td>\n",
       "      <td>Orthodox</td>\n",
       "      <td>--</td>\n",
       "    </tr>\n",
       "    <tr>\n",
       "      <th>1</th>\n",
       "      <td>Marcus Aurelio</td>\n",
       "      <td>21-10-0</td>\n",
       "      <td>70.0</td>\n",
       "      <td>155</td>\n",
       "      <td>74</td>\n",
       "      <td>Orthodox</td>\n",
       "      <td>Aug 18, 1973</td>\n",
       "    </tr>\n",
       "    <tr>\n",
       "      <th>2</th>\n",
       "      <td>Ildemar Alcantara</td>\n",
       "      <td>21-8-0</td>\n",
       "      <td>74.0</td>\n",
       "      <td>185</td>\n",
       "      <td>78</td>\n",
       "      <td>Orthodox</td>\n",
       "      <td>Nov 18, 1982</td>\n",
       "    </tr>\n",
       "    <tr>\n",
       "      <th>3</th>\n",
       "      <td>Sam Alvey</td>\n",
       "      <td>33-14-0 (1 NC)</td>\n",
       "      <td>74.0</td>\n",
       "      <td>205</td>\n",
       "      <td>75</td>\n",
       "      <td>Southpaw</td>\n",
       "      <td>May 06, 1986</td>\n",
       "    </tr>\n",
       "    <tr>\n",
       "      <th>4</th>\n",
       "      <td>Pablo Alfonso</td>\n",
       "      <td>6-5-0</td>\n",
       "      <td>68.0</td>\n",
       "      <td>145</td>\n",
       "      <td>--</td>\n",
       "      <td></td>\n",
       "      <td>May 09, 1983</td>\n",
       "    </tr>\n",
       "  </tbody>\n",
       "</table>\n",
       "</div>"
      ],
      "text/plain": [
       "                name          record  height weight reach    stance  \\\n",
       "0      David Avellan           2-1-0    69.0    185    --  Orthodox   \n",
       "1     Marcus Aurelio         21-10-0    70.0    155    74  Orthodox   \n",
       "2  Ildemar Alcantara          21-8-0    74.0    185    78  Orthodox   \n",
       "3          Sam Alvey  33-14-0 (1 NC)    74.0    205    75  Southpaw   \n",
       "4      Pablo Alfonso           6-5-0    68.0    145    --             \n",
       "\n",
       "            DOB  \n",
       "0            --  \n",
       "1  Aug 18, 1973  \n",
       "2  Nov 18, 1982  \n",
       "3  May 06, 1986  \n",
       "4  May 09, 1983  "
      ]
     },
     "execution_count": 29,
     "metadata": {},
     "output_type": "execute_result"
    }
   ],
   "source": [
    "fighter_basic_stats_df.head()"
   ]
  },
  {
   "cell_type": "code",
   "execution_count": 30,
   "metadata": {},
   "outputs": [],
   "source": [
    "fighter_basic_stats_df.to_csv('fighter_basic_stats_csv', index=False)"
   ]
  },
  {
   "cell_type": "markdown",
   "metadata": {},
   "source": [
    "#### Career Statistics DataFrame Construction"
   ]
  },
  {
   "cell_type": "code",
   "execution_count": 16,
   "metadata": {},
   "outputs": [],
   "source": [
    "def career_stats_soup(soup):\n",
    "    \n",
    "    career_stats_soup = soup.findChildren('li', attrs={'class': re.compile('b-list')})\n",
    "    career_stats = career_stats_soup[5:]\n",
    "    \n",
    "    return career_stats_soup"
   ]
  },
  {
   "cell_type": "code",
   "execution_count": 17,
   "metadata": {},
   "outputs": [],
   "source": [
    "def career_stats_SLpM(soup):\n",
    "\n",
    "    SLpM = soup[5].text.split(':')[1].replace('%', '').strip()\n",
    "    \n",
    "    if SLpM == '--':\n",
    "        pass\n",
    "    else:\n",
    "        SLpM = float(SLpM)\n",
    "        \n",
    "    return SLpM"
   ]
  },
  {
   "cell_type": "code",
   "execution_count": 18,
   "metadata": {},
   "outputs": [],
   "source": [
    "def career_stats_StrAcc(soup):\n",
    "    StrAcc =  soup[6].text.split(':')[1].replace('%', '').strip()\n",
    "    \n",
    "    if StrAcc == '--':\n",
    "        pass\n",
    "    else:\n",
    "        StrAcc = float(StrAcc)\n",
    "        \n",
    "    return StrAcc"
   ]
  },
  {
   "cell_type": "code",
   "execution_count": 19,
   "metadata": {},
   "outputs": [],
   "source": [
    "def career_stats_SApM(soup):\n",
    "    SApM = soup[7].text.split(':')[1].strip()\n",
    "    \n",
    "    if SApM == '--':\n",
    "        pass\n",
    "    else:\n",
    "        SApM = float(SApM)\n",
    "        \n",
    "    return SApM"
   ]
  },
  {
   "cell_type": "code",
   "execution_count": 20,
   "metadata": {},
   "outputs": [],
   "source": [
    "def career_stats_StrDef(soup):\n",
    "    StrDef = soup[8].text.split(':')[1].replace('%', '').strip()\n",
    "    \n",
    "    if StrDef == '--':\n",
    "        pass\n",
    "    else:\n",
    "        StrDef = float(StrDef)\n",
    "        \n",
    "    return StrDef"
   ]
  },
  {
   "cell_type": "code",
   "execution_count": 21,
   "metadata": {},
   "outputs": [],
   "source": [
    "def career_stats_TDAvg(soup):\n",
    "    TDAvg = soup[10].text.split(':')[1].strip()\n",
    "    \n",
    "    if TDAvg == '--':\n",
    "        pass\n",
    "    else:\n",
    "        TDAvg = float(TDAvg)\n",
    "        \n",
    "    return TDAvg"
   ]
  },
  {
   "cell_type": "code",
   "execution_count": 22,
   "metadata": {},
   "outputs": [],
   "source": [
    "def career_stats_TDAcc(soup):\n",
    "    TDAcc = soup[11].text.split(':')[1].strip().replace('%', '')\n",
    "    \n",
    "    if TDAcc == '--':\n",
    "        pass\n",
    "    else:\n",
    "        TDAcc = float(TDAcc)\n",
    "        \n",
    "    return TDAcc"
   ]
  },
  {
   "cell_type": "code",
   "execution_count": 23,
   "metadata": {},
   "outputs": [],
   "source": [
    "def career_stats_TDDef(soup):\n",
    "    TDDef = soup[12].text.split(':')[1].replace('%', '').strip()\n",
    "    \n",
    "    if TDDef == '--':\n",
    "        pass\n",
    "    else:\n",
    "        TDDef = float(TDDef)\n",
    "        \n",
    "    return TDDef"
   ]
  },
  {
   "cell_type": "code",
   "execution_count": 24,
   "metadata": {},
   "outputs": [],
   "source": [
    "def career_stats_SubAvg(soup):\n",
    "    SubAvg =  soup[13].text.split(':')[1].strip().replace('%', '')  \n",
    "    \n",
    "    if SubAvg == '--':\n",
    "        pass\n",
    "    else:\n",
    "        SubAvg = float(SubAvg)\n",
    "        \n",
    "    return SubAvg"
   ]
  },
  {
   "cell_type": "code",
   "execution_count": 40,
   "metadata": {},
   "outputs": [],
   "source": [
    "fighter_SLpMs = list(map(career_stats_SLpM, stats_soups))\n",
    "\n",
    "fighter_StrAccs = list(map(career_stats_StrAcc, stats_soups))\n",
    "\n",
    "fighter_SApMs = list(map(career_stats_SApM, stats_soups))\n",
    "\n",
    "fighter_StrDefs =list(map(career_stats_StrDef, stats_soups))\n",
    "\n",
    "fighter_TDAvgs = list(map(career_stats_TDAvg, stats_soups))\n",
    "\n",
    "fighter_TDAccs = list(map(career_stats_TDAcc, stats_soups))\n",
    "\n",
    "fighter_TDDefs = list(map(career_stats_TDDef, stats_soups))\n",
    "\n",
    "fighter_SubAvgs = list(map(career_stats_SubAvg, stats_soups))"
   ]
  },
  {
   "cell_type": "code",
   "execution_count": 41,
   "metadata": {},
   "outputs": [],
   "source": [
    "fighter_career_stats_df = pd.DataFrame()\n",
    "\n",
    "fighter_career_stats_df['name'] = fighter_names\n",
    "fighter_career_stats_df['SLpMs'] = fighter_SLpMs\n",
    "fighter_career_stats_df['StrAccs'] = fighter_StrAccs\n",
    "fighter_career_stats_df['SApMs'] = fighter_SApMs\n",
    "fighter_career_stats_df['StrDefs'] = fighter_StrDefs\n",
    "fighter_career_stats_df['TDAvgs'] = fighter_TDAvgs\n",
    "fighter_career_stats_df['TDAccs'] = fighter_TDAccs\n",
    "fighter_career_stats_df['TDDefs'] = fighter_TDDefs\n",
    "fighter_career_stats_df['SubAvgs'] = fighter_SubAvgs"
   ]
  },
  {
   "cell_type": "code",
   "execution_count": 45,
   "metadata": {},
   "outputs": [
    {
     "data": {
      "text/html": [
       "<div>\n",
       "<style scoped>\n",
       "    .dataframe tbody tr th:only-of-type {\n",
       "        vertical-align: middle;\n",
       "    }\n",
       "\n",
       "    .dataframe tbody tr th {\n",
       "        vertical-align: top;\n",
       "    }\n",
       "\n",
       "    .dataframe thead th {\n",
       "        text-align: right;\n",
       "    }\n",
       "</style>\n",
       "<table border=\"1\" class=\"dataframe\">\n",
       "  <thead>\n",
       "    <tr style=\"text-align: right;\">\n",
       "      <th></th>\n",
       "      <th>name</th>\n",
       "      <th>SLpMs</th>\n",
       "      <th>StrAccs</th>\n",
       "      <th>SApMs</th>\n",
       "      <th>StrDefs</th>\n",
       "      <th>TDAvgs</th>\n",
       "      <th>TDAccs</th>\n",
       "      <th>TDDefs</th>\n",
       "      <th>SubAvgs</th>\n",
       "    </tr>\n",
       "  </thead>\n",
       "  <tbody>\n",
       "    <tr>\n",
       "      <th>0</th>\n",
       "      <td>David Avellan</td>\n",
       "      <td>3.33</td>\n",
       "      <td>25.0</td>\n",
       "      <td>10.00</td>\n",
       "      <td>57.0</td>\n",
       "      <td>0.00</td>\n",
       "      <td>0.0</td>\n",
       "      <td>0.0</td>\n",
       "      <td>0.0</td>\n",
       "    </tr>\n",
       "    <tr>\n",
       "      <th>1</th>\n",
       "      <td>Marcus Aurelio</td>\n",
       "      <td>1.42</td>\n",
       "      <td>33.0</td>\n",
       "      <td>2.27</td>\n",
       "      <td>59.0</td>\n",
       "      <td>1.69</td>\n",
       "      <td>27.0</td>\n",
       "      <td>27.0</td>\n",
       "      <td>1.3</td>\n",
       "    </tr>\n",
       "    <tr>\n",
       "      <th>2</th>\n",
       "      <td>Ildemar Alcantara</td>\n",
       "      <td>1.93</td>\n",
       "      <td>38.0</td>\n",
       "      <td>2.63</td>\n",
       "      <td>50.0</td>\n",
       "      <td>2.00</td>\n",
       "      <td>68.0</td>\n",
       "      <td>81.0</td>\n",
       "      <td>0.9</td>\n",
       "    </tr>\n",
       "    <tr>\n",
       "      <th>3</th>\n",
       "      <td>Sam Alvey</td>\n",
       "      <td>3.11</td>\n",
       "      <td>45.0</td>\n",
       "      <td>3.22</td>\n",
       "      <td>55.0</td>\n",
       "      <td>0.08</td>\n",
       "      <td>16.0</td>\n",
       "      <td>81.0</td>\n",
       "      <td>0.1</td>\n",
       "    </tr>\n",
       "    <tr>\n",
       "      <th>4</th>\n",
       "      <td>Pablo Alfonso</td>\n",
       "      <td>0.00</td>\n",
       "      <td>0.0</td>\n",
       "      <td>0.00</td>\n",
       "      <td>0.0</td>\n",
       "      <td>0.00</td>\n",
       "      <td>0.0</td>\n",
       "      <td>0.0</td>\n",
       "      <td>0.0</td>\n",
       "    </tr>\n",
       "  </tbody>\n",
       "</table>\n",
       "</div>"
      ],
      "text/plain": [
       "                name  SLpMs  StrAccs  SApMs  StrDefs  TDAvgs  TDAccs  TDDefs  \\\n",
       "0      David Avellan   3.33     25.0  10.00     57.0    0.00     0.0     0.0   \n",
       "1     Marcus Aurelio   1.42     33.0   2.27     59.0    1.69    27.0    27.0   \n",
       "2  Ildemar Alcantara   1.93     38.0   2.63     50.0    2.00    68.0    81.0   \n",
       "3          Sam Alvey   3.11     45.0   3.22     55.0    0.08    16.0    81.0   \n",
       "4      Pablo Alfonso   0.00      0.0   0.00      0.0    0.00     0.0     0.0   \n",
       "\n",
       "   SubAvgs  \n",
       "0      0.0  \n",
       "1      1.3  \n",
       "2      0.9  \n",
       "3      0.1  \n",
       "4      0.0  "
      ]
     },
     "execution_count": 45,
     "metadata": {},
     "output_type": "execute_result"
    }
   ],
   "source": [
    "fighter_career_stats_df.head()"
   ]
  },
  {
   "cell_type": "code",
   "execution_count": 43,
   "metadata": {},
   "outputs": [],
   "source": [
    "fighter_career_stats_df.to_csv('fighter_career_stats_csv', index=False)"
   ]
  },
  {
   "cell_type": "code",
   "execution_count": 44,
   "metadata": {},
   "outputs": [],
   "source": [
    "fight_soups_df.to_csv('fight_soups_csv', index=False)"
   ]
  },
  {
   "cell_type": "markdown",
   "metadata": {},
   "source": [
    "PROTOCODE =================================="
   ]
  },
  {
   "cell_type": "code",
   "execution_count": 49,
   "metadata": {},
   "outputs": [],
   "source": [
    "fighter_basic_stats_df = dd.read_csv('fighter_basic_stats_csv')\n",
    "fighter_career_stats_df = dd.read_csv('fighter_career_stats_csv')\n",
    "soup_database_df = pd.read_csv('soup_database_csv')\n",
    "fight_soups_df = pd.read_csv('fight_soups_csv')"
   ]
  },
  {
   "cell_type": "code",
   "execution_count": null,
   "metadata": {},
   "outputs": [],
   "source": [
    "test"
   ]
  },
  {
   "cell_type": "code",
   "execution_count": 52,
   "metadata": {},
   "outputs": [
    {
     "data": {
      "text/plain": [
       "34806"
      ]
     },
     "execution_count": 52,
     "metadata": {},
     "output_type": "execute_result"
    }
   ],
   "source": [
    "len(fight_soups_df.soups[42])"
   ]
  },
  {
   "cell_type": "code",
   "execution_count": 50,
   "metadata": {},
   "outputs": [
    {
     "name": "stdout",
     "output_type": "stream",
     "text": [
      "144 709\n"
     ]
    }
   ],
   "source": [
    "fights = set(soup_database_df.fight_urls)\n",
    "print(len(fights), len(fight_soups_df))"
   ]
  },
  {
   "cell_type": "code",
   "execution_count": 161,
   "metadata": {},
   "outputs": [],
   "source": [
    "target_list = []\n",
    "target = tester_fight_url_list.split(',')\n",
    "for x in range(0, len(target)):\n",
    "    target_list.append(target[x].replace(\"'\", \"\").replace(\"[\", \"\").replace(\"]\", \"\").replace(\" \", \"\"))"
   ]
  },
  {
   "cell_type": "code",
   "execution_count": 182,
   "metadata": {},
   "outputs": [
    {
     "data": {
      "text/plain": [
       "0    [http://www.ufcstats.com/fight-details/e5908d0...\n",
       "1    [http://www.ufcstats.com/fight-details/81bd1c1...\n",
       "2    [http://www.ufcstats.com/fight-details/a16d8d0...\n",
       "3    [http://www.ufcstats.com/fight-details/b70dfff...\n",
       "Name: fight_urls, dtype: object"
      ]
     },
     "execution_count": 182,
     "metadata": {},
     "output_type": "execute_result"
    }
   ],
   "source": [
    "soup_database_df.fight_urls[0:4]"
   ]
  },
  {
   "cell_type": "code",
   "execution_count": 175,
   "metadata": {},
   "outputs": [
    {
     "data": {
      "text/plain": [
       "[['http://www.ufcstats.com/fight-details/671f42536454e541',\n",
       "  'http://www.ufcstats.com/fight-details/b8c21a311f3f7953',\n",
       "  'http://www.ufcstats.com/fight-details/4fe799b4fa1afb76',\n",
       "  'http://www.ufcstats.com/fight-details/b0e16dd491bc4fea',\n",
       "  'http://www.ufcstats.com/fight-details/051124b25d576906'],\n",
       " ['http://www.ufcstats.com/fight-details/7b80dd233e200dd2'],\n",
       " ['http://www.ufcstats.com/fight-details/9a27064991a9e9d4']]"
      ]
     },
     "execution_count": 175,
     "metadata": {},
     "output_type": "execute_result"
    }
   ],
   "source": [
    "test_list = list(map(fight_url_flattener, tester_fight_url_list))\n",
    "test_list"
   ]
  },
  {
   "cell_type": "code",
   "execution_count": null,
   "metadata": {},
   "outputs": [],
   "source": []
  }
 ],
 "metadata": {
  "kernelspec": {
   "display_name": "Python [conda env:work-env] *",
   "language": "python",
   "name": "conda-env-work-env-py"
  },
  "language_info": {
   "codemirror_mode": {
    "name": "ipython",
    "version": 3
   },
   "file_extension": ".py",
   "mimetype": "text/x-python",
   "name": "python",
   "nbconvert_exporter": "python",
   "pygments_lexer": "ipython3",
   "version": "3.7.7"
  }
 },
 "nbformat": 4,
 "nbformat_minor": 2
}
