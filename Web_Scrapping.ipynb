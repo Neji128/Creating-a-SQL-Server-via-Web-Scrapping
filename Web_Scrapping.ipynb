{
 "cells": [
  {
   "cell_type": "markdown",
   "metadata": {},
   "source": [
    "# UFC_Stats Web Scraping"
   ]
  },
  {
   "cell_type": "markdown",
   "metadata": {},
   "source": [
    "## importing pertinent libraries"
   ]
  },
  {
   "cell_type": "code",
   "execution_count": 1,
   "metadata": {},
   "outputs": [],
   "source": [
    "#importing pertinent libraries\n",
    "import pandas as pd\n",
    "from urllib.request import urlopen\n",
    "from bs4 import BeautifulSoup\n",
    "import requests, re\n",
    "import json\n",
    "import itertools\n",
    "import dask.dataframe as dd\n",
    "from datetime import datetime"
   ]
  },
  {
   "cell_type": "code",
   "execution_count": 2,
   "metadata": {},
   "outputs": [],
   "source": [
    "from datetime import datetime\n",
    "\n",
    "today = datetime.today()\n",
    "current_date= today.strftime(\"%B %d, %Y\")\n",
    "current_datetime = datetime.strptime(current_date, \"%B %d, %Y\" ) "
   ]
  },
  {
   "cell_type": "markdown",
   "metadata": {},
   "source": [
    "## Extracting UFC urls"
   ]
  },
  {
   "cell_type": "code",
   "execution_count": 2,
   "metadata": {},
   "outputs": [],
   "source": [
    "#creating a list of unique fighter URLs available on website\n",
    "fighter_url_list = []\n",
    "response = requests.get('http://www.ufcstats.com/statistics/fighters?char=a&page=all')\n",
    "soup = BeautifulSoup(response.content, 'html.parser')\n",
    "\n",
    "#targeting URLs that contain fighter data\n",
    "fighters = soup.findAll('a', attrs={'href': re.compile('http:')})\n",
    "for fighter in fighters:\n",
    "    fighter_url_list.append(fighter.get('href'))\n",
    "\n",
    "#removing duplicate URLs\n",
    "fighter_url_list = list(set(fighter_url_list))"
   ]
  },
  {
   "cell_type": "code",
   "execution_count": 3,
   "metadata": {},
   "outputs": [
    {
     "data": {
      "text/plain": [
       "['http://www.ufcstats.com/fighter-details/9abc648e76c4493a',\n",
       " 'http://www.ufcstats.com/fighter-details/da603332ad41f165',\n",
       " 'http://www.ufcstats.com/fighter-details/c487223b0289bda9',\n",
       " 'http://www.ufcstats.com/fighter-details/6eaec40f724852f4',\n",
       " 'http://www.ufcstats.com/statistics/fighters?char=a&page=3',\n",
       " 'http://www.ufcstats.com/fighter-details/3738e68d2261e60f',\n",
       " 'http://www.ufcstats.com/fighter-details/0e9869d712e81f8f',\n",
       " 'http://www.ufcstats.com/fighter-details/aa6e591c2a2cdecd',\n",
       " 'http://www.ufcstats.com/fighter-details/1fc64507a0cb38cf',\n",
       " 'http://www.ufcstats.com/fighter-details/184b955181bdef52',\n",
       " 'http://www.ufcstats.com/fighter-details/cad24459b28592ca',\n",
       " 'http://www.ufcstats.com/fighter-details/d53482bef23235ba',\n",
       " 'http://www.ufcstats.com/fighter-details/196ed28337adc630',\n",
       " 'http://www.ufcstats.com/fighter-details/a08ddd04eaffd81d',\n",
       " 'http://www.ufcstats.com/fighter-details/38b50fd1e1b5b656']"
      ]
     },
     "execution_count": 3,
     "metadata": {},
     "output_type": "execute_result"
    }
   ],
   "source": [
    "fighter_url_list[:15]"
   ]
  },
  {
   "cell_type": "markdown",
   "metadata": {},
   "source": [
    "Looks like there are some URLs we don't need in out list. Let's weed them out."
   ]
  },
  {
   "cell_type": "code",
   "execution_count": 3,
   "metadata": {},
   "outputs": [],
   "source": [
    "#removing invalid URLs\n",
    "for url in fighter_url_list:\n",
    "    if 'fighter-details' not in url:\n",
    "        fighter_url_list.remove(url)"
   ]
  },
  {
   "cell_type": "markdown",
   "metadata": {},
   "source": [
    "## Creating Dataframe Building Blocks"
   ]
  },
  {
   "cell_type": "code",
   "execution_count": 3,
   "metadata": {},
   "outputs": [],
   "source": [
    "def info_generator(url):\n",
    "    '''Meant to parse any url via beuatiful soup\n",
    "    \n",
    "    Args:\n",
    "        url(str)\n",
    "        '''\n",
    "    \n",
    "    response = requests.get(url)\n",
    "    \n",
    "    soup = BeautifulSoup(response.content, 'html.parser')\n",
    "    \n",
    "    return soup"
   ]
  },
  {
   "cell_type": "code",
   "execution_count": 6,
   "metadata": {},
   "outputs": [],
   "source": [
    "#creating a soup list to reduce number of website requests\n",
    "basic_soup_list = list(map(info_generator, fighter_url_list))"
   ]
  },
  {
   "cell_type": "code",
   "execution_count": 5,
   "metadata": {},
   "outputs": [],
   "source": [
    "def fighter_history_fetcher(soup):\n",
    "    '''This function is meant to extract the html information for each fighter as a list of urls. '''\n",
    "    \n",
    "    soup_holder = soup.findAll('a', attrs={'href': re.compile('fight-details')})\n",
    "    \n",
    "    list_of_fights = []\n",
    "    \n",
    "    for x in soup_holder:\n",
    "        fight_holder = []\n",
    "        \n",
    "        fight_holder.append(x.get('href'))\n",
    "        \n",
    "        list_of_fights.append(fight_holder) \n",
    "        \n",
    "    return list_of_fights"
   ]
  },
  {
   "cell_type": "markdown",
   "metadata": {},
   "source": [
    "### Generating basic statistics lists"
   ]
  },
  {
   "cell_type": "code",
   "execution_count": 127,
   "metadata": {},
   "outputs": [],
   "source": [
    "def base_stats_soup_generator(soup):\n",
    "    '''Meant to identiy statistics in the context of UFC Stats urls.\n",
    "    \n",
    "    Args:\n",
    "        soup(BeautifulSoup object) : must be an unaltered soup'''\n",
    "    \n",
    "    base_stats = soup.findChildren('li', attrs={'class': re.compile('b-list')})\n",
    "    \n",
    "    return base_stats"
   ]
  },
  {
   "cell_type": "code",
   "execution_count": 7,
   "metadata": {},
   "outputs": [
    {
     "ename": "NameError",
     "evalue": "name 'basic_soup_list' is not defined",
     "output_type": "error",
     "traceback": [
      "\u001b[1;31m---------------------------------------------------------------------------\u001b[0m",
      "\u001b[1;31mNameError\u001b[0m                                 Traceback (most recent call last)",
      "\u001b[1;32m<ipython-input-7-32ca23e4ca9d>\u001b[0m in \u001b[0;36m<module>\u001b[1;34m\u001b[0m\n\u001b[1;32m----> 1\u001b[1;33m \u001b[0mstats_soups\u001b[0m \u001b[1;33m=\u001b[0m \u001b[0mlist\u001b[0m\u001b[1;33m(\u001b[0m\u001b[0mmap\u001b[0m\u001b[1;33m(\u001b[0m\u001b[0mstats_soup\u001b[0m\u001b[1;33m,\u001b[0m \u001b[0mbasic_soup_list\u001b[0m\u001b[1;33m)\u001b[0m\u001b[1;33m)\u001b[0m\u001b[1;33m\u001b[0m\u001b[1;33m\u001b[0m\u001b[0m\n\u001b[0m",
      "\u001b[1;31mNameError\u001b[0m: name 'basic_soup_list' is not defined"
     ]
    }
   ],
   "source": [
    "stats_soups = list(map(base_stats_soup_generator, basic_soup_list))"
   ]
  },
  {
   "cell_type": "code",
   "execution_count": 9,
   "metadata": {},
   "outputs": [
    {
     "ename": "NameError",
     "evalue": "name 'basic_soup_list' is not defined",
     "output_type": "error",
     "traceback": [
      "\u001b[1;31m---------------------------------------------------------------------------\u001b[0m",
      "\u001b[1;31mNameError\u001b[0m                                 Traceback (most recent call last)",
      "\u001b[1;32m<ipython-input-9-b49cb438b961>\u001b[0m in \u001b[0;36m<module>\u001b[1;34m\u001b[0m\n\u001b[1;32m----> 1\u001b[1;33m \u001b[0mfighter_history_url_list\u001b[0m \u001b[1;33m=\u001b[0m \u001b[0mlist\u001b[0m\u001b[1;33m(\u001b[0m\u001b[0mmap\u001b[0m\u001b[1;33m(\u001b[0m\u001b[0mfighter_history_fetcher\u001b[0m\u001b[1;33m,\u001b[0m \u001b[0mbasic_soup_list\u001b[0m\u001b[1;33m)\u001b[0m\u001b[1;33m)\u001b[0m\u001b[1;33m\u001b[0m\u001b[1;33m\u001b[0m\u001b[0m\n\u001b[0m\u001b[0;32m      2\u001b[0m \u001b[0mfighter_history_url_list\u001b[0m\u001b[1;33m[\u001b[0m\u001b[1;33m:\u001b[0m\u001b[1;36m3\u001b[0m\u001b[1;33m]\u001b[0m\u001b[1;33m\u001b[0m\u001b[1;33m\u001b[0m\u001b[0m\n",
      "\u001b[1;31mNameError\u001b[0m: name 'basic_soup_list' is not defined"
     ]
    }
   ],
   "source": [
    "fighter_history_url_list = list(map(fighter_history_fetcher, basic_soup_list))\n",
    "fighter_history_url_list[:3]"
   ]
  },
  {
   "cell_type": "markdown",
   "metadata": {},
   "source": [
    "fighter_history_url_list generated lists "
   ]
  },
  {
   "cell_type": "code",
   "execution_count": 10,
   "metadata": {},
   "outputs": [],
   "source": [
    "def compound_flattener(fight_url_list):\n",
    "    flattened_fight_urls = list(itertools.chain(*fight_url_list))\n",
    "    return flattened_fight_urls"
   ]
  },
  {
   "cell_type": "code",
   "execution_count": 11,
   "metadata": {},
   "outputs": [
    {
     "ename": "NameError",
     "evalue": "name 'fighter_history_url_list' is not defined",
     "output_type": "error",
     "traceback": [
      "\u001b[1;31m---------------------------------------------------------------------------\u001b[0m",
      "\u001b[1;31mNameError\u001b[0m                                 Traceback (most recent call last)",
      "\u001b[1;32m<ipython-input-11-bc55827ca622>\u001b[0m in \u001b[0;36m<module>\u001b[1;34m\u001b[0m\n\u001b[1;32m----> 1\u001b[1;33m \u001b[0mfighter_history_url_list\u001b[0m \u001b[1;33m=\u001b[0m \u001b[0mlist\u001b[0m\u001b[1;33m(\u001b[0m\u001b[0mmap\u001b[0m\u001b[1;33m(\u001b[0m\u001b[0mcompound_flattener\u001b[0m\u001b[1;33m,\u001b[0m \u001b[0mfighter_history_url_list\u001b[0m\u001b[1;33m)\u001b[0m\u001b[1;33m)\u001b[0m\u001b[1;33m\u001b[0m\u001b[1;33m\u001b[0m\u001b[0m\n\u001b[0m",
      "\u001b[1;31mNameError\u001b[0m: name 'fighter_history_url_list' is not defined"
     ]
    }
   ],
   "source": [
    "fighter_history_url_list = list(map(compound_flattener, fighter_history_url_list))"
   ]
  },
  {
   "cell_type": "code",
   "execution_count": 8,
   "metadata": {},
   "outputs": [
    {
     "ename": "NameError",
     "evalue": "name 'fighter_history_url_list' is not defined",
     "output_type": "error",
     "traceback": [
      "\u001b[1;31m---------------------------------------------------------------------------\u001b[0m",
      "\u001b[1;31mNameError\u001b[0m                                 Traceback (most recent call last)",
      "\u001b[1;32m<ipython-input-8-2c300fc65dfc>\u001b[0m in \u001b[0;36m<module>\u001b[1;34m\u001b[0m\n\u001b[1;32m----> 1\u001b[1;33m \u001b[0mfighter_history_url_list\u001b[0m\u001b[1;33m[\u001b[0m\u001b[1;33m:\u001b[0m\u001b[1;36m3\u001b[0m\u001b[1;33m]\u001b[0m\u001b[1;33m\u001b[0m\u001b[1;33m\u001b[0m\u001b[0m\n\u001b[0m",
      "\u001b[1;31mNameError\u001b[0m: name 'fighter_history_url_list' is not defined"
     ]
    }
   ],
   "source": [
    "fighter_history_url_list[:3]"
   ]
  },
  {
   "cell_type": "markdown",
   "metadata": {},
   "source": [
    "### Basic Statistics DataFrame Construction"
   ]
  },
  {
   "cell_type": "code",
   "execution_count": 17,
   "metadata": {},
   "outputs": [],
   "source": [
    "def fighter_name(soup):\n",
    "    \n",
    "    name = soup.find('span', attrs={'class': re.compile('b-content__title-highlight')})\n",
    "    \n",
    "    return name.text.strip()#[0].text.strip()"
   ]
  },
  {
   "cell_type": "code",
   "execution_count": 18,
   "metadata": {},
   "outputs": [],
   "source": [
    "def fighter_record(soup):\n",
    "    \n",
    "    record = soup.findChildren('span', attrs={'class': re.compile('b-content__title-record')})\n",
    "    \n",
    "    return record[0].text.strip().split(':')[1].strip()"
   ]
  },
  {
   "cell_type": "code",
   "execution_count": 19,
   "metadata": {},
   "outputs": [],
   "source": [
    "def basic_stats_height(soup):\n",
    "    '''soups run thorugh this function should be run through stats_soup function beforehand.'''\n",
    "    \n",
    "    #feet\n",
    "    height = soup[0].text.strip().split(':')[1].strip().split(' ')[0].replace(\"'\", \"\")\n",
    "    \n",
    "   #inches\n",
    "    if height == '--':\n",
    "        pass\n",
    "    else:\n",
    "        \n",
    "        height = int(height)\n",
    "        \n",
    "        inches = int(soup[0].text.strip().split(':')[1].strip().split(' ')[1].replace(\"'\", \"\").replace('\"', '').replace(\"--\", \"0\"))\n",
    "\n",
    "        height_to_inches = (height * 12) \n",
    "    \n",
    "        final_height = height_to_inches + inches\n",
    "    \n",
    "        return (inches + height_to_inches)"
   ]
  },
  {
   "cell_type": "code",
   "execution_count": 20,
   "metadata": {},
   "outputs": [],
   "source": [
    "def basic_stats_weight(soup):\n",
    "    \n",
    "    weight = soup[1].text.strip().split(':')[1].strip().replace(' lbs.', '')\n",
    "    \n",
    "    if weight == '--':\n",
    "        pass\n",
    "    else:\n",
    "        weight = int(weight)\n",
    "    return weight "
   ]
  },
  {
   "cell_type": "code",
   "execution_count": 21,
   "metadata": {},
   "outputs": [],
   "source": [
    "def basic_stats_reach(soup):\n",
    "    \n",
    "    reach = soup[2].text.strip().split(':')[1].strip().replace('\"', '')\n",
    "    \n",
    "    if reach == '--':\n",
    "        pass\n",
    "    else:\n",
    "        reach = int(reach)\n",
    "    return reach"
   ]
  },
  {
   "cell_type": "code",
   "execution_count": 22,
   "metadata": {},
   "outputs": [],
   "source": [
    "def basic_stats_stance(soup):\n",
    "    \n",
    "    stance = soup[3].text.strip().split(':')[1].strip()\n",
    "    return stance"
   ]
  },
  {
   "cell_type": "code",
   "execution_count": 23,
   "metadata": {},
   "outputs": [],
   "source": [
    "def basic_stats_DOB(soup):\n",
    "    \n",
    "    DOB = soup[4].text.strip().split(':')[1].strip()\n",
    "    return DOB"
   ]
  },
  {
   "cell_type": "code",
   "execution_count": 24,
   "metadata": {},
   "outputs": [],
   "source": [
    "fighter_names = list(map(fighter_name, basic_soup_list))\n",
    "\n",
    "fighter_records = list(map(fighter_record, basic_soup_list))\n",
    "\n",
    "fighter_heights =  list(map(basic_stats_height, stats_soups))\n",
    "\n",
    "fighter_weights = list(map(basic_stats_weight, stats_soups))\n",
    "\n",
    "fighter_reachs = list(map(basic_stats_reach, stats_soups))\n",
    "\n",
    "fighter_stances = list(map(basic_stats_stance, stats_soups))\n",
    "\n",
    "fighter_DOBs = list(map(basic_stats_DOB, stats_soups))"
   ]
  },
  {
   "cell_type": "code",
   "execution_count": 25,
   "metadata": {},
   "outputs": [],
   "source": [
    "fighter_basic_stats_df = pd.DataFrame()\n",
    "\n",
    "fighter_basic_stats_df['name'] = fighter_names\n",
    "\n",
    "fighter_basic_stats_df['record'] = fighter_records\n",
    "\n",
    "fighter_basic_stats_df['height'] = fighter_heights\n",
    "\n",
    "fighter_basic_stats_df['weight'] = fighter_weights\n",
    "\n",
    "fighter_basic_stats_df['reach'] = fighter_reachs\n",
    "\n",
    "fighter_basic_stats_df['stance'] = fighter_stances\n",
    "\n",
    "fighter_basic_stats_df['DOB'] = fighter_DOBs"
   ]
  },
  {
   "cell_type": "code",
   "execution_count": 26,
   "metadata": {},
   "outputs": [
    {
     "data": {
      "text/html": [
       "<div>\n",
       "<style scoped>\n",
       "    .dataframe tbody tr th:only-of-type {\n",
       "        vertical-align: middle;\n",
       "    }\n",
       "\n",
       "    .dataframe tbody tr th {\n",
       "        vertical-align: top;\n",
       "    }\n",
       "\n",
       "    .dataframe thead th {\n",
       "        text-align: right;\n",
       "    }\n",
       "</style>\n",
       "<table border=\"1\" class=\"dataframe\">\n",
       "  <thead>\n",
       "    <tr style=\"text-align: right;\">\n",
       "      <th></th>\n",
       "      <th>name</th>\n",
       "      <th>record</th>\n",
       "      <th>height</th>\n",
       "      <th>weight</th>\n",
       "      <th>reach</th>\n",
       "      <th>stance</th>\n",
       "      <th>DOB</th>\n",
       "    </tr>\n",
       "  </thead>\n",
       "  <tbody>\n",
       "    <tr>\n",
       "      <th>0</th>\n",
       "      <td>Jim Alers</td>\n",
       "      <td>13-3-0 (1 NC)</td>\n",
       "      <td>69.0</td>\n",
       "      <td>145</td>\n",
       "      <td>71</td>\n",
       "      <td>Orthodox</td>\n",
       "      <td>Oct 14, 1986</td>\n",
       "    </tr>\n",
       "    <tr>\n",
       "      <th>1</th>\n",
       "      <td>Mike Aina</td>\n",
       "      <td>12-6-1 (1 NC)</td>\n",
       "      <td>69.0</td>\n",
       "      <td>155</td>\n",
       "      <td>--</td>\n",
       "      <td>Orthodox</td>\n",
       "      <td>--</td>\n",
       "    </tr>\n",
       "    <tr>\n",
       "      <th>2</th>\n",
       "      <td>Alex Andrade</td>\n",
       "      <td>10-5-0</td>\n",
       "      <td>71.0</td>\n",
       "      <td>200</td>\n",
       "      <td>--</td>\n",
       "      <td>Orthodox</td>\n",
       "      <td>May 14, 1974</td>\n",
       "    </tr>\n",
       "    <tr>\n",
       "      <th>3</th>\n",
       "      <td>Juan Alcain</td>\n",
       "      <td>1-2-0</td>\n",
       "      <td>NaN</td>\n",
       "      <td>--</td>\n",
       "      <td>--</td>\n",
       "      <td></td>\n",
       "      <td>--</td>\n",
       "    </tr>\n",
       "    <tr>\n",
       "      <th>4</th>\n",
       "      <td>Jose Aldo</td>\n",
       "      <td>28-6-0</td>\n",
       "      <td>67.0</td>\n",
       "      <td>135</td>\n",
       "      <td>70</td>\n",
       "      <td>Orthodox</td>\n",
       "      <td>Sep 09, 1986</td>\n",
       "    </tr>\n",
       "  </tbody>\n",
       "</table>\n",
       "</div>"
      ],
      "text/plain": [
       "           name         record  height weight reach    stance           DOB\n",
       "0     Jim Alers  13-3-0 (1 NC)    69.0    145    71  Orthodox  Oct 14, 1986\n",
       "1     Mike Aina  12-6-1 (1 NC)    69.0    155    --  Orthodox            --\n",
       "2  Alex Andrade         10-5-0    71.0    200    --  Orthodox  May 14, 1974\n",
       "3   Juan Alcain          1-2-0     NaN     --    --                      --\n",
       "4     Jose Aldo         28-6-0    67.0    135    70  Orthodox  Sep 09, 1986"
      ]
     },
     "execution_count": 26,
     "metadata": {},
     "output_type": "execute_result"
    }
   ],
   "source": [
    "fighter_basic_stats_df.head()"
   ]
  },
  {
   "cell_type": "code",
   "execution_count": 27,
   "metadata": {},
   "outputs": [],
   "source": [
    "fighter_basic_stats_df.to_csv('fighter_basic_stats_csv', index=False)"
   ]
  },
  {
   "cell_type": "markdown",
   "metadata": {},
   "source": [
    "### Career Statistics DataFrame Construction"
   ]
  },
  {
   "cell_type": "code",
   "execution_count": 28,
   "metadata": {},
   "outputs": [],
   "source": [
    "def career_stats_soup(soup):\n",
    "    \n",
    "    career_stats_soup = soup.findChildren('li', attrs={'class': re.compile('b-list')})\n",
    "    career_stats = career_stats_soup[5:]\n",
    "    \n",
    "    return career_stats_soup"
   ]
  },
  {
   "cell_type": "code",
   "execution_count": 29,
   "metadata": {},
   "outputs": [],
   "source": [
    "def career_stats_SLpM(soup):\n",
    "\n",
    "    SLpM = soup[5].text.split(':')[1].replace('%', '').strip()\n",
    "    \n",
    "    if SLpM == '--':\n",
    "        pass\n",
    "    else:\n",
    "        SLpM = float(SLpM)\n",
    "        \n",
    "    return SLpM"
   ]
  },
  {
   "cell_type": "code",
   "execution_count": 30,
   "metadata": {},
   "outputs": [],
   "source": [
    "def career_stats_StrAcc(soup):\n",
    "    StrAcc =  soup[6].text.split(':')[1].replace('%', '').strip()\n",
    "    \n",
    "    if StrAcc == '--':\n",
    "        pass\n",
    "    else:\n",
    "        StrAcc = float(StrAcc)\n",
    "        \n",
    "    return StrAcc"
   ]
  },
  {
   "cell_type": "code",
   "execution_count": 31,
   "metadata": {},
   "outputs": [],
   "source": [
    "def career_stats_SApM(soup):\n",
    "    SApM = soup[7].text.split(':')[1].strip()\n",
    "    \n",
    "    if SApM == '--':\n",
    "        pass\n",
    "    else:\n",
    "        SApM = float(SApM)\n",
    "        \n",
    "    return SApM"
   ]
  },
  {
   "cell_type": "code",
   "execution_count": 32,
   "metadata": {},
   "outputs": [],
   "source": [
    "def career_stats_StrDef(soup):\n",
    "    StrDef = soup[8].text.split(':')[1].replace('%', '').strip()\n",
    "    \n",
    "    if StrDef == '--':\n",
    "        pass\n",
    "    else:\n",
    "        StrDef = float(StrDef)\n",
    "        \n",
    "    return StrDef"
   ]
  },
  {
   "cell_type": "code",
   "execution_count": 33,
   "metadata": {},
   "outputs": [],
   "source": [
    "def career_stats_TDAvg(soup):\n",
    "    TDAvg = soup[10].text.split(':')[1].strip()\n",
    "    \n",
    "    if TDAvg == '--':\n",
    "        pass\n",
    "    else:\n",
    "        TDAvg = float(TDAvg)\n",
    "        \n",
    "    return TDAvg"
   ]
  },
  {
   "cell_type": "code",
   "execution_count": 34,
   "metadata": {},
   "outputs": [],
   "source": [
    "def career_stats_TDAcc(soup):\n",
    "    TDAcc = soup[11].text.split(':')[1].strip().replace('%', '')\n",
    "    \n",
    "    if TDAcc == '--':\n",
    "        pass\n",
    "    else:\n",
    "        TDAcc = float(TDAcc)\n",
    "        \n",
    "    return TDAcc"
   ]
  },
  {
   "cell_type": "code",
   "execution_count": 35,
   "metadata": {},
   "outputs": [],
   "source": [
    "def career_stats_TDDef(soup):\n",
    "    TDDef = soup[12].text.split(':')[1].replace('%', '').strip()\n",
    "    \n",
    "    if TDDef == '--':\n",
    "        pass\n",
    "    else:\n",
    "        TDDef = float(TDDef)\n",
    "        \n",
    "    return TDDef"
   ]
  },
  {
   "cell_type": "code",
   "execution_count": 36,
   "metadata": {},
   "outputs": [],
   "source": [
    "def career_stats_SubAvg(soup):\n",
    "    SubAvg =  soup[13].text.split(':')[1].strip().replace('%', '')  \n",
    "    \n",
    "    if SubAvg == '--':\n",
    "        pass\n",
    "    else:\n",
    "        SubAvg = float(SubAvg)\n",
    "        \n",
    "    return SubAvg"
   ]
  },
  {
   "cell_type": "code",
   "execution_count": 37,
   "metadata": {},
   "outputs": [],
   "source": [
    "fighter_SLpMs = list(map(career_stats_SLpM, stats_soups))\n",
    "\n",
    "fighter_StrAccs = list(map(career_stats_StrAcc, stats_soups))\n",
    "\n",
    "fighter_SApMs = list(map(career_stats_SApM, stats_soups))\n",
    "\n",
    "fighter_StrDefs =list(map(career_stats_StrDef, stats_soups))\n",
    "\n",
    "fighter_TDAvgs = list(map(career_stats_TDAvg, stats_soups))\n",
    "\n",
    "fighter_TDAccs = list(map(career_stats_TDAcc, stats_soups))\n",
    "\n",
    "fighter_TDDefs = list(map(career_stats_TDDef, stats_soups))\n",
    "\n",
    "fighter_SubAvgs = list(map(career_stats_SubAvg, stats_soups))"
   ]
  },
  {
   "cell_type": "code",
   "execution_count": 38,
   "metadata": {},
   "outputs": [],
   "source": [
    "fighter_career_stats_df = pd.DataFrame()\n",
    "\n",
    "fighter_career_stats_df['name'] = fighter_names\n",
    "\n",
    "fighter_career_stats_df['SLpMs'] = fighter_SLpMs\n",
    "\n",
    "fighter_career_stats_df['StrAccs'] = fighter_StrAccs\n",
    "\n",
    "fighter_career_stats_df['SApMs'] = fighter_SApMs\n",
    "\n",
    "fighter_career_stats_df['StrDefs'] = fighter_StrDefs\n",
    "\n",
    "fighter_career_stats_df['TDAvgs'] = fighter_TDAvgs\n",
    "\n",
    "fighter_career_stats_df['TDAccs'] = fighter_TDAccs\n",
    "\n",
    "fighter_career_stats_df['TDDefs'] = fighter_TDDefs\n",
    "\n",
    "fighter_career_stats_df['SubAvgs'] = fighter_SubAvgs"
   ]
  },
  {
   "cell_type": "code",
   "execution_count": 39,
   "metadata": {},
   "outputs": [
    {
     "data": {
      "text/html": [
       "<div>\n",
       "<style scoped>\n",
       "    .dataframe tbody tr th:only-of-type {\n",
       "        vertical-align: middle;\n",
       "    }\n",
       "\n",
       "    .dataframe tbody tr th {\n",
       "        vertical-align: top;\n",
       "    }\n",
       "\n",
       "    .dataframe thead th {\n",
       "        text-align: right;\n",
       "    }\n",
       "</style>\n",
       "<table border=\"1\" class=\"dataframe\">\n",
       "  <thead>\n",
       "    <tr style=\"text-align: right;\">\n",
       "      <th></th>\n",
       "      <th>name</th>\n",
       "      <th>SLpMs</th>\n",
       "      <th>StrAccs</th>\n",
       "      <th>SApMs</th>\n",
       "      <th>StrDefs</th>\n",
       "      <th>TDAvgs</th>\n",
       "      <th>TDAccs</th>\n",
       "      <th>TDDefs</th>\n",
       "      <th>SubAvgs</th>\n",
       "    </tr>\n",
       "  </thead>\n",
       "  <tbody>\n",
       "    <tr>\n",
       "      <th>0</th>\n",
       "      <td>Jim Alers</td>\n",
       "      <td>2.90</td>\n",
       "      <td>40.0</td>\n",
       "      <td>4.38</td>\n",
       "      <td>56.0</td>\n",
       "      <td>2.26</td>\n",
       "      <td>41.0</td>\n",
       "      <td>80.0</td>\n",
       "      <td>0.3</td>\n",
       "    </tr>\n",
       "    <tr>\n",
       "      <th>1</th>\n",
       "      <td>Mike Aina</td>\n",
       "      <td>2.87</td>\n",
       "      <td>33.0</td>\n",
       "      <td>6.33</td>\n",
       "      <td>59.0</td>\n",
       "      <td>0.00</td>\n",
       "      <td>0.0</td>\n",
       "      <td>71.0</td>\n",
       "      <td>0.0</td>\n",
       "    </tr>\n",
       "    <tr>\n",
       "      <th>2</th>\n",
       "      <td>Alex Andrade</td>\n",
       "      <td>0.20</td>\n",
       "      <td>36.0</td>\n",
       "      <td>2.60</td>\n",
       "      <td>53.0</td>\n",
       "      <td>0.00</td>\n",
       "      <td>0.0</td>\n",
       "      <td>25.0</td>\n",
       "      <td>0.8</td>\n",
       "    </tr>\n",
       "    <tr>\n",
       "      <th>3</th>\n",
       "      <td>Juan Alcain</td>\n",
       "      <td>0.00</td>\n",
       "      <td>0.0</td>\n",
       "      <td>0.00</td>\n",
       "      <td>0.0</td>\n",
       "      <td>0.00</td>\n",
       "      <td>0.0</td>\n",
       "      <td>0.0</td>\n",
       "      <td>0.0</td>\n",
       "    </tr>\n",
       "    <tr>\n",
       "      <th>4</th>\n",
       "      <td>Jose Aldo</td>\n",
       "      <td>3.47</td>\n",
       "      <td>44.0</td>\n",
       "      <td>3.18</td>\n",
       "      <td>65.0</td>\n",
       "      <td>0.64</td>\n",
       "      <td>65.0</td>\n",
       "      <td>91.0</td>\n",
       "      <td>0.1</td>\n",
       "    </tr>\n",
       "  </tbody>\n",
       "</table>\n",
       "</div>"
      ],
      "text/plain": [
       "           name  SLpMs  StrAccs  SApMs  StrDefs  TDAvgs  TDAccs  TDDefs  \\\n",
       "0     Jim Alers   2.90     40.0   4.38     56.0    2.26    41.0    80.0   \n",
       "1     Mike Aina   2.87     33.0   6.33     59.0    0.00     0.0    71.0   \n",
       "2  Alex Andrade   0.20     36.0   2.60     53.0    0.00     0.0    25.0   \n",
       "3   Juan Alcain   0.00      0.0   0.00      0.0    0.00     0.0     0.0   \n",
       "4     Jose Aldo   3.47     44.0   3.18     65.0    0.64    65.0    91.0   \n",
       "\n",
       "   SubAvgs  \n",
       "0      0.3  \n",
       "1      0.0  \n",
       "2      0.8  \n",
       "3      0.0  \n",
       "4      0.1  "
      ]
     },
     "execution_count": 39,
     "metadata": {},
     "output_type": "execute_result"
    }
   ],
   "source": [
    "fighter_career_stats_df.head()"
   ]
  },
  {
   "cell_type": "code",
   "execution_count": 40,
   "metadata": {},
   "outputs": [],
   "source": [
    "fighter_career_stats_df.to_csv('fighter_career_stats_csv', index=False)"
   ]
  },
  {
   "cell_type": "markdown",
   "metadata": {},
   "source": [
    "### Constructing Fight Event and Fight List Database"
   ]
  },
  {
   "cell_type": "code",
   "execution_count": 12,
   "metadata": {},
   "outputs": [],
   "source": [
    "#creating a list of unique fighter URLs available on website\n",
    "event_url_list = []\n",
    "response = requests.get('http://www.ufcstats.com/statistics/events/completed?page=all')\n",
    "soup = BeautifulSoup(response.content, 'html.parser')\n",
    "\n",
    "#targeting URLs that contain fighter data\n",
    "events = soup.findAll('a', attrs={'href': re.compile('http:')})\n",
    "for event in events:\n",
    "    event_url_list.append(event.get('href'))\n",
    "\n",
    "#removing duplicate URLs\n",
    "event_url_list = list(set(event_url_list))"
   ]
  },
  {
   "cell_type": "code",
   "execution_count": 34,
   "metadata": {},
   "outputs": [],
   "source": [
    "#removing invalid URLs\n",
    "for url in event_url_list:\n",
    "    if 'event-details' not in url:\n",
    "        event_url_list.remove(url)\n",
    "    \n",
    "for url in event_url_list:  \n",
    "    if len(url) <  54:\n",
    "        event_url_list.remove(url)"
   ]
  },
  {
   "cell_type": "code",
   "execution_count": 14,
   "metadata": {},
   "outputs": [],
   "source": [
    "event_soups = list(map(info_generator, event_url_list))"
   ]
  },
  {
   "cell_type": "code",
   "execution_count": 36,
   "metadata": {},
   "outputs": [
    {
     "data": {
      "text/plain": [
       "(['http://www.ufcstats.com/event-details/83d0de122f2f9664',\n",
       "  'http://www.ufcstats.com/event-details/caced97768818230',\n",
       "  'http://www.ufcstats.com/event-details/4c8d6fde2dde07c4',\n",
       "  'http://www.ufcstats.com/event-details/49590e0508b2c19f',\n",
       "  'http://www.ufcstats.com/event-details/749685d24e2cac50',\n",
       "  'http://www.ufcstats.com/event-details/d5ae8074631762fc',\n",
       "  'http://www.ufcstats.com/event-details/53e533db1b8e9712',\n",
       "  'http://www.ufcstats.com/event-details/4956f60b7fa57c1a',\n",
       "  'http://www.ufcstats.com/event-details/a79bfbc01b2264d6',\n",
       "  'http://www.ufcstats.com/event-details/2eae41f61776c60f',\n",
       "  'http://www.ufcstats.com/event-details/fa8b9e6b0c2269f8',\n",
       "  'http://www.ufcstats.com/event-details/b0550072e5f0afa7',\n",
       "  'http://www.ufcstats.com/event-details/e7bc606d269896aa',\n",
       "  'http://www.ufcstats.com/event-details/2c104b7e59a72629',\n",
       "  'http://www.ufcstats.com/event-details/f341f9551ba744e2',\n",
       "  'http://www.ufcstats.com/event-details/ee457ef1e1c326c1',\n",
       "  'http://www.ufcstats.com/event-details/271fe91f4ba9d2c5',\n",
       "  'http://www.ufcstats.com/event-details/7a703c565ccaa18f',\n",
       "  'http://www.ufcstats.com/event-details/d56bb6dff2ae77eb',\n",
       "  'http://www.ufcstats.com/event-details/d0c29452d3272603',\n",
       "  'http://www.ufcstats.com/event-details/4d636c3aa1105950',\n",
       "  'http://www.ufcstats.com/event-details/e8efeb9cf33b1941',\n",
       "  'http://www.ufcstats.com/event-details/1c061eb6e29eaa0a',\n",
       "  'http://www.ufcstats.com/event-details/312f47c3d2f83ffa',\n",
       "  'http://www.ufcstats.com/event-details/6c9383ffab2725a5',\n",
       "  'http://www.ufcstats.com/event-details/a4dd5c9a75763295',\n",
       "  'http://www.ufcstats.com/event-details/c7e9d15cfce52f1d',\n",
       "  'http://www.ufcstats.com/event-details/997b4f52f76a0b53',\n",
       "  'http://www.ufcstats.com/event-details/c0231720fe516994',\n",
       "  'http://www.ufcstats.com/event-details/946f341df6472ee0',\n",
       "  'http://www.ufcstats.com/event-details/13e62d766b709aa6',\n",
       "  'http://www.ufcstats.com/event-details/fc9a9559a05f2704',\n",
       "  'http://www.ufcstats.com/event-details/2ce6541127b0e232',\n",
       "  'http://www.ufcstats.com/event-details/c1684f00c626f4c0',\n",
       "  'http://www.ufcstats.com/event-details/df85d6ec3493d120',\n",
       "  'http://www.ufcstats.com/event-details/2549d63da9c456cb',\n",
       "  'http://www.ufcstats.com/event-details/4985113c0928aa62',\n",
       "  'http://www.ufcstats.com/event-details/c046100aea0dba9a',\n",
       "  'http://www.ufcstats.com/event-details/4dc496aa0cfc0d95',\n",
       "  'http://www.ufcstats.com/event-details/91720876db0ee468',\n",
       "  'http://www.ufcstats.com/event-details/b3fb8d2293e17a59',\n",
       "  'http://www.ufcstats.com/event-details/3c48019bc387b80c',\n",
       "  'http://www.ufcstats.com/event-details/194fc025f9355db6',\n",
       "  'http://www.ufcstats.com/event-details/70167689d6a01793',\n",
       "  'http://www.ufcstats.com/event-details/f9c7fe2682af3802',\n",
       "  'http://www.ufcstats.com/event-details/47b7e4e60813b7b2',\n",
       "  'http://www.ufcstats.com/event-details/f1b2a4365799c48b',\n",
       "  'http://www.ufcstats.com/event-details/4604ab1de9058474',\n",
       "  'http://www.ufcstats.com/event-details/0313bf497de9c470',\n",
       "  'http://www.ufcstats.com/event-details/4f7e290e71d60f87',\n",
       "  'http://www.ufcstats.com/event-details/0e9869d712e81f8f',\n",
       "  'http://www.ufcstats.com/event-details/577ec7e108b94be3',\n",
       "  'http://www.ufcstats.com/event-details/ee5df903f80c6816',\n",
       "  'http://www.ufcstats.com/event-details/5bd533d50c8e7b8a',\n",
       "  'http://www.ufcstats.com/event-details/c32eab6c2119e989',\n",
       "  'http://www.ufcstats.com/event-details/3ae10ac4df3df05c',\n",
       "  'http://www.ufcstats.com/event-details/0b5b6876c2a4723f',\n",
       "  'http://www.ufcstats.com/event-details/d1e6a6536ee62517',\n",
       "  'http://www.ufcstats.com/event-details/0c3838c8f7c620c2',\n",
       "  'http://www.ufcstats.com/event-details/35dc6220b113b7ec',\n",
       "  'http://www.ufcstats.com/event-details/9bcfb40dbcd50568',\n",
       "  'http://www.ufcstats.com/event-details/5da4e8dc02e50ac0',\n",
       "  'http://www.ufcstats.com/event-details/cbc071cb20ea59c7',\n",
       "  'http://www.ufcstats.com/event-details/cd42bbe8887bba90',\n",
       "  'http://www.ufcstats.com/event-details/119ebea97e914dcf',\n",
       "  'http://www.ufcstats.com/event-details/c6e6926a81adcd00',\n",
       "  'http://www.ufcstats.com/event-details/d856a0080ac09ed7',\n",
       "  'http://www.ufcstats.com/event-details/a54a35a670d8e852',\n",
       "  'http://www.ufcstats.com/event-details/c3c23c99477c041b',\n",
       "  'http://www.ufcstats.com/event-details/4565d435005319c0',\n",
       "  'http://www.ufcstats.com/event-details/ad4e9055bf8cd04d',\n",
       "  'http://www.ufcstats.com/event-details/5ca158b1cc9cb242',\n",
       "  'http://www.ufcstats.com/event-details/90e7447d8b7f3f35',\n",
       "  'http://www.ufcstats.com/event-details/a196332ee4aa8a82',\n",
       "  'http://www.ufcstats.com/event-details/e7bfdb5e0112891e',\n",
       "  'http://www.ufcstats.com/event-details/b71667c778b6d9e5',\n",
       "  'http://www.ufcstats.com/event-details/a6a9ab5a824e8f66',\n",
       "  'http://www.ufcstats.com/event-details/ce47f49e5c386a9c',\n",
       "  'http://www.ufcstats.com/event-details/59851163aaf1aed8',\n",
       "  'http://www.ufcstats.com/event-details/0577808d22dfe79c',\n",
       "  'http://www.ufcstats.com/event-details/a24e080000fa7a35',\n",
       "  'http://www.ufcstats.com/event-details/02fc8f50f56eb307',\n",
       "  'http://www.ufcstats.com/event-details/6291ac0a3726732f',\n",
       "  'http://www.ufcstats.com/event-details/aac5ac38148f0528',\n",
       "  'http://www.ufcstats.com/event-details/83c6c3e0f8bde8ee',\n",
       "  'http://www.ufcstats.com/event-details/03688dc3c3af3ac1',\n",
       "  'http://www.ufcstats.com/event-details/f70144caea5c4c80',\n",
       "  'http://www.ufcstats.com/event-details/ad99fa5325519169',\n",
       "  'http://www.ufcstats.com/event-details/898337ef520fe4d3',\n",
       "  'http://www.ufcstats.com/event-details/cc5834a495d1ea08',\n",
       "  'http://www.ufcstats.com/event-details/480b702debcb5433',\n",
       "  'http://www.ufcstats.com/event-details/2a542ee8a8b83559',\n",
       "  'http://www.ufcstats.com/event-details/b16a7e6a627e9789',\n",
       "  'http://www.ufcstats.com/event-details/179f1948dc234f1f',\n",
       "  'http://www.ufcstats.com/event-details/c6da1c24fe473418',\n",
       "  'http://www.ufcstats.com/event-details/c80095f6092271a7',\n",
       "  'http://www.ufcstats.com/event-details/030f08370fd1c2bb',\n",
       "  'http://www.ufcstats.com/event-details/852454c572675334',\n",
       "  'http://www.ufcstats.com/event-details/0cf935519d439ba6',\n",
       "  'http://www.ufcstats.com/event-details/821cd80aab70d5f9',\n",
       "  'http://www.ufcstats.com/event-details/ed069a95aaaf4f56',\n",
       "  'http://www.ufcstats.com/event-details/f9f07bb5a43535ed',\n",
       "  'http://www.ufcstats.com/event-details/30a09e43f15f1d75',\n",
       "  'http://www.ufcstats.com/event-details/9ccdd2ce45903f34',\n",
       "  'http://www.ufcstats.com/event-details/2a74bbba57058f12',\n",
       "  'http://www.ufcstats.com/event-details/c4b6099f0d25f75e',\n",
       "  'http://www.ufcstats.com/event-details/cf1a88371c8cb690',\n",
       "  'http://www.ufcstats.com/event-details/82f5c81f4e3c3eb5',\n",
       "  'http://www.ufcstats.com/event-details/33b2f68ef95252e0',\n",
       "  'http://www.ufcstats.com/event-details/1ef0eae31904e534',\n",
       "  'http://www.ufcstats.com/event-details/0ee783aa00e468f0',\n",
       "  'http://www.ufcstats.com/event-details/46f11d15c0134fe3',\n",
       "  'http://www.ufcstats.com/event-details/445a98acb8985970',\n",
       "  'http://www.ufcstats.com/event-details/9649d75defe0dedb',\n",
       "  'http://www.ufcstats.com/event-details/73e09f837f3b5ecc',\n",
       "  'http://www.ufcstats.com/event-details/2b4faacc16d66898',\n",
       "  'http://www.ufcstats.com/event-details/7865707fd684d77b',\n",
       "  'http://www.ufcstats.com/event-details/140745cbbcb023ac',\n",
       "  'http://www.ufcstats.com/event-details/a314687f372b2cec',\n",
       "  'http://www.ufcstats.com/event-details/054defd5420a551f',\n",
       "  'http://www.ufcstats.com/event-details/3c241737a6069b9f',\n",
       "  'http://www.ufcstats.com/event-details/e0b74df14f52cd15',\n",
       "  'http://www.ufcstats.com/event-details/48d1f690b763934c',\n",
       "  'http://www.ufcstats.com/event-details/232c582f29f8f65e',\n",
       "  'http://www.ufcstats.com/event-details/1d147d4163a6989b',\n",
       "  'http://www.ufcstats.com/event-details/4a01dc8376736ef5',\n",
       "  'http://www.ufcstats.com/event-details/2299605af59fd309',\n",
       "  'http://www.ufcstats.com/event-details/de25520d54eab12d',\n",
       "  'http://www.ufcstats.com/event-details/ac5f67109accb482',\n",
       "  'http://www.ufcstats.com/event-details/02177caefe7c07d4',\n",
       "  'http://www.ufcstats.com/event-details/9ca265dfe8323db3',\n",
       "  'http://www.ufcstats.com/event-details/96087e90d900f0ef',\n",
       "  'http://www.ufcstats.com/event-details/58bc81376286b3d3',\n",
       "  'http://www.ufcstats.com/event-details/84283233ec42be5f',\n",
       "  'http://www.ufcstats.com/event-details/baf942f4bcb09894',\n",
       "  'http://www.ufcstats.com/event-details/9b5b5a75523728f3',\n",
       "  'http://www.ufcstats.com/event-details/33a331684283900f',\n",
       "  'http://www.ufcstats.com/event-details/4f2fcbefb668689d',\n",
       "  'http://www.ufcstats.com/event-details/601cf40c09090853',\n",
       "  'http://www.ufcstats.com/event-details/0a97691039c4bbfb',\n",
       "  'http://www.ufcstats.com/event-details/efaf544314bb5c2e',\n",
       "  'http://www.ufcstats.com/event-details/28f3c2258a1d8874',\n",
       "  'http://www.ufcstats.com/event-details/30cd319d39ee689b',\n",
       "  'http://www.ufcstats.com/event-details/bba678d312590087',\n",
       "  'http://www.ufcstats.com/event-details/0941df56f6ac954b',\n",
       "  'http://www.ufcstats.com/event-details/99bf06f20491cb54',\n",
       "  'http://www.ufcstats.com/event-details/b4bc2e3353a770b5',\n",
       "  'http://www.ufcstats.com/event-details/aa3153a9941b4d44',\n",
       "  'http://www.ufcstats.com/event-details/ad32471f01e7b1a5',\n",
       "  'http://www.ufcstats.com/event-details/132f860d02953f4c',\n",
       "  'http://www.ufcstats.com/event-details/5df17b3620145578',\n",
       "  'http://www.ufcstats.com/event-details/a58114c6dd0add64',\n",
       "  'http://www.ufcstats.com/event-details/3144121470023e9a',\n",
       "  'http://www.ufcstats.com/event-details/ebc1f40e00e0c481',\n",
       "  'http://www.ufcstats.com/event-details/1a1a4d7a29041d77',\n",
       "  'http://www.ufcstats.com/event-details/68c6cd5287b473a7',\n",
       "  'http://www.ufcstats.com/event-details/60884f31ead1609c',\n",
       "  'http://www.ufcstats.com/event-details/b757c73f443d4fca',\n",
       "  'http://www.ufcstats.com/event-details/a4bf17bd3ba3423b',\n",
       "  'http://www.ufcstats.com/event-details/79ded75550efc139',\n",
       "  'http://www.ufcstats.com/event-details/15edcf67ccf5be84',\n",
       "  'http://www.ufcstats.com/event-details/dc950d59dc590aca',\n",
       "  'http://www.ufcstats.com/event-details/df05aa15b2d66f57',\n",
       "  'http://www.ufcstats.com/event-details/8377c5572cb356f3',\n",
       "  'http://www.ufcstats.com/event-details/353de740bb6c7e75',\n",
       "  'http://www.ufcstats.com/event-details/db1f2ed63b54b9a7',\n",
       "  'http://www.ufcstats.com/event-details/279093302a6f44b3',\n",
       "  'http://www.ufcstats.com/event-details/c0342805a1948cbb',\n",
       "  'http://www.ufcstats.com/event-details/bc7cf284c1c2f16e',\n",
       "  'http://www.ufcstats.com/event-details/5df10509264586e5',\n",
       "  'http://www.ufcstats.com/event-details/6420efac0578988b',\n",
       "  'http://www.ufcstats.com/event-details/74fefd43f073cd2f',\n",
       "  'http://www.ufcstats.com/event-details/d86e913c548c07c2',\n",
       "  'http://www.ufcstats.com/event-details/f12f979b657ab876',\n",
       "  'http://www.ufcstats.com/event-details/a25b71fe5e31fa97',\n",
       "  'http://www.ufcstats.com/event-details/1dab0d1d81dd06db',\n",
       "  'http://www.ufcstats.com/event-details/d1d20e651e6cbc02',\n",
       "  'http://www.ufcstats.com/event-details/2db7fa8db6bc9632',\n",
       "  'http://www.ufcstats.com/event-details/7cf20446453f852b',\n",
       "  'http://www.ufcstats.com/event-details/ff4c3ab594c7fac3',\n",
       "  'http://www.ufcstats.com/event-details/2a6f8136da1e52c0',\n",
       "  'http://www.ufcstats.com/event-details/91d73ee59347ac16',\n",
       "  'http://www.ufcstats.com/event-details/f9aa6376ae16bfb4',\n",
       "  'http://www.ufcstats.com/event-details/3ba3b5cc94498437',\n",
       "  'http://www.ufcstats.com/event-details/2dea80c069847321',\n",
       "  'http://www.ufcstats.com/event-details/ea398c802d9998ee',\n",
       "  'http://www.ufcstats.com/event-details/1a49e0670dfaca31',\n",
       "  'http://www.ufcstats.com/event-details/a9c45a8b21eabadc',\n",
       "  'http://www.ufcstats.com/event-details/319fa1bd3176bded',\n",
       "  'http://www.ufcstats.com/event-details/a3244e3238541482',\n",
       "  'http://www.ufcstats.com/event-details/380e8b023290d091',\n",
       "  'http://www.ufcstats.com/event-details/de99da2c0d18d34a',\n",
       "  'http://www.ufcstats.com/event-details/18524b46c570730b',\n",
       "  'http://www.ufcstats.com/event-details/c7ac79839e86ce33',\n",
       "  'http://www.ufcstats.com/event-details/0ec821423baa26bd',\n",
       "  'http://www.ufcstats.com/event-details/304fcd812f12c589',\n",
       "  'http://www.ufcstats.com/event-details/b5882371e2a3900d',\n",
       "  'http://www.ufcstats.com/event-details/3bb030257966b022',\n",
       "  'http://www.ufcstats.com/event-details/108afe61a26bcbf4',\n",
       "  'http://www.ufcstats.com/event-details/07a18ae55dfc3cd9',\n",
       "  'http://www.ufcstats.com/event-details/53278852bcd91e11',\n",
       "  'http://www.ufcstats.com/event-details/aae0897825336b1a',\n",
       "  'http://www.ufcstats.com/event-details/3be081c29bf734d9',\n",
       "  'http://www.ufcstats.com/event-details/aa79d5399571068e',\n",
       "  'http://www.ufcstats.com/event-details/a220be6d41d6f97d',\n",
       "  'http://www.ufcstats.com/event-details/243b07fc65ccbb16',\n",
       "  'http://www.ufcstats.com/event-details/1f5f75658551f2d3',\n",
       "  'http://www.ufcstats.com/event-details/aee8eecfc4bfb1e7',\n",
       "  'http://www.ufcstats.com/event-details/6a0b80a24f22e152',\n",
       "  'http://www.ufcstats.com/event-details/84a067c46306a737',\n",
       "  'http://www.ufcstats.com/event-details/13b2f59210dda9cc',\n",
       "  'http://www.ufcstats.com/event-details/b361180739bed4b0',\n",
       "  'http://www.ufcstats.com/event-details/e5d03e4d966126bd',\n",
       "  'http://www.ufcstats.com/event-details/32a3025d5db456ae',\n",
       "  'http://www.ufcstats.com/event-details/7929be8290289a47',\n",
       "  'http://www.ufcstats.com/event-details/19ffeb5e3fffd6d5',\n",
       "  'http://www.ufcstats.com/event-details/dd39f1ca787a3d9d',\n",
       "  'http://www.ufcstats.com/event-details/3cf68c1d17f66af7',\n",
       "  'http://www.ufcstats.com/event-details/23ab42947c1990e3',\n",
       "  'http://www.ufcstats.com/event-details/686cccbf1a4de453',\n",
       "  'http://www.ufcstats.com/event-details/669a3cb6e394f515',\n",
       "  'http://www.ufcstats.com/event-details/c6becb722706c7d8',\n",
       "  'http://www.ufcstats.com/event-details/04d5718ed2661e8c',\n",
       "  'http://www.ufcstats.com/event-details/86e388ed20761ad9',\n",
       "  'http://www.ufcstats.com/event-details/65ddc8a9ac4e8531',\n",
       "  'http://www.ufcstats.com/event-details/7dcf06c1967801c1',\n",
       "  'http://www.ufcstats.com/event-details/354808cf38d9d73c',\n",
       "  'http://www.ufcstats.com/event-details/5e7a28f20927d64a',\n",
       "  'http://www.ufcstats.com/event-details/59aaf2730b84698a',\n",
       "  'http://www.ufcstats.com/event-details/15515e797aedc137',\n",
       "  'http://www.ufcstats.com/event-details/d29b5c4f22c6357d',\n",
       "  'http://www.ufcstats.com/event-details/d7907a9a968e4d29',\n",
       "  'http://www.ufcstats.com/event-details/222d6b547de2e035',\n",
       "  'http://www.ufcstats.com/event-details/e7e970d508529bf3',\n",
       "  'http://www.ufcstats.com/event-details/a26198ba5093147e',\n",
       "  'http://www.ufcstats.com/event-details/1979c80150f630c4',\n",
       "  'http://www.ufcstats.com/event-details/1c5879330d42255f',\n",
       "  'http://www.ufcstats.com/event-details/39c568f8c579913e',\n",
       "  'http://www.ufcstats.com/event-details/351264d11286d09a',\n",
       "  'http://www.ufcstats.com/event-details/a71feb7ea7592a71',\n",
       "  'http://www.ufcstats.com/event-details/a54fc2d6fc224dc3',\n",
       "  'http://www.ufcstats.com/event-details/43563a32c3f10e95',\n",
       "  'http://www.ufcstats.com/event-details/abcf7e55a0a9ed89',\n",
       "  'http://www.ufcstats.com/event-details/f5990c11974d8e9c',\n",
       "  'http://www.ufcstats.com/event-details/20e403a1acfef130',\n",
       "  'http://www.ufcstats.com/event-details/51b0bb73a1da34bc',\n",
       "  'http://www.ufcstats.com/event-details/14b9e0f2679a2205',\n",
       "  'http://www.ufcstats.com/event-details/8d04923f2db59b7f',\n",
       "  'http://www.ufcstats.com/event-details/770b9d4813c25902',\n",
       "  'http://www.ufcstats.com/event-details/df2cf66d8c0123db',\n",
       "  'http://www.ufcstats.com/event-details/8215e4fe24e8e81b',\n",
       "  'http://www.ufcstats.com/event-details/2d5fbe2103f97053',\n",
       "  'http://www.ufcstats.com/event-details/30e8b4505f5ccf92',\n",
       "  'http://www.ufcstats.com/event-details/a7a79b8efbceaaac',\n",
       "  'http://www.ufcstats.com/event-details/fd87b1bbfcde9d5e',\n",
       "  'http://www.ufcstats.com/event-details/3d481aa374c954a1',\n",
       "  'http://www.ufcstats.com/event-details/bf12aca029bfcc47',\n",
       "  'http://www.ufcstats.com/event-details/8a59d346dc976a10',\n",
       "  'http://www.ufcstats.com/event-details/706404da0775dcbc',\n",
       "  'http://www.ufcstats.com/event-details/6ceff86fae4f6b3b',\n",
       "  'http://www.ufcstats.com/event-details/53adf5b845d91e4a',\n",
       "  'http://www.ufcstats.com/event-details/3795fca327cbcf23',\n",
       "  'http://www.ufcstats.com/event-details/cb6783c39c01d896',\n",
       "  'http://www.ufcstats.com/event-details/073eee4e62f0d988',\n",
       "  'http://www.ufcstats.com/event-details/bd4389b71fdc0ce2',\n",
       "  'http://www.ufcstats.com/event-details/04076783ca83d6ae',\n",
       "  'http://www.ufcstats.com/event-details/43612456979e5d5e',\n",
       "  'http://www.ufcstats.com/event-details/f717b6002486f73f',\n",
       "  'http://www.ufcstats.com/event-details/a7724f51e32e763e',\n",
       "  'http://www.ufcstats.com/event-details/4834ff149dc9542a',\n",
       "  'http://www.ufcstats.com/event-details/6cbb7661c3258617',\n",
       "  'http://www.ufcstats.com/event-details/b26d3e3746fb4024',\n",
       "  'http://www.ufcstats.com/event-details/21b8a0f5c231096f',\n",
       "  'http://www.ufcstats.com/event-details/da6dfd09cca1d705',\n",
       "  'http://www.ufcstats.com/event-details/9de7c97e1c0d7927',\n",
       "  'http://www.ufcstats.com/event-details/3da19339ee7051d5',\n",
       "  'http://www.ufcstats.com/event-details/8d49545dadf9b919',\n",
       "  'http://www.ufcstats.com/event-details/b63e800c18e011b5',\n",
       "  'http://www.ufcstats.com/event-details/bc7f7f0ba3db74d2',\n",
       "  'http://www.ufcstats.com/event-details/c0c1bc0766df4c00',\n",
       "  'http://www.ufcstats.com/event-details/21f2974fd08085e3',\n",
       "  'http://www.ufcstats.com/event-details/a8d521d913df4e31',\n",
       "  'http://www.ufcstats.com/event-details/d6b68eaf4b68b160',\n",
       "  'http://www.ufcstats.com/event-details/53f02bbc41d99432',\n",
       "  'http://www.ufcstats.com/event-details/1507214bbc7a79e2',\n",
       "  'http://www.ufcstats.com/event-details/b45d6b73f4ca4467',\n",
       "  'http://www.ufcstats.com/event-details/4b2390cfaceb91d8',\n",
       "  'http://www.ufcstats.com/event-details/5de61b03868035ff',\n",
       "  'http://www.ufcstats.com/event-details/d512d9f204059f57',\n",
       "  'http://www.ufcstats.com/event-details/32541eb5d12668b4',\n",
       "  'http://www.ufcstats.com/event-details/7d21de9c6d7c98b2',\n",
       "  'http://www.ufcstats.com/event-details/63b65af1c5cb02cb',\n",
       "  'http://www.ufcstats.com/event-details/620be7e0712d431b',\n",
       "  'http://www.ufcstats.com/event-details/8fd1f27e86661ede',\n",
       "  'http://www.ufcstats.com/event-details/94a5aaf573f780ad',\n",
       "  'http://www.ufcstats.com/event-details/de3ed2e152520c8d',\n",
       "  'http://www.ufcstats.com/event-details/3ed134d85dfbd7b4',\n",
       "  'http://www.ufcstats.com/event-details/08ae5cd9aef7ddd3',\n",
       "  'http://www.ufcstats.com/event-details/7269329bd87eb479',\n",
       "  'http://www.ufcstats.com/event-details/597db668b01c442c',\n",
       "  'http://www.ufcstats.com/event-details/c670aa48827d6be6',\n",
       "  'http://www.ufcstats.com/event-details/eae4aec1a5a8ff01',\n",
       "  'http://www.ufcstats.com/event-details/72cbe507644a587c',\n",
       "  'http://www.ufcstats.com/event-details/56f4b81ec4db61af',\n",
       "  'http://www.ufcstats.com/event-details/d1152823307d7e7c',\n",
       "  'http://www.ufcstats.com/event-details/0aa92558424ced9e',\n",
       "  'http://www.ufcstats.com/event-details/46effbd1135423c5',\n",
       "  'http://www.ufcstats.com/event-details/a7b48e18ca27795d',\n",
       "  'http://www.ufcstats.com/event-details/c75b99887c8c3f5a',\n",
       "  'http://www.ufcstats.com/event-details/d41937647eae9a34',\n",
       "  'http://www.ufcstats.com/event-details/23bd78c3f89bdb54',\n",
       "  'http://www.ufcstats.com/event-details/dfdd0c5dd0d4bc23',\n",
       "  'http://www.ufcstats.com/event-details/35585d970300d45a',\n",
       "  'http://www.ufcstats.com/event-details/2f8f3c69522db931',\n",
       "  'http://www.ufcstats.com/event-details/a8fa0c4e95512806',\n",
       "  'http://www.ufcstats.com/event-details/d181689653115b6a',\n",
       "  'http://www.ufcstats.com/event-details/ce783bf73b5131f9',\n",
       "  'http://www.ufcstats.com/event-details/e96d8538d3f9d0ed',\n",
       "  'http://www.ufcstats.com/event-details/2efbc83a6b9b7f86',\n",
       "  'http://www.ufcstats.com/event-details/a6c2f5381d575920',\n",
       "  'http://www.ufcstats.com/event-details/20bd6c3e03c46ee6',\n",
       "  'http://www.ufcstats.com/event-details/4f732e58ed907eff',\n",
       "  'http://www.ufcstats.com/event-details/e780ccc79a209985',\n",
       "  'http://www.ufcstats.com/event-details/f62850b3c7480db9',\n",
       "  'http://www.ufcstats.com/event-details/cedfdf8d423d500c',\n",
       "  'http://www.ufcstats.com/event-details/49e7e05f902479ca',\n",
       "  'http://www.ufcstats.com/event-details/7d5b12de1625984e',\n",
       "  'http://www.ufcstats.com/event-details/5898357a45a73674',\n",
       "  'http://www.ufcstats.com/event-details/6d7886b094b471ac',\n",
       "  'http://www.ufcstats.com/event-details/49efbdc6c9f650c4',\n",
       "  'http://www.ufcstats.com/event-details/45a2ba3ef82b9700',\n",
       "  'http://www.ufcstats.com/event-details/83fd97284f4bb4a4',\n",
       "  'http://www.ufcstats.com/event-details/e7ec11096eac0282',\n",
       "  'http://www.ufcstats.com/event-details/0c1773639c795466',\n",
       "  'http://www.ufcstats.com/event-details/dfb965c9824425db',\n",
       "  'http://www.ufcstats.com/event-details/6e3282d57d2467a0',\n",
       "  'http://www.ufcstats.com/event-details/9a967e8e43dcef63',\n",
       "  'http://www.ufcstats.com/event-details/f3155a94ca420126',\n",
       "  'http://www.ufcstats.com/event-details/1ffc38f67785797b',\n",
       "  'http://www.ufcstats.com/event-details/05fbfe628658c538',\n",
       "  'http://www.ufcstats.com/event-details/6ca68b636fbc1f18',\n",
       "  'http://www.ufcstats.com/event-details/7c0847d3854a95f2',\n",
       "  'http://www.ufcstats.com/event-details/33e33d51f289d2a1',\n",
       "  'http://www.ufcstats.com/event-details/5f8e00c27b7e7410',\n",
       "  'http://www.ufcstats.com/event-details/91181b29be041f1c',\n",
       "  'http://www.ufcstats.com/event-details/85d905f7c4f5a1af',\n",
       "  'http://www.ufcstats.com/event-details/4908c5ee68a50ee5',\n",
       "  'http://www.ufcstats.com/event-details/aa5b4eff51bdc7d1',\n",
       "  'http://www.ufcstats.com/event-details/7b9aa973e5c04624',\n",
       "  'http://www.ufcstats.com/event-details/31ceaf0e670c1578',\n",
       "  'http://www.ufcstats.com/event-details/4679a38cced7c64a',\n",
       "  'http://www.ufcstats.com/event-details/063649e21bc9d6d5',\n",
       "  'http://www.ufcstats.com/event-details/1dc56b59cb28425d',\n",
       "  'http://www.ufcstats.com/event-details/eaa0a728cc91ef60',\n",
       "  'http://www.ufcstats.com/event-details/f4a031ac205ac580',\n",
       "  'http://www.ufcstats.com/event-details/5d7c18191b8aa432',\n",
       "  'http://www.ufcstats.com/event-details/1c3f5e85b59ec710',\n",
       "  'http://www.ufcstats.com/event-details/5345f86680378fc1',\n",
       "  'http://www.ufcstats.com/event-details/1652f3213655b935',\n",
       "  'http://www.ufcstats.com/event-details/3f24c96753dbd9f9',\n",
       "  'http://www.ufcstats.com/event-details/46c8ec317aff28ac',\n",
       "  'http://www.ufcstats.com/event-details/b9e871af730f826c',\n",
       "  'http://www.ufcstats.com/event-details/4887e5bc4dbb73ff',\n",
       "  'http://www.ufcstats.com/event-details/9fd1f08dd4aec14a',\n",
       "  'http://www.ufcstats.com/event-details/dd992d569aaebee6',\n",
       "  'http://www.ufcstats.com/event-details/429e7d3725852ce9',\n",
       "  'http://www.ufcstats.com/event-details/1c7cce2f5c17160d',\n",
       "  'http://www.ufcstats.com/event-details/8a028648f3f0761d',\n",
       "  'http://www.ufcstats.com/event-details/a390eb8a9b2df298',\n",
       "  'http://www.ufcstats.com/event-details/371a1c91b24dec2b',\n",
       "  'http://www.ufcstats.com/event-details/09c44b317c98bf96',\n",
       "  'http://www.ufcstats.com/event-details/13c4313ed0f744f3',\n",
       "  'http://www.ufcstats.com/event-details/a72d260b436924c4',\n",
       "  'http://www.ufcstats.com/event-details/ff9578cdbfabd323',\n",
       "  'http://www.ufcstats.com/event-details/ef7fa30364cbe7f2',\n",
       "  'http://www.ufcstats.com/event-details/2b1587a3376ab743',\n",
       "  'http://www.ufcstats.com/event-details/7139cd2ae4bf6a29',\n",
       "  'http://www.ufcstats.com/event-details/6546af7ab545b90c',\n",
       "  'http://www.ufcstats.com/event-details/5d7bdab5e03e3216',\n",
       "  'http://www.ufcstats.com/event-details/73ef22f25d0f70e2',\n",
       "  'http://www.ufcstats.com/event-details/6a8a06b542e1516d',\n",
       "  'http://www.ufcstats.com/event-details/c61f66d8c3fd5f07',\n",
       "  'http://www.ufcstats.com/event-details/9e30f69cc0869301',\n",
       "  'http://www.ufcstats.com/event-details/1fcfc3709fe58151',\n",
       "  'http://www.ufcstats.com/event-details/daa89f01e1c0f42a',\n",
       "  'http://www.ufcstats.com/event-details/155a02a8b4311057',\n",
       "  'http://www.ufcstats.com/event-details/a8ea84cbe1655f0a',\n",
       "  'http://www.ufcstats.com/event-details/2f3f12002564bb55',\n",
       "  'http://www.ufcstats.com/event-details/e06fd1260ac865a7',\n",
       "  'http://www.ufcstats.com/event-details/e31502e3f79d00c5',\n",
       "  'http://www.ufcstats.com/event-details/1bf49bf829964144',\n",
       "  'http://www.ufcstats.com/event-details/81ca2c245b19b3c5',\n",
       "  'http://www.ufcstats.com/event-details/bcd124bcd3d5be46',\n",
       "  'http://www.ufcstats.com/event-details/c9bbf1a0285a8076',\n",
       "  'http://www.ufcstats.com/event-details/2dc7f1762dc0a7ef',\n",
       "  'http://www.ufcstats.com/event-details/e5c38954c006f15c',\n",
       "  'http://www.ufcstats.com/event-details/865aa315ea62c511',\n",
       "  'http://www.ufcstats.com/event-details/4512e46543b960ad',\n",
       "  'http://www.ufcstats.com/event-details/80eacd4da0617c57',\n",
       "  'http://www.ufcstats.com/event-details/602bb270f2bdbf02',\n",
       "  'http://www.ufcstats.com/event-details/3fed746acfd026dd',\n",
       "  'http://www.ufcstats.com/event-details/29f935654825331b',\n",
       "  'http://www.ufcstats.com/event-details/44f9c777fed7ca03',\n",
       "  'http://www.ufcstats.com/event-details/4c12aa7ca246e7a4',\n",
       "  'http://www.ufcstats.com/event-details/16d09e800ad7ec79',\n",
       "  'http://www.ufcstats.com/event-details/8dc4f34c1f50d00d',\n",
       "  'http://www.ufcstats.com/event-details/6b8f28da9a483049',\n",
       "  'http://www.ufcstats.com/event-details/e5c9de15bb58b1c6',\n",
       "  'http://www.ufcstats.com/event-details/f1f9e48a0d150757',\n",
       "  'http://www.ufcstats.com/event-details/fbbde91f7bc2d3c5',\n",
       "  'http://www.ufcstats.com/event-details/20fbff570c678e1c',\n",
       "  'http://www.ufcstats.com/event-details/6083f497c22cc075',\n",
       "  'http://www.ufcstats.com/event-details/154a6b3ffae264cd',\n",
       "  'http://www.ufcstats.com/event-details/980b4e712489098e',\n",
       "  'http://www.ufcstats.com/event-details/d632d156c0549e07',\n",
       "  'http://www.ufcstats.com/event-details/ea0ad155451ed1f5',\n",
       "  'http://www.ufcstats.com/event-details/df5a77121ba84a5d',\n",
       "  'http://www.ufcstats.com/event-details/18968f97ad34f15c',\n",
       "  'http://www.ufcstats.com/event-details/2ee09ec2a0695eb9',\n",
       "  'http://www.ufcstats.com/event-details/896c322f56b8be5a',\n",
       "  'http://www.ufcstats.com/event-details/a2b06ca02bca14c0',\n",
       "  'http://www.ufcstats.com/event-details/fd7acf42bd6e7e95',\n",
       "  'http://www.ufcstats.com/event-details/ac9521250dc1a14c',\n",
       "  'http://www.ufcstats.com/event-details/06dc1a58663579d2',\n",
       "  'http://www.ufcstats.com/event-details/d4a12dfa4067742f',\n",
       "  'http://www.ufcstats.com/event-details/c912f676692c353a',\n",
       "  'http://www.ufcstats.com/event-details/c0ed7b208197e8de',\n",
       "  'http://www.ufcstats.com/event-details/1e13936d708bcff7',\n",
       "  'http://www.ufcstats.com/event-details/c6a33ff198aaaeeb',\n",
       "  'http://www.ufcstats.com/event-details/e670f8cc2969a789',\n",
       "  'http://www.ufcstats.com/event-details/67ec58d7cf599835',\n",
       "  'http://www.ufcstats.com/event-details/2e04a3b4a2011b97',\n",
       "  'http://www.ufcstats.com/event-details/a421465acbe59c77',\n",
       "  'http://www.ufcstats.com/event-details/0db70ca89e1c7374',\n",
       "  'http://www.ufcstats.com/event-details/42c96a9c4802e2e1',\n",
       "  'http://www.ufcstats.com/event-details/e18012194473e8b0',\n",
       "  'http://www.ufcstats.com/event-details/5330fe7e4c3af81c',\n",
       "  'http://www.ufcstats.com/event-details/a5c53b3ddb31cc7d',\n",
       "  'http://www.ufcstats.com/event-details/cfb65863d5099327',\n",
       "  'http://www.ufcstats.com/event-details/36877f0e62b25b96',\n",
       "  'http://www.ufcstats.com/event-details/03da33a102d9a45f',\n",
       "  'http://www.ufcstats.com/event-details/bfc2fc38a0e20211',\n",
       "  'http://www.ufcstats.com/event-details/d2b1c1317a39f6c6',\n",
       "  'http://www.ufcstats.com/event-details/d4da8995fc91e7ef',\n",
       "  'http://www.ufcstats.com/event-details/4e5bbc4566049cbf',\n",
       "  'http://www.ufcstats.com/event-details/d6455cb4bee503ce',\n",
       "  'http://www.ufcstats.com/event-details/ad047e3073a775f3',\n",
       "  'http://www.ufcstats.com/event-details/fa534853eb195270',\n",
       "  'http://www.ufcstats.com/event-details/e8fb8e53bc2e29d6',\n",
       "  'http://www.ufcstats.com/event-details/c933d423ebdbbbdb',\n",
       "  'http://www.ufcstats.com/event-details/bad28b7b34f334de',\n",
       "  'http://www.ufcstats.com/event-details/afaad7d6a581e307',\n",
       "  'http://www.ufcstats.com/event-details/505934897b8b4824',\n",
       "  'http://www.ufcstats.com/event-details/abbc4fc02e0d84b3',\n",
       "  'http://www.ufcstats.com/event-details/b23fca14c7b79935',\n",
       "  'http://www.ufcstats.com/event-details/b60391da771deefe',\n",
       "  'http://www.ufcstats.com/event-details/598a58db87b890ee',\n",
       "  'http://www.ufcstats.com/event-details/96d173b7f92aa520',\n",
       "  'http://www.ufcstats.com/event-details/24b033b3daf1c9df',\n",
       "  'http://www.ufcstats.com/event-details/d3b5ad3b15a64a18',\n",
       "  'http://www.ufcstats.com/event-details/b5ea750025697880',\n",
       "  'http://www.ufcstats.com/event-details/6810d8d2dd557cf9',\n",
       "  'http://www.ufcstats.com/event-details/d5f820c11a121050',\n",
       "  'http://www.ufcstats.com/event-details/282fa667ff9c51ed',\n",
       "  'http://www.ufcstats.com/event-details/e8c170a64dc920ac',\n",
       "  'http://www.ufcstats.com/event-details/03b1e846b09f721d',\n",
       "  'http://www.ufcstats.com/event-details/563d051c9e769b24',\n",
       "  'http://www.ufcstats.com/event-details/20821819c401ced8',\n",
       "  'http://www.ufcstats.com/event-details/487c170da059857d',\n",
       "  'http://www.ufcstats.com/event-details/acff437707625fc7',\n",
       "  'http://www.ufcstats.com/event-details/9bcf8603ceb25680',\n",
       "  'http://www.ufcstats.com/event-details/31bbd46d57dfbcb7',\n",
       "  'http://www.ufcstats.com/event-details/2eab7a6c8b0ed8cc',\n",
       "  'http://www.ufcstats.com/event-details/9f3d6ddef3d3cccc',\n",
       "  'http://www.ufcstats.com/event-details/8d5daf67983b65ba',\n",
       "  'http://www.ufcstats.com/event-details/9211aae062b799d6',\n",
       "  'http://www.ufcstats.com/event-details/977081bc01197656',\n",
       "  'http://www.ufcstats.com/event-details/afdb76fbd86f6d11',\n",
       "  'http://www.ufcstats.com/event-details/b09890ba7ce1d1e2',\n",
       "  'http://www.ufcstats.com/event-details/1411c630ba711b64',\n",
       "  'http://www.ufcstats.com/event-details/f54200f1dfb9b5d4',\n",
       "  'http://www.ufcstats.com/event-details/579fcdfcabd23a7b',\n",
       "  'http://www.ufcstats.com/event-details/3138fab619faf4d1',\n",
       "  'http://www.ufcstats.com/event-details/d3711d3784b76255',\n",
       "  'http://www.ufcstats.com/event-details/990060b2a68a7b82',\n",
       "  'http://www.ufcstats.com/event-details/a890f9a791ed615d',\n",
       "  'http://www.ufcstats.com/event-details/5b5307450405abf0',\n",
       "  'http://www.ufcstats.com/event-details/8788beb528894f33',\n",
       "  'http://www.ufcstats.com/event-details/31652c9267606d54',\n",
       "  'http://www.ufcstats.com/event-details/5cde96e0a1a1fffe',\n",
       "  'http://www.ufcstats.com/event-details/b1605ea39fba6af6',\n",
       "  'http://www.ufcstats.com/event-details/9e0f28d1f639ad73',\n",
       "  'http://www.ufcstats.com/event-details/29b5791e51e7e832',\n",
       "  'http://www.ufcstats.com/event-details/155bfc7ed36622df',\n",
       "  'http://www.ufcstats.com/event-details/4d74641fac830182',\n",
       "  'http://www.ufcstats.com/event-details/8caca5857ce0e30b',\n",
       "  'http://www.ufcstats.com/event-details/eed2b71d77d95416',\n",
       "  'http://www.ufcstats.com/event-details/fc1868f56d3036eb',\n",
       "  'http://www.ufcstats.com/event-details/dedc3bb440d09554',\n",
       "  'http://www.ufcstats.com/event-details/96eff1a628adcc7f',\n",
       "  'http://www.ufcstats.com/event-details/a6d8bfe9e0c8153b',\n",
       "  'http://www.ufcstats.com/event-details/b4ad3a06ee4d660c',\n",
       "  'http://www.ufcstats.com/event-details/80d918336163b80c',\n",
       "  'http://www.ufcstats.com/event-details/44aa652b181bcf68',\n",
       "  'http://www.ufcstats.com/event-details/fc31f896cde2bc2e',\n",
       "  'http://www.ufcstats.com/event-details/5af480a3b2e1726b',\n",
       "  'http://www.ufcstats.com/event-details/ae58685caf8e4a0d',\n",
       "  'http://www.ufcstats.com/event-details/88a9bc81271ccd89',\n",
       "  'http://www.ufcstats.com/event-details/d023ae89a2a4a41e',\n",
       "  'http://www.ufcstats.com/event-details/322a56923b396b4d',\n",
       "  'http://www.ufcstats.com/event-details/b732b326c362fb62',\n",
       "  'http://www.ufcstats.com/event-details/ebc5af72ad5a28cb',\n",
       "  'http://www.ufcstats.com/event-details/d1759b2b7be9be56',\n",
       "  'http://www.ufcstats.com/event-details/8a1b4330c7957961',\n",
       "  'http://www.ufcstats.com/event-details/738acab0c6934dd8',\n",
       "  'http://www.ufcstats.com/event-details/cfbccfed4e4796fe',\n",
       "  'http://www.ufcstats.com/event-details/20ec0061400178ca',\n",
       "  'http://www.ufcstats.com/event-details/e60201cfab7d656d',\n",
       "  'http://www.ufcstats.com/event-details/0ff11cc094e887bc',\n",
       "  'http://www.ufcstats.com/event-details/94609dd91731d428',\n",
       "  'http://www.ufcstats.com/event-details/269d103c96a4c3a5'],\n",
       " 521)"
      ]
     },
     "execution_count": 36,
     "metadata": {},
     "output_type": "execute_result"
    }
   ],
   "source": [
    "event_url_list, len(event_url_list)"
   ]
  },
  {
   "cell_type": "code",
   "execution_count": 37,
   "metadata": {},
   "outputs": [],
   "source": [
    "def event_date_fetcher(event_soup):\n",
    "    date_holder = event_soup.findChildren('li', attrs={'class': re.compile('b-list__')})\n",
    "    \n",
    "    try:\n",
    "        date = date_holder[0].text.split(':')[1].strip()\n",
    "        \n",
    "        return date \n",
    "        \n",
    "    except:\n",
    "        \n",
    "        pass    "
   ]
  },
  {
   "cell_type": "code",
   "execution_count": 38,
   "metadata": {},
   "outputs": [],
   "source": [
    "def event_fights_parser(event_soup):\n",
    "        \n",
    "    holder = event_soup.findAll('a', attrs={'href': re.compile('fight-details')})\n",
    "    \n",
    "    event_fights_holder = []\n",
    "    \n",
    "    for x in range(0, len(holder)):\n",
    "        \n",
    "        event_fights_holder.append(holder[x].get('href'))\n",
    "        \n",
    "    return event_fights_holder"
   ]
  },
  {
   "cell_type": "code",
   "execution_count": 39,
   "metadata": {},
   "outputs": [],
   "source": [
    "def event_name_fetcher(event_soup):\n",
    "    event_title = event_soup.find('h2', attrs={'class': re.compile('b-content__')}).text.strip()\n",
    "    return event_title"
   ]
  },
  {
   "cell_type": "code",
   "execution_count": 40,
   "metadata": {},
   "outputs": [
    {
     "ename": "ValueError",
     "evalue": "Length of values does not match length of index",
     "output_type": "error",
     "traceback": [
      "\u001b[1;31m---------------------------------------------------------------------------\u001b[0m",
      "\u001b[1;31mValueError\u001b[0m                                Traceback (most recent call last)",
      "\u001b[1;32m<ipython-input-40-e2cd1ee0bac3>\u001b[0m in \u001b[0;36m<module>\u001b[1;34m\u001b[0m\n\u001b[0;32m      7\u001b[0m \u001b[0mevent_dates_list\u001b[0m \u001b[1;33m=\u001b[0m \u001b[0mlist\u001b[0m\u001b[1;33m(\u001b[0m\u001b[0mmap\u001b[0m\u001b[1;33m(\u001b[0m\u001b[0mevent_date_fetcher\u001b[0m\u001b[1;33m,\u001b[0m \u001b[0mevent_soups\u001b[0m\u001b[1;33m)\u001b[0m\u001b[1;33m)\u001b[0m\u001b[1;33m\u001b[0m\u001b[1;33m\u001b[0m\u001b[0m\n\u001b[0;32m      8\u001b[0m \u001b[1;33m\u001b[0m\u001b[0m\n\u001b[1;32m----> 9\u001b[1;33m \u001b[0mevent_database_df\u001b[0m\u001b[1;33m[\u001b[0m\u001b[1;34m'date'\u001b[0m\u001b[1;33m]\u001b[0m \u001b[1;33m=\u001b[0m \u001b[0mevent_dates_list\u001b[0m\u001b[1;33m\u001b[0m\u001b[1;33m\u001b[0m\u001b[0m\n\u001b[0m\u001b[0;32m     10\u001b[0m \u001b[1;33m\u001b[0m\u001b[0m\n\u001b[0;32m     11\u001b[0m \u001b[0mevent_database_df\u001b[0m\u001b[1;33m[\u001b[0m\u001b[1;34m'date'\u001b[0m\u001b[1;33m]\u001b[0m \u001b[1;33m=\u001b[0m \u001b[0mpd\u001b[0m\u001b[1;33m.\u001b[0m\u001b[0mto_datetime\u001b[0m\u001b[1;33m(\u001b[0m\u001b[0mevent_database_df\u001b[0m\u001b[1;33m[\u001b[0m\u001b[1;34m'date'\u001b[0m\u001b[1;33m]\u001b[0m\u001b[1;33m)\u001b[0m\u001b[1;33m\u001b[0m\u001b[1;33m\u001b[0m\u001b[0m\n",
      "\u001b[1;32m~\\Anaconda3\\envs\\work-env\\lib\\site-packages\\pandas\\core\\frame.py\u001b[0m in \u001b[0;36m__setitem__\u001b[1;34m(self, key, value)\u001b[0m\n\u001b[0;32m   2936\u001b[0m         \u001b[1;32melse\u001b[0m\u001b[1;33m:\u001b[0m\u001b[1;33m\u001b[0m\u001b[1;33m\u001b[0m\u001b[0m\n\u001b[0;32m   2937\u001b[0m             \u001b[1;31m# set column\u001b[0m\u001b[1;33m\u001b[0m\u001b[1;33m\u001b[0m\u001b[1;33m\u001b[0m\u001b[0m\n\u001b[1;32m-> 2938\u001b[1;33m             \u001b[0mself\u001b[0m\u001b[1;33m.\u001b[0m\u001b[0m_set_item\u001b[0m\u001b[1;33m(\u001b[0m\u001b[0mkey\u001b[0m\u001b[1;33m,\u001b[0m \u001b[0mvalue\u001b[0m\u001b[1;33m)\u001b[0m\u001b[1;33m\u001b[0m\u001b[1;33m\u001b[0m\u001b[0m\n\u001b[0m\u001b[0;32m   2939\u001b[0m \u001b[1;33m\u001b[0m\u001b[0m\n\u001b[0;32m   2940\u001b[0m     \u001b[1;32mdef\u001b[0m \u001b[0m_setitem_slice\u001b[0m\u001b[1;33m(\u001b[0m\u001b[0mself\u001b[0m\u001b[1;33m,\u001b[0m \u001b[0mkey\u001b[0m\u001b[1;33m,\u001b[0m \u001b[0mvalue\u001b[0m\u001b[1;33m)\u001b[0m\u001b[1;33m:\u001b[0m\u001b[1;33m\u001b[0m\u001b[1;33m\u001b[0m\u001b[0m\n",
      "\u001b[1;32m~\\Anaconda3\\envs\\work-env\\lib\\site-packages\\pandas\\core\\frame.py\u001b[0m in \u001b[0;36m_set_item\u001b[1;34m(self, key, value)\u001b[0m\n\u001b[0;32m   2998\u001b[0m \u001b[1;33m\u001b[0m\u001b[0m\n\u001b[0;32m   2999\u001b[0m         \u001b[0mself\u001b[0m\u001b[1;33m.\u001b[0m\u001b[0m_ensure_valid_index\u001b[0m\u001b[1;33m(\u001b[0m\u001b[0mvalue\u001b[0m\u001b[1;33m)\u001b[0m\u001b[1;33m\u001b[0m\u001b[1;33m\u001b[0m\u001b[0m\n\u001b[1;32m-> 3000\u001b[1;33m         \u001b[0mvalue\u001b[0m \u001b[1;33m=\u001b[0m \u001b[0mself\u001b[0m\u001b[1;33m.\u001b[0m\u001b[0m_sanitize_column\u001b[0m\u001b[1;33m(\u001b[0m\u001b[0mkey\u001b[0m\u001b[1;33m,\u001b[0m \u001b[0mvalue\u001b[0m\u001b[1;33m)\u001b[0m\u001b[1;33m\u001b[0m\u001b[1;33m\u001b[0m\u001b[0m\n\u001b[0m\u001b[0;32m   3001\u001b[0m         \u001b[0mNDFrame\u001b[0m\u001b[1;33m.\u001b[0m\u001b[0m_set_item\u001b[0m\u001b[1;33m(\u001b[0m\u001b[0mself\u001b[0m\u001b[1;33m,\u001b[0m \u001b[0mkey\u001b[0m\u001b[1;33m,\u001b[0m \u001b[0mvalue\u001b[0m\u001b[1;33m)\u001b[0m\u001b[1;33m\u001b[0m\u001b[1;33m\u001b[0m\u001b[0m\n\u001b[0;32m   3002\u001b[0m \u001b[1;33m\u001b[0m\u001b[0m\n",
      "\u001b[1;32m~\\Anaconda3\\envs\\work-env\\lib\\site-packages\\pandas\\core\\frame.py\u001b[0m in \u001b[0;36m_sanitize_column\u001b[1;34m(self, key, value, broadcast)\u001b[0m\n\u001b[0;32m   3634\u001b[0m \u001b[1;33m\u001b[0m\u001b[0m\n\u001b[0;32m   3635\u001b[0m             \u001b[1;31m# turn me into an ndarray\u001b[0m\u001b[1;33m\u001b[0m\u001b[1;33m\u001b[0m\u001b[1;33m\u001b[0m\u001b[0m\n\u001b[1;32m-> 3636\u001b[1;33m             \u001b[0mvalue\u001b[0m \u001b[1;33m=\u001b[0m \u001b[0msanitize_index\u001b[0m\u001b[1;33m(\u001b[0m\u001b[0mvalue\u001b[0m\u001b[1;33m,\u001b[0m \u001b[0mself\u001b[0m\u001b[1;33m.\u001b[0m\u001b[0mindex\u001b[0m\u001b[1;33m,\u001b[0m \u001b[0mcopy\u001b[0m\u001b[1;33m=\u001b[0m\u001b[1;32mFalse\u001b[0m\u001b[1;33m)\u001b[0m\u001b[1;33m\u001b[0m\u001b[1;33m\u001b[0m\u001b[0m\n\u001b[0m\u001b[0;32m   3637\u001b[0m             \u001b[1;32mif\u001b[0m \u001b[1;32mnot\u001b[0m \u001b[0misinstance\u001b[0m\u001b[1;33m(\u001b[0m\u001b[0mvalue\u001b[0m\u001b[1;33m,\u001b[0m \u001b[1;33m(\u001b[0m\u001b[0mnp\u001b[0m\u001b[1;33m.\u001b[0m\u001b[0mndarray\u001b[0m\u001b[1;33m,\u001b[0m \u001b[0mIndex\u001b[0m\u001b[1;33m)\u001b[0m\u001b[1;33m)\u001b[0m\u001b[1;33m:\u001b[0m\u001b[1;33m\u001b[0m\u001b[1;33m\u001b[0m\u001b[0m\n\u001b[0;32m   3638\u001b[0m                 \u001b[1;32mif\u001b[0m \u001b[0misinstance\u001b[0m\u001b[1;33m(\u001b[0m\u001b[0mvalue\u001b[0m\u001b[1;33m,\u001b[0m \u001b[0mlist\u001b[0m\u001b[1;33m)\u001b[0m \u001b[1;32mand\u001b[0m \u001b[0mlen\u001b[0m\u001b[1;33m(\u001b[0m\u001b[0mvalue\u001b[0m\u001b[1;33m)\u001b[0m \u001b[1;33m>\u001b[0m \u001b[1;36m0\u001b[0m\u001b[1;33m:\u001b[0m\u001b[1;33m\u001b[0m\u001b[1;33m\u001b[0m\u001b[0m\n",
      "\u001b[1;32m~\\Anaconda3\\envs\\work-env\\lib\\site-packages\\pandas\\core\\internals\\construction.py\u001b[0m in \u001b[0;36msanitize_index\u001b[1;34m(data, index, copy)\u001b[0m\n\u001b[0;32m    609\u001b[0m \u001b[1;33m\u001b[0m\u001b[0m\n\u001b[0;32m    610\u001b[0m     \u001b[1;32mif\u001b[0m \u001b[0mlen\u001b[0m\u001b[1;33m(\u001b[0m\u001b[0mdata\u001b[0m\u001b[1;33m)\u001b[0m \u001b[1;33m!=\u001b[0m \u001b[0mlen\u001b[0m\u001b[1;33m(\u001b[0m\u001b[0mindex\u001b[0m\u001b[1;33m)\u001b[0m\u001b[1;33m:\u001b[0m\u001b[1;33m\u001b[0m\u001b[1;33m\u001b[0m\u001b[0m\n\u001b[1;32m--> 611\u001b[1;33m         \u001b[1;32mraise\u001b[0m \u001b[0mValueError\u001b[0m\u001b[1;33m(\u001b[0m\u001b[1;34m\"Length of values does not match length of index\"\u001b[0m\u001b[1;33m)\u001b[0m\u001b[1;33m\u001b[0m\u001b[1;33m\u001b[0m\u001b[0m\n\u001b[0m\u001b[0;32m    612\u001b[0m \u001b[1;33m\u001b[0m\u001b[0m\n\u001b[0;32m    613\u001b[0m     \u001b[1;32mif\u001b[0m \u001b[0misinstance\u001b[0m\u001b[1;33m(\u001b[0m\u001b[0mdata\u001b[0m\u001b[1;33m,\u001b[0m \u001b[0mABCIndexClass\u001b[0m\u001b[1;33m)\u001b[0m \u001b[1;32mand\u001b[0m \u001b[1;32mnot\u001b[0m \u001b[0mcopy\u001b[0m\u001b[1;33m:\u001b[0m\u001b[1;33m\u001b[0m\u001b[1;33m\u001b[0m\u001b[0m\n",
      "\u001b[1;31mValueError\u001b[0m: Length of values does not match length of index"
     ]
    }
   ],
   "source": [
    "event_database_df = pd.DataFrame()\n",
    "\n",
    "#adding event_urls to dataframe\n",
    "event_database_df['event'] = event_url_list\n",
    "\n",
    "#adding event_dates to dataframe and converting to time series objects\n",
    "event_dates_list = list(map(event_date_fetcher, event_soups))\n",
    "\n",
    "event_database_df['date'] = event_dates_list\n",
    "\n",
    "event_database_df['date'] = pd.to_datetime(event_database_df['date'])\n",
    "\n",
    "#adding event_name to dataframe\n",
    "event_names_list = list(map(event_name_fetcher,event_soups))\n",
    "\n",
    "event_database_df['name'] = event_names_list"
   ]
  },
  {
   "cell_type": "code",
   "execution_count": null,
   "metadata": {},
   "outputs": [],
   "source": [
    "event_database_df"
   ]
  },
  {
   "cell_type": "code",
   "execution_count": null,
   "metadata": {},
   "outputs": [],
   "source": [
    "event_database_df.info()"
   ]
  },
  {
   "cell_type": "code",
   "execution_count": null,
   "metadata": {},
   "outputs": [],
   "source": [
    "def fight_participants_fetcher(event_soup):\n",
    "    \n",
    "    fight_pairs = []\n",
    "    \n",
    "    name_holder = event_soup.findChildren('a', attrs={'class': re.compile('b-link')})\n",
    "\n",
    "    fighter1_list_holder, fighter2_list_holder = name_holder[0::2], name_holder[1::2]\n",
    "\n",
    "    fighter1_list = []\n",
    "    fighter2_list = []\n",
    "\n",
    "    for fighter1 in fighter1_list_holder:\n",
    "        fighter1_list.append(fighter1.text.strip())\n",
    "        \n",
    "    for fighter2 in fighter2_list_holder:\n",
    "        fighter2_list.append(fighter2.text.strip())\n",
    "      \n",
    "    fighters_in_ring = zip(fighter1_list, fighter2_list)\n",
    "    \n",
    "    for duo in fighters_in_ring:\n",
    "        fight_pairs.append(duo)\n",
    "        \n",
    "    return fight_pairs"
   ]
  },
  {
   "cell_type": "markdown",
   "metadata": {},
   "source": [
    "--------------------------------------FIX IT FIX IT FIX IT FIX IT FIX IT FIX IT--------------------------------------------"
   ]
  },
  {
   "cell_type": "code",
   "execution_count": 125,
   "metadata": {},
   "outputs": [
    {
     "data": {
      "text/plain": [
       "['draw', 'draw']"
      ]
     },
     "execution_count": 125,
     "metadata": {},
     "output_type": "execute_result"
    }
   ],
   "source": [
    "event_soups[15].findChildren('td', attrs={'class': re.compile('b-fight-details__table')})[0].text.strip().split()"
   ]
  },
  {
   "cell_type": "code",
   "execution_count": 130,
   "metadata": {},
   "outputs": [
    {
     "name": "stdout",
     "output_type": "stream",
     "text": [
      "Edge Case: 15, http://www.ufcstats.com/event-details/ee457ef1e1c326c1\n",
      "Edge Case: 45, http://www.ufcstats.com/event-details/47b7e4e60813b7b2\n",
      "Edge Case: 54, http://www.ufcstats.com/event-details/c32eab6c2119e989\n",
      "Edge Case: 54, http://www.ufcstats.com/event-details/c32eab6c2119e989\n",
      "Edge Case: 162, http://www.ufcstats.com/event-details/df05aa15b2d66f57\n",
      "Edge Case: 242, http://www.ufcstats.com/event-details/abcf7e55a0a9ed89\n",
      "Edge Case: 295, http://www.ufcstats.com/event-details/de3ed2e152520c8d\n",
      "Edge Case: 305, http://www.ufcstats.com/event-details/0aa92558424ced9e\n",
      "Edge Case: 374, http://www.ufcstats.com/event-details/ef7fa30364cbe7f2\n",
      "Edge Case: 431, http://www.ufcstats.com/event-details/2e04a3b4a2011b97\n",
      "Edge Case: 509, http://www.ufcstats.com/event-details/322a56923b396b4d\n"
     ]
    }
   ],
   "source": [
    "edge_case_number = []\n",
    "for number, event_soup in enumerate(event_soups):\n",
    "    try:\n",
    "        fighter1_strikes = event_soup.findAll('p', attrs={'class': re.compile('b-fight-details__table')})[3].text.strip()\n",
    "        fighter2_strikes = event_soup.findAll('p', attrs={'class': re.compile('b-fight-details__table')})[4].text.strip()\n",
    "    except:\n",
    "        print(f'Edge Case: {number}, {event_url_list[number]}')\n",
    "        edge_case_number.append(number)\n",
    "        \n",
    "    try: \n",
    "        fighter1_strikes = 0 if ''==fighter1_strikes else int(fighter1_strikes)\n",
    "    except:\n",
    "        print(f'Edge Case: {number}, {event_url_list[number]}')\n",
    "        edge_case_number.append(number)\n",
    "        \n",
    "    try: \n",
    "        fighter2_strikes = 0 if ''==fighter1_strikes else int(fighter2_strikes)\n",
    "    except:\n",
    "        print(f'Edge Case: {number}, {event_url_list[number]}')\n",
    "        edge_case_number.append(number)"
   ]
  },
  {
   "cell_type": "code",
   "execution_count": 131,
   "metadata": {},
   "outputs": [
    {
     "data": {
      "text/plain": [
       "[15, 45, 54, 162, 242, 295, 305, 374, 431, 509]"
      ]
     },
     "execution_count": 131,
     "metadata": {},
     "output_type": "execute_result"
    }
   ],
   "source": [
    "sorted(set(edge_case_number))"
   ]
  },
  {
   "cell_type": "markdown",
   "metadata": {},
   "source": [
    "--------------------------------------FIX IT FIX IT FIX IT FIX IT FIX IT FIX IT--------------------------------------------"
   ]
  },
  {
   "cell_type": "code",
   "execution_count": 132,
   "metadata": {},
   "outputs": [],
   "source": [
    "def fight_takedowns(event_soup):\n",
    "        \n",
    "    fighter1_takedowns = event_soup.findAll('p', attrs={'class': re.compile('b-fight-details__table')})[5].text.strip()\n",
    "    fighter2_takedowns = event_soup.findAll('p', attrs={'class': re.compile('b-fight-details__table')})[6].text.strip()\n",
    "\n",
    "    \n",
    "    fighter1_takedowns = 0 if ''==fighter1_takedowns else int(fighter1_takedowns) \n",
    "    fighter2_takedowns = 0 if ''==fighter2_takedowns else int(fighter2_takedowns)\n",
    "    \n",
    "    return fighter1_takedowns, fighter2_takedowns"
   ]
  },
  {
   "cell_type": "code",
   "execution_count": 71,
   "metadata": {},
   "outputs": [],
   "source": [
    "def fight_submissions(event_soup):\n",
    "        \n",
    "    fighter1_submissions = event_soup.findAll('p', attrs={'class': re.compile('b-fight-details__table')})[7].text.strip()\n",
    "    fighter2_submissions = event_soup.findAll('p', attrs={'class': re.compile('b-fight-details__table')})[8].text.strip()\n",
    "    \n",
    "    fighter1_submissions = 0 if ''==fighter1_submissions else int(fighter1_submissions) \n",
    "    fighter2_submissions = 0 if ''==fighter2_submissions else int(fighter2_submissions)\n",
    "    \n",
    "    return fighter1_submissions, fighter2_submissions"
   ]
  },
  {
   "cell_type": "code",
   "execution_count": 72,
   "metadata": {},
   "outputs": [],
   "source": [
    "def fight_passes(event_soup):\n",
    "        \n",
    "    fighter1_passes = event_soup.findAll('p', attrs={'class': re.compile('b-fight-details__table')})[9].text.strip()\n",
    "    fighter2_passes = event_soup.findAll('p', attrs={'class': re.compile('b-fight-details__table')})[10].text.strip()\n",
    "    \n",
    "    fighter1_passes = 0 if ''==fighter1_passes else int(fighter1_passes) \n",
    "    fighter2_passes = 0 if ''==fighter2_passes else int(fighter2_passes)\n",
    "    \n",
    "    return fighter1_passes, fighter2_passes"
   ]
  },
  {
   "cell_type": "code",
   "execution_count": 73,
   "metadata": {},
   "outputs": [],
   "source": [
    "def fight_weight_class(event_soup):\n",
    "        \n",
    "    weight_class = event_soup.findAll('p', attrs={'class': re.compile('b-fight-details__table')})[11]\n",
    "    \n",
    "    return weight_class.text.strip()"
   ]
  },
  {
   "cell_type": "code",
   "execution_count": 74,
   "metadata": {},
   "outputs": [],
   "source": [
    "def fight_win_method(event_soup):\n",
    "        \n",
    "    win_method = event_soup.findAll('p', attrs={'class': re.compile('b-fight-details__table')})[12]\n",
    "    win_method_detail = event_soup.findAll('p', attrs={'class': re.compile('b-fight-details__table')})[13]\n",
    "    \n",
    "    return win_method.text.strip(), win_method_detail.text.strip()"
   ]
  },
  {
   "cell_type": "code",
   "execution_count": 75,
   "metadata": {},
   "outputs": [],
   "source": [
    "def fight_final_round(event_soup):\n",
    "        \n",
    "    ending_round = event_soup.findAll('p', attrs={'class': re.compile('b-fight-details__table')})[14].text.strip()\n",
    "    \n",
    "    blank = ''\n",
    "    \n",
    "    ending_round = 0 if blank==ending_round else int(ending_round)\n",
    "    \n",
    "    return ending_round"
   ]
  },
  {
   "cell_type": "code",
   "execution_count": 76,
   "metadata": {},
   "outputs": [],
   "source": [
    "def fight_final_round_time(event_soup):\n",
    "    \n",
    "    ending_round_time = event_soup.findAll('p', attrs={'class': re.compile('b-fight-details__table')})[15].text.strip()\n",
    "    \n",
    "    return ending_round_time"
   ]
  },
  {
   "cell_type": "code",
   "execution_count": 133,
   "metadata": {},
   "outputs": [],
   "source": [
    "event_fight_list = list(map(event_fights_parser, event_soups))\n",
    "\n",
    "matchup_list = list(map(fight_participants_fetcher, event_soups))\n",
    "\n",
    "fighter_strike_count_list = list(map(fight_strikes,event_soups))\n",
    "    \n",
    "fight_takedown_list = list(map(fight_takedowns,event_soups))\n",
    "\n",
    "#fight_submission_list = list(map(fight_submissions,event_soups))\n",
    "    \n",
    "#fight_pass_list = list(map(fight_passes,event_soups))\n",
    "\n",
    "#fight_weigth_class_list = list(map(fight_weight_class,event_soups))\n",
    "    \n",
    "fight_win_method_list = list(map(fight_win_method,event_soups))\n",
    "\n",
    "#fight_final_round_list = list(map(fight_final_round,event_soups))\n",
    "    \n",
    "fight_final_round_time_list = list(map(fight_final_round_time,event_soups))"
   ]
  },
  {
   "cell_type": "code",
   "execution_count": 137,
   "metadata": {},
   "outputs": [
    {
     "data": {
      "text/plain": [
       "520"
      ]
     },
     "execution_count": 137,
     "metadata": {},
     "output_type": "execute_result"
    }
   ],
   "source": [
    "len(fighter_strike_count_list)"
   ]
  },
  {
   "cell_type": "code",
   "execution_count": 20,
   "metadata": {},
   "outputs": [],
   "source": [
    "event_database_df['matchups'] = matchup"
   ]
  },
  {
   "cell_type": "code",
   "execution_count": 17,
   "metadata": {},
   "outputs": [],
   "source": [
    "event_database_df['fight_list'] = event_fight_list"
   ]
  },
  {
   "cell_type": "code",
   "execution_count": null,
   "metadata": {},
   "outputs": [],
   "source": []
  },
  {
   "cell_type": "code",
   "execution_count": 135,
   "metadata": {},
   "outputs": [],
   "source": [
    "event_database_df.to_csv('event_database_csv', index=False)"
   ]
  },
  {
   "cell_type": "markdown",
   "metadata": {},
   "source": [
    "PROTOCODE =================================="
   ]
  }
 ],
 "metadata": {
  "kernelspec": {
   "display_name": "Python [conda env:work-env] *",
   "language": "python",
   "name": "conda-env-work-env-py"
  },
  "language_info": {
   "codemirror_mode": {
    "name": "ipython",
    "version": 3
   },
   "file_extension": ".py",
   "mimetype": "text/x-python",
   "name": "python",
   "nbconvert_exporter": "python",
   "pygments_lexer": "ipython3",
   "version": "3.7.7"
  }
 },
 "nbformat": 4,
 "nbformat_minor": 2
}
