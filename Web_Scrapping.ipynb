{
 "cells": [
  {
   "cell_type": "markdown",
   "metadata": {},
   "source": [
    "# UFC_Stats Web Scraping"
   ]
  },
  {
   "cell_type": "markdown",
   "metadata": {},
   "source": [
    "## importing pertinent libraries"
   ]
  },
  {
   "cell_type": "code",
   "execution_count": 1,
   "metadata": {},
   "outputs": [],
   "source": [
    "#importing pertinent libraries\n",
    "import pandas as pd\n",
    "from urllib.request import urlopen\n",
    "from bs4 import BeautifulSoup\n",
    "import requests, re\n",
    "import json\n",
    "import itertools\n",
    "import dask.dataframe as dd\n",
    "from datetime import datetime"
   ]
  },
  {
   "cell_type": "code",
   "execution_count": 2,
   "metadata": {},
   "outputs": [],
   "source": [
    "from datetime import datetime\n",
    "\n",
    "today = datetime.today()\n",
    "current_date= today.strftime(\"%B %d, %Y\")\n",
    "current_datetime = datetime.strptime(current_date, \"%B %d, %Y\" ) "
   ]
  },
  {
   "cell_type": "markdown",
   "metadata": {},
   "source": [
    "## Extracting UFC urls"
   ]
  },
  {
   "cell_type": "code",
   "execution_count": 3,
   "metadata": {},
   "outputs": [],
   "source": [
    "#creating a list of unique fighter URLs available on website\n",
    "fighter_url_list = []\n",
    "response = requests.get('http://www.ufcstats.com/statistics/fighters?char=a&page=all')\n",
    "soup = BeautifulSoup(response.content, 'html.parser')\n",
    "\n",
    "#targeting URLs that contain fighter data\n",
    "fighters = soup.findAll('a', attrs={'href': re.compile('http:')})\n",
    "for fighter in fighters:\n",
    "    fighter_url_list.append(fighter.get('href'))\n",
    "\n",
    "#removing duplicate URLs\n",
    "fighter_url_list = list(set(fighter_url_list))"
   ]
  },
  {
   "cell_type": "code",
   "execution_count": 4,
   "metadata": {},
   "outputs": [
    {
     "data": {
      "text/plain": [
       "['http://www.ufcstats.com/fighter-details/c61b49cec6abd6b9',\n",
       " 'http://www.ufcstats.com/fighter-details/2620f3eb21c79614',\n",
       " 'http://www.ufcstats.com/fighter-details/d615d6a10a4704cd',\n",
       " 'http://www.ufcstats.com/fighter-details/d802174b0c0c1f4e',\n",
       " 'http://www.ufcstats.com/fighter-details/f16ddfa31236efed',\n",
       " 'http://www.ufcstats.com/fighter-details/4665f9f909cd7214',\n",
       " 'http://www.ufcstats.com/fighter-details/c9f6385af6df66d7',\n",
       " 'http://www.ufcstats.com/fighter-details/20821819c401ced8',\n",
       " 'http://www.ufcstats.com/statistics/fighters?char=a&page=6',\n",
       " 'http://www.ufcstats.com/fighter-details/a77633a989013265',\n",
       " 'http://www.ufcstats.com/fighter-details/7279654c7674cd24',\n",
       " 'http://www.ufcstats.com/fighter-details/a08ddd04eaffd81d',\n",
       " 'http://www.ufcstats.com/fighter-details/da603332ad41f165',\n",
       " 'http://www.ufcstats.com/fighter-details/19ba965651486013',\n",
       " 'http://www.ufcstats.com/fighter-details/67a992d4cff22466']"
      ]
     },
     "execution_count": 4,
     "metadata": {},
     "output_type": "execute_result"
    }
   ],
   "source": [
    "fighter_url_list[:15]"
   ]
  },
  {
   "cell_type": "markdown",
   "metadata": {},
   "source": [
    "Looks like there are some URLs we don't need in out list. Let's weed them out."
   ]
  },
  {
   "cell_type": "code",
   "execution_count": 5,
   "metadata": {},
   "outputs": [],
   "source": [
    "#removing invalid URLs\n",
    "for url in fighter_url_list:\n",
    "    if 'fighter-details' not in url:\n",
    "        fighter_url_list.remove(url)"
   ]
  },
  {
   "cell_type": "code",
   "execution_count": 6,
   "metadata": {},
   "outputs": [
    {
     "data": {
      "text/plain": [
       "['http://www.ufcstats.com/fighter-details/c61b49cec6abd6b9',\n",
       " 'http://www.ufcstats.com/fighter-details/2620f3eb21c79614',\n",
       " 'http://www.ufcstats.com/fighter-details/d615d6a10a4704cd',\n",
       " 'http://www.ufcstats.com/fighter-details/d802174b0c0c1f4e',\n",
       " 'http://www.ufcstats.com/fighter-details/f16ddfa31236efed',\n",
       " 'http://www.ufcstats.com/fighter-details/4665f9f909cd7214',\n",
       " 'http://www.ufcstats.com/fighter-details/c9f6385af6df66d7',\n",
       " 'http://www.ufcstats.com/fighter-details/20821819c401ced8',\n",
       " 'http://www.ufcstats.com/fighter-details/a77633a989013265',\n",
       " 'http://www.ufcstats.com/fighter-details/7279654c7674cd24',\n",
       " 'http://www.ufcstats.com/fighter-details/a08ddd04eaffd81d',\n",
       " 'http://www.ufcstats.com/fighter-details/da603332ad41f165',\n",
       " 'http://www.ufcstats.com/fighter-details/19ba965651486013',\n",
       " 'http://www.ufcstats.com/fighter-details/67a992d4cff22466',\n",
       " 'http://www.ufcstats.com/fighter-details/af997f7611673880']"
      ]
     },
     "execution_count": 6,
     "metadata": {},
     "output_type": "execute_result"
    }
   ],
   "source": [
    "fighter_url_list[:15]"
   ]
  },
  {
   "cell_type": "markdown",
   "metadata": {},
   "source": [
    "## Creating Dataframe Building Blocks"
   ]
  },
  {
   "cell_type": "code",
   "execution_count": 7,
   "metadata": {},
   "outputs": [],
   "source": [
    "def info_generator(url):\n",
    "    '''Meant to parse any url via beuatiful soup\n",
    "    \n",
    "    Args:\n",
    "        url(str)\n",
    "        '''\n",
    "    \n",
    "    response = requests.get(url)\n",
    "    \n",
    "    soup = BeautifulSoup(response.content, 'html.parser')\n",
    "    \n",
    "    return soup"
   ]
  },
  {
   "cell_type": "code",
   "execution_count": 8,
   "metadata": {},
   "outputs": [],
   "source": [
    "#creating a soup list to reduce number of website requests\n",
    "basic_soup_list = list(map(info_generator, fighter_url_list))"
   ]
  },
  {
   "cell_type": "code",
   "execution_count": 9,
   "metadata": {},
   "outputs": [],
   "source": [
    "def fighter_history_fetcher(soup):\n",
    "    '''This function is meant to extract the html information for each fighter as a list of urls. '''\n",
    "    \n",
    "    soup_holder = soup.findAll('a', attrs={'href': re.compile('fight-details')})\n",
    "    \n",
    "    list_of_fights = []\n",
    "    \n",
    "    for x in soup_holder:\n",
    "        fight_holder = []\n",
    "        \n",
    "        fight_holder.append(x.get('href'))\n",
    "        \n",
    "        list_of_fights.append(fight_holder) \n",
    "        \n",
    "    return list_of_fights"
   ]
  },
  {
   "cell_type": "markdown",
   "metadata": {},
   "source": [
    "### Generating basic statistics lists"
   ]
  },
  {
   "cell_type": "code",
   "execution_count": 10,
   "metadata": {},
   "outputs": [],
   "source": [
    "def base_stats_soup_generator(soup):\n",
    "    '''Meant to identiy statistics in the context of UFC Stats urls.\n",
    "    \n",
    "    Args:\n",
    "        soup(BeautifulSoup object) : must be an unaltered soup'''\n",
    "    \n",
    "    base_stats = soup.findChildren('li', attrs={'class': re.compile('b-list')})\n",
    "    \n",
    "    return base_stats"
   ]
  },
  {
   "cell_type": "code",
   "execution_count": 11,
   "metadata": {},
   "outputs": [],
   "source": [
    "stats_soups = list(map(base_stats_soup_generator, basic_soup_list))"
   ]
  },
  {
   "cell_type": "code",
   "execution_count": 12,
   "metadata": {},
   "outputs": [
    {
     "data": {
      "text/plain": [
       "[[['http://www.ufcstats.com/fight-details/66b5615704b18de0']],\n",
       " [['http://www.ufcstats.com/fight-details/81b0c08f7503e79a']],\n",
       " [['http://www.ufcstats.com/fight-details/4146a71795a084f0'],\n",
       "  ['http://www.ufcstats.com/fight-details/0aea8d478f7175ef']]]"
      ]
     },
     "execution_count": 12,
     "metadata": {},
     "output_type": "execute_result"
    }
   ],
   "source": [
    "fighter_history_url_list = list(map(fighter_history_fetcher, basic_soup_list))\n",
    "fighter_history_url_list[:3]"
   ]
  },
  {
   "cell_type": "markdown",
   "metadata": {},
   "source": [
    "fighter_history_url_list generated lists "
   ]
  },
  {
   "cell_type": "code",
   "execution_count": 13,
   "metadata": {},
   "outputs": [],
   "source": [
    "def compound_flattener(fight_url_list):\n",
    "    flattened_fight_urls = list(itertools.chain(*fight_url_list))\n",
    "    return flattened_fight_urls"
   ]
  },
  {
   "cell_type": "code",
   "execution_count": 14,
   "metadata": {},
   "outputs": [],
   "source": [
    "fighter_history_url_list = list(map(compound_flattener, fighter_history_url_list))"
   ]
  },
  {
   "cell_type": "code",
   "execution_count": 15,
   "metadata": {},
   "outputs": [
    {
     "data": {
      "text/plain": [
       "[['http://www.ufcstats.com/fight-details/66b5615704b18de0'],\n",
       " ['http://www.ufcstats.com/fight-details/81b0c08f7503e79a'],\n",
       " ['http://www.ufcstats.com/fight-details/4146a71795a084f0',\n",
       "  'http://www.ufcstats.com/fight-details/0aea8d478f7175ef']]"
      ]
     },
     "execution_count": 15,
     "metadata": {},
     "output_type": "execute_result"
    }
   ],
   "source": [
    "fighter_history_url_list[:3]"
   ]
  },
  {
   "cell_type": "markdown",
   "metadata": {},
   "source": [
    "### Basic Statistics DataFrame Construction"
   ]
  },
  {
   "cell_type": "code",
   "execution_count": 16,
   "metadata": {},
   "outputs": [],
   "source": [
    "def fighter_name(soup):\n",
    "    \n",
    "    name = soup.find('span', attrs={'class': re.compile('b-content__title-highlight')})\n",
    "    \n",
    "    return name.text.strip()#[0].text.strip()"
   ]
  },
  {
   "cell_type": "code",
   "execution_count": 17,
   "metadata": {},
   "outputs": [],
   "source": [
    "def fighter_record(soup):\n",
    "    \n",
    "    record = soup.findChildren('span', attrs={'class': re.compile('b-content__title-record')})\n",
    "    \n",
    "    return record[0].text.strip().split(':')[1].strip()"
   ]
  },
  {
   "cell_type": "code",
   "execution_count": 18,
   "metadata": {},
   "outputs": [],
   "source": [
    "def basic_stats_height(soup):\n",
    "    '''soups run thorugh this function should be run through stats_soup function beforehand.'''\n",
    "    \n",
    "    #feet\n",
    "    height = soup[0].text.strip().split(':')[1].strip().split(' ')[0].replace(\"'\", \"\")\n",
    "    \n",
    "   #inches\n",
    "    if height == '--':\n",
    "        pass\n",
    "    else:\n",
    "        \n",
    "        height = int(height)\n",
    "        \n",
    "        inches = int(soup[0].text.strip().split(':')[1].strip().split(' ')[1].replace(\"'\", \"\").replace('\"', '').replace(\"--\", \"0\"))\n",
    "\n",
    "        height_to_inches = (height * 12) \n",
    "    \n",
    "        final_height = height_to_inches + inches\n",
    "    \n",
    "        return (inches + height_to_inches)"
   ]
  },
  {
   "cell_type": "code",
   "execution_count": 19,
   "metadata": {},
   "outputs": [],
   "source": [
    "def basic_stats_weight(soup):\n",
    "    \n",
    "    weight = soup[1].text.strip().split(':')[1].strip().replace(' lbs.', '')\n",
    "    \n",
    "    if weight == '--':\n",
    "        pass\n",
    "    else:\n",
    "        weight = int(weight)\n",
    "    return weight "
   ]
  },
  {
   "cell_type": "code",
   "execution_count": 20,
   "metadata": {},
   "outputs": [],
   "source": [
    "def basic_stats_reach(soup):\n",
    "    \n",
    "    reach = soup[2].text.strip().split(':')[1].strip().replace('\"', '')\n",
    "    \n",
    "    if reach == '--':\n",
    "        pass\n",
    "    else:\n",
    "        reach = int(reach)\n",
    "    return reach"
   ]
  },
  {
   "cell_type": "code",
   "execution_count": 21,
   "metadata": {},
   "outputs": [],
   "source": [
    "def basic_stats_stance(soup):\n",
    "    \n",
    "    stance = soup[3].text.strip().split(':')[1].strip()\n",
    "    return stance"
   ]
  },
  {
   "cell_type": "code",
   "execution_count": 22,
   "metadata": {},
   "outputs": [],
   "source": [
    "def basic_stats_DOB(soup):\n",
    "    \n",
    "    DOB = soup[4].text.strip().split(':')[1].strip()\n",
    "    return DOB"
   ]
  },
  {
   "cell_type": "code",
   "execution_count": 23,
   "metadata": {},
   "outputs": [],
   "source": [
    "fighter_names = list(map(fighter_name, basic_soup_list))\n",
    "\n",
    "fighter_records = list(map(fighter_record, basic_soup_list))\n",
    "\n",
    "fighter_heights =  list(map(basic_stats_height, stats_soups))\n",
    "\n",
    "fighter_weights = list(map(basic_stats_weight, stats_soups))\n",
    "\n",
    "fighter_reachs = list(map(basic_stats_reach, stats_soups))\n",
    "\n",
    "fighter_stances = list(map(basic_stats_stance, stats_soups))\n",
    "\n",
    "fighter_DOBs = list(map(basic_stats_DOB, stats_soups))"
   ]
  },
  {
   "cell_type": "code",
   "execution_count": 24,
   "metadata": {},
   "outputs": [],
   "source": [
    "fighter_basic_stats_df = pd.DataFrame()\n",
    "\n",
    "fighter_basic_stats_df['name'] = fighter_names\n",
    "\n",
    "fighter_basic_stats_df['record'] = fighter_records\n",
    "\n",
    "fighter_basic_stats_df['height'] = fighter_heights\n",
    "\n",
    "fighter_basic_stats_df['weight'] = fighter_weights\n",
    "\n",
    "fighter_basic_stats_df['reach'] = fighter_reachs\n",
    "\n",
    "fighter_basic_stats_df['stance'] = fighter_stances\n",
    "\n",
    "fighter_basic_stats_df['DOB'] = fighter_DOBs"
   ]
  },
  {
   "cell_type": "code",
   "execution_count": 25,
   "metadata": {},
   "outputs": [
    {
     "data": {
      "text/html": [
       "<div>\n",
       "<style scoped>\n",
       "    .dataframe tbody tr th:only-of-type {\n",
       "        vertical-align: middle;\n",
       "    }\n",
       "\n",
       "    .dataframe tbody tr th {\n",
       "        vertical-align: top;\n",
       "    }\n",
       "\n",
       "    .dataframe thead th {\n",
       "        text-align: right;\n",
       "    }\n",
       "</style>\n",
       "<table border=\"1\" class=\"dataframe\">\n",
       "  <thead>\n",
       "    <tr style=\"text-align: right;\">\n",
       "      <th></th>\n",
       "      <th>name</th>\n",
       "      <th>record</th>\n",
       "      <th>height</th>\n",
       "      <th>weight</th>\n",
       "      <th>reach</th>\n",
       "      <th>stance</th>\n",
       "      <th>DOB</th>\n",
       "    </tr>\n",
       "  </thead>\n",
       "  <tbody>\n",
       "    <tr>\n",
       "      <th>0</th>\n",
       "      <td>Rico Altamirano</td>\n",
       "      <td>4-3-0</td>\n",
       "      <td>70.0</td>\n",
       "      <td>170</td>\n",
       "      <td>--</td>\n",
       "      <td></td>\n",
       "      <td>--</td>\n",
       "    </tr>\n",
       "    <tr>\n",
       "      <th>1</th>\n",
       "      <td>Scott Adams</td>\n",
       "      <td>8-1-0</td>\n",
       "      <td>72.0</td>\n",
       "      <td>225</td>\n",
       "      <td>--</td>\n",
       "      <td>Southpaw</td>\n",
       "      <td>--</td>\n",
       "    </tr>\n",
       "    <tr>\n",
       "      <th>2</th>\n",
       "      <td>Magno Almeida</td>\n",
       "      <td>10-3-0 (1 NC)</td>\n",
       "      <td>72.0</td>\n",
       "      <td>155</td>\n",
       "      <td>--</td>\n",
       "      <td></td>\n",
       "      <td>Jun 06, 1985</td>\n",
       "    </tr>\n",
       "    <tr>\n",
       "      <th>3</th>\n",
       "      <td>Magomed Ankalaev</td>\n",
       "      <td>13-1-0</td>\n",
       "      <td>75.0</td>\n",
       "      <td>205</td>\n",
       "      <td>75</td>\n",
       "      <td>Orthodox</td>\n",
       "      <td>Jun 02, 1992</td>\n",
       "    </tr>\n",
       "    <tr>\n",
       "      <th>4</th>\n",
       "      <td>Estefani Almeida</td>\n",
       "      <td>7-3-0</td>\n",
       "      <td>64.0</td>\n",
       "      <td>125</td>\n",
       "      <td>--</td>\n",
       "      <td>Orthodox</td>\n",
       "      <td>Oct 17, 1988</td>\n",
       "    </tr>\n",
       "  </tbody>\n",
       "</table>\n",
       "</div>"
      ],
      "text/plain": [
       "               name         record  height weight reach    stance  \\\n",
       "0   Rico Altamirano          4-3-0    70.0    170    --             \n",
       "1       Scott Adams          8-1-0    72.0    225    --  Southpaw   \n",
       "2     Magno Almeida  10-3-0 (1 NC)    72.0    155    --             \n",
       "3  Magomed Ankalaev         13-1-0    75.0    205    75  Orthodox   \n",
       "4  Estefani Almeida          7-3-0    64.0    125    --  Orthodox   \n",
       "\n",
       "            DOB  \n",
       "0            --  \n",
       "1            --  \n",
       "2  Jun 06, 1985  \n",
       "3  Jun 02, 1992  \n",
       "4  Oct 17, 1988  "
      ]
     },
     "execution_count": 25,
     "metadata": {},
     "output_type": "execute_result"
    }
   ],
   "source": [
    "fighter_basic_stats_df.head()"
   ]
  },
  {
   "cell_type": "code",
   "execution_count": 26,
   "metadata": {},
   "outputs": [],
   "source": [
    "fighter_basic_stats_df.to_csv('fighter_basic_stats_csv', index=False)"
   ]
  },
  {
   "cell_type": "markdown",
   "metadata": {},
   "source": [
    "### Career Statistics DataFrame Construction"
   ]
  },
  {
   "cell_type": "code",
   "execution_count": 27,
   "metadata": {},
   "outputs": [],
   "source": [
    "def career_stats_soup(soup):\n",
    "    \n",
    "    career_stats_soup = soup.findChildren('li', attrs={'class': re.compile('b-list')})\n",
    "    career_stats = career_stats_soup[5:]\n",
    "    \n",
    "    return career_stats_soup"
   ]
  },
  {
   "cell_type": "code",
   "execution_count": 28,
   "metadata": {},
   "outputs": [],
   "source": [
    "def career_stats_SLpM(soup):\n",
    "\n",
    "    SLpM = soup[5].text.split(':')[1].replace('%', '').strip()\n",
    "    \n",
    "    if SLpM == '--':\n",
    "        pass\n",
    "    else:\n",
    "        SLpM = float(SLpM)\n",
    "        \n",
    "    return SLpM"
   ]
  },
  {
   "cell_type": "code",
   "execution_count": 29,
   "metadata": {},
   "outputs": [],
   "source": [
    "def career_stats_StrAcc(soup):\n",
    "    StrAcc =  soup[6].text.split(':')[1].replace('%', '').strip()\n",
    "    \n",
    "    if StrAcc == '--':\n",
    "        pass\n",
    "    else:\n",
    "        StrAcc = float(StrAcc)\n",
    "        \n",
    "    return StrAcc"
   ]
  },
  {
   "cell_type": "code",
   "execution_count": 30,
   "metadata": {},
   "outputs": [],
   "source": [
    "def career_stats_SApM(soup):\n",
    "    SApM = soup[7].text.split(':')[1].strip()\n",
    "    \n",
    "    if SApM == '--':\n",
    "        pass\n",
    "    else:\n",
    "        SApM = float(SApM)\n",
    "        \n",
    "    return SApM"
   ]
  },
  {
   "cell_type": "code",
   "execution_count": 31,
   "metadata": {},
   "outputs": [],
   "source": [
    "def career_stats_StrDef(soup):\n",
    "    StrDef = soup[8].text.split(':')[1].replace('%', '').strip()\n",
    "    \n",
    "    if StrDef == '--':\n",
    "        pass\n",
    "    else:\n",
    "        StrDef = float(StrDef)\n",
    "        \n",
    "    return StrDef"
   ]
  },
  {
   "cell_type": "code",
   "execution_count": 32,
   "metadata": {},
   "outputs": [],
   "source": [
    "def career_stats_TDAvg(soup):\n",
    "    TDAvg = soup[10].text.split(':')[1].strip()\n",
    "    \n",
    "    if TDAvg == '--':\n",
    "        pass\n",
    "    else:\n",
    "        TDAvg = float(TDAvg)\n",
    "        \n",
    "    return TDAvg"
   ]
  },
  {
   "cell_type": "code",
   "execution_count": 33,
   "metadata": {},
   "outputs": [],
   "source": [
    "def career_stats_TDAcc(soup):\n",
    "    TDAcc = soup[11].text.split(':')[1].strip().replace('%', '')\n",
    "    \n",
    "    if TDAcc == '--':\n",
    "        pass\n",
    "    else:\n",
    "        TDAcc = float(TDAcc)\n",
    "        \n",
    "    return TDAcc"
   ]
  },
  {
   "cell_type": "code",
   "execution_count": 34,
   "metadata": {},
   "outputs": [],
   "source": [
    "def career_stats_TDDef(soup):\n",
    "    TDDef = soup[12].text.split(':')[1].replace('%', '').strip()\n",
    "    \n",
    "    if TDDef == '--':\n",
    "        pass\n",
    "    else:\n",
    "        TDDef = float(TDDef)\n",
    "        \n",
    "    return TDDef"
   ]
  },
  {
   "cell_type": "code",
   "execution_count": 35,
   "metadata": {},
   "outputs": [],
   "source": [
    "def career_stats_SubAvg(soup):\n",
    "    SubAvg =  soup[13].text.split(':')[1].strip().replace('%', '')  \n",
    "    \n",
    "    if SubAvg == '--':\n",
    "        pass\n",
    "    else:\n",
    "        SubAvg = float(SubAvg)\n",
    "        \n",
    "    return SubAvg"
   ]
  },
  {
   "cell_type": "code",
   "execution_count": 36,
   "metadata": {},
   "outputs": [],
   "source": [
    "fighter_SLpMs = list(map(career_stats_SLpM, stats_soups))\n",
    "\n",
    "fighter_StrAccs = list(map(career_stats_StrAcc, stats_soups))\n",
    "\n",
    "fighter_SApMs = list(map(career_stats_SApM, stats_soups))\n",
    "\n",
    "fighter_StrDefs =list(map(career_stats_StrDef, stats_soups))\n",
    "\n",
    "fighter_TDAvgs = list(map(career_stats_TDAvg, stats_soups))\n",
    "\n",
    "fighter_TDAccs = list(map(career_stats_TDAcc, stats_soups))\n",
    "\n",
    "fighter_TDDefs = list(map(career_stats_TDDef, stats_soups))\n",
    "\n",
    "fighter_SubAvgs = list(map(career_stats_SubAvg, stats_soups))"
   ]
  },
  {
   "cell_type": "code",
   "execution_count": 37,
   "metadata": {},
   "outputs": [],
   "source": [
    "fighter_career_stats_df = pd.DataFrame()\n",
    "\n",
    "fighter_career_stats_df['name'] = fighter_names\n",
    "\n",
    "fighter_career_stats_df['SLpMs'] = fighter_SLpMs\n",
    "\n",
    "fighter_career_stats_df['StrAccs'] = fighter_StrAccs\n",
    "\n",
    "fighter_career_stats_df['SApMs'] = fighter_SApMs\n",
    "\n",
    "fighter_career_stats_df['StrDefs'] = fighter_StrDefs\n",
    "\n",
    "fighter_career_stats_df['TDAvgs'] = fighter_TDAvgs\n",
    "\n",
    "fighter_career_stats_df['TDAccs'] = fighter_TDAccs\n",
    "\n",
    "fighter_career_stats_df['TDDefs'] = fighter_TDDefs\n",
    "\n",
    "fighter_career_stats_df['SubAvgs'] = fighter_SubAvgs"
   ]
  },
  {
   "cell_type": "code",
   "execution_count": 38,
   "metadata": {},
   "outputs": [
    {
     "data": {
      "text/html": [
       "<div>\n",
       "<style scoped>\n",
       "    .dataframe tbody tr th:only-of-type {\n",
       "        vertical-align: middle;\n",
       "    }\n",
       "\n",
       "    .dataframe tbody tr th {\n",
       "        vertical-align: top;\n",
       "    }\n",
       "\n",
       "    .dataframe thead th {\n",
       "        text-align: right;\n",
       "    }\n",
       "</style>\n",
       "<table border=\"1\" class=\"dataframe\">\n",
       "  <thead>\n",
       "    <tr style=\"text-align: right;\">\n",
       "      <th></th>\n",
       "      <th>name</th>\n",
       "      <th>SLpMs</th>\n",
       "      <th>StrAccs</th>\n",
       "      <th>SApMs</th>\n",
       "      <th>StrDefs</th>\n",
       "      <th>TDAvgs</th>\n",
       "      <th>TDAccs</th>\n",
       "      <th>TDDefs</th>\n",
       "      <th>SubAvgs</th>\n",
       "    </tr>\n",
       "  </thead>\n",
       "  <tbody>\n",
       "    <tr>\n",
       "      <th>0</th>\n",
       "      <td>Rico Altamirano</td>\n",
       "      <td>0.00</td>\n",
       "      <td>0.0</td>\n",
       "      <td>0.00</td>\n",
       "      <td>0.0</td>\n",
       "      <td>0.00</td>\n",
       "      <td>0.0</td>\n",
       "      <td>0.0</td>\n",
       "      <td>0.0</td>\n",
       "    </tr>\n",
       "    <tr>\n",
       "      <th>1</th>\n",
       "      <td>Scott Adams</td>\n",
       "      <td>0.00</td>\n",
       "      <td>0.0</td>\n",
       "      <td>0.00</td>\n",
       "      <td>0.0</td>\n",
       "      <td>0.00</td>\n",
       "      <td>0.0</td>\n",
       "      <td>0.0</td>\n",
       "      <td>0.0</td>\n",
       "    </tr>\n",
       "    <tr>\n",
       "      <th>2</th>\n",
       "      <td>Magno Almeida</td>\n",
       "      <td>1.67</td>\n",
       "      <td>36.0</td>\n",
       "      <td>2.60</td>\n",
       "      <td>41.0</td>\n",
       "      <td>0.00</td>\n",
       "      <td>0.0</td>\n",
       "      <td>40.0</td>\n",
       "      <td>5.0</td>\n",
       "    </tr>\n",
       "    <tr>\n",
       "      <th>3</th>\n",
       "      <td>Magomed Ankalaev</td>\n",
       "      <td>3.46</td>\n",
       "      <td>56.0</td>\n",
       "      <td>1.24</td>\n",
       "      <td>67.0</td>\n",
       "      <td>0.68</td>\n",
       "      <td>33.0</td>\n",
       "      <td>85.0</td>\n",
       "      <td>0.0</td>\n",
       "    </tr>\n",
       "    <tr>\n",
       "      <th>4</th>\n",
       "      <td>Estefani Almeida</td>\n",
       "      <td>3.13</td>\n",
       "      <td>37.0</td>\n",
       "      <td>6.07</td>\n",
       "      <td>42.0</td>\n",
       "      <td>0.00</td>\n",
       "      <td>0.0</td>\n",
       "      <td>0.0</td>\n",
       "      <td>0.0</td>\n",
       "    </tr>\n",
       "  </tbody>\n",
       "</table>\n",
       "</div>"
      ],
      "text/plain": [
       "               name  SLpMs  StrAccs  SApMs  StrDefs  TDAvgs  TDAccs  TDDefs  \\\n",
       "0   Rico Altamirano   0.00      0.0   0.00      0.0    0.00     0.0     0.0   \n",
       "1       Scott Adams   0.00      0.0   0.00      0.0    0.00     0.0     0.0   \n",
       "2     Magno Almeida   1.67     36.0   2.60     41.0    0.00     0.0    40.0   \n",
       "3  Magomed Ankalaev   3.46     56.0   1.24     67.0    0.68    33.0    85.0   \n",
       "4  Estefani Almeida   3.13     37.0   6.07     42.0    0.00     0.0     0.0   \n",
       "\n",
       "   SubAvgs  \n",
       "0      0.0  \n",
       "1      0.0  \n",
       "2      5.0  \n",
       "3      0.0  \n",
       "4      0.0  "
      ]
     },
     "execution_count": 38,
     "metadata": {},
     "output_type": "execute_result"
    }
   ],
   "source": [
    "fighter_career_stats_df.head()"
   ]
  },
  {
   "cell_type": "code",
   "execution_count": 39,
   "metadata": {},
   "outputs": [],
   "source": [
    "fighter_career_stats_df.to_csv('fighter_career_stats_csv', index=False)"
   ]
  },
  {
   "cell_type": "markdown",
   "metadata": {},
   "source": [
    "### Constructing Fight Event and Fight List Database"
   ]
  },
  {
   "cell_type": "code",
   "execution_count": 40,
   "metadata": {},
   "outputs": [],
   "source": [
    "#creating a list of unique fighter URLs available on website\n",
    "event_url_list = []\n",
    "response = requests.get('http://www.ufcstats.com/statistics/events/completed?page=all')\n",
    "soup = BeautifulSoup(response.content, 'html.parser')\n",
    "\n",
    "#targeting URLs that contain fighter data\n",
    "events = soup.findAll('a', attrs={'href': re.compile('http:')})\n",
    "for event in events:\n",
    "    event_url_list.append(event.get('href'))\n",
    "\n",
    "#removing duplicate URLs\n",
    "event_url_list = list(set(event_url_list))"
   ]
  },
  {
   "cell_type": "code",
   "execution_count": 41,
   "metadata": {},
   "outputs": [],
   "source": [
    "#removing invalid URLs\n",
    "for url in event_url_list:\n",
    "    if 'event-details' not in url:\n",
    "        event_url_list.remove(url)\n",
    "    \n",
    "for url in event_url_list:  \n",
    "    if len(url) <  54:\n",
    "        event_url_list.remove(url)"
   ]
  },
  {
   "cell_type": "code",
   "execution_count": 42,
   "metadata": {},
   "outputs": [
    {
     "data": {
      "text/plain": [
       "['http://www.ufcstats.com/event-details/669a3cb6e394f515',\n",
       " 'http://www.ufcstats.com/event-details/620be7e0712d431b',\n",
       " 'http://www.ufcstats.com/event-details/44aa652b181bcf68',\n",
       " 'http://www.ufcstats.com/event-details/d4da8995fc91e7ef',\n",
       " 'http://www.ufcstats.com/event-details/f70144caea5c4c80',\n",
       " 'http://www.ufcstats.com/event-details/2dea80c069847321',\n",
       " 'http://www.ufcstats.com/event-details/e7bc606d269896aa',\n",
       " 'http://www.ufcstats.com/event-details/1c061eb6e29eaa0a',\n",
       " 'http://www.ufcstats.com/event-details/4d636c3aa1105950',\n",
       " 'http://www.ufcstats.com/event-details/2db7fa8db6bc9632',\n",
       " 'http://www.ufcstats.com/event-details/c0c1bc0766df4c00',\n",
       " 'http://www.ufcstats.com/event-details/32541eb5d12668b4',\n",
       " 'http://www.ufcstats.com/event-details/2299605af59fd309',\n",
       " 'http://www.ufcstats.com/event-details/4a01dc8376736ef5',\n",
       " 'http://www.ufcstats.com/event-details/d86e913c548c07c2']"
      ]
     },
     "execution_count": 42,
     "metadata": {},
     "output_type": "execute_result"
    }
   ],
   "source": [
    "event_url_list[:15]"
   ]
  },
  {
   "cell_type": "code",
   "execution_count": 120,
   "metadata": {},
   "outputs": [
    {
     "data": {
      "text/plain": [
       "522"
      ]
     },
     "execution_count": 120,
     "metadata": {},
     "output_type": "execute_result"
    }
   ],
   "source": [
    "len(event_url_list)"
   ]
  },
  {
   "cell_type": "code",
   "execution_count": 43,
   "metadata": {},
   "outputs": [],
   "source": [
    "event_soups = list(map(info_generator, event_url_list))"
   ]
  },
  {
   "cell_type": "code",
   "execution_count": 119,
   "metadata": {},
   "outputs": [
    {
     "data": {
      "text/plain": [
       "521"
      ]
     },
     "execution_count": 119,
     "metadata": {},
     "output_type": "execute_result"
    }
   ],
   "source": [
    "len(event_soups)"
   ]
  },
  {
   "cell_type": "code",
   "execution_count": 44,
   "metadata": {},
   "outputs": [],
   "source": [
    "def event_date_fetcher(event_soup):\n",
    "    date_holder = event_soup.findChildren('li', attrs={'class': re.compile('b-list__')})\n",
    "    \n",
    "    try:\n",
    "        date = date_holder[0].text.split(':')[1].strip()\n",
    "        \n",
    "        return date \n",
    "        \n",
    "    except:\n",
    "        \n",
    "        pass    "
   ]
  },
  {
   "cell_type": "code",
   "execution_count": 45,
   "metadata": {},
   "outputs": [],
   "source": [
    "def event_fights_parser(event_soup):\n",
    "        \n",
    "    holder = event_soup.findAll('a', attrs={'href': re.compile('fight-details')})\n",
    "    \n",
    "    event_fights_holder = []\n",
    "    \n",
    "    for x in range(0, len(holder)):\n",
    "        \n",
    "        event_fights_holder.append(holder[x].get('href'))\n",
    "        \n",
    "    return event_fights_holder"
   ]
  },
  {
   "cell_type": "code",
   "execution_count": 46,
   "metadata": {},
   "outputs": [],
   "source": [
    "def event_name_fetcher(event_soup):\n",
    "    event_title = event_soup.find('h2', attrs={'class': re.compile('b-content__')}).text.strip()\n",
    "    return event_title"
   ]
  },
  {
   "cell_type": "code",
   "execution_count": 240,
   "metadata": {},
   "outputs": [],
   "source": [
    "event_database_df = pd.DataFrame()\n",
    "\n",
    "#adding event_urls to dataframe\n",
    "#event_database_df['event'] = event_url_list\n",
    "\n",
    "#adding event_dates to dataframe and converting to time series objects\n",
    "event_dates_list = list(map(event_date_fetcher, event_soups))\n",
    "\n",
    "event_database_df['date'] = event_dates_list\n",
    "\n",
    "event_database_df['date'] = pd.to_datetime(event_database_df['date'])\n",
    "\n",
    "#adding event_name to dataframe\n",
    "event_names_list = list(map(event_name_fetcher,event_soups))\n",
    "\n",
    "event_database_df['name'] = event_names_list"
   ]
  },
  {
   "cell_type": "code",
   "execution_count": 241,
   "metadata": {},
   "outputs": [
    {
     "data": {
      "text/html": [
       "<div>\n",
       "<style scoped>\n",
       "    .dataframe tbody tr th:only-of-type {\n",
       "        vertical-align: middle;\n",
       "    }\n",
       "\n",
       "    .dataframe tbody tr th {\n",
       "        vertical-align: top;\n",
       "    }\n",
       "\n",
       "    .dataframe thead th {\n",
       "        text-align: right;\n",
       "    }\n",
       "</style>\n",
       "<table border=\"1\" class=\"dataframe\">\n",
       "  <thead>\n",
       "    <tr style=\"text-align: right;\">\n",
       "      <th></th>\n",
       "      <th>date</th>\n",
       "      <th>name</th>\n",
       "    </tr>\n",
       "  </thead>\n",
       "  <tbody>\n",
       "    <tr>\n",
       "      <th>0</th>\n",
       "      <td>2005-08-20</td>\n",
       "      <td>UFC 54: Boiling Point</td>\n",
       "    </tr>\n",
       "    <tr>\n",
       "      <th>1</th>\n",
       "      <td>2018-04-14</td>\n",
       "      <td>UFC Fight Night: Poirier vs. Gaethje</td>\n",
       "    </tr>\n",
       "    <tr>\n",
       "      <th>2</th>\n",
       "      <td>2020-01-25</td>\n",
       "      <td>UFC Fight Night: Blaydes vs. Dos Santos</td>\n",
       "    </tr>\n",
       "    <tr>\n",
       "      <th>3</th>\n",
       "      <td>2019-01-19</td>\n",
       "      <td>UFC Fight Night: Cejudo vs. Dillashaw</td>\n",
       "    </tr>\n",
       "    <tr>\n",
       "      <th>4</th>\n",
       "      <td>2006-07-08</td>\n",
       "      <td>UFC 61: Bitter Rivals</td>\n",
       "    </tr>\n",
       "    <tr>\n",
       "      <th>...</th>\n",
       "      <td>...</td>\n",
       "      <td>...</td>\n",
       "    </tr>\n",
       "    <tr>\n",
       "      <th>516</th>\n",
       "      <td>2014-05-31</td>\n",
       "      <td>UFC Fight Night: Munoz vs Mousasi</td>\n",
       "    </tr>\n",
       "    <tr>\n",
       "      <th>517</th>\n",
       "      <td>2006-02-04</td>\n",
       "      <td>UFC 57: Liddell vs Couture 3</td>\n",
       "    </tr>\n",
       "    <tr>\n",
       "      <th>518</th>\n",
       "      <td>2012-06-23</td>\n",
       "      <td>UFC 147: Silva vs Franklin 2</td>\n",
       "    </tr>\n",
       "    <tr>\n",
       "      <th>519</th>\n",
       "      <td>2018-11-10</td>\n",
       "      <td>UFC Fight Night: Korean Zombie vs. Rodriguez</td>\n",
       "    </tr>\n",
       "    <tr>\n",
       "      <th>520</th>\n",
       "      <td>2017-02-19</td>\n",
       "      <td>UFC Fight Night: Lewis vs. Browne</td>\n",
       "    </tr>\n",
       "  </tbody>\n",
       "</table>\n",
       "<p>521 rows × 2 columns</p>\n",
       "</div>"
      ],
      "text/plain": [
       "          date                                          name\n",
       "0   2005-08-20                         UFC 54: Boiling Point\n",
       "1   2018-04-14          UFC Fight Night: Poirier vs. Gaethje\n",
       "2   2020-01-25       UFC Fight Night: Blaydes vs. Dos Santos\n",
       "3   2019-01-19         UFC Fight Night: Cejudo vs. Dillashaw\n",
       "4   2006-07-08                         UFC 61: Bitter Rivals\n",
       "..         ...                                           ...\n",
       "516 2014-05-31             UFC Fight Night: Munoz vs Mousasi\n",
       "517 2006-02-04                  UFC 57: Liddell vs Couture 3\n",
       "518 2012-06-23                  UFC 147: Silva vs Franklin 2\n",
       "519 2018-11-10  UFC Fight Night: Korean Zombie vs. Rodriguez\n",
       "520 2017-02-19             UFC Fight Night: Lewis vs. Browne\n",
       "\n",
       "[521 rows x 2 columns]"
      ]
     },
     "execution_count": 241,
     "metadata": {},
     "output_type": "execute_result"
    }
   ],
   "source": [
    "event_database_df"
   ]
  },
  {
   "cell_type": "code",
   "execution_count": 48,
   "metadata": {},
   "outputs": [],
   "source": [
    "event_database_df_dropped = event_database_df[event_database_df.date > current_datetime]\n",
    "\n",
    "pending_events_indexes = event_database_df_dropped.index.tolist()\n",
    "\n",
    "for index in pending_events_indexes:\n",
    "    event_soups.pop(index)"
   ]
  },
  {
   "cell_type": "code",
   "execution_count": 49,
   "metadata": {},
   "outputs": [
    {
     "name": "stdout",
     "output_type": "stream",
     "text": [
      "<class 'pandas.core.frame.DataFrame'>\n",
      "RangeIndex: 522 entries, 0 to 521\n",
      "Data columns (total 3 columns):\n",
      " #   Column  Non-Null Count  Dtype         \n",
      "---  ------  --------------  -----         \n",
      " 0   event   522 non-null    object        \n",
      " 1   date    522 non-null    datetime64[ns]\n",
      " 2   name    522 non-null    object        \n",
      "dtypes: datetime64[ns](1), object(2)\n",
      "memory usage: 12.4+ KB\n"
     ]
    }
   ],
   "source": [
    "event_database_df.info()"
   ]
  },
  {
   "cell_type": "code",
   "execution_count": 73,
   "metadata": {},
   "outputs": [],
   "source": [
    "def event_fight_participants_fetcher(event_soup):\n",
    "    \n",
    "    fight_pairs = []\n",
    "    \n",
    "    name_holder = event_soup.findChildren('a', attrs={'class': re.compile('b-link')})\n",
    "\n",
    "    fighter1_list_holder, fighter2_list_holder = name_holder[0::2], name_holder[1::2]\n",
    "\n",
    "    fighter1_list = []\n",
    "    fighter2_list = []\n",
    "\n",
    "    for fighter1 in fighter1_list_holder:\n",
    "        fighter1_list.append(fighter1.text.strip())\n",
    "        \n",
    "    for fighter2 in fighter2_list_holder:\n",
    "        fighter2_list.append(fighter2.text.strip())\n",
    "      \n",
    "    fighters_in_ring = zip(fighter1_list, fighter2_list)\n",
    "    \n",
    "    for duo in fighters_in_ring:\n",
    "        fight_pairs.append(duo)\n",
    "        \n",
    "    return fight_pairs"
   ]
  },
  {
   "cell_type": "code",
   "execution_count": 192,
   "metadata": {},
   "outputs": [],
   "source": [
    "def event_fight_strikes(event_soup):\n",
    "        \n",
    "    parser = event_soup.findAll('tr', attrs={'class': 'b-fight-details__table-row b-fight-details__table-row__hover js-fight-details-click'})\n",
    "    \n",
    "    event_strike_list = []\n",
    "    \n",
    "    for x in range(0, len(parser)):\n",
    "\n",
    "        fight_strikes_holder = parser[x].findAll('td', attrs={'class': re.compile('b-fight-details')})\n",
    "\n",
    "        event_strike_list.append(fight_strikes_holder[2].text.split())\n",
    "\n",
    "    return event_strike_list"
   ]
  },
  {
   "cell_type": "code",
   "execution_count": 198,
   "metadata": {},
   "outputs": [],
   "source": [
    "def event_fight_takedowns(event_soup):\n",
    "        \n",
    "    parser = event_soup.findAll('tr', attrs={'class': 'b-fight-details__table-row b-fight-details__table-row__hover js-fight-details-click'})\n",
    "    \n",
    "    event_takedowns_list = []\n",
    "    \n",
    "    for x in range(0, len(parser)):\n",
    "\n",
    "        fight_takedowns_holder = parser[x].findAll('td', attrs={'class': re.compile('b-fight-details')})\n",
    "        \n",
    "        event_takedowns_list.append(fight_takedowns_holder[3].text.split())\n",
    "            \n",
    "    return event_takedowns_list"
   ]
  },
  {
   "cell_type": "code",
   "execution_count": 212,
   "metadata": {},
   "outputs": [],
   "source": [
    "def event_fight_submissions(event_soup):    \n",
    "    \n",
    "    parser = event_soup.findAll('tr', attrs={'class': 'b-fight-details__table-row b-fight-details__table-row__hover js-fight-details-click'})\n",
    "\n",
    "    event_submissions_list = []\n",
    "\n",
    "    for x in range(0, len(parser)):\n",
    "\n",
    "        event_submissions_holder = parser[x].findAll('td', attrs={'class': re.compile('b-fight-details')})      \n",
    "    \n",
    "        event_submissions_list.append(event_submissions_holder[4].text.split())\n",
    "\n",
    "    return event_submissions_list\n"
   ]
  },
  {
   "cell_type": "code",
   "execution_count": 219,
   "metadata": {},
   "outputs": [],
   "source": [
    "def event_fight_passes(event_soup):\n",
    "    \n",
    "    parser = event_soup.findAll('tr', attrs={'class': 'b-fight-details__table-row b-fight-details__table-row__hover js-fight-details-click'})\n",
    "\n",
    "    event_passes_list = []\n",
    "\n",
    "    for x in range(0, len(parser)):\n",
    "\n",
    "        event_passes_holder = parser[x].findAll('td', attrs={'class': re.compile('b-fight-details')})      \n",
    "\n",
    "        event_passes_list.append(event_passes_holder[5].text.split())\n",
    "\n",
    "    return event_passes_list"
   ]
  },
  {
   "cell_type": "code",
   "execution_count": 82,
   "metadata": {},
   "outputs": [],
   "source": [
    "def event_fight_weight_classes(event_soup):\n",
    "    \n",
    "    event_weight_class_list = []\n",
    "\n",
    "    parser = event_soup.findAll('tr', attrs={'class': 'b-fight-details__table-row b-fight-details__table-row__hover js-fight-details-click'})\n",
    "\n",
    "    for x in range(0, len(parser)):\n",
    "\n",
    "        holder = parser[x].findAll('td', attrs={'class': re.compile('b-fight-details')})\n",
    "\n",
    "        weight_class = holder[6].text.strip()\n",
    "\n",
    "        event_weight_class_list.append(weight_class)\n",
    "\n",
    "    return event_weight_class_list"
   ]
  },
  {
   "cell_type": "code",
   "execution_count": 68,
   "metadata": {},
   "outputs": [],
   "source": [
    "def event_fight_win_method(event_soup):\n",
    "        \n",
    "    win_methods_holder = event_soup.findAll('tr', attrs={'class': 'b-fight-details__table-row b-fight-details__table-row__hover js-fight-details-click'})\n",
    "    \n",
    "    win_methods_list = []    \n",
    "    \n",
    "    for x in range(0, len(win_methods_holder)):\n",
    "        \n",
    "        win_method_holder = win_methods_holder[x].findAll('td', attrs={'class': re.compile('b-fight-details')})[7]\n",
    "        \n",
    "        win_method = win_method_holder.findAll('p', attrs={'class': re.compile('b-fight-details')})[0].text.strip()\n",
    "        \n",
    "        win_methods_list.append(win_method)\n",
    "    \n",
    "    return win_methods_list"
   ]
  },
  {
   "cell_type": "code",
   "execution_count": 69,
   "metadata": {},
   "outputs": [],
   "source": [
    "def event_fight_win_method_details(event_soup):\n",
    "        \n",
    "    win_methods_holder = event_soup.findAll('tr', attrs={'class': 'b-fight-details__table-row b-fight-details__table-row__hover js-fight-details-click'})\n",
    "    \n",
    "    win_methods_list = []    \n",
    "    \n",
    "    for x in range(0, len(win_methods_holder)):\n",
    "        \n",
    "        win_method_holder = win_methods_holder[x].findAll('td', attrs={'class': re.compile('b-fight-details')})[7]\n",
    "        \n",
    "        win_method = win_method_holder.findAll('p', attrs={'class': re.compile('b-fight-details')})[1].text.strip()\n",
    "        \n",
    "        win_methods_list.append(win_method)\n",
    "    \n",
    "    return win_methods_list"
   ]
  },
  {
   "cell_type": "code",
   "execution_count": 70,
   "metadata": {},
   "outputs": [],
   "source": [
    "def event_fight_final_round(event_soup):\n",
    "    \n",
    "    ending_round_holder = event_soup.findAll('tr', attrs={'class': 'b-fight-details__table-row b-fight-details__table-row__hover js-fight-details-click'})\n",
    "    \n",
    "    ending_round_list = []\n",
    "    \n",
    "    for x in range(0, len(ending_round_holder)):\n",
    "        \n",
    "        ending_round = int(ending_round_holder[x].findAll('td', attrs={'class': re.compile('b-fight-details')})[8].text.strip())\n",
    "        \n",
    "        ending_round_list.append(ending_round)\n",
    "        \n",
    "    return ending_round_list\n",
    "    "
   ]
  },
  {
   "cell_type": "code",
   "execution_count": 71,
   "metadata": {},
   "outputs": [],
   "source": [
    "def event_fight_final_round_time(event_soup):\n",
    "    \n",
    "    ending_round_time_list = []\n",
    "    \n",
    "    ending_round_time_holder = event_soup.findAll('tr', attrs={'class': 'b-fight-details__table-row b-fight-details__table-row__hover js-fight-details-click'})\n",
    "    \n",
    "    for x in range(0, len(ending_round_time_holder)):\n",
    "    \n",
    "        ending_round_time = ending_round_time_holder[x].findAll('td', attrs={'class': re.compile('b-fight-details')})[-1].text.strip()\n",
    "        \n",
    "        ending_round_time_list.append(ending_round_time)\n",
    "\n",
    "    return ending_round_time_list"
   ]
  },
  {
   "cell_type": "code",
   "execution_count": 226,
   "metadata": {},
   "outputs": [],
   "source": [
    "event_fight_list = list(map(event_fights_parser, event_soups))\n",
    "\n",
    "matchup_list = list(map(event_fight_participants_fetcher, event_soups))\n",
    "\n",
    "fighter_strike_count_list = list(map(event_fight_strikes,event_soups))\n",
    "    \n",
    "fight_takedown_list = list(map(event_fight_takedowns,event_soups))\n",
    "\n",
    "fight_submission_list = list(map(event_fight_submissions,event_soups))\n",
    "    \n",
    "fight_pass_list = list(map(event_fight_passes,event_soups))\n",
    "\n",
    "fight_weight_class_list = list(map(event_fight_weight_classes,event_soups))\n",
    "    \n",
    "fight_win_method_list = list(map(event_fight_win_method,event_soups))\n",
    "\n",
    "fight_final_round_list = list(map(event_fight_final_round,event_soups))\n",
    "    \n",
    "fight_final_round_time_list = list(map(event_fight_final_round_time,event_soups))"
   ]
  },
  {
   "cell_type": "code",
   "execution_count": 242,
   "metadata": {},
   "outputs": [
    {
     "data": {
      "text/html": [
       "<div>\n",
       "<style scoped>\n",
       "    .dataframe tbody tr th:only-of-type {\n",
       "        vertical-align: middle;\n",
       "    }\n",
       "\n",
       "    .dataframe tbody tr th {\n",
       "        vertical-align: top;\n",
       "    }\n",
       "\n",
       "    .dataframe thead th {\n",
       "        text-align: right;\n",
       "    }\n",
       "</style>\n",
       "<table border=\"1\" class=\"dataframe\">\n",
       "  <thead>\n",
       "    <tr style=\"text-align: right;\">\n",
       "      <th></th>\n",
       "      <th>date</th>\n",
       "      <th>name</th>\n",
       "      <th>event_fight_list</th>\n",
       "      <th>matchups</th>\n",
       "      <th>strike_counts</th>\n",
       "      <th>takedown_counts</th>\n",
       "      <th>submission_counts</th>\n",
       "      <th>pass_counts</th>\n",
       "      <th>weight_class</th>\n",
       "      <th>win_method</th>\n",
       "      <th>final_round</th>\n",
       "      <th>final_round_time</th>\n",
       "    </tr>\n",
       "  </thead>\n",
       "  <tbody>\n",
       "    <tr>\n",
       "      <th>0</th>\n",
       "      <td>2005-08-20</td>\n",
       "      <td>UFC 54: Boiling Point</td>\n",
       "      <td>[http://www.ufcstats.com/fight-details/5a3fcd3...</td>\n",
       "      <td>[(Chuck Liddell, Jeremy Horn), (Tim Sylvia, Tr...</td>\n",
       "      <td>[[64, 31], [31, 13], [27, 8], [35, 3], [25, 1]...</td>\n",
       "      <td>[[0, 0], [0, 0], [4, 1], [3, 0], [1, 0], [4, 2...</td>\n",
       "      <td>[[0, 0], [0, 0], [3, 0], [1, 0], [2, 0], [4, 1...</td>\n",
       "      <td>[[0, 0], [0, 0], [0, 0], [6, 0], [10, 0], [5, ...</td>\n",
       "      <td>[Light Heavyweight, Heavyweight, Light Heavywe...</td>\n",
       "      <td>[KO/TKO, KO/TKO, SUB, KO/TKO, SUB, U-DEC, U-DE...</td>\n",
       "      <td>[4, 1, 3, 2, 1, 3, 3, 2]</td>\n",
       "      <td>[2:46, 4:59, 0:52, 1:56, 4:09, 5:00, 5:00, 0:09]</td>\n",
       "    </tr>\n",
       "    <tr>\n",
       "      <th>1</th>\n",
       "      <td>2018-04-14</td>\n",
       "      <td>UFC Fight Night: Poirier vs. Gaethje</td>\n",
       "      <td>[http://www.ufcstats.com/fight-details/bfae2fb...</td>\n",
       "      <td>[(Dustin Poirier, Justin Gaethje), (Alex Olive...</td>\n",
       "      <td>[[174, 115], [9, 12], [57, 46], [61, 36], [31,...</td>\n",
       "      <td>[[0, 0], [3, 1], [0, 2], [3, 0], [1, 0], [0, 0...</td>\n",
       "      <td>[[0, 0], [1, 1], [0, 0], [0, 3], [1, 0], [0, 0...</td>\n",
       "      <td>[[0, 0], [4, 2], [0, 1], [0, 1], [1, 0], [0, 0...</td>\n",
       "      <td>[Lightweight, Welterweight, Middleweight, Wome...</td>\n",
       "      <td>[KO/TKO, SUB, S-DEC, S-DEC, SUB, KO/TKO, U-DEC...</td>\n",
       "      <td>[4, 2, 3, 3, 1, 2, 3, 3, 2, 3, 3, 2, 2, 3]</td>\n",
       "      <td>[0:33, 3:17, 5:00, 5:00, 4:28, 4:12, 5:00, 2:1...</td>\n",
       "    </tr>\n",
       "    <tr>\n",
       "      <th>2</th>\n",
       "      <td>2020-01-25</td>\n",
       "      <td>UFC Fight Night: Blaydes vs. Dos Santos</td>\n",
       "      <td>[http://www.ufcstats.com/fight-details/037d2f4...</td>\n",
       "      <td>[(Curtis Blaydes, Junior Dos Santos), (Michael...</td>\n",
       "      <td>[[28, 7], [9, 14], [2, 2], [70, 46], [101, 31]...</td>\n",
       "      <td>[[0, 0], [6, 0], [1, 0], [1, 0], [0, 6], [0, 0...</td>\n",
       "      <td>[[0, 0], [0, 0], [1, 0], [0, 0], [0, 0], [0, 0...</td>\n",
       "      <td>[[0, 0], [3, 0], [1, 0], [2, 0], [0, 4], [0, 0...</td>\n",
       "      <td>[Heavyweight, Welterweight, Flyweight, Women's...</td>\n",
       "      <td>[KO/TKO, U-DEC, SUB, KO/TKO, U-DEC, U-DEC, U-D...</td>\n",
       "      <td>[2, 3, 1, 2, 3, 3, 3, 3, 3, 3, 3, 1]</td>\n",
       "      <td>[1:06, 5:00, 2:33, 4:26, 5:00, 5:00, 5:00, 5:0...</td>\n",
       "    </tr>\n",
       "    <tr>\n",
       "      <th>3</th>\n",
       "      <td>2019-01-19</td>\n",
       "      <td>UFC Fight Night: Cejudo vs. Dillashaw</td>\n",
       "      <td>[http://www.ufcstats.com/fight-details/85511ab...</td>\n",
       "      <td>[(Henry Cejudo, TJ Dillashaw), (Allen Crowder,...</td>\n",
       "      <td>[[18, 1], [12, 29], [51, 1], [21, 49], [17, 10...</td>\n",
       "      <td>[[0, 0], [1, 0], [6, 0], [7, 3], [0, 4], [1, 0...</td>\n",
       "      <td>[[0, 0], [1, 0], [0, 0], [0, 0], [2, 0], [1, 0...</td>\n",
       "      <td>[[0, 0], [2, 0], [7, 0], [2, 2], [1, 4], [3, 2...</td>\n",
       "      <td>[Flyweight, Heavyweight, Lightweight, Flyweigh...</td>\n",
       "      <td>[KO/TKO, DQ, KO/TKO, U-DEC, SUB, SUB, KO/TKO, ...</td>\n",
       "      <td>[1, 2, 2, 3, 2, 1, 2, 3, 1, 1, 3, 3, 1]</td>\n",
       "      <td>[0:32, 2:28, 4:59, 5:00, 1:50, 3:21, 3:43, 5:0...</td>\n",
       "    </tr>\n",
       "    <tr>\n",
       "      <th>4</th>\n",
       "      <td>2006-07-08</td>\n",
       "      <td>UFC 61: Bitter Rivals</td>\n",
       "      <td>[http://www.ufcstats.com/fight-details/3c3533b...</td>\n",
       "      <td>[(Tim Sylvia, Andrei Arlovski), (Joshua Burkma...</td>\n",
       "      <td>[[97, 66], [35, 19], [11, 0], [53, 48], [28, 1...</td>\n",
       "      <td>[[0, 0], [4, 1], [1, 0], [3, 0], [3, 0], [3, 0...</td>\n",
       "      <td>[[0, 0], [0, 1], [0, 0], [0, 1], [1, 2], [1, 0...</td>\n",
       "      <td>[[0, 0], [1, 0], [0, 0], [4, 0], [1, 0], [2, 0...</td>\n",
       "      <td>[Heavyweight, Welterweight, Light Heavyweight,...</td>\n",
       "      <td>[U-DEC, U-DEC, KO/TKO, U-DEC, KO/TKO, SUB, KO/...</td>\n",
       "      <td>[5, 3, 1, 3, 2, 3, 1, 1, 3]</td>\n",
       "      <td>[5:00, 5:00, 1:18, 5:00, 5:00, 0:47, 2:42, 4:1...</td>\n",
       "    </tr>\n",
       "    <tr>\n",
       "      <th>...</th>\n",
       "      <td>...</td>\n",
       "      <td>...</td>\n",
       "      <td>...</td>\n",
       "      <td>...</td>\n",
       "      <td>...</td>\n",
       "      <td>...</td>\n",
       "      <td>...</td>\n",
       "      <td>...</td>\n",
       "      <td>...</td>\n",
       "      <td>...</td>\n",
       "      <td>...</td>\n",
       "      <td>...</td>\n",
       "    </tr>\n",
       "    <tr>\n",
       "      <th>516</th>\n",
       "      <td>2014-05-31</td>\n",
       "      <td>UFC Fight Night: Munoz vs Mousasi</td>\n",
       "      <td>[http://www.ufcstats.com/fight-details/5d7c91a...</td>\n",
       "      <td>[(Gegard Mousasi, Mark Munoz), (CB Dollaway, F...</td>\n",
       "      <td>[[18, 3], [44, 29], [48, 44], [5, 7], [50, 49]...</td>\n",
       "      <td>[[0, 0], [3, 1], [1, 0], [0, 2], [2, 0], [3, 0...</td>\n",
       "      <td>[[2, 0], [0, 1], [0, 0], [2, 0], [0, 0], [1, 0...</td>\n",
       "      <td>[[3, 0], [7, 0], [0, 0], [0, 2], [2, 1], [4, 3...</td>\n",
       "      <td>[Middleweight, Middleweight, Middleweight, Fea...</td>\n",
       "      <td>[SUB, U-DEC, S-DEC, SUB, U-DEC, SUB, KO/TKO, U...</td>\n",
       "      <td>[1, 3, 3, 1, 3, 2, 1, 3, 3, 3]</td>\n",
       "      <td>[3:57, 5:00, 5:00, 4:15, 5:00, 4:59, 0:25, 5:0...</td>\n",
       "    </tr>\n",
       "    <tr>\n",
       "      <th>517</th>\n",
       "      <td>2006-02-04</td>\n",
       "      <td>UFC 57: Liddell vs Couture 3</td>\n",
       "      <td>[http://www.ufcstats.com/fight-details/0e94e0a...</td>\n",
       "      <td>[(Chuck Liddell, Randy Couture), (Brandon Vera...</td>\n",
       "      <td>[[19, 7], [7, 4], [31, 3], [9, 1], [51, 38], [...</td>\n",
       "      <td>[[0, 1], [0, 0], [1, 1], [0, 0], [3, 0], [9, 0...</td>\n",
       "      <td>[[0, 0], [0, 0], [0, 0], [1, 0], [0, 1], [0, 0...</td>\n",
       "      <td>[[0, 0], [0, 0], [1, 0], [1, 1], [0, 0], [3, 0...</td>\n",
       "      <td>[Light Heavyweight, Heavyweight, Heavyweight, ...</td>\n",
       "      <td>[KO/TKO, KO/TKO, KO/TKO, SUB, U-DEC, U-DEC, KO...</td>\n",
       "      <td>[2, 1, 1, 1, 3, 3, 2, 1, 3]</td>\n",
       "      <td>[1:28, 1:25, 4:10, 2:21, 5:00, 5:00, 2:27, 4:3...</td>\n",
       "    </tr>\n",
       "    <tr>\n",
       "      <th>518</th>\n",
       "      <td>2012-06-23</td>\n",
       "      <td>UFC 147: Silva vs Franklin 2</td>\n",
       "      <td>[http://www.ufcstats.com/fight-details/1b80d56...</td>\n",
       "      <td>[(Rich Franklin, Wanderlei Silva), (Cezar Ferr...</td>\n",
       "      <td>[[122, 58], [42, 38], [36, 32], [31, 3], [19, ...</td>\n",
       "      <td>[[1, 0], [0, 0], [0, 0], [0, 0], [5, 0], [0, 0...</td>\n",
       "      <td>[[0, 0], [0, 0], [0, 1], [0, 0], [0, 1], [1, 0...</td>\n",
       "      <td>[[1, 0], [0, 0], [0, 0], [0, 0], [4, 1], [1, 0...</td>\n",
       "      <td>[Catch Weight, Middleweight, Featherweight, He...</td>\n",
       "      <td>[U-DEC, U-DEC, U-DEC, KO/TKO, U-DEC, SUB, KO/T...</td>\n",
       "      <td>[5, 3, 3, 1, 3, 1, 1, 3, 3, 3, 3]</td>\n",
       "      <td>[5:00, 5:00, 5:00, 2:28, 5:00, 2:12, 4:21, 5:0...</td>\n",
       "    </tr>\n",
       "    <tr>\n",
       "      <th>519</th>\n",
       "      <td>2018-11-10</td>\n",
       "      <td>UFC Fight Night: Korean Zombie vs. Rodriguez</td>\n",
       "      <td>[http://www.ufcstats.com/fight-details/0ccd162...</td>\n",
       "      <td>[(Yair Rodriguez, Chan Sung Jung), (Donald Cer...</td>\n",
       "      <td>[[119, 126], [9, 11], [42, 24], [44, 8], [68, ...</td>\n",
       "      <td>[[0, 0], [0, 1], [0, 0], [4, 0], [1, 0], [1, 1...</td>\n",
       "      <td>[[0, 0], [1, 0], [0, 0], [2, 4], [0, 0], [1, 0...</td>\n",
       "      <td>[[0, 0], [2, 1], [0, 0], [5, 0], [1, 0], [0, 1...</td>\n",
       "      <td>[Featherweight, Welterweight, Women's Bantamwe...</td>\n",
       "      <td>[KO/TKO, SUB, U-DEC, U-DEC, KO/TKO, S-DEC, S-D...</td>\n",
       "      <td>[5, 1, 3, 3, 2, 3, 3, 2, 1, 1, 3, 3]</td>\n",
       "      <td>[4:59, 4:46, 5:00, 5:00, 2:01, 5:00, 5:00, 2:4...</td>\n",
       "    </tr>\n",
       "    <tr>\n",
       "      <th>520</th>\n",
       "      <td>2017-02-19</td>\n",
       "      <td>UFC Fight Night: Lewis vs. Browne</td>\n",
       "      <td>[http://www.ufcstats.com/fight-details/ab14dbf...</td>\n",
       "      <td>[(Derrick Lewis, Travis Browne), (Johny Hendri...</td>\n",
       "      <td>[[39, 21], [51, 37], [55, 10], [38, 11], [7, 0...</td>\n",
       "      <td>[[0, 0], [0, 2], [1, 0], [1, 3], [2, 0], [0, 0...</td>\n",
       "      <td>[[0, 0], [0, 0], [0, 0], [0, 2], [1, 0], [0, 0...</td>\n",
       "      <td>[[1, 0], [0, 0], [0, 0], [0, 2], [2, 0], [0, 0...</td>\n",
       "      <td>[Heavyweight, Middleweight, Featherweight, Mid...</td>\n",
       "      <td>[KO/TKO, U-DEC, U-DEC, U-DEC, SUB, KO/TKO, U-D...</td>\n",
       "      <td>[2, 3, 3, 3, 1, 1, 3, 3, 3, 2, 1]</td>\n",
       "      <td>[3:12, 5:00, 5:00, 5:00, 1:14, 4:44, 5:00, 5:0...</td>\n",
       "    </tr>\n",
       "  </tbody>\n",
       "</table>\n",
       "<p>521 rows × 12 columns</p>\n",
       "</div>"
      ],
      "text/plain": [
       "          date                                          name  \\\n",
       "0   2005-08-20                         UFC 54: Boiling Point   \n",
       "1   2018-04-14          UFC Fight Night: Poirier vs. Gaethje   \n",
       "2   2020-01-25       UFC Fight Night: Blaydes vs. Dos Santos   \n",
       "3   2019-01-19         UFC Fight Night: Cejudo vs. Dillashaw   \n",
       "4   2006-07-08                         UFC 61: Bitter Rivals   \n",
       "..         ...                                           ...   \n",
       "516 2014-05-31             UFC Fight Night: Munoz vs Mousasi   \n",
       "517 2006-02-04                  UFC 57: Liddell vs Couture 3   \n",
       "518 2012-06-23                  UFC 147: Silva vs Franklin 2   \n",
       "519 2018-11-10  UFC Fight Night: Korean Zombie vs. Rodriguez   \n",
       "520 2017-02-19             UFC Fight Night: Lewis vs. Browne   \n",
       "\n",
       "                                      event_fight_list  \\\n",
       "0    [http://www.ufcstats.com/fight-details/5a3fcd3...   \n",
       "1    [http://www.ufcstats.com/fight-details/bfae2fb...   \n",
       "2    [http://www.ufcstats.com/fight-details/037d2f4...   \n",
       "3    [http://www.ufcstats.com/fight-details/85511ab...   \n",
       "4    [http://www.ufcstats.com/fight-details/3c3533b...   \n",
       "..                                                 ...   \n",
       "516  [http://www.ufcstats.com/fight-details/5d7c91a...   \n",
       "517  [http://www.ufcstats.com/fight-details/0e94e0a...   \n",
       "518  [http://www.ufcstats.com/fight-details/1b80d56...   \n",
       "519  [http://www.ufcstats.com/fight-details/0ccd162...   \n",
       "520  [http://www.ufcstats.com/fight-details/ab14dbf...   \n",
       "\n",
       "                                              matchups  \\\n",
       "0    [(Chuck Liddell, Jeremy Horn), (Tim Sylvia, Tr...   \n",
       "1    [(Dustin Poirier, Justin Gaethje), (Alex Olive...   \n",
       "2    [(Curtis Blaydes, Junior Dos Santos), (Michael...   \n",
       "3    [(Henry Cejudo, TJ Dillashaw), (Allen Crowder,...   \n",
       "4    [(Tim Sylvia, Andrei Arlovski), (Joshua Burkma...   \n",
       "..                                                 ...   \n",
       "516  [(Gegard Mousasi, Mark Munoz), (CB Dollaway, F...   \n",
       "517  [(Chuck Liddell, Randy Couture), (Brandon Vera...   \n",
       "518  [(Rich Franklin, Wanderlei Silva), (Cezar Ferr...   \n",
       "519  [(Yair Rodriguez, Chan Sung Jung), (Donald Cer...   \n",
       "520  [(Derrick Lewis, Travis Browne), (Johny Hendri...   \n",
       "\n",
       "                                         strike_counts  \\\n",
       "0    [[64, 31], [31, 13], [27, 8], [35, 3], [25, 1]...   \n",
       "1    [[174, 115], [9, 12], [57, 46], [61, 36], [31,...   \n",
       "2    [[28, 7], [9, 14], [2, 2], [70, 46], [101, 31]...   \n",
       "3    [[18, 1], [12, 29], [51, 1], [21, 49], [17, 10...   \n",
       "4    [[97, 66], [35, 19], [11, 0], [53, 48], [28, 1...   \n",
       "..                                                 ...   \n",
       "516  [[18, 3], [44, 29], [48, 44], [5, 7], [50, 49]...   \n",
       "517  [[19, 7], [7, 4], [31, 3], [9, 1], [51, 38], [...   \n",
       "518  [[122, 58], [42, 38], [36, 32], [31, 3], [19, ...   \n",
       "519  [[119, 126], [9, 11], [42, 24], [44, 8], [68, ...   \n",
       "520  [[39, 21], [51, 37], [55, 10], [38, 11], [7, 0...   \n",
       "\n",
       "                                       takedown_counts  \\\n",
       "0    [[0, 0], [0, 0], [4, 1], [3, 0], [1, 0], [4, 2...   \n",
       "1    [[0, 0], [3, 1], [0, 2], [3, 0], [1, 0], [0, 0...   \n",
       "2    [[0, 0], [6, 0], [1, 0], [1, 0], [0, 6], [0, 0...   \n",
       "3    [[0, 0], [1, 0], [6, 0], [7, 3], [0, 4], [1, 0...   \n",
       "4    [[0, 0], [4, 1], [1, 0], [3, 0], [3, 0], [3, 0...   \n",
       "..                                                 ...   \n",
       "516  [[0, 0], [3, 1], [1, 0], [0, 2], [2, 0], [3, 0...   \n",
       "517  [[0, 1], [0, 0], [1, 1], [0, 0], [3, 0], [9, 0...   \n",
       "518  [[1, 0], [0, 0], [0, 0], [0, 0], [5, 0], [0, 0...   \n",
       "519  [[0, 0], [0, 1], [0, 0], [4, 0], [1, 0], [1, 1...   \n",
       "520  [[0, 0], [0, 2], [1, 0], [1, 3], [2, 0], [0, 0...   \n",
       "\n",
       "                                     submission_counts  \\\n",
       "0    [[0, 0], [0, 0], [3, 0], [1, 0], [2, 0], [4, 1...   \n",
       "1    [[0, 0], [1, 1], [0, 0], [0, 3], [1, 0], [0, 0...   \n",
       "2    [[0, 0], [0, 0], [1, 0], [0, 0], [0, 0], [0, 0...   \n",
       "3    [[0, 0], [1, 0], [0, 0], [0, 0], [2, 0], [1, 0...   \n",
       "4    [[0, 0], [0, 1], [0, 0], [0, 1], [1, 2], [1, 0...   \n",
       "..                                                 ...   \n",
       "516  [[2, 0], [0, 1], [0, 0], [2, 0], [0, 0], [1, 0...   \n",
       "517  [[0, 0], [0, 0], [0, 0], [1, 0], [0, 1], [0, 0...   \n",
       "518  [[0, 0], [0, 0], [0, 1], [0, 0], [0, 1], [1, 0...   \n",
       "519  [[0, 0], [1, 0], [0, 0], [2, 4], [0, 0], [1, 0...   \n",
       "520  [[0, 0], [0, 0], [0, 0], [0, 2], [1, 0], [0, 0...   \n",
       "\n",
       "                                           pass_counts  \\\n",
       "0    [[0, 0], [0, 0], [0, 0], [6, 0], [10, 0], [5, ...   \n",
       "1    [[0, 0], [4, 2], [0, 1], [0, 1], [1, 0], [0, 0...   \n",
       "2    [[0, 0], [3, 0], [1, 0], [2, 0], [0, 4], [0, 0...   \n",
       "3    [[0, 0], [2, 0], [7, 0], [2, 2], [1, 4], [3, 2...   \n",
       "4    [[0, 0], [1, 0], [0, 0], [4, 0], [1, 0], [2, 0...   \n",
       "..                                                 ...   \n",
       "516  [[3, 0], [7, 0], [0, 0], [0, 2], [2, 1], [4, 3...   \n",
       "517  [[0, 0], [0, 0], [1, 0], [1, 1], [0, 0], [3, 0...   \n",
       "518  [[1, 0], [0, 0], [0, 0], [0, 0], [4, 1], [1, 0...   \n",
       "519  [[0, 0], [2, 1], [0, 0], [5, 0], [1, 0], [0, 1...   \n",
       "520  [[1, 0], [0, 0], [0, 0], [0, 2], [2, 0], [0, 0...   \n",
       "\n",
       "                                          weight_class  \\\n",
       "0    [Light Heavyweight, Heavyweight, Light Heavywe...   \n",
       "1    [Lightweight, Welterweight, Middleweight, Wome...   \n",
       "2    [Heavyweight, Welterweight, Flyweight, Women's...   \n",
       "3    [Flyweight, Heavyweight, Lightweight, Flyweigh...   \n",
       "4    [Heavyweight, Welterweight, Light Heavyweight,...   \n",
       "..                                                 ...   \n",
       "516  [Middleweight, Middleweight, Middleweight, Fea...   \n",
       "517  [Light Heavyweight, Heavyweight, Heavyweight, ...   \n",
       "518  [Catch Weight, Middleweight, Featherweight, He...   \n",
       "519  [Featherweight, Welterweight, Women's Bantamwe...   \n",
       "520  [Heavyweight, Middleweight, Featherweight, Mid...   \n",
       "\n",
       "                                            win_method  \\\n",
       "0    [KO/TKO, KO/TKO, SUB, KO/TKO, SUB, U-DEC, U-DE...   \n",
       "1    [KO/TKO, SUB, S-DEC, S-DEC, SUB, KO/TKO, U-DEC...   \n",
       "2    [KO/TKO, U-DEC, SUB, KO/TKO, U-DEC, U-DEC, U-D...   \n",
       "3    [KO/TKO, DQ, KO/TKO, U-DEC, SUB, SUB, KO/TKO, ...   \n",
       "4    [U-DEC, U-DEC, KO/TKO, U-DEC, KO/TKO, SUB, KO/...   \n",
       "..                                                 ...   \n",
       "516  [SUB, U-DEC, S-DEC, SUB, U-DEC, SUB, KO/TKO, U...   \n",
       "517  [KO/TKO, KO/TKO, KO/TKO, SUB, U-DEC, U-DEC, KO...   \n",
       "518  [U-DEC, U-DEC, U-DEC, KO/TKO, U-DEC, SUB, KO/T...   \n",
       "519  [KO/TKO, SUB, U-DEC, U-DEC, KO/TKO, S-DEC, S-D...   \n",
       "520  [KO/TKO, U-DEC, U-DEC, U-DEC, SUB, KO/TKO, U-D...   \n",
       "\n",
       "                                    final_round  \\\n",
       "0                      [4, 1, 3, 2, 1, 3, 3, 2]   \n",
       "1    [4, 2, 3, 3, 1, 2, 3, 3, 2, 3, 3, 2, 2, 3]   \n",
       "2          [2, 3, 1, 2, 3, 3, 3, 3, 3, 3, 3, 1]   \n",
       "3       [1, 2, 2, 3, 2, 1, 2, 3, 1, 1, 3, 3, 1]   \n",
       "4                   [5, 3, 1, 3, 2, 3, 1, 1, 3]   \n",
       "..                                          ...   \n",
       "516              [1, 3, 3, 1, 3, 2, 1, 3, 3, 3]   \n",
       "517                 [2, 1, 1, 1, 3, 3, 2, 1, 3]   \n",
       "518           [5, 3, 3, 1, 3, 1, 1, 3, 3, 3, 3]   \n",
       "519        [5, 1, 3, 3, 2, 3, 3, 2, 1, 1, 3, 3]   \n",
       "520           [2, 3, 3, 3, 1, 1, 3, 3, 3, 2, 1]   \n",
       "\n",
       "                                      final_round_time  \n",
       "0     [2:46, 4:59, 0:52, 1:56, 4:09, 5:00, 5:00, 0:09]  \n",
       "1    [0:33, 3:17, 5:00, 5:00, 4:28, 4:12, 5:00, 2:1...  \n",
       "2    [1:06, 5:00, 2:33, 4:26, 5:00, 5:00, 5:00, 5:0...  \n",
       "3    [0:32, 2:28, 4:59, 5:00, 1:50, 3:21, 3:43, 5:0...  \n",
       "4    [5:00, 5:00, 1:18, 5:00, 5:00, 0:47, 2:42, 4:1...  \n",
       "..                                                 ...  \n",
       "516  [3:57, 5:00, 5:00, 4:15, 5:00, 4:59, 0:25, 5:0...  \n",
       "517  [1:28, 1:25, 4:10, 2:21, 5:00, 5:00, 2:27, 4:3...  \n",
       "518  [5:00, 5:00, 5:00, 2:28, 5:00, 2:12, 4:21, 5:0...  \n",
       "519  [4:59, 4:46, 5:00, 5:00, 2:01, 5:00, 5:00, 2:4...  \n",
       "520  [3:12, 5:00, 5:00, 5:00, 1:14, 4:44, 5:00, 5:0...  \n",
       "\n",
       "[521 rows x 12 columns]"
      ]
     },
     "execution_count": 242,
     "metadata": {},
     "output_type": "execute_result"
    }
   ],
   "source": [
    "event_database_df['event_fight_list'] = event_fight_list\n",
    "\n",
    "event_database_df['matchups'] = matchup_list\n",
    "\n",
    "event_database_df['strike_counts'] = fighter_strike_count_list\n",
    "\n",
    "event_database_df['takedown_counts'] = fight_takedown_list\n",
    "\n",
    "event_database_df['submission_counts'] = fight_submission_list\n",
    "\n",
    "event_database_df['pass_counts'] = fight_pass_list\n",
    "\n",
    "event_database_df['weight_class'] = fight_weight_class_list\n",
    "\n",
    "event_database_df['win_method'] = fight_win_method_list\n",
    "\n",
    "event_database_df['final_round'] = fight_final_round_list\n",
    "\n",
    "event_database_df['final_round_time'] = fight_final_round_time_list\n",
    "\n",
    "event_database_df"
   ]
  },
  {
   "cell_type": "code",
   "execution_count": 243,
   "metadata": {},
   "outputs": [],
   "source": [
    "event_database_df.to_csv('event_database_csv', index=False)"
   ]
  },
  {
   "cell_type": "markdown",
   "metadata": {},
   "source": [
    "--------------------------------------FIX IT FIX IT FIX IT FIX IT FIX IT FIX IT--------------------------------------------"
   ]
  }
 ],
 "metadata": {
  "kernelspec": {
   "display_name": "Python [conda env:work-env] *",
   "language": "python",
   "name": "conda-env-work-env-py"
  },
  "language_info": {
   "codemirror_mode": {
    "name": "ipython",
    "version": 3
   },
   "file_extension": ".py",
   "mimetype": "text/x-python",
   "name": "python",
   "nbconvert_exporter": "python",
   "pygments_lexer": "ipython3",
   "version": "3.7.7"
  }
 },
 "nbformat": 4,
 "nbformat_minor": 2
}
