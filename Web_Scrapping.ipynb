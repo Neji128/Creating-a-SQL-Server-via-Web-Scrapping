{
 "cells": [
  {
   "cell_type": "markdown",
   "metadata": {},
   "source": [
    "# UFC_Stats Web Scraping"
   ]
  },
  {
   "cell_type": "markdown",
   "metadata": {},
   "source": [
    "## importing pertinent libraries"
   ]
  },
  {
   "cell_type": "code",
   "execution_count": 1,
   "metadata": {},
   "outputs": [],
   "source": [
    "#importing pertinent libraries\n",
    "import pandas as pd\n",
    "from urllib.request import urlopen\n",
    "from bs4 import BeautifulSoup\n",
    "import requests, re\n",
    "import json\n",
    "import itertools\n",
    "import dask.dataframe as dd"
   ]
  },
  {
   "cell_type": "markdown",
   "metadata": {},
   "source": [
    "## Extracting UFC urls"
   ]
  },
  {
   "cell_type": "code",
   "execution_count": 2,
   "metadata": {},
   "outputs": [],
   "source": [
    "#creating a list of unique fighter URLs available on website\n",
    "fighter_url_list = []\n",
    "response = requests.get('http://www.ufcstats.com/statistics/fighters?char=a&page=all')\n",
    "soup = BeautifulSoup(response.content, 'html.parser')\n",
    "\n",
    "#targeting URLs that contain fighter data\n",
    "fighters = soup.findAll('a', attrs={'href': re.compile('http:')})\n",
    "for fighter in fighters:\n",
    "    fighter_url_list.append(fighter.get('href'))\n",
    "\n",
    "#removing duplicate URLs\n",
    "fighter_url_list = list(set(fighter_url_list))"
   ]
  },
  {
   "cell_type": "code",
   "execution_count": 3,
   "metadata": {},
   "outputs": [
    {
     "data": {
      "text/plain": [
       "['http://www.ufcstats.com/fighter-details/fe5a9547479396ab',\n",
       " 'http://www.ufcstats.com/fighter-details/9e3dbb9c68ed5d1a',\n",
       " 'http://www.ufcstats.com/fighter-details/1562b12763cc8d67',\n",
       " 'http://www.ufcstats.com/fighter-details/39f62b833e4cf126',\n",
       " 'http://www.ufcstats.com/fighter-details/d0f3959b4a9747e6',\n",
       " 'http://www.ufcstats.com/fighter-details/063649e21bc9d6d5',\n",
       " 'http://www.ufcstats.com/fighter-details/2eada40ac8801559',\n",
       " 'http://www.ufcstats.com/fighter-details/7bd94b60d7521e4a',\n",
       " 'http://www.ufcstats.com/fighter-details/c487223b0289bda9',\n",
       " 'http://www.ufcstats.com/fighter-details/15df64c02b6b0fde',\n",
       " 'http://www.ufcstats.com/fighter-details/73ef22f25d0f70e2',\n",
       " 'http://www.ufcstats.com/fighter-details/6eaec40f724852f4',\n",
       " 'http://www.ufcstats.com/fighter-details/87a1dc546b1c5caf',\n",
       " 'http://www.ufcstats.com/statistics/fighters?char=a',\n",
       " 'http://www.ufcstats.com/fighter-details/e17770faae3ca54c']"
      ]
     },
     "execution_count": 3,
     "metadata": {},
     "output_type": "execute_result"
    }
   ],
   "source": [
    "fighter_url_list[:15]"
   ]
  },
  {
   "cell_type": "markdown",
   "metadata": {},
   "source": [
    "Looks like there are some URLs we don't need in out list. Let's weed them out."
   ]
  },
  {
   "cell_type": "code",
   "execution_count": 4,
   "metadata": {},
   "outputs": [],
   "source": [
    "#removing invalid URLs\n",
    "for url in fighter_url_list:\n",
    "    if 'fighter-details' not in url:\n",
    "        fighter_url_list.remove(url)"
   ]
  },
  {
   "cell_type": "markdown",
   "metadata": {},
   "source": [
    "## Creating Soup Dataframes"
   ]
  },
  {
   "cell_type": "markdown",
   "metadata": {},
   "source": [
    "## Creating Dataframe Building Blocks"
   ]
  },
  {
   "cell_type": "code",
   "execution_count": 5,
   "metadata": {},
   "outputs": [],
   "source": [
    "def info_generator(url):\n",
    "    '''This function parses basic request to a url'''\n",
    "    \n",
    "    response = requests.get(url)\n",
    "    \n",
    "    soup = BeautifulSoup(response.content, 'html.parser')\n",
    "    \n",
    "    return soup"
   ]
  },
  {
   "cell_type": "code",
   "execution_count": 6,
   "metadata": {},
   "outputs": [],
   "source": [
    "#creating a soup list to reduce number of website requests\n",
    "basic_soup_list = list(map(info_generator, fighter_url_list))"
   ]
  },
  {
   "cell_type": "code",
   "execution_count": 7,
   "metadata": {},
   "outputs": [],
   "source": [
    "def base_stats_soup(soup):\n",
    "    '''This function identifies all statistics for later extraction'''\n",
    "    \n",
    "    base_stats = soup.findChildren('li', attrs={'class': re.compile('b-list')})\n",
    "    \n",
    "    return base_stats"
   ]
  },
  {
   "cell_type": "code",
   "execution_count": 8,
   "metadata": {},
   "outputs": [],
   "source": [
    "def fighter_history_fetcher(soup):\n",
    "    '''This function is meant to extract the html information for each fighter as a list of urls. '''\n",
    "    \n",
    "    soup_holder = soup.findAll('a', attrs={'href': re.compile('fight-details')})\n",
    "    \n",
    "    list_of_fights = []\n",
    "    \n",
    "    for x in soup_holder:\n",
    "        fight_holder = []\n",
    "        \n",
    "        fight_holder.append(x.get('href'))\n",
    "        \n",
    "        list_of_fights.append(fight_holder) \n",
    "        \n",
    "    return list_of_fights"
   ]
  },
  {
   "cell_type": "markdown",
   "metadata": {},
   "source": [
    "### Generating basic statistics lists"
   ]
  },
  {
   "cell_type": "code",
   "execution_count": 10,
   "metadata": {},
   "outputs": [],
   "source": [
    "def stats_soup(soup):\n",
    "    '''parses soups down to the level of stats for faster, fluid parsing'''\n",
    "    \n",
    "    base_stats = soup.findChildren('li', attrs={'class': re.compile('b-list')})\n",
    "    \n",
    "    return base_stats"
   ]
  },
  {
   "cell_type": "code",
   "execution_count": 11,
   "metadata": {},
   "outputs": [],
   "source": [
    "stats_soups = list(map(stats_soup, basic_soup_list))"
   ]
  },
  {
   "cell_type": "code",
   "execution_count": 152,
   "metadata": {},
   "outputs": [
    {
     "data": {
      "text/plain": [
       "[[['http://www.ufcstats.com/fight-details/435c93cb89016fd1'],\n",
       "  ['http://www.ufcstats.com/fight-details/b2857e799319f931'],\n",
       "  ['http://www.ufcstats.com/fight-details/b91807add93763c9'],\n",
       "  ['http://www.ufcstats.com/fight-details/f7fac3df5c6dc91f']],\n",
       " [['http://www.ufcstats.com/fight-details/cb640b7dcc9db7e8'],\n",
       "  ['http://www.ufcstats.com/fight-details/431f9bad886eb2ae']],\n",
       " [['http://www.ufcstats.com/fight-details/c15b253026ff6b86'],\n",
       "  ['http://www.ufcstats.com/fight-details/a0dfc397caef4afe']]]"
      ]
     },
     "execution_count": 152,
     "metadata": {},
     "output_type": "execute_result"
    }
   ],
   "source": [
    "fighter_history_url_list = list(map(fighter_history_fetcher, basic_soup_list))\n",
    "fighter_history_url_list[:3]"
   ]
  },
  {
   "cell_type": "code",
   "execution_count": 153,
   "metadata": {},
   "outputs": [],
   "source": [
    "def compound_flattener(fight_url_list):\n",
    "    flattened_fight_urls = list(itertools.chain(*fight_url_list))\n",
    "    return flattened_fight_urls"
   ]
  },
  {
   "cell_type": "code",
   "execution_count": 154,
   "metadata": {},
   "outputs": [],
   "source": [
    "fighter_history_url_list = list(map(compound_flattener, fighter_history_url_list))"
   ]
  },
  {
   "cell_type": "code",
   "execution_count": 155,
   "metadata": {},
   "outputs": [
    {
     "data": {
      "text/plain": [
       "[['http://www.ufcstats.com/fight-details/435c93cb89016fd1',\n",
       "  'http://www.ufcstats.com/fight-details/b2857e799319f931',\n",
       "  'http://www.ufcstats.com/fight-details/b91807add93763c9',\n",
       "  'http://www.ufcstats.com/fight-details/f7fac3df5c6dc91f'],\n",
       " ['http://www.ufcstats.com/fight-details/cb640b7dcc9db7e8',\n",
       "  'http://www.ufcstats.com/fight-details/431f9bad886eb2ae'],\n",
       " ['http://www.ufcstats.com/fight-details/c15b253026ff6b86',\n",
       "  'http://www.ufcstats.com/fight-details/a0dfc397caef4afe']]"
      ]
     },
     "execution_count": 155,
     "metadata": {},
     "output_type": "execute_result"
    }
   ],
   "source": [
    "fighter_history_url_list[:3]"
   ]
  },
  {
   "cell_type": "markdown",
   "metadata": {},
   "source": [
    "### Basic Statistics DataFrame Construction"
   ]
  },
  {
   "cell_type": "code",
   "execution_count": 17,
   "metadata": {},
   "outputs": [],
   "source": [
    "def fighter_name(soup):\n",
    "    \n",
    "    name = soup.find('span', attrs={'class': re.compile('b-content__title-highlight')})\n",
    "    \n",
    "    return name.text.strip()#[0].text.strip()"
   ]
  },
  {
   "cell_type": "code",
   "execution_count": 18,
   "metadata": {},
   "outputs": [],
   "source": [
    "def fighter_record(soup):\n",
    "    \n",
    "    record = soup.findChildren('span', attrs={'class': re.compile('b-content__title-record')})\n",
    "    \n",
    "    return record[0].text.strip().split(':')[1].strip()"
   ]
  },
  {
   "cell_type": "code",
   "execution_count": 19,
   "metadata": {},
   "outputs": [],
   "source": [
    "def basic_stats_height(soup):\n",
    "    '''soups run thorugh this function should be run through stats_soup function beforehand.'''\n",
    "    \n",
    "    #feet\n",
    "    height = soup[0].text.strip().split(':')[1].strip().split(' ')[0].replace(\"'\", \"\")\n",
    "    \n",
    "   #inches\n",
    "    if height == '--':\n",
    "        pass\n",
    "    else:\n",
    "        \n",
    "        height = int(height)\n",
    "        \n",
    "        inches = int(soup[0].text.strip().split(':')[1].strip().split(' ')[1].replace(\"'\", \"\").replace('\"', '').replace(\"--\", \"0\"))\n",
    "\n",
    "        height_to_inches = (height * 12) \n",
    "    \n",
    "        final_height = height_to_inches + inches\n",
    "    \n",
    "        return (inches + height_to_inches)"
   ]
  },
  {
   "cell_type": "code",
   "execution_count": 20,
   "metadata": {},
   "outputs": [],
   "source": [
    "def basic_stats_weight(soup):\n",
    "    \n",
    "    weight = soup[1].text.strip().split(':')[1].strip().replace(' lbs.', '')\n",
    "    \n",
    "    if weight == '--':\n",
    "        pass\n",
    "    else:\n",
    "        weight = int(weight)\n",
    "    return weight "
   ]
  },
  {
   "cell_type": "code",
   "execution_count": 21,
   "metadata": {},
   "outputs": [],
   "source": [
    "def basic_stats_reach(soup):\n",
    "    \n",
    "    reach = soup[2].text.strip().split(':')[1].strip().replace('\"', '')\n",
    "    \n",
    "    if reach == '--':\n",
    "        pass\n",
    "    else:\n",
    "        reach = int(reach)\n",
    "    return reach"
   ]
  },
  {
   "cell_type": "code",
   "execution_count": 22,
   "metadata": {},
   "outputs": [],
   "source": [
    "def basic_stats_stance(soup):\n",
    "    \n",
    "    stance = soup[3].text.strip().split(':')[1].strip()\n",
    "    return stance"
   ]
  },
  {
   "cell_type": "code",
   "execution_count": 23,
   "metadata": {},
   "outputs": [],
   "source": [
    "def basic_stats_DOB(soup):\n",
    "    \n",
    "    DOB = soup[4].text.strip().split(':')[1].strip()\n",
    "    return DOB"
   ]
  },
  {
   "cell_type": "code",
   "execution_count": 24,
   "metadata": {},
   "outputs": [],
   "source": [
    "fighter_names = list(map(fighter_name, basic_soup_list))\n",
    "\n",
    "fighter_records = list(map(fighter_record, basic_soup_list))\n",
    "\n",
    "fighter_heights =  list(map(basic_stats_height, stats_soups))\n",
    "\n",
    "fighter_weights = list(map(basic_stats_weight, stats_soups))\n",
    "\n",
    "fighter_reachs = list(map(basic_stats_reach, stats_soups))\n",
    "\n",
    "fighter_stances = list(map(basic_stats_stance, stats_soups))\n",
    "\n",
    "fighter_DOBs = list(map(basic_stats_DOB, stats_soups))"
   ]
  },
  {
   "cell_type": "code",
   "execution_count": 25,
   "metadata": {},
   "outputs": [],
   "source": [
    "fighter_basic_stats_df = pd.DataFrame()\n",
    "\n",
    "fighter_basic_stats_df['name'] = fighter_names\n",
    "fighter_basic_stats_df['record'] = fighter_records\n",
    "fighter_basic_stats_df['height'] = fighter_heights\n",
    "fighter_basic_stats_df['weight'] = fighter_weights\n",
    "fighter_basic_stats_df['reach'] = fighter_reachs\n",
    "fighter_basic_stats_df['stance'] = fighter_stances\n",
    "fighter_basic_stats_df['DOB'] = fighter_DOBs"
   ]
  },
  {
   "cell_type": "code",
   "execution_count": 26,
   "metadata": {},
   "outputs": [
    {
     "data": {
      "text/html": [
       "<div>\n",
       "<style scoped>\n",
       "    .dataframe tbody tr th:only-of-type {\n",
       "        vertical-align: middle;\n",
       "    }\n",
       "\n",
       "    .dataframe tbody tr th {\n",
       "        vertical-align: top;\n",
       "    }\n",
       "\n",
       "    .dataframe thead th {\n",
       "        text-align: right;\n",
       "    }\n",
       "</style>\n",
       "<table border=\"1\" class=\"dataframe\">\n",
       "  <thead>\n",
       "    <tr style=\"text-align: right;\">\n",
       "      <th></th>\n",
       "      <th>name</th>\n",
       "      <th>record</th>\n",
       "      <th>height</th>\n",
       "      <th>weight</th>\n",
       "      <th>reach</th>\n",
       "      <th>stance</th>\n",
       "      <th>DOB</th>\n",
       "    </tr>\n",
       "  </thead>\n",
       "  <tbody>\n",
       "    <tr>\n",
       "      <th>0</th>\n",
       "      <td>Jim Alers</td>\n",
       "      <td>13-3-0 (1 NC)</td>\n",
       "      <td>69.0</td>\n",
       "      <td>145</td>\n",
       "      <td>71</td>\n",
       "      <td>Orthodox</td>\n",
       "      <td>Oct 14, 1986</td>\n",
       "    </tr>\n",
       "    <tr>\n",
       "      <th>1</th>\n",
       "      <td>Mike Aina</td>\n",
       "      <td>12-6-1 (1 NC)</td>\n",
       "      <td>69.0</td>\n",
       "      <td>155</td>\n",
       "      <td>--</td>\n",
       "      <td>Orthodox</td>\n",
       "      <td>--</td>\n",
       "    </tr>\n",
       "    <tr>\n",
       "      <th>2</th>\n",
       "      <td>Alex Andrade</td>\n",
       "      <td>10-5-0</td>\n",
       "      <td>71.0</td>\n",
       "      <td>200</td>\n",
       "      <td>--</td>\n",
       "      <td>Orthodox</td>\n",
       "      <td>May 14, 1974</td>\n",
       "    </tr>\n",
       "    <tr>\n",
       "      <th>3</th>\n",
       "      <td>Juan Alcain</td>\n",
       "      <td>1-2-0</td>\n",
       "      <td>NaN</td>\n",
       "      <td>--</td>\n",
       "      <td>--</td>\n",
       "      <td></td>\n",
       "      <td>--</td>\n",
       "    </tr>\n",
       "    <tr>\n",
       "      <th>4</th>\n",
       "      <td>Jose Aldo</td>\n",
       "      <td>28-6-0</td>\n",
       "      <td>67.0</td>\n",
       "      <td>135</td>\n",
       "      <td>70</td>\n",
       "      <td>Orthodox</td>\n",
       "      <td>Sep 09, 1986</td>\n",
       "    </tr>\n",
       "  </tbody>\n",
       "</table>\n",
       "</div>"
      ],
      "text/plain": [
       "           name         record  height weight reach    stance           DOB\n",
       "0     Jim Alers  13-3-0 (1 NC)    69.0    145    71  Orthodox  Oct 14, 1986\n",
       "1     Mike Aina  12-6-1 (1 NC)    69.0    155    --  Orthodox            --\n",
       "2  Alex Andrade         10-5-0    71.0    200    --  Orthodox  May 14, 1974\n",
       "3   Juan Alcain          1-2-0     NaN     --    --                      --\n",
       "4     Jose Aldo         28-6-0    67.0    135    70  Orthodox  Sep 09, 1986"
      ]
     },
     "execution_count": 26,
     "metadata": {},
     "output_type": "execute_result"
    }
   ],
   "source": [
    "fighter_basic_stats_df.head()"
   ]
  },
  {
   "cell_type": "code",
   "execution_count": 27,
   "metadata": {},
   "outputs": [],
   "source": [
    "fighter_basic_stats_df.to_csv('fighter_basic_stats_csv', index=False)"
   ]
  },
  {
   "cell_type": "markdown",
   "metadata": {},
   "source": [
    "### Career Statistics DataFrame Construction"
   ]
  },
  {
   "cell_type": "code",
   "execution_count": 28,
   "metadata": {},
   "outputs": [],
   "source": [
    "def career_stats_soup(soup):\n",
    "    \n",
    "    career_stats_soup = soup.findChildren('li', attrs={'class': re.compile('b-list')})\n",
    "    career_stats = career_stats_soup[5:]\n",
    "    \n",
    "    return career_stats_soup"
   ]
  },
  {
   "cell_type": "code",
   "execution_count": 29,
   "metadata": {},
   "outputs": [],
   "source": [
    "def career_stats_SLpM(soup):\n",
    "\n",
    "    SLpM = soup[5].text.split(':')[1].replace('%', '').strip()\n",
    "    \n",
    "    if SLpM == '--':\n",
    "        pass\n",
    "    else:\n",
    "        SLpM = float(SLpM)\n",
    "        \n",
    "    return SLpM"
   ]
  },
  {
   "cell_type": "code",
   "execution_count": 30,
   "metadata": {},
   "outputs": [],
   "source": [
    "def career_stats_StrAcc(soup):\n",
    "    StrAcc =  soup[6].text.split(':')[1].replace('%', '').strip()\n",
    "    \n",
    "    if StrAcc == '--':\n",
    "        pass\n",
    "    else:\n",
    "        StrAcc = float(StrAcc)\n",
    "        \n",
    "    return StrAcc"
   ]
  },
  {
   "cell_type": "code",
   "execution_count": 31,
   "metadata": {},
   "outputs": [],
   "source": [
    "def career_stats_SApM(soup):\n",
    "    SApM = soup[7].text.split(':')[1].strip()\n",
    "    \n",
    "    if SApM == '--':\n",
    "        pass\n",
    "    else:\n",
    "        SApM = float(SApM)\n",
    "        \n",
    "    return SApM"
   ]
  },
  {
   "cell_type": "code",
   "execution_count": 32,
   "metadata": {},
   "outputs": [],
   "source": [
    "def career_stats_StrDef(soup):\n",
    "    StrDef = soup[8].text.split(':')[1].replace('%', '').strip()\n",
    "    \n",
    "    if StrDef == '--':\n",
    "        pass\n",
    "    else:\n",
    "        StrDef = float(StrDef)\n",
    "        \n",
    "    return StrDef"
   ]
  },
  {
   "cell_type": "code",
   "execution_count": 33,
   "metadata": {},
   "outputs": [],
   "source": [
    "def career_stats_TDAvg(soup):\n",
    "    TDAvg = soup[10].text.split(':')[1].strip()\n",
    "    \n",
    "    if TDAvg == '--':\n",
    "        pass\n",
    "    else:\n",
    "        TDAvg = float(TDAvg)\n",
    "        \n",
    "    return TDAvg"
   ]
  },
  {
   "cell_type": "code",
   "execution_count": 34,
   "metadata": {},
   "outputs": [],
   "source": [
    "def career_stats_TDAcc(soup):\n",
    "    TDAcc = soup[11].text.split(':')[1].strip().replace('%', '')\n",
    "    \n",
    "    if TDAcc == '--':\n",
    "        pass\n",
    "    else:\n",
    "        TDAcc = float(TDAcc)\n",
    "        \n",
    "    return TDAcc"
   ]
  },
  {
   "cell_type": "code",
   "execution_count": 35,
   "metadata": {},
   "outputs": [],
   "source": [
    "def career_stats_TDDef(soup):\n",
    "    TDDef = soup[12].text.split(':')[1].replace('%', '').strip()\n",
    "    \n",
    "    if TDDef == '--':\n",
    "        pass\n",
    "    else:\n",
    "        TDDef = float(TDDef)\n",
    "        \n",
    "    return TDDef"
   ]
  },
  {
   "cell_type": "code",
   "execution_count": 36,
   "metadata": {},
   "outputs": [],
   "source": [
    "def career_stats_SubAvg(soup):\n",
    "    SubAvg =  soup[13].text.split(':')[1].strip().replace('%', '')  \n",
    "    \n",
    "    if SubAvg == '--':\n",
    "        pass\n",
    "    else:\n",
    "        SubAvg = float(SubAvg)\n",
    "        \n",
    "    return SubAvg"
   ]
  },
  {
   "cell_type": "code",
   "execution_count": 37,
   "metadata": {},
   "outputs": [],
   "source": [
    "fighter_SLpMs = list(map(career_stats_SLpM, stats_soups))\n",
    "\n",
    "fighter_StrAccs = list(map(career_stats_StrAcc, stats_soups))\n",
    "\n",
    "fighter_SApMs = list(map(career_stats_SApM, stats_soups))\n",
    "\n",
    "fighter_StrDefs =list(map(career_stats_StrDef, stats_soups))\n",
    "\n",
    "fighter_TDAvgs = list(map(career_stats_TDAvg, stats_soups))\n",
    "\n",
    "fighter_TDAccs = list(map(career_stats_TDAcc, stats_soups))\n",
    "\n",
    "fighter_TDDefs = list(map(career_stats_TDDef, stats_soups))\n",
    "\n",
    "fighter_SubAvgs = list(map(career_stats_SubAvg, stats_soups))"
   ]
  },
  {
   "cell_type": "code",
   "execution_count": 38,
   "metadata": {},
   "outputs": [],
   "source": [
    "fighter_career_stats_df = pd.DataFrame()\n",
    "\n",
    "fighter_career_stats_df['name'] = fighter_names\n",
    "fighter_career_stats_df['SLpMs'] = fighter_SLpMs\n",
    "fighter_career_stats_df['StrAccs'] = fighter_StrAccs\n",
    "fighter_career_stats_df['SApMs'] = fighter_SApMs\n",
    "fighter_career_stats_df['StrDefs'] = fighter_StrDefs\n",
    "fighter_career_stats_df['TDAvgs'] = fighter_TDAvgs\n",
    "fighter_career_stats_df['TDAccs'] = fighter_TDAccs\n",
    "fighter_career_stats_df['TDDefs'] = fighter_TDDefs\n",
    "fighter_career_stats_df['SubAvgs'] = fighter_SubAvgs"
   ]
  },
  {
   "cell_type": "code",
   "execution_count": 39,
   "metadata": {},
   "outputs": [
    {
     "data": {
      "text/html": [
       "<div>\n",
       "<style scoped>\n",
       "    .dataframe tbody tr th:only-of-type {\n",
       "        vertical-align: middle;\n",
       "    }\n",
       "\n",
       "    .dataframe tbody tr th {\n",
       "        vertical-align: top;\n",
       "    }\n",
       "\n",
       "    .dataframe thead th {\n",
       "        text-align: right;\n",
       "    }\n",
       "</style>\n",
       "<table border=\"1\" class=\"dataframe\">\n",
       "  <thead>\n",
       "    <tr style=\"text-align: right;\">\n",
       "      <th></th>\n",
       "      <th>name</th>\n",
       "      <th>SLpMs</th>\n",
       "      <th>StrAccs</th>\n",
       "      <th>SApMs</th>\n",
       "      <th>StrDefs</th>\n",
       "      <th>TDAvgs</th>\n",
       "      <th>TDAccs</th>\n",
       "      <th>TDDefs</th>\n",
       "      <th>SubAvgs</th>\n",
       "    </tr>\n",
       "  </thead>\n",
       "  <tbody>\n",
       "    <tr>\n",
       "      <th>0</th>\n",
       "      <td>Jim Alers</td>\n",
       "      <td>2.90</td>\n",
       "      <td>40.0</td>\n",
       "      <td>4.38</td>\n",
       "      <td>56.0</td>\n",
       "      <td>2.26</td>\n",
       "      <td>41.0</td>\n",
       "      <td>80.0</td>\n",
       "      <td>0.3</td>\n",
       "    </tr>\n",
       "    <tr>\n",
       "      <th>1</th>\n",
       "      <td>Mike Aina</td>\n",
       "      <td>2.87</td>\n",
       "      <td>33.0</td>\n",
       "      <td>6.33</td>\n",
       "      <td>59.0</td>\n",
       "      <td>0.00</td>\n",
       "      <td>0.0</td>\n",
       "      <td>71.0</td>\n",
       "      <td>0.0</td>\n",
       "    </tr>\n",
       "    <tr>\n",
       "      <th>2</th>\n",
       "      <td>Alex Andrade</td>\n",
       "      <td>0.20</td>\n",
       "      <td>36.0</td>\n",
       "      <td>2.60</td>\n",
       "      <td>53.0</td>\n",
       "      <td>0.00</td>\n",
       "      <td>0.0</td>\n",
       "      <td>25.0</td>\n",
       "      <td>0.8</td>\n",
       "    </tr>\n",
       "    <tr>\n",
       "      <th>3</th>\n",
       "      <td>Juan Alcain</td>\n",
       "      <td>0.00</td>\n",
       "      <td>0.0</td>\n",
       "      <td>0.00</td>\n",
       "      <td>0.0</td>\n",
       "      <td>0.00</td>\n",
       "      <td>0.0</td>\n",
       "      <td>0.0</td>\n",
       "      <td>0.0</td>\n",
       "    </tr>\n",
       "    <tr>\n",
       "      <th>4</th>\n",
       "      <td>Jose Aldo</td>\n",
       "      <td>3.47</td>\n",
       "      <td>44.0</td>\n",
       "      <td>3.18</td>\n",
       "      <td>65.0</td>\n",
       "      <td>0.64</td>\n",
       "      <td>65.0</td>\n",
       "      <td>91.0</td>\n",
       "      <td>0.1</td>\n",
       "    </tr>\n",
       "  </tbody>\n",
       "</table>\n",
       "</div>"
      ],
      "text/plain": [
       "           name  SLpMs  StrAccs  SApMs  StrDefs  TDAvgs  TDAccs  TDDefs  \\\n",
       "0     Jim Alers   2.90     40.0   4.38     56.0    2.26    41.0    80.0   \n",
       "1     Mike Aina   2.87     33.0   6.33     59.0    0.00     0.0    71.0   \n",
       "2  Alex Andrade   0.20     36.0   2.60     53.0    0.00     0.0    25.0   \n",
       "3   Juan Alcain   0.00      0.0   0.00      0.0    0.00     0.0     0.0   \n",
       "4     Jose Aldo   3.47     44.0   3.18     65.0    0.64    65.0    91.0   \n",
       "\n",
       "   SubAvgs  \n",
       "0      0.3  \n",
       "1      0.0  \n",
       "2      0.8  \n",
       "3      0.0  \n",
       "4      0.1  "
      ]
     },
     "execution_count": 39,
     "metadata": {},
     "output_type": "execute_result"
    }
   ],
   "source": [
    "fighter_career_stats_df.head()"
   ]
  },
  {
   "cell_type": "code",
   "execution_count": 40,
   "metadata": {},
   "outputs": [],
   "source": [
    "fighter_career_stats_df.to_csv('fighter_career_stats_csv', index=False)"
   ]
  },
  {
   "cell_type": "markdown",
   "metadata": {},
   "source": [
    "### Constructing Fight Event and Fight List Database"
   ]
  },
  {
   "cell_type": "code",
   "execution_count": 41,
   "metadata": {},
   "outputs": [],
   "source": [
    "#creating a list of unique fighter URLs available on website\n",
    "event_url_list = []\n",
    "response = requests.get('http://www.ufcstats.com/statistics/events/completed?page=all')\n",
    "soup = BeautifulSoup(response.content, 'html.parser')\n",
    "\n",
    "#targeting URLs that contain fighter data\n",
    "events = soup.findAll('a', attrs={'href': re.compile('http:')})\n",
    "for event in events:\n",
    "    event_url_list.append(event.get('href'))\n",
    "\n",
    "#removing duplicate URLs\n",
    "event_url_list = list(set(event_url_list))"
   ]
  },
  {
   "cell_type": "code",
   "execution_count": 48,
   "metadata": {},
   "outputs": [],
   "source": [
    "#removing invalid URLs\n",
    "for url in event_url_list:\n",
    "    if 'event-details' not in url:\n",
    "        event_url_list.remove(url)"
   ]
  },
  {
   "cell_type": "code",
   "execution_count": 50,
   "metadata": {},
   "outputs": [],
   "source": [
    "event_database_df = pd.DataFrame()\n",
    "\n",
    "event_database_df['event'] = event_url_list"
   ]
  },
  {
   "cell_type": "code",
   "execution_count": 51,
   "metadata": {},
   "outputs": [],
   "source": [
    "event_soups = list(map(info_generator, event_url_list))"
   ]
  },
  {
   "cell_type": "code",
   "execution_count": 95,
   "metadata": {},
   "outputs": [],
   "source": [
    "def event_fights_parser(event_soup):\n",
    "        \n",
    "    holder = event_soup.findAll('a', attrs={'href': re.compile('fight-details')})\n",
    "    \n",
    "    event_fights_holder = []\n",
    "    \n",
    "    for x in range(0, len(holder)):\n",
    "        \n",
    "        event_fights_holder.append(holder[x].get('href'))\n",
    "        \n",
    "    return event_fights_holder"
   ]
  },
  {
   "cell_type": "code",
   "execution_count": 100,
   "metadata": {},
   "outputs": [],
   "source": [
    "event_fight_list = list(map(event_fights_parser, event_soups))"
   ]
  },
  {
   "cell_type": "code",
   "execution_count": 102,
   "metadata": {},
   "outputs": [],
   "source": [
    "event_database_df['fight_list'] = event_fight_list"
   ]
  },
  {
   "cell_type": "code",
   "execution_count": 351,
   "metadata": {},
   "outputs": [],
   "source": [
    "def fight_participants_fetcher(event_soup):\n",
    "    \n",
    "    fight_pairs = []\n",
    "    \n",
    "    name_holder = event_soup.findChildren('a', attrs={'class': re.compile('b-link')})\n",
    "\n",
    "    fighter1_list_holder, fighter2_list_holder = name_holder[0::2], name_holder[1::2]\n",
    "\n",
    "    fighter1_list = []\n",
    "    fighter2_list = []\n",
    "\n",
    "    for fighter1 in fighter1_list_holder:\n",
    "        fighter1_list.append(fighter1.text.strip())\n",
    "        \n",
    "    for fighter2 in fighter2_list_holder:\n",
    "        fighter2_list.append(fighter2.text.strip())\n",
    "      \n",
    "    fighters_in_ring = zip(fighter1_list, fighter2_list)\n",
    "    \n",
    "    for duo in fighters_in_ring:\n",
    "        fight_pairs.append(duo)\n",
    "        \n",
    "    return fight_pairs"
   ]
  },
  {
   "cell_type": "code",
   "execution_count": 357,
   "metadata": {},
   "outputs": [],
   "source": [
    "matchups = list(map(fight_participants_fetcher, event_soups))"
   ]
  },
  {
   "cell_type": "code",
   "execution_count": 358,
   "metadata": {},
   "outputs": [],
   "source": [
    "event_database_df['matchups'] = matchups"
   ]
  },
  {
   "cell_type": "code",
   "execution_count": 359,
   "metadata": {},
   "outputs": [
    {
     "data": {
      "text/html": [
       "<div>\n",
       "<style scoped>\n",
       "    .dataframe tbody tr th:only-of-type {\n",
       "        vertical-align: middle;\n",
       "    }\n",
       "\n",
       "    .dataframe tbody tr th {\n",
       "        vertical-align: top;\n",
       "    }\n",
       "\n",
       "    .dataframe thead th {\n",
       "        text-align: right;\n",
       "    }\n",
       "</style>\n",
       "<table border=\"1\" class=\"dataframe\">\n",
       "  <thead>\n",
       "    <tr style=\"text-align: right;\">\n",
       "      <th></th>\n",
       "      <th>event</th>\n",
       "      <th>fight_list</th>\n",
       "      <th>matchups</th>\n",
       "    </tr>\n",
       "  </thead>\n",
       "  <tbody>\n",
       "    <tr>\n",
       "      <th>0</th>\n",
       "      <td>http://www.ufcstats.com/event-details/c75b9988...</td>\n",
       "      <td>[http://www.ufcstats.com/fight-details/ea64af6...</td>\n",
       "      <td>[(Tito Ortiz, Vladimir Matyushenko), (Jens Pul...</td>\n",
       "    </tr>\n",
       "    <tr>\n",
       "      <th>1</th>\n",
       "      <td>http://www.ufcstats.com/event-details/eae4aec1...</td>\n",
       "      <td>[http://www.ufcstats.com/fight-details/0bdc4e7...</td>\n",
       "      <td>[(Cain Velasquez, Junior Dos Santos), (Daniel ...</td>\n",
       "    </tr>\n",
       "    <tr>\n",
       "      <th>2</th>\n",
       "      <td>http://www.ufcstats.com/event-details/b757c73f...</td>\n",
       "      <td>[http://www.ufcstats.com/fight-details/5d7c91a...</td>\n",
       "      <td>[(Gegard Mousasi, Mark Munoz), (CB Dollaway, F...</td>\n",
       "    </tr>\n",
       "    <tr>\n",
       "      <th>3</th>\n",
       "      <td>http://www.ufcstats.com/event-details/738acab0...</td>\n",
       "      <td>[http://www.ufcstats.com/fight-details/9b9591a...</td>\n",
       "      <td>[(Demetrious Johnson, John Dodson), (Glover Te...</td>\n",
       "    </tr>\n",
       "    <tr>\n",
       "      <th>4</th>\n",
       "      <td>http://www.ufcstats.com/event-details/c933d423...</td>\n",
       "      <td>[http://www.ufcstats.com/fight-details/2ae8623...</td>\n",
       "      <td>[(Chuck Liddell, Randy Couture), (Renato Sobra...</td>\n",
       "    </tr>\n",
       "  </tbody>\n",
       "</table>\n",
       "</div>"
      ],
      "text/plain": [
       "                                               event  \\\n",
       "0  http://www.ufcstats.com/event-details/c75b9988...   \n",
       "1  http://www.ufcstats.com/event-details/eae4aec1...   \n",
       "2  http://www.ufcstats.com/event-details/b757c73f...   \n",
       "3  http://www.ufcstats.com/event-details/738acab0...   \n",
       "4  http://www.ufcstats.com/event-details/c933d423...   \n",
       "\n",
       "                                          fight_list  \\\n",
       "0  [http://www.ufcstats.com/fight-details/ea64af6...   \n",
       "1  [http://www.ufcstats.com/fight-details/0bdc4e7...   \n",
       "2  [http://www.ufcstats.com/fight-details/5d7c91a...   \n",
       "3  [http://www.ufcstats.com/fight-details/9b9591a...   \n",
       "4  [http://www.ufcstats.com/fight-details/2ae8623...   \n",
       "\n",
       "                                            matchups  \n",
       "0  [(Tito Ortiz, Vladimir Matyushenko), (Jens Pul...  \n",
       "1  [(Cain Velasquez, Junior Dos Santos), (Daniel ...  \n",
       "2  [(Gegard Mousasi, Mark Munoz), (CB Dollaway, F...  \n",
       "3  [(Demetrious Johnson, John Dodson), (Glover Te...  \n",
       "4  [(Chuck Liddell, Randy Couture), (Renato Sobra...  "
      ]
     },
     "execution_count": 359,
     "metadata": {},
     "output_type": "execute_result"
    }
   ],
   "source": [
    "event_database_df.head()"
   ]
  },
  {
   "cell_type": "code",
   "execution_count": 360,
   "metadata": {},
   "outputs": [],
   "source": [
    "event_database_df.to_csv('event_database_csv', index=False)"
   ]
  },
  {
   "cell_type": "markdown",
   "metadata": {},
   "source": [
    "PROTOCODE =================================="
   ]
  }
 ],
 "metadata": {
  "kernelspec": {
   "display_name": "Python [conda env:work-env] *",
   "language": "python",
   "name": "conda-env-work-env-py"
  },
  "language_info": {
   "codemirror_mode": {
    "name": "ipython",
    "version": 3
   },
   "file_extension": ".py",
   "mimetype": "text/x-python",
   "name": "python",
   "nbconvert_exporter": "python",
   "pygments_lexer": "ipython3",
   "version": "3.7.7"
  }
 },
 "nbformat": 4,
 "nbformat_minor": 2
}
