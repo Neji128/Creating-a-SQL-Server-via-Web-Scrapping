{
 "cells": [
  {
   "cell_type": "code",
   "execution_count": 1,
   "id": "8ae7e6c2",
   "metadata": {},
   "outputs": [],
   "source": [
    "import pickle\n",
    "from bs4 import BeautifulSoup\n",
    "from random import randint\n",
    "import requests, re\n",
    "import json\n",
    "import time\n",
    "import pandas as pd\n",
    "from string import ascii_lowercase\n",
    "import os\n",
    "from dotenv import load_dotenv, dotenv_values"
   ]
  },
  {
   "cell_type": "code",
   "execution_count": 33,
   "id": "1da1331e",
   "metadata": {},
   "outputs": [
    {
     "data": {
      "text/plain": [
       "True"
      ]
     },
     "execution_count": 33,
     "metadata": {},
     "output_type": "execute_result"
    }
   ],
   "source": [
    "load_dotenv()"
   ]
  },
  {
   "cell_type": "code",
   "execution_count": 34,
   "id": "53fddb4e",
   "metadata": {},
   "outputs": [],
   "source": [
    "config = dotenv_values(\".env\")"
   ]
  },
  {
   "cell_type": "code",
   "execution_count": 35,
   "id": "4ea92e1e",
   "metadata": {},
   "outputs": [],
   "source": [
    "key = os.environ.get(\"apikey\")"
   ]
  },
  {
   "cell_type": "code",
   "execution_count": 65,
   "id": "c0f52a8f",
   "metadata": {},
   "outputs": [],
   "source": [
    "fighters_url_page_list = [f'http://www.ufcstats.com/statistics/fighters?char={char}&page=all' for char in ascii_lowercase]"
   ]
  },
  {
   "cell_type": "code",
   "execution_count": 98,
   "id": "7f343b37",
   "metadata": {},
   "outputs": [],
   "source": [
    "fighter_links_set = set()\n",
    "\n",
    "for page in fighters_url_page_list:\n",
    "    \n",
    "    response_soup = BeautifulSoup(response.content, \"html.parser\")\n",
    "    \n",
    "    response = requests.get('https://api.zenrows.com/v1/', \n",
    "                            params = {\n",
    "                                        'url': page, \n",
    "                                        'apikey': key\n",
    "                                        })\n",
    "    \n",
    "    response_soup = BeautifulSoup(response.content, \"html.parser\")\n",
    "    \n",
    "    links = response_soup.find_all(\"a\", href=True)\n",
    "    \n",
    "    for link in links:\n",
    "        \n",
    "        if link not in link_set and \"details\" in str(link):\n",
    "        \n",
    "            fighter_links_set.add(link[\"href\"])"
   ]
  },
  {
   "cell_type": "code",
   "execution_count": 100,
   "id": "ecd147b2",
   "metadata": {},
   "outputs": [],
   "source": [
    "fighter_links_list = list(fighter_links_set)"
   ]
  },
  {
   "cell_type": "code",
   "execution_count": 102,
   "id": "9fe016d2",
   "metadata": {},
   "outputs": [],
   "source": [
    "with open(\"../data/interim/fighter_links_list.json\", \"w\") as file:\n",
    "    \n",
    "    json.dump(fighter_links_list, file)"
   ]
  }
 ],
 "metadata": {
  "kernelspec": {
   "display_name": "Python 3 (ipykernel)",
   "language": "python",
   "name": "python3"
  },
  "language_info": {
   "codemirror_mode": {
    "name": "ipython",
    "version": 3
   },
   "file_extension": ".py",
   "mimetype": "text/x-python",
   "name": "python",
   "nbconvert_exporter": "python",
   "pygments_lexer": "ipython3",
   "version": "3.11.5"
  }
 },
 "nbformat": 4,
 "nbformat_minor": 5
}
