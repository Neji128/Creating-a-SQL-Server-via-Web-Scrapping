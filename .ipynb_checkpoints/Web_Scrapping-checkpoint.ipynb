{
 "cells": [
  {
   "cell_type": "markdown",
   "metadata": {},
   "source": [
    "# UFC_Stats Web Scraping"
   ]
  },
  {
   "cell_type": "markdown",
   "metadata": {
    "cell_style": "center"
   },
   "source": [
    "## importing pertinent libraries"
   ]
  },
  {
   "cell_type": "code",
   "execution_count": 33,
   "metadata": {
    "cell_style": "center"
   },
   "outputs": [],
   "source": [
    "#importing pertinent libraries\n",
    "import pandas as pd\n",
    "from urllib.request import urlopen\n",
    "from bs4 import BeautifulSoup\n",
    "import requests, re\n",
    "import json\n",
    "import itertools\n",
    "import dask.dataframe as dd\n",
    "from datetime import datetime\n",
    "import pickle"
   ]
  },
  {
   "cell_type": "code",
   "execution_count": 34,
   "metadata": {},
   "outputs": [],
   "source": [
    "#creating datetime object to parse out future events\n",
    "\n",
    "today = datetime.today()\n",
    "current_date= today.strftime(\"%B %d, %Y\")\n",
    "current_datetime = datetime.strptime(current_date, \"%B %d, %Y\" ) "
   ]
  },
  {
   "cell_type": "markdown",
   "metadata": {},
   "source": [
    "## Extracting UFC urls"
   ]
  },
  {
   "cell_type": "code",
   "execution_count": 37,
   "metadata": {},
   "outputs": [],
   "source": [
    "#creating a list of unique fighter URLs available on website\n",
    "fighter_url_list = []\n",
    "response = requests.get('http://www.ufcstats.com/statistics/fighters?char=a&page=all')\n",
    "soup = BeautifulSoup(response.content, 'html.parser')\n",
    "\n",
    "#targeting URLs that contain fighter data\n",
    "fighters = soup.findAll('a', attrs={'href': re.compile('http:')})\n",
    "for fighter in fighters:\n",
    "    fighter_url_list.append(fighter.get('href'))\n",
    "\n",
    "#removing duplicate URLs\n",
    "fighter_url_list = list(set(fighter_url_list))"
   ]
  },
  {
   "cell_type": "code",
   "execution_count": 38,
   "metadata": {},
   "outputs": [
    {
     "data": {
      "text/plain": [
       "['http://www.ufcstats.com/fighter-details/2b074403b7c6cdb4',\n",
       " 'http://www.ufcstats.com/fighter-details/0541480fbf719d86',\n",
       " 'http://www.ufcstats.com/fighter-details/e17770faae3ca54c',\n",
       " 'http://www.ufcstats.com/fighter-details/9b28292abe3166d5',\n",
       " 'http://www.ufcstats.com/fighter-details/d317a5e2b3f88c5f',\n",
       " 'http://www.ufcstats.com/fighter-details/770b9d4813c25902',\n",
       " 'http://www.ufcstats.com/fighter-details/d26934530dc5b248',\n",
       " 'http://www.ufcstats.com/statistics/fighters?char=a&page=2',\n",
       " 'http://www.ufcstats.com/fighter-details/4665cbf36b08193b',\n",
       " 'http://www.ufcstats.com/fighter-details/1ffc38f67785797b',\n",
       " 'http://www.ufcstats.com/fighter-details/b0550072e5f0afa7',\n",
       " 'http://www.ufcstats.com/fighter-details/a0e75f4a13eb73f1',\n",
       " 'http://www.ufcstats.com/fighter-details/c487223b0289bda9',\n",
       " 'http://www.ufcstats.com/fighter-details/b757c73f443d4fca',\n",
       " 'http://www.ufcstats.com/fighter-details/fd7acf42bd6e7e95']"
      ]
     },
     "execution_count": 38,
     "metadata": {},
     "output_type": "execute_result"
    }
   ],
   "source": [
    "fighter_url_list[:15]"
   ]
  },
  {
   "cell_type": "markdown",
   "metadata": {},
   "source": [
    "Looks like there are some URLs we don't need in out list. Let's weed them out."
   ]
  },
  {
   "cell_type": "code",
   "execution_count": 39,
   "metadata": {},
   "outputs": [],
   "source": [
    "#removing invalid URLs\n",
    "for url in fighter_url_list:\n",
    "    if 'fighter-details' not in url:\n",
    "        fighter_url_list.remove(url)"
   ]
  },
  {
   "cell_type": "code",
   "execution_count": 40,
   "metadata": {},
   "outputs": [
    {
     "data": {
      "text/plain": [
       "['http://www.ufcstats.com/fighter-details/2b074403b7c6cdb4',\n",
       " 'http://www.ufcstats.com/fighter-details/0541480fbf719d86',\n",
       " 'http://www.ufcstats.com/fighter-details/e17770faae3ca54c',\n",
       " 'http://www.ufcstats.com/fighter-details/9b28292abe3166d5',\n",
       " 'http://www.ufcstats.com/fighter-details/d317a5e2b3f88c5f']"
      ]
     },
     "execution_count": 40,
     "metadata": {},
     "output_type": "execute_result"
    }
   ],
   "source": [
    "fighter_url_list[:5]"
   ]
  },
  {
   "cell_type": "code",
   "execution_count": 41,
   "metadata": {},
   "outputs": [],
   "source": [
    "with open('fighter_url_list', 'wb') as f:\n",
    "    pickle.dump(fighter_url_list, f)"
   ]
  },
  {
   "cell_type": "code",
   "execution_count": 42,
   "metadata": {},
   "outputs": [],
   "source": [
    "with open('fighter_url_list', 'rb') as f:\n",
    "    mylist = pickle.load(f)"
   ]
  },
  {
   "cell_type": "markdown",
   "metadata": {},
   "source": [
    "## Creating Dataframe Building Blocks"
   ]
  },
  {
   "cell_type": "markdown",
   "metadata": {},
   "source": [
    "### Generating basic statistics lists"
   ]
  },
  {
   "cell_type": "code",
   "execution_count": 44,
   "metadata": {},
   "outputs": [],
   "source": [
    "def info_generator(url):\n",
    "    '''Meant to parse any url via beuatiful soup\n",
    "    \n",
    "    Args:\n",
    "        url(str): url that will be parsed using BeautifulSoup\n",
    "        '''\n",
    "    \n",
    "    response = requests.get(url)\n",
    "    \n",
    "    soup = BeautifulSoup(response.content, 'html.parser')\n",
    "    \n",
    "    return soup"
   ]
  },
  {
   "cell_type": "code",
   "execution_count": 45,
   "metadata": {},
   "outputs": [],
   "source": [
    "#creating a soup list to reduce number of website requests\n",
    "basic_soup_list = list(map(info_generator, fighter_url_list))"
   ]
  },
  {
   "cell_type": "code",
   "execution_count": 12,
   "metadata": {},
   "outputs": [],
   "source": [
    "def base_stats_soup_generator(soup):\n",
    "    '''Meant to identiy statistics in the context of UFC Stats urls.\n",
    "    \n",
    "    Args:\n",
    "        \n",
    "        soup(BeautifulSoup object) : must be an unaltered soup'''\n",
    "    \n",
    "    base_stats = soup.findChildren('li', attrs={'class': re.compile('b-list')})\n",
    "    \n",
    "    return base_stats"
   ]
  },
  {
   "cell_type": "code",
   "execution_count": 13,
   "metadata": {},
   "outputs": [],
   "source": [
    "stats_soups = list(map(base_stats_soup_generator, basic_soup_list))"
   ]
  },
  {
   "cell_type": "markdown",
   "metadata": {},
   "source": [
    "### Basic Statistics DataFrame Construction"
   ]
  },
  {
   "cell_type": "code",
   "execution_count": 18,
   "metadata": {},
   "outputs": [],
   "source": [
    "def fighter_name(soup):\n",
    "    '''Identifies fighter history to be parsed.\n",
    "    Args:\n",
    "    \n",
    "        soup(BeautifulSoup object): BeautifulSoup object must originate from a urls hosting fighter profiles'''\n",
    "    \n",
    "    name = soup.find('span', attrs={'class': re.compile('b-content__title-highlight')})\n",
    "    \n",
    "    return name.text.strip()"
   ]
  },
  {
   "cell_type": "code",
   "execution_count": 19,
   "metadata": {},
   "outputs": [],
   "source": [
    "def fighter_record(soup):\n",
    "    \n",
    "    record = soup.findChildren('span', attrs={'class': re.compile('b-content__title-record')})\n",
    "    \n",
    "    return record[0].text.strip().split(':')[1].strip()"
   ]
  },
  {
   "cell_type": "code",
   "execution_count": 20,
   "metadata": {},
   "outputs": [],
   "source": [
    "def basic_stats_height(soup):\n",
    "    '''soups run thorugh this function should be run through stats_soup function beforehand.'''\n",
    "    \n",
    "    #feet\n",
    "    height = soup[0].text.strip().split(':')[1].strip().split(' ')[0].replace(\"'\", \"\")\n",
    "    \n",
    "   #inches\n",
    "    if height == '--':\n",
    "        pass\n",
    "    else:\n",
    "        \n",
    "        height = int(height)\n",
    "        \n",
    "        inches = int(soup[0].text.strip().split(':')[1].strip().split(' ')[1].replace(\"'\", \"\").replace('\"', '').replace(\"--\", \"0\"))\n",
    "\n",
    "        height_to_inches = (height * 12) \n",
    "    \n",
    "        final_height = height_to_inches + inches\n",
    "    \n",
    "        return (inches + height_to_inches)"
   ]
  },
  {
   "cell_type": "code",
   "execution_count": 21,
   "metadata": {},
   "outputs": [],
   "source": [
    "def basic_stats_weight(soup):\n",
    "    \n",
    "    weight = soup[1].text.strip().split(':')[1].strip().replace(' lbs.', '')\n",
    "    \n",
    "    if weight == '--':\n",
    "        pass\n",
    "    else:\n",
    "        weight = int(weight)\n",
    "    return weight "
   ]
  },
  {
   "cell_type": "code",
   "execution_count": 22,
   "metadata": {},
   "outputs": [],
   "source": [
    "def basic_stats_reach(soup):\n",
    "    \n",
    "    reach = soup[2].text.strip().split(':')[1].strip().replace('\"', '')\n",
    "    \n",
    "    if reach == '--':\n",
    "        pass\n",
    "    else:\n",
    "        reach = int(reach)\n",
    "    return reach"
   ]
  },
  {
   "cell_type": "code",
   "execution_count": 23,
   "metadata": {},
   "outputs": [],
   "source": [
    "def basic_stats_stance(soup):\n",
    "    \n",
    "    stance = soup[3].text.strip().split(':')[1].strip()\n",
    "    return stance"
   ]
  },
  {
   "cell_type": "code",
   "execution_count": 24,
   "metadata": {},
   "outputs": [],
   "source": [
    "def basic_stats_DOB(soup):\n",
    "    \n",
    "    DOB = soup[4].text.strip().split(':')[1].strip()\n",
    "    return DOB"
   ]
  },
  {
   "cell_type": "code",
   "execution_count": 25,
   "metadata": {},
   "outputs": [],
   "source": [
    "fighter_names = list(map(fighter_name, basic_soup_list))\n",
    "\n",
    "fighter_records = list(map(fighter_record, basic_soup_list))\n",
    "\n",
    "fighter_heights =  list(map(basic_stats_height, stats_soups))\n",
    "\n",
    "fighter_weights = list(map(basic_stats_weight, stats_soups))\n",
    "\n",
    "fighter_reachs = list(map(basic_stats_reach, stats_soups))\n",
    "\n",
    "fighter_stances = list(map(basic_stats_stance, stats_soups))\n",
    "\n",
    "fighter_DOBs = list(map(basic_stats_DOB, stats_soups))"
   ]
  },
  {
   "cell_type": "code",
   "execution_count": 28,
   "metadata": {},
   "outputs": [],
   "source": [
    "fighter_basic_stats_df = pd.DataFrame()\n",
    "\n",
    "fighter_basic_stats_df['name'] = fighter_names\n",
    "\n",
    "fighter_basic_stats_df['record'] = fighter_records\n",
    "\n",
    "fighter_basic_stats_df['height'] = fighter_heights\n",
    "\n",
    "fighter_basic_stats_df['weight'] = fighter_weights\n",
    "\n",
    "fighter_basic_stats_df['reach'] = fighter_reachs\n",
    "\n",
    "fighter_basic_stats_df['stance'] = fighter_stances\n",
    "\n",
    "fighter_basic_stats_df['DOB'] = fighter_DOBs"
   ]
  },
  {
   "cell_type": "code",
   "execution_count": 29,
   "metadata": {},
   "outputs": [
    {
     "data": {
      "text/html": [
       "<div>\n",
       "<style scoped>\n",
       "    .dataframe tbody tr th:only-of-type {\n",
       "        vertical-align: middle;\n",
       "    }\n",
       "\n",
       "    .dataframe tbody tr th {\n",
       "        vertical-align: top;\n",
       "    }\n",
       "\n",
       "    .dataframe thead th {\n",
       "        text-align: right;\n",
       "    }\n",
       "</style>\n",
       "<table border=\"1\" class=\"dataframe\">\n",
       "  <thead>\n",
       "    <tr style=\"text-align: right;\">\n",
       "      <th></th>\n",
       "      <th>name</th>\n",
       "      <th>record</th>\n",
       "      <th>height</th>\n",
       "      <th>weight</th>\n",
       "      <th>reach</th>\n",
       "      <th>stance</th>\n",
       "      <th>DOB</th>\n",
       "    </tr>\n",
       "  </thead>\n",
       "  <tbody>\n",
       "    <tr>\n",
       "      <th>0</th>\n",
       "      <td>Edwin Aguilar</td>\n",
       "      <td>26-19-0 (1 NC)</td>\n",
       "      <td>70.0</td>\n",
       "      <td>185</td>\n",
       "      <td>--</td>\n",
       "      <td></td>\n",
       "      <td>--</td>\n",
       "    </tr>\n",
       "    <tr>\n",
       "      <th>1</th>\n",
       "      <td>Romie Aram</td>\n",
       "      <td>7-1-0</td>\n",
       "      <td>70.0</td>\n",
       "      <td>170</td>\n",
       "      <td>--</td>\n",
       "      <td>Orthodox</td>\n",
       "      <td>Dec 02, 1977</td>\n",
       "    </tr>\n",
       "    <tr>\n",
       "      <th>2</th>\n",
       "      <td>JJ Aldrich</td>\n",
       "      <td>8-4-0</td>\n",
       "      <td>65.0</td>\n",
       "      <td>125</td>\n",
       "      <td>67</td>\n",
       "      <td>Southpaw</td>\n",
       "      <td>Sep 29, 1992</td>\n",
       "    </tr>\n",
       "    <tr>\n",
       "      <th>3</th>\n",
       "      <td>Jaime Alvarez</td>\n",
       "      <td>6-1-0</td>\n",
       "      <td>68.0</td>\n",
       "      <td>125</td>\n",
       "      <td>69</td>\n",
       "      <td>Orthodox</td>\n",
       "      <td>Mar 08, 1988</td>\n",
       "    </tr>\n",
       "    <tr>\n",
       "      <th>4</th>\n",
       "      <td>Juan Adams</td>\n",
       "      <td>5-3-0</td>\n",
       "      <td>77.0</td>\n",
       "      <td>265</td>\n",
       "      <td>80</td>\n",
       "      <td>Orthodox</td>\n",
       "      <td>Jan 16, 1992</td>\n",
       "    </tr>\n",
       "  </tbody>\n",
       "</table>\n",
       "</div>"
      ],
      "text/plain": [
       "            name          record  height weight reach    stance           DOB\n",
       "0  Edwin Aguilar  26-19-0 (1 NC)    70.0    185    --                      --\n",
       "1     Romie Aram           7-1-0    70.0    170    --  Orthodox  Dec 02, 1977\n",
       "2     JJ Aldrich           8-4-0    65.0    125    67  Southpaw  Sep 29, 1992\n",
       "3  Jaime Alvarez           6-1-0    68.0    125    69  Orthodox  Mar 08, 1988\n",
       "4     Juan Adams           5-3-0    77.0    265    80  Orthodox  Jan 16, 1992"
      ]
     },
     "execution_count": 29,
     "metadata": {},
     "output_type": "execute_result"
    }
   ],
   "source": [
    "fighter_basic_stats_df.head()"
   ]
  },
  {
   "cell_type": "code",
   "execution_count": 30,
   "metadata": {},
   "outputs": [],
   "source": [
    "fighter_basic_stats_df.to_csv('fighter_basic_stats_csv', index=False)"
   ]
  },
  {
   "cell_type": "code",
   "execution_count": 31,
   "metadata": {},
   "outputs": [
    {
     "data": {
      "text/html": [
       "<div>\n",
       "<style scoped>\n",
       "    .dataframe tbody tr th:only-of-type {\n",
       "        vertical-align: middle;\n",
       "    }\n",
       "\n",
       "    .dataframe tbody tr th {\n",
       "        vertical-align: top;\n",
       "    }\n",
       "\n",
       "    .dataframe thead th {\n",
       "        text-align: right;\n",
       "    }\n",
       "</style>\n",
       "<table border=\"1\" class=\"dataframe\">\n",
       "  <thead>\n",
       "    <tr style=\"text-align: right;\">\n",
       "      <th></th>\n",
       "      <th>name</th>\n",
       "      <th>record</th>\n",
       "      <th>height</th>\n",
       "      <th>weight</th>\n",
       "      <th>reach</th>\n",
       "      <th>stance</th>\n",
       "      <th>DOB</th>\n",
       "    </tr>\n",
       "  </thead>\n",
       "  <tbody>\n",
       "    <tr>\n",
       "      <th>0</th>\n",
       "      <td>Edwin Aguilar</td>\n",
       "      <td>26-19-0 (1 NC)</td>\n",
       "      <td>70.0</td>\n",
       "      <td>185</td>\n",
       "      <td>--</td>\n",
       "      <td>NaN</td>\n",
       "      <td>--</td>\n",
       "    </tr>\n",
       "    <tr>\n",
       "      <th>1</th>\n",
       "      <td>Romie Aram</td>\n",
       "      <td>7-1-0</td>\n",
       "      <td>70.0</td>\n",
       "      <td>170</td>\n",
       "      <td>--</td>\n",
       "      <td>Orthodox</td>\n",
       "      <td>Dec 02, 1977</td>\n",
       "    </tr>\n",
       "    <tr>\n",
       "      <th>2</th>\n",
       "      <td>JJ Aldrich</td>\n",
       "      <td>8-4-0</td>\n",
       "      <td>65.0</td>\n",
       "      <td>125</td>\n",
       "      <td>67</td>\n",
       "      <td>Southpaw</td>\n",
       "      <td>Sep 29, 1992</td>\n",
       "    </tr>\n",
       "    <tr>\n",
       "      <th>3</th>\n",
       "      <td>Jaime Alvarez</td>\n",
       "      <td>6-1-0</td>\n",
       "      <td>68.0</td>\n",
       "      <td>125</td>\n",
       "      <td>69</td>\n",
       "      <td>Orthodox</td>\n",
       "      <td>Mar 08, 1988</td>\n",
       "    </tr>\n",
       "    <tr>\n",
       "      <th>4</th>\n",
       "      <td>Juan Adams</td>\n",
       "      <td>5-3-0</td>\n",
       "      <td>77.0</td>\n",
       "      <td>265</td>\n",
       "      <td>80</td>\n",
       "      <td>Orthodox</td>\n",
       "      <td>Jan 16, 1992</td>\n",
       "    </tr>\n",
       "  </tbody>\n",
       "</table>\n",
       "</div>"
      ],
      "text/plain": [
       "            name          record  height weight reach    stance           DOB\n",
       "0  Edwin Aguilar  26-19-0 (1 NC)    70.0    185    --       NaN            --\n",
       "1     Romie Aram           7-1-0    70.0    170    --  Orthodox  Dec 02, 1977\n",
       "2     JJ Aldrich           8-4-0    65.0    125    67  Southpaw  Sep 29, 1992\n",
       "3  Jaime Alvarez           6-1-0    68.0    125    69  Orthodox  Mar 08, 1988\n",
       "4     Juan Adams           5-3-0    77.0    265    80  Orthodox  Jan 16, 1992"
      ]
     },
     "execution_count": 31,
     "metadata": {},
     "output_type": "execute_result"
    }
   ],
   "source": [
    "dd.read_csv('fighter_basic_stats_csv').head()"
   ]
  },
  {
   "cell_type": "markdown",
   "metadata": {},
   "source": [
    "### Career Statistics DataFrame Construction"
   ]
  },
  {
   "cell_type": "code",
   "execution_count": 32,
   "metadata": {},
   "outputs": [],
   "source": [
    "def career_stats_soup(soup):\n",
    "    \n",
    "    career_stats_soup = soup.findChildren('li', attrs={'class': re.compile('b-list')})\n",
    "    career_stats = career_stats_soup[5:]\n",
    "    \n",
    "    return career_stats_soup"
   ]
  },
  {
   "cell_type": "code",
   "execution_count": 33,
   "metadata": {},
   "outputs": [],
   "source": [
    "def career_stats_SLpM(soup):\n",
    "\n",
    "    SLpM = soup[5].text.split(':')[1].replace('%', '').strip()\n",
    "    \n",
    "    if SLpM == '--':\n",
    "        pass\n",
    "    else:\n",
    "        SLpM = float(SLpM)\n",
    "        \n",
    "    return SLpM"
   ]
  },
  {
   "cell_type": "code",
   "execution_count": 34,
   "metadata": {},
   "outputs": [],
   "source": [
    "def career_stats_StrAcc(soup):\n",
    "    StrAcc =  soup[6].text.split(':')[1].replace('%', '').strip()\n",
    "    \n",
    "    if StrAcc == '--':\n",
    "        pass\n",
    "    else:\n",
    "        StrAcc = float(StrAcc)\n",
    "        \n",
    "    return StrAcc"
   ]
  },
  {
   "cell_type": "code",
   "execution_count": 35,
   "metadata": {},
   "outputs": [],
   "source": [
    "def career_stats_SApM(soup):\n",
    "    SApM = soup[7].text.split(':')[1].strip()\n",
    "    \n",
    "    if SApM == '--':\n",
    "        pass\n",
    "    else:\n",
    "        SApM = float(SApM)\n",
    "        \n",
    "    return SApM"
   ]
  },
  {
   "cell_type": "code",
   "execution_count": 36,
   "metadata": {},
   "outputs": [],
   "source": [
    "def career_stats_StrDef(soup):\n",
    "    StrDef = soup[8].text.split(':')[1].replace('%', '').strip()\n",
    "    \n",
    "    if StrDef == '--':\n",
    "        pass\n",
    "    else:\n",
    "        StrDef = float(StrDef)\n",
    "        \n",
    "    return StrDef"
   ]
  },
  {
   "cell_type": "code",
   "execution_count": 37,
   "metadata": {},
   "outputs": [],
   "source": [
    "def career_stats_TDAvg(soup):\n",
    "    TDAvg = soup[10].text.split(':')[1].strip()\n",
    "    \n",
    "    if TDAvg == '--':\n",
    "        pass\n",
    "    else:\n",
    "        TDAvg = float(TDAvg)\n",
    "        \n",
    "    return TDAvg"
   ]
  },
  {
   "cell_type": "code",
   "execution_count": 38,
   "metadata": {},
   "outputs": [],
   "source": [
    "def career_stats_TDAcc(soup):\n",
    "    TDAcc = soup[11].text.split(':')[1].strip().replace('%', '')\n",
    "    \n",
    "    if TDAcc == '--':\n",
    "        pass\n",
    "    else:\n",
    "        TDAcc = float(TDAcc)\n",
    "        \n",
    "    return TDAcc"
   ]
  },
  {
   "cell_type": "code",
   "execution_count": 39,
   "metadata": {},
   "outputs": [],
   "source": [
    "def career_stats_TDDef(soup):\n",
    "    TDDef = soup[12].text.split(':')[1].replace('%', '').strip()\n",
    "    \n",
    "    if TDDef == '--':\n",
    "        pass\n",
    "    else:\n",
    "        TDDef = float(TDDef)\n",
    "        \n",
    "    return TDDef"
   ]
  },
  {
   "cell_type": "code",
   "execution_count": 40,
   "metadata": {},
   "outputs": [],
   "source": [
    "def career_stats_SubAvg(soup):\n",
    "    SubAvg =  soup[13].text.split(':')[1].strip().replace('%', '')  \n",
    "    \n",
    "    if SubAvg == '--':\n",
    "        pass\n",
    "    else:\n",
    "        SubAvg = float(SubAvg)\n",
    "        \n",
    "    return SubAvg"
   ]
  },
  {
   "cell_type": "code",
   "execution_count": 41,
   "metadata": {},
   "outputs": [],
   "source": [
    "fighter_SLpMs = list(map(career_stats_SLpM, stats_soups))\n",
    "\n",
    "fighter_StrAccs = list(map(career_stats_StrAcc, stats_soups))\n",
    "\n",
    "fighter_SApMs = list(map(career_stats_SApM, stats_soups))\n",
    "\n",
    "fighter_StrDefs =list(map(career_stats_StrDef, stats_soups))\n",
    "\n",
    "fighter_TDAvgs = list(map(career_stats_TDAvg, stats_soups))\n",
    "\n",
    "fighter_TDAccs = list(map(career_stats_TDAcc, stats_soups))\n",
    "\n",
    "fighter_TDDefs = list(map(career_stats_TDDef, stats_soups))\n",
    "\n",
    "fighter_SubAvgs = list(map(career_stats_SubAvg, stats_soups))"
   ]
  },
  {
   "cell_type": "code",
   "execution_count": 42,
   "metadata": {},
   "outputs": [],
   "source": [
    "fighter_career_stats_df = pd.DataFrame()\n",
    "\n",
    "fighter_career_stats_df['name'] = fighter_names\n",
    "\n",
    "fighter_career_stats_df['SLpMs'] = fighter_SLpMs\n",
    "\n",
    "fighter_career_stats_df['StrAccs'] = fighter_StrAccs\n",
    "\n",
    "fighter_career_stats_df['SApMs'] = fighter_SApMs\n",
    "\n",
    "fighter_career_stats_df['StrDefs'] = fighter_StrDefs\n",
    "\n",
    "fighter_career_stats_df['TDAvgs'] = fighter_TDAvgs\n",
    "\n",
    "fighter_career_stats_df['TDAccs'] = fighter_TDAccs\n",
    "\n",
    "fighter_career_stats_df['TDDefs'] = fighter_TDDefs\n",
    "\n",
    "fighter_career_stats_df['SubAvgs'] = fighter_SubAvgs"
   ]
  },
  {
   "cell_type": "code",
   "execution_count": 43,
   "metadata": {
    "cell_style": "center"
   },
   "outputs": [
    {
     "data": {
      "text/html": [
       "<div>\n",
       "<style scoped>\n",
       "    .dataframe tbody tr th:only-of-type {\n",
       "        vertical-align: middle;\n",
       "    }\n",
       "\n",
       "    .dataframe tbody tr th {\n",
       "        vertical-align: top;\n",
       "    }\n",
       "\n",
       "    .dataframe thead th {\n",
       "        text-align: right;\n",
       "    }\n",
       "</style>\n",
       "<table border=\"1\" class=\"dataframe\">\n",
       "  <thead>\n",
       "    <tr style=\"text-align: right;\">\n",
       "      <th></th>\n",
       "      <th>name</th>\n",
       "      <th>SLpMs</th>\n",
       "      <th>StrAccs</th>\n",
       "      <th>SApMs</th>\n",
       "      <th>StrDefs</th>\n",
       "      <th>TDAvgs</th>\n",
       "      <th>TDAccs</th>\n",
       "      <th>TDDefs</th>\n",
       "      <th>SubAvgs</th>\n",
       "    </tr>\n",
       "  </thead>\n",
       "  <tbody>\n",
       "    <tr>\n",
       "      <th>0</th>\n",
       "      <td>Edwin Aguilar</td>\n",
       "      <td>0.00</td>\n",
       "      <td>0.0</td>\n",
       "      <td>0.00</td>\n",
       "      <td>0.0</td>\n",
       "      <td>0.00</td>\n",
       "      <td>0.0</td>\n",
       "      <td>0.0</td>\n",
       "      <td>0.0</td>\n",
       "    </tr>\n",
       "    <tr>\n",
       "      <th>1</th>\n",
       "      <td>Romie Aram</td>\n",
       "      <td>1.80</td>\n",
       "      <td>35.0</td>\n",
       "      <td>2.83</td>\n",
       "      <td>50.0</td>\n",
       "      <td>2.50</td>\n",
       "      <td>62.0</td>\n",
       "      <td>83.0</td>\n",
       "      <td>0.0</td>\n",
       "    </tr>\n",
       "    <tr>\n",
       "      <th>2</th>\n",
       "      <td>JJ Aldrich</td>\n",
       "      <td>3.88</td>\n",
       "      <td>40.0</td>\n",
       "      <td>4.68</td>\n",
       "      <td>62.0</td>\n",
       "      <td>0.31</td>\n",
       "      <td>25.0</td>\n",
       "      <td>53.0</td>\n",
       "      <td>0.0</td>\n",
       "    </tr>\n",
       "    <tr>\n",
       "      <th>3</th>\n",
       "      <td>Jaime Alvarez</td>\n",
       "      <td>2.73</td>\n",
       "      <td>40.0</td>\n",
       "      <td>4.53</td>\n",
       "      <td>56.0</td>\n",
       "      <td>1.00</td>\n",
       "      <td>33.0</td>\n",
       "      <td>50.0</td>\n",
       "      <td>0.0</td>\n",
       "    </tr>\n",
       "    <tr>\n",
       "      <th>4</th>\n",
       "      <td>Juan Adams</td>\n",
       "      <td>7.09</td>\n",
       "      <td>55.0</td>\n",
       "      <td>4.06</td>\n",
       "      <td>34.0</td>\n",
       "      <td>0.91</td>\n",
       "      <td>66.0</td>\n",
       "      <td>57.0</td>\n",
       "      <td>0.0</td>\n",
       "    </tr>\n",
       "  </tbody>\n",
       "</table>\n",
       "</div>"
      ],
      "text/plain": [
       "            name  SLpMs  StrAccs  SApMs  StrDefs  TDAvgs  TDAccs  TDDefs  \\\n",
       "0  Edwin Aguilar   0.00      0.0   0.00      0.0    0.00     0.0     0.0   \n",
       "1     Romie Aram   1.80     35.0   2.83     50.0    2.50    62.0    83.0   \n",
       "2     JJ Aldrich   3.88     40.0   4.68     62.0    0.31    25.0    53.0   \n",
       "3  Jaime Alvarez   2.73     40.0   4.53     56.0    1.00    33.0    50.0   \n",
       "4     Juan Adams   7.09     55.0   4.06     34.0    0.91    66.0    57.0   \n",
       "\n",
       "   SubAvgs  \n",
       "0      0.0  \n",
       "1      0.0  \n",
       "2      0.0  \n",
       "3      0.0  \n",
       "4      0.0  "
      ]
     },
     "execution_count": 43,
     "metadata": {},
     "output_type": "execute_result"
    }
   ],
   "source": [
    "fighter_career_stats_df.head()"
   ]
  },
  {
   "cell_type": "code",
   "execution_count": 46,
   "metadata": {},
   "outputs": [],
   "source": [
    "fighter_career_stats_df.to_csv('fighter_career_stats_csv', index=False)"
   ]
  },
  {
   "cell_type": "markdown",
   "metadata": {},
   "source": [
    "### Constructing Fight Event and Fight List Database"
   ]
  },
  {
   "cell_type": "code",
   "execution_count": 49,
   "metadata": {},
   "outputs": [],
   "source": [
    "#creating a list of unique fighter URLs available on website\n",
    "event_url_list = []\n",
    "response = requests.get('http://www.ufcstats.com/statistics/events/completed?page=all')\n",
    "soup = BeautifulSoup(response.content, 'html.parser')\n",
    "\n",
    "#targeting URLs that contain fighter data\n",
    "events = soup.findAll('a', attrs={'href': re.compile('http:')})\n",
    "for event in events:\n",
    "    event_url_list.append(event.get('href'))\n",
    "\n",
    "#removing duplicate URLs\n",
    "event_url_list = list(set(event_url_list))"
   ]
  },
  {
   "cell_type": "code",
   "execution_count": 50,
   "metadata": {},
   "outputs": [],
   "source": [
    "#removing invalid URLs\n",
    "for url in event_url_list:\n",
    "    if 'event-details' not in url:\n",
    "        event_url_list.remove(url)\n",
    "    \n",
    "for url in event_url_list:  \n",
    "    if len(url) <  54:\n",
    "        event_url_list.remove(url)"
   ]
  },
  {
   "cell_type": "code",
   "execution_count": 51,
   "metadata": {},
   "outputs": [
    {
     "data": {
      "text/plain": [
       "['http://www.ufcstats.com/event-details/df05aa15b2d66f57',\n",
       " 'http://www.ufcstats.com/event-details/4887e5bc4dbb73ff',\n",
       " 'http://www.ufcstats.com/event-details/6a0b80a24f22e152',\n",
       " 'http://www.ufcstats.com/event-details/1dc56b59cb28425d',\n",
       " 'http://www.ufcstats.com/event-details/43612456979e5d5e',\n",
       " 'http://www.ufcstats.com/event-details/e5c38954c006f15c',\n",
       " 'http://www.ufcstats.com/event-details/304fcd812f12c589',\n",
       " 'http://www.ufcstats.com/event-details/c6e6926a81adcd00',\n",
       " 'http://www.ufcstats.com/event-details/997b4f52f76a0b53',\n",
       " 'http://www.ufcstats.com/event-details/232c582f29f8f65e',\n",
       " 'http://www.ufcstats.com/event-details/4d74641fac830182',\n",
       " 'http://www.ufcstats.com/event-details/e8efeb9cf33b1941',\n",
       " 'http://www.ufcstats.com/event-details/a79bfbc01b2264d6',\n",
       " 'http://www.ufcstats.com/event-details/601cf40c09090853',\n",
       " 'http://www.ufcstats.com/event-details/d29b5c4f22c6357d']"
      ]
     },
     "execution_count": 51,
     "metadata": {},
     "output_type": "execute_result"
    }
   ],
   "source": [
    "event_url_list[:15]"
   ]
  },
  {
   "cell_type": "code",
   "execution_count": 52,
   "metadata": {},
   "outputs": [
    {
     "data": {
      "text/plain": [
       "522"
      ]
     },
     "execution_count": 52,
     "metadata": {},
     "output_type": "execute_result"
    }
   ],
   "source": [
    "len(event_url_list)"
   ]
  },
  {
   "cell_type": "code",
   "execution_count": 53,
   "metadata": {},
   "outputs": [],
   "source": [
    "event_soups = list(map(info_generator, event_url_list))"
   ]
  },
  {
   "cell_type": "code",
   "execution_count": 54,
   "metadata": {},
   "outputs": [
    {
     "data": {
      "text/plain": [
       "522"
      ]
     },
     "execution_count": 54,
     "metadata": {},
     "output_type": "execute_result"
    }
   ],
   "source": [
    "len(event_soups)"
   ]
  },
  {
   "cell_type": "code",
   "execution_count": 55,
   "metadata": {},
   "outputs": [],
   "source": [
    "def event_date_fetcher(event_soup):\n",
    "    date_holder = event_soup.findChildren('li', attrs={'class': re.compile('b-list__')})\n",
    "    \n",
    "    try:\n",
    "        date = date_holder[0].text.split(':')[1].strip()\n",
    "        \n",
    "        return date \n",
    "        \n",
    "    except:\n",
    "        \n",
    "        pass    "
   ]
  },
  {
   "cell_type": "code",
   "execution_count": 56,
   "metadata": {},
   "outputs": [],
   "source": [
    "def event_fights_parser(event_soup):\n",
    "        \n",
    "    holder = event_soup.findAll('a', attrs={'href': re.compile('fight-details')})\n",
    "    \n",
    "    event_fights_holder = []\n",
    "    \n",
    "    for x in range(0, len(holder)):\n",
    "        \n",
    "        event_fights_holder.append(holder[x].get('href'))\n",
    "        \n",
    "    return event_fights_holder"
   ]
  },
  {
   "cell_type": "code",
   "execution_count": 57,
   "metadata": {},
   "outputs": [],
   "source": [
    "def event_name_fetcher(event_soup):\n",
    "    event_title = event_soup.find('h2', attrs={'class': re.compile('b-content__')}).text.strip()\n",
    "    return event_title"
   ]
  },
  {
   "cell_type": "code",
   "execution_count": 78,
   "metadata": {},
   "outputs": [],
   "source": [
    "event_database_df = pd.DataFrame()\n",
    "\n",
    "#adding event_dates to dataframe and converting to time series objects\n",
    "event_dates_list = list(map(event_date_fetcher, event_soups))\n",
    "\n",
    "event_database_df['date'] = event_dates_list\n",
    "\n",
    "event_database_df['date'] = pd.to_datetime(event_database_df['date'])\n",
    "\n",
    "#adding event_name to dataframe\n",
    "event_names_list = list(map(event_name_fetcher,event_soups))\n",
    "\n",
    "event_database_df['name'] = event_names_list"
   ]
  },
  {
   "cell_type": "code",
   "execution_count": 59,
   "metadata": {},
   "outputs": [
    {
     "data": {
      "text/html": [
       "<div>\n",
       "<style scoped>\n",
       "    .dataframe tbody tr th:only-of-type {\n",
       "        vertical-align: middle;\n",
       "    }\n",
       "\n",
       "    .dataframe tbody tr th {\n",
       "        vertical-align: top;\n",
       "    }\n",
       "\n",
       "    .dataframe thead th {\n",
       "        text-align: right;\n",
       "    }\n",
       "</style>\n",
       "<table border=\"1\" class=\"dataframe\">\n",
       "  <thead>\n",
       "    <tr style=\"text-align: right;\">\n",
       "      <th></th>\n",
       "      <th>event</th>\n",
       "      <th>date</th>\n",
       "      <th>name</th>\n",
       "    </tr>\n",
       "  </thead>\n",
       "  <tbody>\n",
       "    <tr>\n",
       "      <th>0</th>\n",
       "      <td>http://www.ufcstats.com/event-details/df05aa15...</td>\n",
       "      <td>2019-10-26</td>\n",
       "      <td>UFC Fight Night: Maia vs. Askren</td>\n",
       "    </tr>\n",
       "    <tr>\n",
       "      <th>1</th>\n",
       "      <td>http://www.ufcstats.com/event-details/4887e5bc...</td>\n",
       "      <td>2016-04-10</td>\n",
       "      <td>UFC Fight Night: Rothwell vs Dos Santos</td>\n",
       "    </tr>\n",
       "    <tr>\n",
       "      <th>2</th>\n",
       "      <td>http://www.ufcstats.com/event-details/6a0b80a2...</td>\n",
       "      <td>2012-10-05</td>\n",
       "      <td>UFC on FX: Browne vs Bigfoot</td>\n",
       "    </tr>\n",
       "    <tr>\n",
       "      <th>3</th>\n",
       "      <td>http://www.ufcstats.com/event-details/1dc56b59...</td>\n",
       "      <td>2002-07-13</td>\n",
       "      <td>UFC 38: Brawl at the Hall</td>\n",
       "    </tr>\n",
       "    <tr>\n",
       "      <th>4</th>\n",
       "      <td>http://www.ufcstats.com/event-details/43612456...</td>\n",
       "      <td>2013-10-09</td>\n",
       "      <td>UFC Fight Night: Maia vs Shields</td>\n",
       "    </tr>\n",
       "    <tr>\n",
       "      <th>...</th>\n",
       "      <td>...</td>\n",
       "      <td>...</td>\n",
       "      <td>...</td>\n",
       "    </tr>\n",
       "    <tr>\n",
       "      <th>517</th>\n",
       "      <td>http://www.ufcstats.com/event-details/ae58685c...</td>\n",
       "      <td>2003-04-25</td>\n",
       "      <td>UFC 42: Sudden Impact</td>\n",
       "    </tr>\n",
       "    <tr>\n",
       "      <th>518</th>\n",
       "      <td>http://www.ufcstats.com/event-details/1979c801...</td>\n",
       "      <td>2017-09-16</td>\n",
       "      <td>UFC Fight Night: Rockhold vs. Branch</td>\n",
       "    </tr>\n",
       "    <tr>\n",
       "      <th>519</th>\n",
       "      <td>http://www.ufcstats.com/event-details/46f11d15...</td>\n",
       "      <td>2008-07-19</td>\n",
       "      <td>UFC: Silva vs Irvin</td>\n",
       "    </tr>\n",
       "    <tr>\n",
       "      <th>520</th>\n",
       "      <td>http://www.ufcstats.com/event-details/db1f2ed6...</td>\n",
       "      <td>2016-03-05</td>\n",
       "      <td>UFC 196: McGregor vs Diaz</td>\n",
       "    </tr>\n",
       "    <tr>\n",
       "      <th>521</th>\n",
       "      <td>http://www.ufcstats.com/event-details/c6becb72...</td>\n",
       "      <td>2016-01-17</td>\n",
       "      <td>UFC Fight Night: Dillashaw vs Cruz</td>\n",
       "    </tr>\n",
       "  </tbody>\n",
       "</table>\n",
       "<p>522 rows × 3 columns</p>\n",
       "</div>"
      ],
      "text/plain": [
       "                                                 event       date  \\\n",
       "0    http://www.ufcstats.com/event-details/df05aa15... 2019-10-26   \n",
       "1    http://www.ufcstats.com/event-details/4887e5bc... 2016-04-10   \n",
       "2    http://www.ufcstats.com/event-details/6a0b80a2... 2012-10-05   \n",
       "3    http://www.ufcstats.com/event-details/1dc56b59... 2002-07-13   \n",
       "4    http://www.ufcstats.com/event-details/43612456... 2013-10-09   \n",
       "..                                                 ...        ...   \n",
       "517  http://www.ufcstats.com/event-details/ae58685c... 2003-04-25   \n",
       "518  http://www.ufcstats.com/event-details/1979c801... 2017-09-16   \n",
       "519  http://www.ufcstats.com/event-details/46f11d15... 2008-07-19   \n",
       "520  http://www.ufcstats.com/event-details/db1f2ed6... 2016-03-05   \n",
       "521  http://www.ufcstats.com/event-details/c6becb72... 2016-01-17   \n",
       "\n",
       "                                        name  \n",
       "0           UFC Fight Night: Maia vs. Askren  \n",
       "1    UFC Fight Night: Rothwell vs Dos Santos  \n",
       "2               UFC on FX: Browne vs Bigfoot  \n",
       "3                  UFC 38: Brawl at the Hall  \n",
       "4           UFC Fight Night: Maia vs Shields  \n",
       "..                                       ...  \n",
       "517                    UFC 42: Sudden Impact  \n",
       "518     UFC Fight Night: Rockhold vs. Branch  \n",
       "519                      UFC: Silva vs Irvin  \n",
       "520                UFC 196: McGregor vs Diaz  \n",
       "521       UFC Fight Night: Dillashaw vs Cruz  \n",
       "\n",
       "[522 rows x 3 columns]"
      ]
     },
     "execution_count": 59,
     "metadata": {},
     "output_type": "execute_result"
    }
   ],
   "source": [
    "event_database_df"
   ]
  },
  {
   "cell_type": "code",
   "execution_count": 60,
   "metadata": {},
   "outputs": [],
   "source": [
    "event_database_df_dropped = event_database_df[event_database_df.date > current_datetime]\n",
    "\n",
    "pending_events_indexes = event_database_df_dropped.index.tolist()\n",
    "\n",
    "for index in pending_events_indexes:\n",
    "    event_soups.pop(index)"
   ]
  },
  {
   "cell_type": "code",
   "execution_count": 61,
   "metadata": {},
   "outputs": [
    {
     "name": "stdout",
     "output_type": "stream",
     "text": [
      "<class 'pandas.core.frame.DataFrame'>\n",
      "RangeIndex: 522 entries, 0 to 521\n",
      "Data columns (total 3 columns):\n",
      " #   Column  Non-Null Count  Dtype         \n",
      "---  ------  --------------  -----         \n",
      " 0   event   522 non-null    object        \n",
      " 1   date    522 non-null    datetime64[ns]\n",
      " 2   name    522 non-null    object        \n",
      "dtypes: datetime64[ns](1), object(2)\n",
      "memory usage: 12.4+ KB\n"
     ]
    }
   ],
   "source": [
    "event_database_df.info()"
   ]
  },
  {
   "cell_type": "code",
   "execution_count": 62,
   "metadata": {},
   "outputs": [],
   "source": [
    "def event_fight_participants_fetcher(event_soup):\n",
    "    \n",
    "    fight_pairs = []\n",
    "    \n",
    "    name_holder = event_soup.findChildren('a', attrs={'class': re.compile('b-link')})\n",
    "\n",
    "    fighter1_list_holder, fighter2_list_holder = name_holder[0::2], name_holder[1::2]\n",
    "\n",
    "    fighter1_list = []\n",
    "    fighter2_list = []\n",
    "\n",
    "    for fighter1 in fighter1_list_holder:\n",
    "        fighter1_list.append(fighter1.text.strip())\n",
    "        \n",
    "    for fighter2 in fighter2_list_holder:\n",
    "        fighter2_list.append(fighter2.text.strip())\n",
    "      \n",
    "    fighters_in_ring = zip(fighter1_list, fighter2_list)\n",
    "    \n",
    "    for duo in fighters_in_ring:\n",
    "        fight_pairs.append(duo)\n",
    "        \n",
    "    return fight_pairs"
   ]
  },
  {
   "cell_type": "code",
   "execution_count": 63,
   "metadata": {},
   "outputs": [],
   "source": [
    "def event_fight_strikes(event_soup):\n",
    "        \n",
    "    parser = event_soup.findAll('tr', attrs={'class': 'b-fight-details__table-row b-fight-details__table-row__hover js-fight-details-click'})\n",
    "    \n",
    "    event_strike_list = []\n",
    "    \n",
    "    for x in range(0, len(parser)):\n",
    "\n",
    "        fight_strikes_holder = parser[x].findAll('td', attrs={'class': re.compile('b-fight-details')})\n",
    "\n",
    "        event_strike_list.append(fight_strikes_holder[2].text.split())\n",
    "\n",
    "    return event_strike_list"
   ]
  },
  {
   "cell_type": "code",
   "execution_count": 64,
   "metadata": {},
   "outputs": [],
   "source": [
    "def event_fight_takedowns(event_soup):\n",
    "        \n",
    "    parser = event_soup.findAll('tr', attrs={'class': 'b-fight-details__table-row b-fight-details__table-row__hover js-fight-details-click'})\n",
    "    \n",
    "    event_takedowns_list = []\n",
    "    \n",
    "    for x in range(0, len(parser)):\n",
    "\n",
    "        fight_takedowns_holder = parser[x].findAll('td', attrs={'class': re.compile('b-fight-details')})\n",
    "        \n",
    "        event_takedowns_list.append(fight_takedowns_holder[3].text.split())\n",
    "            \n",
    "    return event_takedowns_list"
   ]
  },
  {
   "cell_type": "code",
   "execution_count": 65,
   "metadata": {},
   "outputs": [],
   "source": [
    "def event_fight_submissions(event_soup):    \n",
    "    \n",
    "    parser = event_soup.findAll('tr', attrs={'class': 'b-fight-details__table-row b-fight-details__table-row__hover js-fight-details-click'})\n",
    "\n",
    "    event_submissions_list = []\n",
    "\n",
    "    for x in range(0, len(parser)):\n",
    "\n",
    "        event_submissions_holder = parser[x].findAll('td', attrs={'class': re.compile('b-fight-details')})      \n",
    "    \n",
    "        event_submissions_list.append(event_submissions_holder[4].text.split())\n",
    "\n",
    "    return event_submissions_list\n"
   ]
  },
  {
   "cell_type": "code",
   "execution_count": 66,
   "metadata": {},
   "outputs": [],
   "source": [
    "def event_fight_passes(event_soup):\n",
    "    \n",
    "    parser = event_soup.findAll('tr', attrs={'class': 'b-fight-details__table-row b-fight-details__table-row__hover js-fight-details-click'})\n",
    "\n",
    "    event_passes_list = []\n",
    "\n",
    "    for x in range(0, len(parser)):\n",
    "\n",
    "        event_passes_holder = parser[x].findAll('td', attrs={'class': re.compile('b-fight-details')})      \n",
    "\n",
    "        event_passes_list.append(event_passes_holder[5].text.split())\n",
    "\n",
    "    return event_passes_list"
   ]
  },
  {
   "cell_type": "code",
   "execution_count": 67,
   "metadata": {},
   "outputs": [],
   "source": [
    "def event_fight_weight_classes(event_soup):\n",
    "    \n",
    "    event_weight_class_list = []\n",
    "\n",
    "    parser = event_soup.findAll('tr', attrs={'class': 'b-fight-details__table-row b-fight-details__table-row__hover js-fight-details-click'})\n",
    "\n",
    "    for x in range(0, len(parser)):\n",
    "\n",
    "        holder = parser[x].findAll('td', attrs={'class': re.compile('b-fight-details')})\n",
    "\n",
    "        weight_class = holder[6].text.strip()\n",
    "\n",
    "        event_weight_class_list.append(weight_class)\n",
    "\n",
    "    return event_weight_class_list"
   ]
  },
  {
   "cell_type": "code",
   "execution_count": 68,
   "metadata": {},
   "outputs": [],
   "source": [
    "def event_fight_win_method(event_soup):\n",
    "        \n",
    "    win_methods_holder = event_soup.findAll('tr', attrs={'class': 'b-fight-details__table-row b-fight-details__table-row__hover js-fight-details-click'})\n",
    "    \n",
    "    win_methods_list = []    \n",
    "    \n",
    "    for x in range(0, len(win_methods_holder)):\n",
    "        \n",
    "        win_method_holder = win_methods_holder[x].findAll('td', attrs={'class': re.compile('b-fight-details')})[7]\n",
    "        \n",
    "        win_method = win_method_holder.findAll('p', attrs={'class': re.compile('b-fight-details')})[0].text.strip()\n",
    "        \n",
    "        win_methods_list.append(win_method)\n",
    "    \n",
    "    return win_methods_list"
   ]
  },
  {
   "cell_type": "code",
   "execution_count": 69,
   "metadata": {},
   "outputs": [],
   "source": [
    "def event_fight_win_method_details(event_soup):\n",
    "        \n",
    "    win_methods_holder = event_soup.findAll('tr', attrs={'class': 'b-fight-details__table-row b-fight-details__table-row__hover js-fight-details-click'})\n",
    "    \n",
    "    win_methods_list = []    \n",
    "    \n",
    "    for x in range(0, len(win_methods_holder)):\n",
    "        \n",
    "        win_method_holder = win_methods_holder[x].findAll('td', attrs={'class': re.compile('b-fight-details')})[7]\n",
    "        \n",
    "        win_method = win_method_holder.findAll('p', attrs={'class': re.compile('b-fight-details')})[1].text.strip()\n",
    "        \n",
    "        win_methods_list.append(win_method)\n",
    "    \n",
    "    return win_methods_list"
   ]
  },
  {
   "cell_type": "code",
   "execution_count": 70,
   "metadata": {},
   "outputs": [],
   "source": [
    "def event_fight_final_round(event_soup):\n",
    "    \n",
    "    ending_round_holder = event_soup.findAll('tr', attrs={'class': 'b-fight-details__table-row b-fight-details__table-row__hover js-fight-details-click'})\n",
    "    \n",
    "    ending_round_list = []\n",
    "    \n",
    "    for x in range(0, len(ending_round_holder)):\n",
    "        \n",
    "        ending_round = int(ending_round_holder[x].findAll('td', attrs={'class': re.compile('b-fight-details')})[8].text.strip())\n",
    "        \n",
    "        ending_round_list.append(ending_round)\n",
    "        \n",
    "    return ending_round_list\n",
    "    "
   ]
  },
  {
   "cell_type": "code",
   "execution_count": 71,
   "metadata": {},
   "outputs": [],
   "source": [
    "def event_fight_final_round_time(event_soup):\n",
    "    \n",
    "    ending_round_time_list = []\n",
    "    \n",
    "    ending_round_time_holder = event_soup.findAll('tr', attrs={'class': 'b-fight-details__table-row b-fight-details__table-row__hover js-fight-details-click'})\n",
    "    \n",
    "    for x in range(0, len(ending_round_time_holder)):\n",
    "    \n",
    "        ending_round_time = ending_round_time_holder[x].findAll('td', attrs={'class': re.compile('b-fight-details')})[-1].text.strip()\n",
    "        \n",
    "        ending_round_time_list.append(ending_round_time)\n",
    "\n",
    "    return ending_round_time_list"
   ]
  },
  {
   "cell_type": "code",
   "execution_count": 79,
   "metadata": {},
   "outputs": [],
   "source": [
    "event_fight_list = list(map(event_fights_parser, event_soups))\n",
    "\n",
    "matchup_list = list(map(event_fight_participants_fetcher, event_soups))\n",
    "\n",
    "fighter_strike_count_list = list(map(event_fight_strikes,event_soups))\n",
    "    \n",
    "fight_takedown_list = list(map(event_fight_takedowns,event_soups))\n",
    "\n",
    "fight_submission_list = list(map(event_fight_submissions,event_soups))\n",
    "    \n",
    "fight_pass_list = list(map(event_fight_passes,event_soups))\n",
    "\n",
    "fight_weight_class_list = list(map(event_fight_weight_classes,event_soups))\n",
    "    \n",
    "fight_win_method_list = list(map(event_fight_win_method,event_soups))\n",
    "\n",
    "fight_final_round_list = list(map(event_fight_final_round,event_soups))\n",
    "    \n",
    "fight_final_round_time_list = list(map(event_fight_final_round_time,event_soups))"
   ]
  },
  {
   "cell_type": "code",
   "execution_count": 80,
   "metadata": {},
   "outputs": [
    {
     "data": {
      "text/html": [
       "<div>\n",
       "<style scoped>\n",
       "    .dataframe tbody tr th:only-of-type {\n",
       "        vertical-align: middle;\n",
       "    }\n",
       "\n",
       "    .dataframe tbody tr th {\n",
       "        vertical-align: top;\n",
       "    }\n",
       "\n",
       "    .dataframe thead th {\n",
       "        text-align: right;\n",
       "    }\n",
       "</style>\n",
       "<table border=\"1\" class=\"dataframe\">\n",
       "  <thead>\n",
       "    <tr style=\"text-align: right;\">\n",
       "      <th></th>\n",
       "      <th>date</th>\n",
       "      <th>name</th>\n",
       "      <th>event_fight_list</th>\n",
       "      <th>matchups</th>\n",
       "      <th>strike_counts</th>\n",
       "      <th>takedown_counts</th>\n",
       "      <th>submission_counts</th>\n",
       "      <th>pass_counts</th>\n",
       "      <th>weight_class</th>\n",
       "      <th>win_method</th>\n",
       "      <th>final_round</th>\n",
       "      <th>final_round_time</th>\n",
       "    </tr>\n",
       "  </thead>\n",
       "  <tbody>\n",
       "    <tr>\n",
       "      <th>0</th>\n",
       "      <td>2019-10-26</td>\n",
       "      <td>UFC Fight Night: Maia vs. Askren</td>\n",
       "      <td>[http://www.ufcstats.com/fight-details/241a083...</td>\n",
       "      <td>[(Demian Maia, Ben Askren), (Stevie Ray, Micha...</td>\n",
       "      <td>[[69, 63], [85, 78], [13, 3], [94, 32], [63, 4...</td>\n",
       "      <td>[[0, 4], [1, 0], [2, 0], [3, 0], [3, 0], [0, 2...</td>\n",
       "      <td>[[1, 0], [0, 0], [1, 0], [1, 0], [0, 0], [0, 0...</td>\n",
       "      <td>[[4, 1], [1, 0], [1, 0], [1, 0], [0, 0], [1, 3...</td>\n",
       "      <td>[Welterweight, Lightweight, Lightweight, Heavy...</td>\n",
       "      <td>[SUB, M-DEC, SUB, SUB, U-DEC, S-DEC, U-DEC, U-...</td>\n",
       "      <td>[3, 3, 1, 3, 3, 3, 3, 3, 1, 3, 3]</td>\n",
       "      <td>[3:54, 5:00, 2:02, 4:46, 5:00, 5:00, 5:00, 5:0...</td>\n",
       "    </tr>\n",
       "    <tr>\n",
       "      <th>1</th>\n",
       "      <td>2016-04-10</td>\n",
       "      <td>UFC Fight Night: Rothwell vs Dos Santos</td>\n",
       "      <td>[http://www.ufcstats.com/fight-details/5f6b8e4...</td>\n",
       "      <td>[(Junior Dos Santos, Ben Rothwell), (Derrick L...</td>\n",
       "      <td>[[157, 77], [17, 5], [36, 24], [45, 48], [98, ...</td>\n",
       "      <td>[[0, 0], [0, 1], [0, 2], [0, 1], [4, 0], [1, 1...</td>\n",
       "      <td>[[0, 0], [0, 0], [0, 0], [0, 0], [0, 0], [1, 2...</td>\n",
       "      <td>[[0, 0], [0, 2], [0, 1], [0, 1], [4, 3], [3, 0...</td>\n",
       "      <td>[Heavyweight, Heavyweight, Heavyweight, Heavyw...</td>\n",
       "      <td>[U-DEC, KO/TKO, KO/TKO, U-DEC, U-DEC, U-DEC, U...</td>\n",
       "      <td>[5, 1, 2, 3, 3, 3, 3, 1, 1, 1, 3, 1, 3]</td>\n",
       "      <td>[5:00, 4:48, 5:00, 5:00, 5:00, 5:00, 5:00, 4:0...</td>\n",
       "    </tr>\n",
       "    <tr>\n",
       "      <th>2</th>\n",
       "      <td>2012-10-05</td>\n",
       "      <td>UFC on FX: Browne vs Bigfoot</td>\n",
       "      <td>[http://www.ufcstats.com/fight-details/0cced3b...</td>\n",
       "      <td>[(Antonio Silva, Travis Browne), (Jake Ellenbe...</td>\n",
       "      <td>[[15, 8], [25, 32], [33, 9], [6, 0], [17, 17],...</td>\n",
       "      <td>[[0, 0], [2, 0], [0, 0], [0, 0], [0, 0], [0, 1...</td>\n",
       "      <td>[[0, 0], [0, 0], [0, 0], [1, 0], [0, 1], [0, 1...</td>\n",
       "      <td>[[0, 0], [0, 0], [0, 0], [0, 0], [0, 2], [0, 1...</td>\n",
       "      <td>[Heavyweight, Welterweight, Flyweight, Welterw...</td>\n",
       "      <td>[KO/TKO, U-DEC, KO/TKO, SUB, KO/TKO, KO/TKO, S...</td>\n",
       "      <td>[1, 3, 2, 1, 2, 2, 3, 1, 3, 2]</td>\n",
       "      <td>[3:27, 5:00, 4:35, 0:45, 1:06, 0:29, 5:00, 2:3...</td>\n",
       "    </tr>\n",
       "    <tr>\n",
       "      <th>3</th>\n",
       "      <td>2002-07-13</td>\n",
       "      <td>UFC 38: Brawl at the Hall</td>\n",
       "      <td>[http://www.ufcstats.com/fight-details/0f6dd5d...</td>\n",
       "      <td>[(Matt Hughes, Carlos Newton), (Ian Freeman, F...</td>\n",
       "      <td>[[58, 3], [34, 6], [4, 0], [9, 5], [30, 29], [...</td>\n",
       "      <td>[[4, 0], [0, 1], [0, 0], [2, 0], [4, 0], [4, 0...</td>\n",
       "      <td>[[1, 1], [0, 3], [0, 0], [3, 0], [0, 1], [0, 0...</td>\n",
       "      <td>[[12, 1], [0, 0], [0, 0], [2, 0], [9, 0], [0, ...</td>\n",
       "      <td>[Welterweight, Heavyweight, Middleweight, Ligh...</td>\n",
       "      <td>[KO/TKO, KO/TKO, KO/TKO, SUB, U-DEC, U-DEC, U-...</td>\n",
       "      <td>[4, 1, 1, 2, 3, 3, 3]</td>\n",
       "      <td>[3:37, 4:35, 0:10, 1:38, 5:00, 5:00, 5:00]</td>\n",
       "    </tr>\n",
       "    <tr>\n",
       "      <th>4</th>\n",
       "      <td>2013-10-09</td>\n",
       "      <td>UFC Fight Night: Maia vs Shields</td>\n",
       "      <td>[http://www.ufcstats.com/fight-details/a41ba26...</td>\n",
       "      <td>[(Jake Shields, Demian Maia), (Dong Hyun Kim, ...</td>\n",
       "      <td>[[35, 24], [11, 28], [96, 70], [87, 57], [0, 2...</td>\n",
       "      <td>[[1, 3], [1, 0], [0, 3], [0, 1], [0, 1], [0, 2...</td>\n",
       "      <td>[[0, 0], [0, 0], [0, 0], [1, 0], [2, 0], [1, 3...</td>\n",
       "      <td>[[5, 1], [1, 0], [0, 0], [0, 0], [0, 0], [0, 1...</td>\n",
       "      <td>[Welterweight, Welterweight, Light Heavyweight...</td>\n",
       "      <td>[S-DEC, KO/TKO, U-DEC, S-DEC, SUB, S-DEC, U-DE...</td>\n",
       "      <td>[5, 2, 3, 3, 1, 3, 3, 3, 2, 1]</td>\n",
       "      <td>[5:00, 3:01, 5:00, 5:00, 0:31, 5:00, 5:00, 5:0...</td>\n",
       "    </tr>\n",
       "    <tr>\n",
       "      <th>...</th>\n",
       "      <td>...</td>\n",
       "      <td>...</td>\n",
       "      <td>...</td>\n",
       "      <td>...</td>\n",
       "      <td>...</td>\n",
       "      <td>...</td>\n",
       "      <td>...</td>\n",
       "      <td>...</td>\n",
       "      <td>...</td>\n",
       "      <td>...</td>\n",
       "      <td>...</td>\n",
       "      <td>...</td>\n",
       "    </tr>\n",
       "    <tr>\n",
       "      <th>516</th>\n",
       "      <td>2003-04-25</td>\n",
       "      <td>UFC 42: Sudden Impact</td>\n",
       "      <td>[http://www.ufcstats.com/fight-details/00a5e03...</td>\n",
       "      <td>[(Matt Hughes, Sean Sherk), (Pete Spratt, Robb...</td>\n",
       "      <td>[[44, 19], [19, 15], [60, 24], [22, 6], [16, 6...</td>\n",
       "      <td>[[5, 3], [1, 2], [1, 2], [0, 0], [0, 0], [0, 3...</td>\n",
       "      <td>[[1, 1], [0, 0], [0, 0], [0, 0], [0, 0], [0, 0...</td>\n",
       "      <td>[[10, 2], [1, 3], [1, 1], [0, 0], [0, 0], [0, ...</td>\n",
       "      <td>[Welterweight, Welterweight, Welterweight, Hea...</td>\n",
       "      <td>[U-DEC, SUB, U-DEC, KO/TKO, KO/TKO, U-DEC, U-D...</td>\n",
       "      <td>[5, 2, 3, 2, 1, 3, 3, 1]</td>\n",
       "      <td>[5:00, 2:28, 5:00, 1:46, 2:40, 5:00, 5:00, 3:55]</td>\n",
       "    </tr>\n",
       "    <tr>\n",
       "      <th>517</th>\n",
       "      <td>2017-09-16</td>\n",
       "      <td>UFC Fight Night: Rockhold vs. Branch</td>\n",
       "      <td>[http://www.ufcstats.com/fight-details/24438a6...</td>\n",
       "      <td>[(Luke Rockhold, David Branch), (Mike Perry, A...</td>\n",
       "      <td>[[58, 25], [11, 6], [35, 65], [20, 22], [16, 1...</td>\n",
       "      <td>[[2, 1], [0, 0], [0, 1], [4, 0], [0, 0], [0, 0...</td>\n",
       "      <td>[[0, 0], [0, 0], [0, 0], [1, 0], [0, 0], [0, 0...</td>\n",
       "      <td>[[2, 0], [0, 0], [0, 0], [6, 0], [0, 0], [0, 0...</td>\n",
       "      <td>[Middleweight, Welterweight, Middleweight, Lig...</td>\n",
       "      <td>[KO/TKO, KO/TKO, KO/TKO, SUB, KO/TKO, S-DEC, S...</td>\n",
       "      <td>[2, 1, 3, 2, 1, 3, 3, 1, 2, 2]</td>\n",
       "      <td>[4:05, 1:19, 2:33, 2:11, 2:48, 5:00, 5:00, 0:2...</td>\n",
       "    </tr>\n",
       "    <tr>\n",
       "      <th>518</th>\n",
       "      <td>2008-07-19</td>\n",
       "      <td>UFC: Silva vs Irvin</td>\n",
       "      <td>[http://www.ufcstats.com/fight-details/4eafb26...</td>\n",
       "      <td>[(Anderson Silva, James Irvin), (Brandon Vera,...</td>\n",
       "      <td>[[13, 0], [38, 30], [69, 18], [24, 1], [37, 51...</td>\n",
       "      <td>[[0, 0], [2, 1], [10, 0], [1, 0], [0, 5], [0, ...</td>\n",
       "      <td>[[0, 0], [0, 0], [0, 1], [0, 0], [0, 0], [2, 0...</td>\n",
       "      <td>[[0, 0], [2, 0], [0, 0], [1, 0], [0, 0], [1, 0...</td>\n",
       "      <td>[Light Heavyweight, Light Heavyweight, Lightwe...</td>\n",
       "      <td>[KO/TKO, U-DEC, U-DEC, KO/TKO, KO/TKO, SUB, KO...</td>\n",
       "      <td>[1, 3, 3, 1, 3, 1, 1, 1, 1, 2, 1]</td>\n",
       "      <td>[1:01, 5:00, 5:00, 2:02, 3:35, 3:58, 1:54, 1:3...</td>\n",
       "    </tr>\n",
       "    <tr>\n",
       "      <th>519</th>\n",
       "      <td>2016-03-05</td>\n",
       "      <td>UFC 196: McGregor vs Diaz</td>\n",
       "      <td>[http://www.ufcstats.com/fight-details/4ace70b...</td>\n",
       "      <td>[(Nate Diaz, Conor McGregor), (Miesha Tate, Ho...</td>\n",
       "      <td>[[77, 61], [40, 59], [30, 23], [55, 31], [39, ...</td>\n",
       "      <td>[[1, 0], [2, 0], [3, 0], [1, 1], [2, 1], [3, 1...</td>\n",
       "      <td>[[2, 0], [2, 0], [0, 0], [0, 0], [2, 0], [1, 0...</td>\n",
       "      <td>[[1, 0], [3, 0], [1, 0], [1, 0], [4, 1], [4, 0...</td>\n",
       "      <td>[Welterweight, Women's Bantamweight, Light Hea...</td>\n",
       "      <td>[SUB, SUB, U-DEC, U-DEC, U-DEC, SUB, KO/TKO, K...</td>\n",
       "      <td>[2, 5, 3, 3, 3, 3, 2, 2, 3, 3, 1, 2]</td>\n",
       "      <td>[4:12, 3:30, 5:00, 5:00, 5:00, 4:11, 1:34, 1:0...</td>\n",
       "    </tr>\n",
       "    <tr>\n",
       "      <th>520</th>\n",
       "      <td>2016-01-17</td>\n",
       "      <td>UFC Fight Night: Dillashaw vs Cruz</td>\n",
       "      <td>[http://www.ufcstats.com/fight-details/c4938ba...</td>\n",
       "      <td>[(Dominick Cruz, TJ Dillashaw), (Eddie Alvarez...</td>\n",
       "      <td>[[112, 109], [42, 56], [51, 27], [51, 28], [42...</td>\n",
       "      <td>[[4, 1], [6, 0], [2, 0], [1, 2], [0, 1], [0, 0...</td>\n",
       "      <td>[[0, 0], [0, 0], [0, 0], [0, 0], [1, 0], [0, 0...</td>\n",
       "      <td>[[0, 0], [2, 0], [2, 0], [0, 0], [2, 0], [0, 0...</td>\n",
       "      <td>[Bantamweight, Lightweight, Heavyweight, Light...</td>\n",
       "      <td>[S-DEC, S-DEC, KO/TKO, U-DEC, KO/TKO, KO/TKO, ...</td>\n",
       "      <td>[5, 3, 3, 3, 2, 2, 1, 1, 3, 1, 3, 2, 3]</td>\n",
       "      <td>[5:00, 5:00, 4:09, 5:00, 1:14, 1:39, 4:30, 3:3...</td>\n",
       "    </tr>\n",
       "  </tbody>\n",
       "</table>\n",
       "<p>521 rows × 12 columns</p>\n",
       "</div>"
      ],
      "text/plain": [
       "          date                                     name  \\\n",
       "0   2019-10-26         UFC Fight Night: Maia vs. Askren   \n",
       "1   2016-04-10  UFC Fight Night: Rothwell vs Dos Santos   \n",
       "2   2012-10-05             UFC on FX: Browne vs Bigfoot   \n",
       "3   2002-07-13                UFC 38: Brawl at the Hall   \n",
       "4   2013-10-09         UFC Fight Night: Maia vs Shields   \n",
       "..         ...                                      ...   \n",
       "516 2003-04-25                    UFC 42: Sudden Impact   \n",
       "517 2017-09-16     UFC Fight Night: Rockhold vs. Branch   \n",
       "518 2008-07-19                      UFC: Silva vs Irvin   \n",
       "519 2016-03-05                UFC 196: McGregor vs Diaz   \n",
       "520 2016-01-17       UFC Fight Night: Dillashaw vs Cruz   \n",
       "\n",
       "                                      event_fight_list  \\\n",
       "0    [http://www.ufcstats.com/fight-details/241a083...   \n",
       "1    [http://www.ufcstats.com/fight-details/5f6b8e4...   \n",
       "2    [http://www.ufcstats.com/fight-details/0cced3b...   \n",
       "3    [http://www.ufcstats.com/fight-details/0f6dd5d...   \n",
       "4    [http://www.ufcstats.com/fight-details/a41ba26...   \n",
       "..                                                 ...   \n",
       "516  [http://www.ufcstats.com/fight-details/00a5e03...   \n",
       "517  [http://www.ufcstats.com/fight-details/24438a6...   \n",
       "518  [http://www.ufcstats.com/fight-details/4eafb26...   \n",
       "519  [http://www.ufcstats.com/fight-details/4ace70b...   \n",
       "520  [http://www.ufcstats.com/fight-details/c4938ba...   \n",
       "\n",
       "                                              matchups  \\\n",
       "0    [(Demian Maia, Ben Askren), (Stevie Ray, Micha...   \n",
       "1    [(Junior Dos Santos, Ben Rothwell), (Derrick L...   \n",
       "2    [(Antonio Silva, Travis Browne), (Jake Ellenbe...   \n",
       "3    [(Matt Hughes, Carlos Newton), (Ian Freeman, F...   \n",
       "4    [(Jake Shields, Demian Maia), (Dong Hyun Kim, ...   \n",
       "..                                                 ...   \n",
       "516  [(Matt Hughes, Sean Sherk), (Pete Spratt, Robb...   \n",
       "517  [(Luke Rockhold, David Branch), (Mike Perry, A...   \n",
       "518  [(Anderson Silva, James Irvin), (Brandon Vera,...   \n",
       "519  [(Nate Diaz, Conor McGregor), (Miesha Tate, Ho...   \n",
       "520  [(Dominick Cruz, TJ Dillashaw), (Eddie Alvarez...   \n",
       "\n",
       "                                         strike_counts  \\\n",
       "0    [[69, 63], [85, 78], [13, 3], [94, 32], [63, 4...   \n",
       "1    [[157, 77], [17, 5], [36, 24], [45, 48], [98, ...   \n",
       "2    [[15, 8], [25, 32], [33, 9], [6, 0], [17, 17],...   \n",
       "3    [[58, 3], [34, 6], [4, 0], [9, 5], [30, 29], [...   \n",
       "4    [[35, 24], [11, 28], [96, 70], [87, 57], [0, 2...   \n",
       "..                                                 ...   \n",
       "516  [[44, 19], [19, 15], [60, 24], [22, 6], [16, 6...   \n",
       "517  [[58, 25], [11, 6], [35, 65], [20, 22], [16, 1...   \n",
       "518  [[13, 0], [38, 30], [69, 18], [24, 1], [37, 51...   \n",
       "519  [[77, 61], [40, 59], [30, 23], [55, 31], [39, ...   \n",
       "520  [[112, 109], [42, 56], [51, 27], [51, 28], [42...   \n",
       "\n",
       "                                       takedown_counts  \\\n",
       "0    [[0, 4], [1, 0], [2, 0], [3, 0], [3, 0], [0, 2...   \n",
       "1    [[0, 0], [0, 1], [0, 2], [0, 1], [4, 0], [1, 1...   \n",
       "2    [[0, 0], [2, 0], [0, 0], [0, 0], [0, 0], [0, 1...   \n",
       "3    [[4, 0], [0, 1], [0, 0], [2, 0], [4, 0], [4, 0...   \n",
       "4    [[1, 3], [1, 0], [0, 3], [0, 1], [0, 1], [0, 2...   \n",
       "..                                                 ...   \n",
       "516  [[5, 3], [1, 2], [1, 2], [0, 0], [0, 0], [0, 3...   \n",
       "517  [[2, 1], [0, 0], [0, 1], [4, 0], [0, 0], [0, 0...   \n",
       "518  [[0, 0], [2, 1], [10, 0], [1, 0], [0, 5], [0, ...   \n",
       "519  [[1, 0], [2, 0], [3, 0], [1, 1], [2, 1], [3, 1...   \n",
       "520  [[4, 1], [6, 0], [2, 0], [1, 2], [0, 1], [0, 0...   \n",
       "\n",
       "                                     submission_counts  \\\n",
       "0    [[1, 0], [0, 0], [1, 0], [1, 0], [0, 0], [0, 0...   \n",
       "1    [[0, 0], [0, 0], [0, 0], [0, 0], [0, 0], [1, 2...   \n",
       "2    [[0, 0], [0, 0], [0, 0], [1, 0], [0, 1], [0, 1...   \n",
       "3    [[1, 1], [0, 3], [0, 0], [3, 0], [0, 1], [0, 0...   \n",
       "4    [[0, 0], [0, 0], [0, 0], [1, 0], [2, 0], [1, 3...   \n",
       "..                                                 ...   \n",
       "516  [[1, 1], [0, 0], [0, 0], [0, 0], [0, 0], [0, 0...   \n",
       "517  [[0, 0], [0, 0], [0, 0], [1, 0], [0, 0], [0, 0...   \n",
       "518  [[0, 0], [0, 0], [0, 1], [0, 0], [0, 0], [2, 0...   \n",
       "519  [[2, 0], [2, 0], [0, 0], [0, 0], [2, 0], [1, 0...   \n",
       "520  [[0, 0], [0, 0], [0, 0], [0, 0], [1, 0], [0, 0...   \n",
       "\n",
       "                                           pass_counts  \\\n",
       "0    [[4, 1], [1, 0], [1, 0], [1, 0], [0, 0], [1, 3...   \n",
       "1    [[0, 0], [0, 2], [0, 1], [0, 1], [4, 3], [3, 0...   \n",
       "2    [[0, 0], [0, 0], [0, 0], [0, 0], [0, 2], [0, 1...   \n",
       "3    [[12, 1], [0, 0], [0, 0], [2, 0], [9, 0], [0, ...   \n",
       "4    [[5, 1], [1, 0], [0, 0], [0, 0], [0, 0], [0, 1...   \n",
       "..                                                 ...   \n",
       "516  [[10, 2], [1, 3], [1, 1], [0, 0], [0, 0], [0, ...   \n",
       "517  [[2, 0], [0, 0], [0, 0], [6, 0], [0, 0], [0, 0...   \n",
       "518  [[0, 0], [2, 0], [0, 0], [1, 0], [0, 0], [1, 0...   \n",
       "519  [[1, 0], [3, 0], [1, 0], [1, 0], [4, 1], [4, 0...   \n",
       "520  [[0, 0], [2, 0], [2, 0], [0, 0], [2, 0], [0, 0...   \n",
       "\n",
       "                                          weight_class  \\\n",
       "0    [Welterweight, Lightweight, Lightweight, Heavy...   \n",
       "1    [Heavyweight, Heavyweight, Heavyweight, Heavyw...   \n",
       "2    [Heavyweight, Welterweight, Flyweight, Welterw...   \n",
       "3    [Welterweight, Heavyweight, Middleweight, Ligh...   \n",
       "4    [Welterweight, Welterweight, Light Heavyweight...   \n",
       "..                                                 ...   \n",
       "516  [Welterweight, Welterweight, Welterweight, Hea...   \n",
       "517  [Middleweight, Welterweight, Middleweight, Lig...   \n",
       "518  [Light Heavyweight, Light Heavyweight, Lightwe...   \n",
       "519  [Welterweight, Women's Bantamweight, Light Hea...   \n",
       "520  [Bantamweight, Lightweight, Heavyweight, Light...   \n",
       "\n",
       "                                            win_method  \\\n",
       "0    [SUB, M-DEC, SUB, SUB, U-DEC, S-DEC, U-DEC, U-...   \n",
       "1    [U-DEC, KO/TKO, KO/TKO, U-DEC, U-DEC, U-DEC, U...   \n",
       "2    [KO/TKO, U-DEC, KO/TKO, SUB, KO/TKO, KO/TKO, S...   \n",
       "3    [KO/TKO, KO/TKO, KO/TKO, SUB, U-DEC, U-DEC, U-...   \n",
       "4    [S-DEC, KO/TKO, U-DEC, S-DEC, SUB, S-DEC, U-DE...   \n",
       "..                                                 ...   \n",
       "516  [U-DEC, SUB, U-DEC, KO/TKO, KO/TKO, U-DEC, U-D...   \n",
       "517  [KO/TKO, KO/TKO, KO/TKO, SUB, KO/TKO, S-DEC, S...   \n",
       "518  [KO/TKO, U-DEC, U-DEC, KO/TKO, KO/TKO, SUB, KO...   \n",
       "519  [SUB, SUB, U-DEC, U-DEC, U-DEC, SUB, KO/TKO, K...   \n",
       "520  [S-DEC, S-DEC, KO/TKO, U-DEC, KO/TKO, KO/TKO, ...   \n",
       "\n",
       "                                 final_round  \\\n",
       "0          [3, 3, 1, 3, 3, 3, 3, 3, 1, 3, 3]   \n",
       "1    [5, 1, 2, 3, 3, 3, 3, 1, 1, 1, 3, 1, 3]   \n",
       "2             [1, 3, 2, 1, 2, 2, 3, 1, 3, 2]   \n",
       "3                      [4, 1, 1, 2, 3, 3, 3]   \n",
       "4             [5, 2, 3, 3, 1, 3, 3, 3, 2, 1]   \n",
       "..                                       ...   \n",
       "516                 [5, 2, 3, 2, 1, 3, 3, 1]   \n",
       "517           [2, 1, 3, 2, 1, 3, 3, 1, 2, 2]   \n",
       "518        [1, 3, 3, 1, 3, 1, 1, 1, 1, 2, 1]   \n",
       "519     [2, 5, 3, 3, 3, 3, 2, 2, 3, 3, 1, 2]   \n",
       "520  [5, 3, 3, 3, 2, 2, 1, 1, 3, 1, 3, 2, 3]   \n",
       "\n",
       "                                      final_round_time  \n",
       "0    [3:54, 5:00, 2:02, 4:46, 5:00, 5:00, 5:00, 5:0...  \n",
       "1    [5:00, 4:48, 5:00, 5:00, 5:00, 5:00, 5:00, 4:0...  \n",
       "2    [3:27, 5:00, 4:35, 0:45, 1:06, 0:29, 5:00, 2:3...  \n",
       "3           [3:37, 4:35, 0:10, 1:38, 5:00, 5:00, 5:00]  \n",
       "4    [5:00, 3:01, 5:00, 5:00, 0:31, 5:00, 5:00, 5:0...  \n",
       "..                                                 ...  \n",
       "516   [5:00, 2:28, 5:00, 1:46, 2:40, 5:00, 5:00, 3:55]  \n",
       "517  [4:05, 1:19, 2:33, 2:11, 2:48, 5:00, 5:00, 0:2...  \n",
       "518  [1:01, 5:00, 5:00, 2:02, 3:35, 3:58, 1:54, 1:3...  \n",
       "519  [4:12, 3:30, 5:00, 5:00, 5:00, 4:11, 1:34, 1:0...  \n",
       "520  [5:00, 5:00, 4:09, 5:00, 1:14, 1:39, 4:30, 3:3...  \n",
       "\n",
       "[521 rows x 12 columns]"
      ]
     },
     "execution_count": 80,
     "metadata": {},
     "output_type": "execute_result"
    }
   ],
   "source": [
    "event_database_df['event_fight_list'] = event_fight_list\n",
    "\n",
    "event_database_df['matchups'] = matchup_list\n",
    "\n",
    "event_database_df['strike_counts'] = fighter_strike_count_list\n",
    "\n",
    "event_database_df['takedown_counts'] = fight_takedown_list\n",
    "\n",
    "event_database_df['submission_counts'] = fight_submission_list\n",
    "\n",
    "event_database_df['pass_counts'] = fight_pass_list\n",
    "\n",
    "event_database_df['weight_class'] = fight_weight_class_list\n",
    "\n",
    "event_database_df['win_method'] = fight_win_method_list\n",
    "\n",
    "event_database_df['final_round'] = fight_final_round_list\n",
    "\n",
    "event_database_df['final_round_time'] = fight_final_round_time_list\n",
    "\n",
    "event_database_df"
   ]
  },
  {
   "cell_type": "code",
   "execution_count": 81,
   "metadata": {},
   "outputs": [],
   "source": [
    "event_database_df.to_csv('event_database_csv', index=False)"
   ]
  },
  {
   "cell_type": "code",
   "execution_count": 82,
   "metadata": {},
   "outputs": [],
   "source": [
    "event_database_df = dd.read_csv('event_database_csv')"
   ]
  },
  {
   "cell_type": "code",
   "execution_count": 83,
   "metadata": {},
   "outputs": [
    {
     "data": {
      "text/html": [
       "<div>\n",
       "<style scoped>\n",
       "    .dataframe tbody tr th:only-of-type {\n",
       "        vertical-align: middle;\n",
       "    }\n",
       "\n",
       "    .dataframe tbody tr th {\n",
       "        vertical-align: top;\n",
       "    }\n",
       "\n",
       "    .dataframe thead th {\n",
       "        text-align: right;\n",
       "    }\n",
       "</style>\n",
       "<table border=\"1\" class=\"dataframe\">\n",
       "  <thead>\n",
       "    <tr style=\"text-align: right;\">\n",
       "      <th></th>\n",
       "      <th>date</th>\n",
       "      <th>name</th>\n",
       "      <th>event_fight_list</th>\n",
       "      <th>matchups</th>\n",
       "      <th>strike_counts</th>\n",
       "      <th>takedown_counts</th>\n",
       "      <th>submission_counts</th>\n",
       "      <th>pass_counts</th>\n",
       "      <th>weight_class</th>\n",
       "      <th>win_method</th>\n",
       "      <th>final_round</th>\n",
       "      <th>final_round_time</th>\n",
       "    </tr>\n",
       "  </thead>\n",
       "  <tbody>\n",
       "    <tr>\n",
       "      <th>0</th>\n",
       "      <td>2019-10-26</td>\n",
       "      <td>UFC Fight Night: Maia vs. Askren</td>\n",
       "      <td>['http://www.ufcstats.com/fight-details/241a08...</td>\n",
       "      <td>[('Demian Maia', 'Ben Askren'), ('Stevie Ray',...</td>\n",
       "      <td>[['69', '63'], ['85', '78'], ['13', '3'], ['94...</td>\n",
       "      <td>[['0', '4'], ['1', '0'], ['2', '0'], ['3', '0'...</td>\n",
       "      <td>[['1', '0'], ['0', '0'], ['1', '0'], ['1', '0'...</td>\n",
       "      <td>[['4', '1'], ['1', '0'], ['1', '0'], ['1', '0'...</td>\n",
       "      <td>['Welterweight', 'Lightweight', 'Lightweight',...</td>\n",
       "      <td>['SUB', 'M-DEC', 'SUB', 'SUB', 'U-DEC', 'S-DEC...</td>\n",
       "      <td>[3, 3, 1, 3, 3, 3, 3, 3, 1, 3, 3]</td>\n",
       "      <td>['3:54', '5:00', '2:02', '4:46', '5:00', '5:00...</td>\n",
       "    </tr>\n",
       "    <tr>\n",
       "      <th>1</th>\n",
       "      <td>2016-04-10</td>\n",
       "      <td>UFC Fight Night: Rothwell vs Dos Santos</td>\n",
       "      <td>['http://www.ufcstats.com/fight-details/5f6b8e...</td>\n",
       "      <td>[('Junior Dos Santos', 'Ben Rothwell'), ('Derr...</td>\n",
       "      <td>[['157', '77'], ['17', '5'], ['36', '24'], ['4...</td>\n",
       "      <td>[['0', '0'], ['0', '1'], ['0', '2'], ['0', '1'...</td>\n",
       "      <td>[['0', '0'], ['0', '0'], ['0', '0'], ['0', '0'...</td>\n",
       "      <td>[['0', '0'], ['0', '2'], ['0', '1'], ['0', '1'...</td>\n",
       "      <td>['Heavyweight', 'Heavyweight', 'Heavyweight', ...</td>\n",
       "      <td>['U-DEC', 'KO/TKO', 'KO/TKO', 'U-DEC', 'U-DEC'...</td>\n",
       "      <td>[5, 1, 2, 3, 3, 3, 3, 1, 1, 1, 3, 1, 3]</td>\n",
       "      <td>['5:00', '4:48', '5:00', '5:00', '5:00', '5:00...</td>\n",
       "    </tr>\n",
       "    <tr>\n",
       "      <th>2</th>\n",
       "      <td>2012-10-05</td>\n",
       "      <td>UFC on FX: Browne vs Bigfoot</td>\n",
       "      <td>['http://www.ufcstats.com/fight-details/0cced3...</td>\n",
       "      <td>[('Antonio Silva', 'Travis Browne'), ('Jake El...</td>\n",
       "      <td>[['15', '8'], ['25', '32'], ['33', '9'], ['6',...</td>\n",
       "      <td>[['0', '0'], ['2', '0'], ['0', '0'], ['0', '0'...</td>\n",
       "      <td>[['0', '0'], ['0', '0'], ['0', '0'], ['1', '0'...</td>\n",
       "      <td>[['0', '0'], ['0', '0'], ['0', '0'], ['0', '0'...</td>\n",
       "      <td>['Heavyweight', 'Welterweight', 'Flyweight', '...</td>\n",
       "      <td>['KO/TKO', 'U-DEC', 'KO/TKO', 'SUB', 'KO/TKO',...</td>\n",
       "      <td>[1, 3, 2, 1, 2, 2, 3, 1, 3, 2]</td>\n",
       "      <td>['3:27', '5:00', '4:35', '0:45', '1:06', '0:29...</td>\n",
       "    </tr>\n",
       "    <tr>\n",
       "      <th>3</th>\n",
       "      <td>2002-07-13</td>\n",
       "      <td>UFC 38: Brawl at the Hall</td>\n",
       "      <td>['http://www.ufcstats.com/fight-details/0f6dd5...</td>\n",
       "      <td>[('Matt Hughes', 'Carlos Newton'), ('Ian Freem...</td>\n",
       "      <td>[['58', '3'], ['34', '6'], ['4', '0'], ['9', '...</td>\n",
       "      <td>[['4', '0'], ['0', '1'], ['0', '0'], ['2', '0'...</td>\n",
       "      <td>[['1', '1'], ['0', '3'], ['0', '0'], ['3', '0'...</td>\n",
       "      <td>[['12', '1'], ['0', '0'], ['0', '0'], ['2', '0...</td>\n",
       "      <td>['Welterweight', 'Heavyweight', 'Middleweight'...</td>\n",
       "      <td>['KO/TKO', 'KO/TKO', 'KO/TKO', 'SUB', 'U-DEC',...</td>\n",
       "      <td>[4, 1, 1, 2, 3, 3, 3]</td>\n",
       "      <td>['3:37', '4:35', '0:10', '1:38', '5:00', '5:00...</td>\n",
       "    </tr>\n",
       "    <tr>\n",
       "      <th>4</th>\n",
       "      <td>2013-10-09</td>\n",
       "      <td>UFC Fight Night: Maia vs Shields</td>\n",
       "      <td>['http://www.ufcstats.com/fight-details/a41ba2...</td>\n",
       "      <td>[('Jake Shields', 'Demian Maia'), ('Dong Hyun ...</td>\n",
       "      <td>[['35', '24'], ['11', '28'], ['96', '70'], ['8...</td>\n",
       "      <td>[['1', '3'], ['1', '0'], ['0', '3'], ['0', '1'...</td>\n",
       "      <td>[['0', '0'], ['0', '0'], ['0', '0'], ['1', '0'...</td>\n",
       "      <td>[['5', '1'], ['1', '0'], ['0', '0'], ['0', '0'...</td>\n",
       "      <td>['Welterweight', 'Welterweight', 'Light Heavyw...</td>\n",
       "      <td>['S-DEC', 'KO/TKO', 'U-DEC', 'S-DEC', 'SUB', '...</td>\n",
       "      <td>[5, 2, 3, 3, 1, 3, 3, 3, 2, 1]</td>\n",
       "      <td>['5:00', '3:01', '5:00', '5:00', '0:31', '5:00...</td>\n",
       "    </tr>\n",
       "  </tbody>\n",
       "</table>\n",
       "</div>"
      ],
      "text/plain": [
       "         date                                     name  \\\n",
       "0  2019-10-26         UFC Fight Night: Maia vs. Askren   \n",
       "1  2016-04-10  UFC Fight Night: Rothwell vs Dos Santos   \n",
       "2  2012-10-05             UFC on FX: Browne vs Bigfoot   \n",
       "3  2002-07-13                UFC 38: Brawl at the Hall   \n",
       "4  2013-10-09         UFC Fight Night: Maia vs Shields   \n",
       "\n",
       "                                    event_fight_list  \\\n",
       "0  ['http://www.ufcstats.com/fight-details/241a08...   \n",
       "1  ['http://www.ufcstats.com/fight-details/5f6b8e...   \n",
       "2  ['http://www.ufcstats.com/fight-details/0cced3...   \n",
       "3  ['http://www.ufcstats.com/fight-details/0f6dd5...   \n",
       "4  ['http://www.ufcstats.com/fight-details/a41ba2...   \n",
       "\n",
       "                                            matchups  \\\n",
       "0  [('Demian Maia', 'Ben Askren'), ('Stevie Ray',...   \n",
       "1  [('Junior Dos Santos', 'Ben Rothwell'), ('Derr...   \n",
       "2  [('Antonio Silva', 'Travis Browne'), ('Jake El...   \n",
       "3  [('Matt Hughes', 'Carlos Newton'), ('Ian Freem...   \n",
       "4  [('Jake Shields', 'Demian Maia'), ('Dong Hyun ...   \n",
       "\n",
       "                                       strike_counts  \\\n",
       "0  [['69', '63'], ['85', '78'], ['13', '3'], ['94...   \n",
       "1  [['157', '77'], ['17', '5'], ['36', '24'], ['4...   \n",
       "2  [['15', '8'], ['25', '32'], ['33', '9'], ['6',...   \n",
       "3  [['58', '3'], ['34', '6'], ['4', '0'], ['9', '...   \n",
       "4  [['35', '24'], ['11', '28'], ['96', '70'], ['8...   \n",
       "\n",
       "                                     takedown_counts  \\\n",
       "0  [['0', '4'], ['1', '0'], ['2', '0'], ['3', '0'...   \n",
       "1  [['0', '0'], ['0', '1'], ['0', '2'], ['0', '1'...   \n",
       "2  [['0', '0'], ['2', '0'], ['0', '0'], ['0', '0'...   \n",
       "3  [['4', '0'], ['0', '1'], ['0', '0'], ['2', '0'...   \n",
       "4  [['1', '3'], ['1', '0'], ['0', '3'], ['0', '1'...   \n",
       "\n",
       "                                   submission_counts  \\\n",
       "0  [['1', '0'], ['0', '0'], ['1', '0'], ['1', '0'...   \n",
       "1  [['0', '0'], ['0', '0'], ['0', '0'], ['0', '0'...   \n",
       "2  [['0', '0'], ['0', '0'], ['0', '0'], ['1', '0'...   \n",
       "3  [['1', '1'], ['0', '3'], ['0', '0'], ['3', '0'...   \n",
       "4  [['0', '0'], ['0', '0'], ['0', '0'], ['1', '0'...   \n",
       "\n",
       "                                         pass_counts  \\\n",
       "0  [['4', '1'], ['1', '0'], ['1', '0'], ['1', '0'...   \n",
       "1  [['0', '0'], ['0', '2'], ['0', '1'], ['0', '1'...   \n",
       "2  [['0', '0'], ['0', '0'], ['0', '0'], ['0', '0'...   \n",
       "3  [['12', '1'], ['0', '0'], ['0', '0'], ['2', '0...   \n",
       "4  [['5', '1'], ['1', '0'], ['0', '0'], ['0', '0'...   \n",
       "\n",
       "                                        weight_class  \\\n",
       "0  ['Welterweight', 'Lightweight', 'Lightweight',...   \n",
       "1  ['Heavyweight', 'Heavyweight', 'Heavyweight', ...   \n",
       "2  ['Heavyweight', 'Welterweight', 'Flyweight', '...   \n",
       "3  ['Welterweight', 'Heavyweight', 'Middleweight'...   \n",
       "4  ['Welterweight', 'Welterweight', 'Light Heavyw...   \n",
       "\n",
       "                                          win_method  \\\n",
       "0  ['SUB', 'M-DEC', 'SUB', 'SUB', 'U-DEC', 'S-DEC...   \n",
       "1  ['U-DEC', 'KO/TKO', 'KO/TKO', 'U-DEC', 'U-DEC'...   \n",
       "2  ['KO/TKO', 'U-DEC', 'KO/TKO', 'SUB', 'KO/TKO',...   \n",
       "3  ['KO/TKO', 'KO/TKO', 'KO/TKO', 'SUB', 'U-DEC',...   \n",
       "4  ['S-DEC', 'KO/TKO', 'U-DEC', 'S-DEC', 'SUB', '...   \n",
       "\n",
       "                               final_round  \\\n",
       "0        [3, 3, 1, 3, 3, 3, 3, 3, 1, 3, 3]   \n",
       "1  [5, 1, 2, 3, 3, 3, 3, 1, 1, 1, 3, 1, 3]   \n",
       "2           [1, 3, 2, 1, 2, 2, 3, 1, 3, 2]   \n",
       "3                    [4, 1, 1, 2, 3, 3, 3]   \n",
       "4           [5, 2, 3, 3, 1, 3, 3, 3, 2, 1]   \n",
       "\n",
       "                                    final_round_time  \n",
       "0  ['3:54', '5:00', '2:02', '4:46', '5:00', '5:00...  \n",
       "1  ['5:00', '4:48', '5:00', '5:00', '5:00', '5:00...  \n",
       "2  ['3:27', '5:00', '4:35', '0:45', '1:06', '0:29...  \n",
       "3  ['3:37', '4:35', '0:10', '1:38', '5:00', '5:00...  \n",
       "4  ['5:00', '3:01', '5:00', '5:00', '0:31', '5:00...  "
      ]
     },
     "execution_count": 83,
     "metadata": {},
     "output_type": "execute_result"
    }
   ],
   "source": [
    "event_database_df.head()"
   ]
  },
  {
   "cell_type": "code",
   "execution_count": 84,
   "metadata": {},
   "outputs": [],
   "source": [
    "test = pd.read_html('http://www.ufcstats.com/fighter-details/d28dee5c705991df')\n",
    "test_df = test[0]"
   ]
  },
  {
   "cell_type": "code",
   "execution_count": null,
   "metadata": {},
   "outputs": [],
   "source": [
    "test_df.drop([0, 1], inplace=True)"
   ]
  },
  {
   "cell_type": "code",
   "execution_count": null,
   "metadata": {},
   "outputs": [],
   "source": [
    "test_df.iloc[0].Fighter.split('  ')"
   ]
  },
  {
   "cell_type": "code",
   "execution_count": null,
   "metadata": {},
   "outputs": [],
   "source": [
    "test_df.iloc[0].Method.split()"
   ]
  },
  {
   "cell_type": "markdown",
   "metadata": {},
   "source": [
    "--------------------------------------FIX IT FIX IT FIX IT FIX IT FIX IT FIX IT--------------------------------------------"
   ]
  },
  {
   "cell_type": "code",
   "execution_count": 46,
   "metadata": {},
   "outputs": [],
   "source": [
    "def fighter_history_fetcher(soup):\n",
    "    '''This function is meant to extract the html information for each fighter as a list of urls. '''\n",
    "    \n",
    "    soup_holder = soup.findAll('a', attrs={'href': re.compile('fight-details')})\n",
    "    \n",
    "    list_of_fights = []\n",
    "    \n",
    "    for x in soup_holder:\n",
    "        fight_holder = []\n",
    "        \n",
    "        fight_holder.append(x.get('href'))\n",
    "        \n",
    "        list_of_fights.append(fight_holder) \n",
    "        \n",
    "    return list_of_fights"
   ]
  },
  {
   "cell_type": "code",
   "execution_count": 48,
   "metadata": {},
   "outputs": [
    {
     "data": {
      "text/plain": [
       "[['http://www.ufcstats.com/fight-details/889207e3c622a5aa'],\n",
       " ['http://www.ufcstats.com/fight-details/7c23770c639dcd22'],\n",
       " ['http://www.ufcstats.com/fight-details/ac656cebef8cf0a4'],\n",
       " ['http://www.ufcstats.com/fight-details/8d9b460143ae19bc'],\n",
       " ['http://www.ufcstats.com/fight-details/3c6659f1b09760ba'],\n",
       " ['http://www.ufcstats.com/fight-details/a9d8ddb49dbe414b'],\n",
       " ['http://www.ufcstats.com/fight-details/78f1457371e2ef6b'],\n",
       " ['http://www.ufcstats.com/fight-details/49b05e23e3a2af13']]"
      ]
     },
     "execution_count": 48,
     "metadata": {},
     "output_type": "execute_result"
    }
   ],
   "source": [
    "fighter_history_fetcher(basic_soup_list[0])"
   ]
  },
  {
   "cell_type": "code",
   "execution_count": 14,
   "metadata": {},
   "outputs": [
    {
     "data": {
      "text/plain": [
       "[[['http://www.ufcstats.com/fight-details/1206dc7d5228f5bd']],\n",
       " [['http://www.ufcstats.com/fight-details/9f5f9173666ce1b7'],\n",
       "  ['http://www.ufcstats.com/fight-details/010793ad35d686d5']],\n",
       " [['http://www.ufcstats.com/fight-details/96fe84d051847591'],\n",
       "  ['http://www.ufcstats.com/fight-details/64bee58391921b4b'],\n",
       "  ['http://www.ufcstats.com/fight-details/55b53fdad307b708'],\n",
       "  ['http://www.ufcstats.com/fight-details/d2f6b87189908088'],\n",
       "  ['http://www.ufcstats.com/fight-details/9f10afab94cafc45'],\n",
       "  ['http://www.ufcstats.com/fight-details/bd4a648bebaefab3'],\n",
       "  ['http://www.ufcstats.com/fight-details/87b6c507a7684ec2']]]"
      ]
     },
     "execution_count": 14,
     "metadata": {},
     "output_type": "execute_result"
    }
   ],
   "source": [
    "fighter_history_url_list = list(map(fighter_history_fetcher, basic_soup_list))\n",
    "fighter_history_url_list[:3]"
   ]
  },
  {
   "cell_type": "markdown",
   "metadata": {},
   "source": [
    "fighter_history_url_list generated lists "
   ]
  },
  {
   "cell_type": "code",
   "execution_count": 15,
   "metadata": {},
   "outputs": [],
   "source": [
    "def compound_flattener(fight_url_list):\n",
    "    '''Will reduce the dimentionaliy of lists by factor of one'''\n",
    "    \n",
    "    flattened_fight_urls = list(itertools.chain(*fight_url_list))\n",
    "    return flattened_fight_urls"
   ]
  },
  {
   "cell_type": "code",
   "execution_count": 16,
   "metadata": {},
   "outputs": [],
   "source": [
    "fighter_history_url_list = list(map(compound_flattener, fighter_history_url_list))"
   ]
  },
  {
   "cell_type": "code",
   "execution_count": 17,
   "metadata": {
    "scrolled": true
   },
   "outputs": [
    {
     "data": {
      "text/plain": [
       "[['http://www.ufcstats.com/fight-details/1206dc7d5228f5bd'],\n",
       " ['http://www.ufcstats.com/fight-details/9f5f9173666ce1b7',\n",
       "  'http://www.ufcstats.com/fight-details/010793ad35d686d5'],\n",
       " ['http://www.ufcstats.com/fight-details/96fe84d051847591',\n",
       "  'http://www.ufcstats.com/fight-details/64bee58391921b4b',\n",
       "  'http://www.ufcstats.com/fight-details/55b53fdad307b708',\n",
       "  'http://www.ufcstats.com/fight-details/d2f6b87189908088',\n",
       "  'http://www.ufcstats.com/fight-details/9f10afab94cafc45',\n",
       "  'http://www.ufcstats.com/fight-details/bd4a648bebaefab3',\n",
       "  'http://www.ufcstats.com/fight-details/87b6c507a7684ec2']]"
      ]
     },
     "execution_count": 17,
     "metadata": {},
     "output_type": "execute_result"
    }
   ],
   "source": [
    "fighter_history_url_list[:3]"
   ]
  }
 ],
 "metadata": {
  "kernelspec": {
   "display_name": "Python [conda env:work-env] *",
   "language": "python",
   "name": "conda-env-work-env-py"
  },
  "language_info": {
   "codemirror_mode": {
    "name": "ipython",
    "version": 3
   },
   "file_extension": ".py",
   "mimetype": "text/x-python",
   "name": "python",
   "nbconvert_exporter": "python",
   "pygments_lexer": "ipython3",
   "version": "3.7.7"
  }
 },
 "nbformat": 4,
 "nbformat_minor": 2
}
