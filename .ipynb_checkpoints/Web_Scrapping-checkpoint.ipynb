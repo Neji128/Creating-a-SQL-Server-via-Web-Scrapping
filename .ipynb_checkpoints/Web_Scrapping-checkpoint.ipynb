{
 "cells": [
  {
   "cell_type": "markdown",
   "metadata": {},
   "source": [
    "# UFC_Stats Web Scraping"
   ]
  },
  {
   "cell_type": "markdown",
   "metadata": {},
   "source": [
    "## importing pertinent libraries"
   ]
  },
  {
   "cell_type": "code",
   "execution_count": 1,
   "metadata": {},
   "outputs": [],
   "source": [
    "#importing pertinent libraries\n",
    "import pandas as pd\n",
    "from urllib.request import urlopen\n",
    "from bs4 import BeautifulSoup\n",
    "import requests, re\n",
    "import json\n",
    "import itertools\n",
    "import dask.dataframe as dd"
   ]
  },
  {
   "cell_type": "markdown",
   "metadata": {},
   "source": [
    "## Extracting UFC urls"
   ]
  },
  {
   "cell_type": "code",
   "execution_count": 2,
   "metadata": {},
   "outputs": [],
   "source": [
    "#creating a list of unique fighter URLs available on website\n",
    "fighter_url_list = []\n",
    "response = requests.get('http://www.ufcstats.com/statistics/fighters?char=a&page=all')\n",
    "soup = BeautifulSoup(response.content, 'html.parser')\n",
    "\n",
    "#targeting URLs that contain fighter data\n",
    "fighters = soup.findAll('a', attrs={'href': re.compile('http:')})\n",
    "for fighter in fighters:\n",
    "    fighter_url_list.append(fighter.get('href'))\n",
    "\n",
    "#removing duplicate URLs\n",
    "fighter_url_list = list(set(fighter_url_list))"
   ]
  },
  {
   "cell_type": "code",
   "execution_count": 3,
   "metadata": {},
   "outputs": [
    {
     "data": {
      "text/plain": [
       "['http://www.ufcstats.com/fighter-details/00debc804e2b1cd4',\n",
       " 'http://www.ufcstats.com/fighter-details/e20ad078a7d63361',\n",
       " 'http://statleaders.ufc.com',\n",
       " 'http://www.ufcstats.com/fighter-details/6ebe96a116e79e52',\n",
       " 'http://www.ufcstats.com/fighter-details/1e13936d708bcff7',\n",
       " 'http://www.ufcstats.com/fighter-details/55ee431411ccf07a',\n",
       " 'http://www.ufcstats.com/fighter-details/5140122c3eecd307',\n",
       " 'http://www.ufcstats.com/fighter-details/3738e68d2261e60f',\n",
       " 'http://www.ufcstats.com/fighter-details/1897b7b913736a7c',\n",
       " 'http://www.ufcstats.com/fighter-details/49f78022126bf4a4',\n",
       " 'http://www.ufcstats.com/fighter-details/8f382b3baa954d2a',\n",
       " 'http://www.ufcstats.com/fighter-details/ba5c6eeb8ef45f5c',\n",
       " 'http://www.ufcstats.com/fighter-details/578ef12674df1e6a',\n",
       " 'http://www.ufcstats.com/fighter-details/c61b49cec6abd6b9',\n",
       " 'http://www.ufcstats.com/fighter-details/9c9455912d917e4e']"
      ]
     },
     "execution_count": 3,
     "metadata": {},
     "output_type": "execute_result"
    }
   ],
   "source": [
    "fighter_url_list[:15]"
   ]
  },
  {
   "cell_type": "markdown",
   "metadata": {},
   "source": [
    "Looks like there are some URLs we don't need in out list. Let's weed them out."
   ]
  },
  {
   "cell_type": "code",
   "execution_count": 4,
   "metadata": {},
   "outputs": [],
   "source": [
    "#removing invalid URLs\n",
    "for url in fighter_url_list:\n",
    "    if 'fighter-details' not in url:\n",
    "        fighter_url_list.remove(url)"
   ]
  },
  {
   "cell_type": "markdown",
   "metadata": {},
   "source": [
    "## Creating Dataframe Building Blocks"
   ]
  },
  {
   "cell_type": "code",
   "execution_count": 9,
   "metadata": {},
   "outputs": [],
   "source": [
    "def info_generator(url):\n",
    "    '''This function parses basic request to a url'''\n",
    "    \n",
    "    response = requests.get(url)\n",
    "    \n",
    "    soup = BeautifulSoup(response.content, 'html.parser')\n",
    "    \n",
    "    return soup"
   ]
  },
  {
   "cell_type": "code",
   "execution_count": 6,
   "metadata": {},
   "outputs": [],
   "source": [
    "#creating a soup list to reduce number of website requests\n",
    "basic_soup_list = list(map(info_generator, fighter_url_list))"
   ]
  },
  {
   "cell_type": "code",
   "execution_count": 7,
   "metadata": {},
   "outputs": [],
   "source": [
    "def base_stats_soup(soup):\n",
    "    '''This function identifies all statistics for later extraction'''\n",
    "    \n",
    "    base_stats = soup.findChildren('li', attrs={'class': re.compile('b-list')})\n",
    "    \n",
    "    return base_stats"
   ]
  },
  {
   "cell_type": "code",
   "execution_count": 8,
   "metadata": {},
   "outputs": [],
   "source": [
    "def fighter_history_fetcher(soup):\n",
    "    '''This function is meant to extract the html information for each fighter as a list of urls. '''\n",
    "    \n",
    "    soup_holder = soup.findAll('a', attrs={'href': re.compile('fight-details')})\n",
    "    \n",
    "    list_of_fights = []\n",
    "    \n",
    "    for x in soup_holder:\n",
    "        fight_holder = []\n",
    "        \n",
    "        fight_holder.append(x.get('href'))\n",
    "        \n",
    "        list_of_fights.append(fight_holder) \n",
    "        \n",
    "    return list_of_fights"
   ]
  },
  {
   "cell_type": "markdown",
   "metadata": {},
   "source": [
    "### Generating basic statistics lists"
   ]
  },
  {
   "cell_type": "code",
   "execution_count": 10,
   "metadata": {},
   "outputs": [],
   "source": [
    "def stats_soup(soup):\n",
    "    '''parses soups down to the level of stats for faster, fluid parsing'''\n",
    "    \n",
    "    base_stats = soup.findChildren('li', attrs={'class': re.compile('b-list')})\n",
    "    \n",
    "    return base_stats"
   ]
  },
  {
   "cell_type": "code",
   "execution_count": 11,
   "metadata": {},
   "outputs": [],
   "source": [
    "stats_soups = list(map(stats_soup, basic_soup_list))"
   ]
  },
  {
   "cell_type": "code",
   "execution_count": 152,
   "metadata": {},
   "outputs": [
    {
     "data": {
      "text/plain": [
       "[[['http://www.ufcstats.com/fight-details/435c93cb89016fd1'],\n",
       "  ['http://www.ufcstats.com/fight-details/b2857e799319f931'],\n",
       "  ['http://www.ufcstats.com/fight-details/b91807add93763c9'],\n",
       "  ['http://www.ufcstats.com/fight-details/f7fac3df5c6dc91f']],\n",
       " [['http://www.ufcstats.com/fight-details/cb640b7dcc9db7e8'],\n",
       "  ['http://www.ufcstats.com/fight-details/431f9bad886eb2ae']],\n",
       " [['http://www.ufcstats.com/fight-details/c15b253026ff6b86'],\n",
       "  ['http://www.ufcstats.com/fight-details/a0dfc397caef4afe']]]"
      ]
     },
     "execution_count": 152,
     "metadata": {},
     "output_type": "execute_result"
    }
   ],
   "source": [
    "fighter_history_url_list = list(map(fighter_history_fetcher, basic_soup_list))\n",
    "fighter_history_url_list[:3]"
   ]
  },
  {
   "cell_type": "code",
   "execution_count": 153,
   "metadata": {},
   "outputs": [],
   "source": [
    "def compound_flattener(fight_url_list):\n",
    "    flattened_fight_urls = list(itertools.chain(*fight_url_list))\n",
    "    return flattened_fight_urls"
   ]
  },
  {
   "cell_type": "code",
   "execution_count": 154,
   "metadata": {},
   "outputs": [],
   "source": [
    "fighter_history_url_list = list(map(compound_flattener, fighter_history_url_list))"
   ]
  },
  {
   "cell_type": "code",
   "execution_count": 155,
   "metadata": {},
   "outputs": [
    {
     "data": {
      "text/plain": [
       "[['http://www.ufcstats.com/fight-details/435c93cb89016fd1',\n",
       "  'http://www.ufcstats.com/fight-details/b2857e799319f931',\n",
       "  'http://www.ufcstats.com/fight-details/b91807add93763c9',\n",
       "  'http://www.ufcstats.com/fight-details/f7fac3df5c6dc91f'],\n",
       " ['http://www.ufcstats.com/fight-details/cb640b7dcc9db7e8',\n",
       "  'http://www.ufcstats.com/fight-details/431f9bad886eb2ae'],\n",
       " ['http://www.ufcstats.com/fight-details/c15b253026ff6b86',\n",
       "  'http://www.ufcstats.com/fight-details/a0dfc397caef4afe']]"
      ]
     },
     "execution_count": 155,
     "metadata": {},
     "output_type": "execute_result"
    }
   ],
   "source": [
    "fighter_history_url_list[:3]"
   ]
  },
  {
   "cell_type": "markdown",
   "metadata": {},
   "source": [
    "### Basic Statistics DataFrame Construction"
   ]
  },
  {
   "cell_type": "code",
   "execution_count": 17,
   "metadata": {},
   "outputs": [],
   "source": [
    "def fighter_name(soup):\n",
    "    \n",
    "    name = soup.find('span', attrs={'class': re.compile('b-content__title-highlight')})\n",
    "    \n",
    "    return name.text.strip()#[0].text.strip()"
   ]
  },
  {
   "cell_type": "code",
   "execution_count": 18,
   "metadata": {},
   "outputs": [],
   "source": [
    "def fighter_record(soup):\n",
    "    \n",
    "    record = soup.findChildren('span', attrs={'class': re.compile('b-content__title-record')})\n",
    "    \n",
    "    return record[0].text.strip().split(':')[1].strip()"
   ]
  },
  {
   "cell_type": "code",
   "execution_count": 19,
   "metadata": {},
   "outputs": [],
   "source": [
    "def basic_stats_height(soup):\n",
    "    '''soups run thorugh this function should be run through stats_soup function beforehand.'''\n",
    "    \n",
    "    #feet\n",
    "    height = soup[0].text.strip().split(':')[1].strip().split(' ')[0].replace(\"'\", \"\")\n",
    "    \n",
    "   #inches\n",
    "    if height == '--':\n",
    "        pass\n",
    "    else:\n",
    "        \n",
    "        height = int(height)\n",
    "        \n",
    "        inches = int(soup[0].text.strip().split(':')[1].strip().split(' ')[1].replace(\"'\", \"\").replace('\"', '').replace(\"--\", \"0\"))\n",
    "\n",
    "        height_to_inches = (height * 12) \n",
    "    \n",
    "        final_height = height_to_inches + inches\n",
    "    \n",
    "        return (inches + height_to_inches)"
   ]
  },
  {
   "cell_type": "code",
   "execution_count": 20,
   "metadata": {},
   "outputs": [],
   "source": [
    "def basic_stats_weight(soup):\n",
    "    \n",
    "    weight = soup[1].text.strip().split(':')[1].strip().replace(' lbs.', '')\n",
    "    \n",
    "    if weight == '--':\n",
    "        pass\n",
    "    else:\n",
    "        weight = int(weight)\n",
    "    return weight "
   ]
  },
  {
   "cell_type": "code",
   "execution_count": 21,
   "metadata": {},
   "outputs": [],
   "source": [
    "def basic_stats_reach(soup):\n",
    "    \n",
    "    reach = soup[2].text.strip().split(':')[1].strip().replace('\"', '')\n",
    "    \n",
    "    if reach == '--':\n",
    "        pass\n",
    "    else:\n",
    "        reach = int(reach)\n",
    "    return reach"
   ]
  },
  {
   "cell_type": "code",
   "execution_count": 22,
   "metadata": {},
   "outputs": [],
   "source": [
    "def basic_stats_stance(soup):\n",
    "    \n",
    "    stance = soup[3].text.strip().split(':')[1].strip()\n",
    "    return stance"
   ]
  },
  {
   "cell_type": "code",
   "execution_count": 23,
   "metadata": {},
   "outputs": [],
   "source": [
    "def basic_stats_DOB(soup):\n",
    "    \n",
    "    DOB = soup[4].text.strip().split(':')[1].strip()\n",
    "    return DOB"
   ]
  },
  {
   "cell_type": "code",
   "execution_count": 24,
   "metadata": {},
   "outputs": [],
   "source": [
    "fighter_names = list(map(fighter_name, basic_soup_list))\n",
    "\n",
    "fighter_records = list(map(fighter_record, basic_soup_list))\n",
    "\n",
    "fighter_heights =  list(map(basic_stats_height, stats_soups))\n",
    "\n",
    "fighter_weights = list(map(basic_stats_weight, stats_soups))\n",
    "\n",
    "fighter_reachs = list(map(basic_stats_reach, stats_soups))\n",
    "\n",
    "fighter_stances = list(map(basic_stats_stance, stats_soups))\n",
    "\n",
    "fighter_DOBs = list(map(basic_stats_DOB, stats_soups))"
   ]
  },
  {
   "cell_type": "code",
   "execution_count": 25,
   "metadata": {},
   "outputs": [],
   "source": [
    "fighter_basic_stats_df = pd.DataFrame()\n",
    "\n",
    "fighter_basic_stats_df['name'] = fighter_names\n",
    "fighter_basic_stats_df['record'] = fighter_records\n",
    "fighter_basic_stats_df['height'] = fighter_heights\n",
    "fighter_basic_stats_df['weight'] = fighter_weights\n",
    "fighter_basic_stats_df['reach'] = fighter_reachs\n",
    "fighter_basic_stats_df['stance'] = fighter_stances\n",
    "fighter_basic_stats_df['DOB'] = fighter_DOBs"
   ]
  },
  {
   "cell_type": "code",
   "execution_count": 26,
   "metadata": {},
   "outputs": [
    {
     "data": {
      "text/html": [
       "<div>\n",
       "<style scoped>\n",
       "    .dataframe tbody tr th:only-of-type {\n",
       "        vertical-align: middle;\n",
       "    }\n",
       "\n",
       "    .dataframe tbody tr th {\n",
       "        vertical-align: top;\n",
       "    }\n",
       "\n",
       "    .dataframe thead th {\n",
       "        text-align: right;\n",
       "    }\n",
       "</style>\n",
       "<table border=\"1\" class=\"dataframe\">\n",
       "  <thead>\n",
       "    <tr style=\"text-align: right;\">\n",
       "      <th></th>\n",
       "      <th>name</th>\n",
       "      <th>record</th>\n",
       "      <th>height</th>\n",
       "      <th>weight</th>\n",
       "      <th>reach</th>\n",
       "      <th>stance</th>\n",
       "      <th>DOB</th>\n",
       "    </tr>\n",
       "  </thead>\n",
       "  <tbody>\n",
       "    <tr>\n",
       "      <th>0</th>\n",
       "      <td>Jim Alers</td>\n",
       "      <td>13-3-0 (1 NC)</td>\n",
       "      <td>69.0</td>\n",
       "      <td>145</td>\n",
       "      <td>71</td>\n",
       "      <td>Orthodox</td>\n",
       "      <td>Oct 14, 1986</td>\n",
       "    </tr>\n",
       "    <tr>\n",
       "      <th>1</th>\n",
       "      <td>Mike Aina</td>\n",
       "      <td>12-6-1 (1 NC)</td>\n",
       "      <td>69.0</td>\n",
       "      <td>155</td>\n",
       "      <td>--</td>\n",
       "      <td>Orthodox</td>\n",
       "      <td>--</td>\n",
       "    </tr>\n",
       "    <tr>\n",
       "      <th>2</th>\n",
       "      <td>Alex Andrade</td>\n",
       "      <td>10-5-0</td>\n",
       "      <td>71.0</td>\n",
       "      <td>200</td>\n",
       "      <td>--</td>\n",
       "      <td>Orthodox</td>\n",
       "      <td>May 14, 1974</td>\n",
       "    </tr>\n",
       "    <tr>\n",
       "      <th>3</th>\n",
       "      <td>Juan Alcain</td>\n",
       "      <td>1-2-0</td>\n",
       "      <td>NaN</td>\n",
       "      <td>--</td>\n",
       "      <td>--</td>\n",
       "      <td></td>\n",
       "      <td>--</td>\n",
       "    </tr>\n",
       "    <tr>\n",
       "      <th>4</th>\n",
       "      <td>Jose Aldo</td>\n",
       "      <td>28-6-0</td>\n",
       "      <td>67.0</td>\n",
       "      <td>135</td>\n",
       "      <td>70</td>\n",
       "      <td>Orthodox</td>\n",
       "      <td>Sep 09, 1986</td>\n",
       "    </tr>\n",
       "  </tbody>\n",
       "</table>\n",
       "</div>"
      ],
      "text/plain": [
       "           name         record  height weight reach    stance           DOB\n",
       "0     Jim Alers  13-3-0 (1 NC)    69.0    145    71  Orthodox  Oct 14, 1986\n",
       "1     Mike Aina  12-6-1 (1 NC)    69.0    155    --  Orthodox            --\n",
       "2  Alex Andrade         10-5-0    71.0    200    --  Orthodox  May 14, 1974\n",
       "3   Juan Alcain          1-2-0     NaN     --    --                      --\n",
       "4     Jose Aldo         28-6-0    67.0    135    70  Orthodox  Sep 09, 1986"
      ]
     },
     "execution_count": 26,
     "metadata": {},
     "output_type": "execute_result"
    }
   ],
   "source": [
    "fighter_basic_stats_df.head()"
   ]
  },
  {
   "cell_type": "code",
   "execution_count": 27,
   "metadata": {},
   "outputs": [],
   "source": [
    "fighter_basic_stats_df.to_csv('fighter_basic_stats_csv', index=False)"
   ]
  },
  {
   "cell_type": "markdown",
   "metadata": {},
   "source": [
    "### Career Statistics DataFrame Construction"
   ]
  },
  {
   "cell_type": "code",
   "execution_count": 28,
   "metadata": {},
   "outputs": [],
   "source": [
    "def career_stats_soup(soup):\n",
    "    \n",
    "    career_stats_soup = soup.findChildren('li', attrs={'class': re.compile('b-list')})\n",
    "    career_stats = career_stats_soup[5:]\n",
    "    \n",
    "    return career_stats_soup"
   ]
  },
  {
   "cell_type": "code",
   "execution_count": 29,
   "metadata": {},
   "outputs": [],
   "source": [
    "def career_stats_SLpM(soup):\n",
    "\n",
    "    SLpM = soup[5].text.split(':')[1].replace('%', '').strip()\n",
    "    \n",
    "    if SLpM == '--':\n",
    "        pass\n",
    "    else:\n",
    "        SLpM = float(SLpM)\n",
    "        \n",
    "    return SLpM"
   ]
  },
  {
   "cell_type": "code",
   "execution_count": 30,
   "metadata": {},
   "outputs": [],
   "source": [
    "def career_stats_StrAcc(soup):\n",
    "    StrAcc =  soup[6].text.split(':')[1].replace('%', '').strip()\n",
    "    \n",
    "    if StrAcc == '--':\n",
    "        pass\n",
    "    else:\n",
    "        StrAcc = float(StrAcc)\n",
    "        \n",
    "    return StrAcc"
   ]
  },
  {
   "cell_type": "code",
   "execution_count": 31,
   "metadata": {},
   "outputs": [],
   "source": [
    "def career_stats_SApM(soup):\n",
    "    SApM = soup[7].text.split(':')[1].strip()\n",
    "    \n",
    "    if SApM == '--':\n",
    "        pass\n",
    "    else:\n",
    "        SApM = float(SApM)\n",
    "        \n",
    "    return SApM"
   ]
  },
  {
   "cell_type": "code",
   "execution_count": 32,
   "metadata": {},
   "outputs": [],
   "source": [
    "def career_stats_StrDef(soup):\n",
    "    StrDef = soup[8].text.split(':')[1].replace('%', '').strip()\n",
    "    \n",
    "    if StrDef == '--':\n",
    "        pass\n",
    "    else:\n",
    "        StrDef = float(StrDef)\n",
    "        \n",
    "    return StrDef"
   ]
  },
  {
   "cell_type": "code",
   "execution_count": 33,
   "metadata": {},
   "outputs": [],
   "source": [
    "def career_stats_TDAvg(soup):\n",
    "    TDAvg = soup[10].text.split(':')[1].strip()\n",
    "    \n",
    "    if TDAvg == '--':\n",
    "        pass\n",
    "    else:\n",
    "        TDAvg = float(TDAvg)\n",
    "        \n",
    "    return TDAvg"
   ]
  },
  {
   "cell_type": "code",
   "execution_count": 34,
   "metadata": {},
   "outputs": [],
   "source": [
    "def career_stats_TDAcc(soup):\n",
    "    TDAcc = soup[11].text.split(':')[1].strip().replace('%', '')\n",
    "    \n",
    "    if TDAcc == '--':\n",
    "        pass\n",
    "    else:\n",
    "        TDAcc = float(TDAcc)\n",
    "        \n",
    "    return TDAcc"
   ]
  },
  {
   "cell_type": "code",
   "execution_count": 35,
   "metadata": {},
   "outputs": [],
   "source": [
    "def career_stats_TDDef(soup):\n",
    "    TDDef = soup[12].text.split(':')[1].replace('%', '').strip()\n",
    "    \n",
    "    if TDDef == '--':\n",
    "        pass\n",
    "    else:\n",
    "        TDDef = float(TDDef)\n",
    "        \n",
    "    return TDDef"
   ]
  },
  {
   "cell_type": "code",
   "execution_count": 36,
   "metadata": {},
   "outputs": [],
   "source": [
    "def career_stats_SubAvg(soup):\n",
    "    SubAvg =  soup[13].text.split(':')[1].strip().replace('%', '')  \n",
    "    \n",
    "    if SubAvg == '--':\n",
    "        pass\n",
    "    else:\n",
    "        SubAvg = float(SubAvg)\n",
    "        \n",
    "    return SubAvg"
   ]
  },
  {
   "cell_type": "code",
   "execution_count": 37,
   "metadata": {},
   "outputs": [],
   "source": [
    "fighter_SLpMs = list(map(career_stats_SLpM, stats_soups))\n",
    "\n",
    "fighter_StrAccs = list(map(career_stats_StrAcc, stats_soups))\n",
    "\n",
    "fighter_SApMs = list(map(career_stats_SApM, stats_soups))\n",
    "\n",
    "fighter_StrDefs =list(map(career_stats_StrDef, stats_soups))\n",
    "\n",
    "fighter_TDAvgs = list(map(career_stats_TDAvg, stats_soups))\n",
    "\n",
    "fighter_TDAccs = list(map(career_stats_TDAcc, stats_soups))\n",
    "\n",
    "fighter_TDDefs = list(map(career_stats_TDDef, stats_soups))\n",
    "\n",
    "fighter_SubAvgs = list(map(career_stats_SubAvg, stats_soups))"
   ]
  },
  {
   "cell_type": "code",
   "execution_count": 38,
   "metadata": {},
   "outputs": [],
   "source": [
    "fighter_career_stats_df = pd.DataFrame()\n",
    "\n",
    "fighter_career_stats_df['name'] = fighter_names\n",
    "fighter_career_stats_df['SLpMs'] = fighter_SLpMs\n",
    "fighter_career_stats_df['StrAccs'] = fighter_StrAccs\n",
    "fighter_career_stats_df['SApMs'] = fighter_SApMs\n",
    "fighter_career_stats_df['StrDefs'] = fighter_StrDefs\n",
    "fighter_career_stats_df['TDAvgs'] = fighter_TDAvgs\n",
    "fighter_career_stats_df['TDAccs'] = fighter_TDAccs\n",
    "fighter_career_stats_df['TDDefs'] = fighter_TDDefs\n",
    "fighter_career_stats_df['SubAvgs'] = fighter_SubAvgs"
   ]
  },
  {
   "cell_type": "code",
   "execution_count": 39,
   "metadata": {},
   "outputs": [
    {
     "data": {
      "text/html": [
       "<div>\n",
       "<style scoped>\n",
       "    .dataframe tbody tr th:only-of-type {\n",
       "        vertical-align: middle;\n",
       "    }\n",
       "\n",
       "    .dataframe tbody tr th {\n",
       "        vertical-align: top;\n",
       "    }\n",
       "\n",
       "    .dataframe thead th {\n",
       "        text-align: right;\n",
       "    }\n",
       "</style>\n",
       "<table border=\"1\" class=\"dataframe\">\n",
       "  <thead>\n",
       "    <tr style=\"text-align: right;\">\n",
       "      <th></th>\n",
       "      <th>name</th>\n",
       "      <th>SLpMs</th>\n",
       "      <th>StrAccs</th>\n",
       "      <th>SApMs</th>\n",
       "      <th>StrDefs</th>\n",
       "      <th>TDAvgs</th>\n",
       "      <th>TDAccs</th>\n",
       "      <th>TDDefs</th>\n",
       "      <th>SubAvgs</th>\n",
       "    </tr>\n",
       "  </thead>\n",
       "  <tbody>\n",
       "    <tr>\n",
       "      <th>0</th>\n",
       "      <td>Jim Alers</td>\n",
       "      <td>2.90</td>\n",
       "      <td>40.0</td>\n",
       "      <td>4.38</td>\n",
       "      <td>56.0</td>\n",
       "      <td>2.26</td>\n",
       "      <td>41.0</td>\n",
       "      <td>80.0</td>\n",
       "      <td>0.3</td>\n",
       "    </tr>\n",
       "    <tr>\n",
       "      <th>1</th>\n",
       "      <td>Mike Aina</td>\n",
       "      <td>2.87</td>\n",
       "      <td>33.0</td>\n",
       "      <td>6.33</td>\n",
       "      <td>59.0</td>\n",
       "      <td>0.00</td>\n",
       "      <td>0.0</td>\n",
       "      <td>71.0</td>\n",
       "      <td>0.0</td>\n",
       "    </tr>\n",
       "    <tr>\n",
       "      <th>2</th>\n",
       "      <td>Alex Andrade</td>\n",
       "      <td>0.20</td>\n",
       "      <td>36.0</td>\n",
       "      <td>2.60</td>\n",
       "      <td>53.0</td>\n",
       "      <td>0.00</td>\n",
       "      <td>0.0</td>\n",
       "      <td>25.0</td>\n",
       "      <td>0.8</td>\n",
       "    </tr>\n",
       "    <tr>\n",
       "      <th>3</th>\n",
       "      <td>Juan Alcain</td>\n",
       "      <td>0.00</td>\n",
       "      <td>0.0</td>\n",
       "      <td>0.00</td>\n",
       "      <td>0.0</td>\n",
       "      <td>0.00</td>\n",
       "      <td>0.0</td>\n",
       "      <td>0.0</td>\n",
       "      <td>0.0</td>\n",
       "    </tr>\n",
       "    <tr>\n",
       "      <th>4</th>\n",
       "      <td>Jose Aldo</td>\n",
       "      <td>3.47</td>\n",
       "      <td>44.0</td>\n",
       "      <td>3.18</td>\n",
       "      <td>65.0</td>\n",
       "      <td>0.64</td>\n",
       "      <td>65.0</td>\n",
       "      <td>91.0</td>\n",
       "      <td>0.1</td>\n",
       "    </tr>\n",
       "  </tbody>\n",
       "</table>\n",
       "</div>"
      ],
      "text/plain": [
       "           name  SLpMs  StrAccs  SApMs  StrDefs  TDAvgs  TDAccs  TDDefs  \\\n",
       "0     Jim Alers   2.90     40.0   4.38     56.0    2.26    41.0    80.0   \n",
       "1     Mike Aina   2.87     33.0   6.33     59.0    0.00     0.0    71.0   \n",
       "2  Alex Andrade   0.20     36.0   2.60     53.0    0.00     0.0    25.0   \n",
       "3   Juan Alcain   0.00      0.0   0.00      0.0    0.00     0.0     0.0   \n",
       "4     Jose Aldo   3.47     44.0   3.18     65.0    0.64    65.0    91.0   \n",
       "\n",
       "   SubAvgs  \n",
       "0      0.3  \n",
       "1      0.0  \n",
       "2      0.8  \n",
       "3      0.0  \n",
       "4      0.1  "
      ]
     },
     "execution_count": 39,
     "metadata": {},
     "output_type": "execute_result"
    }
   ],
   "source": [
    "fighter_career_stats_df.head()"
   ]
  },
  {
   "cell_type": "code",
   "execution_count": 40,
   "metadata": {},
   "outputs": [],
   "source": [
    "fighter_career_stats_df.to_csv('fighter_career_stats_csv', index=False)"
   ]
  },
  {
   "cell_type": "markdown",
   "metadata": {},
   "source": [
    "### Constructing Fight Event and Fight List Database"
   ]
  },
  {
   "cell_type": "code",
   "execution_count": 5,
   "metadata": {},
   "outputs": [],
   "source": [
    "#creating a list of unique fighter URLs available on website\n",
    "event_url_list = []\n",
    "response = requests.get('http://www.ufcstats.com/statistics/events/completed?page=all')\n",
    "soup = BeautifulSoup(response.content, 'html.parser')\n",
    "\n",
    "#targeting URLs that contain fighter data\n",
    "events = soup.findAll('a', attrs={'href': re.compile('http:')})\n",
    "for event in events:\n",
    "    event_url_list.append(event.get('href'))\n",
    "\n",
    "#removing duplicate URLs\n",
    "event_url_list = list(set(event_url_list))"
   ]
  },
  {
   "cell_type": "code",
   "execution_count": 6,
   "metadata": {},
   "outputs": [],
   "source": [
    "#removing invalid URLs\n",
    "for url in event_url_list:\n",
    "    if 'event-details' not in url:\n",
    "        event_url_list.remove(url)"
   ]
  },
  {
   "cell_type": "code",
   "execution_count": 7,
   "metadata": {},
   "outputs": [],
   "source": [
    "event_database_df = pd.DataFrame()\n",
    "\n",
    "event_database_df['event'] = event_url_list"
   ]
  },
  {
   "cell_type": "code",
   "execution_count": 10,
   "metadata": {},
   "outputs": [],
   "source": [
    "event_soups = list(map(info_generator, event_url_list))"
   ]
  },
  {
   "cell_type": "code",
   "execution_count": 11,
   "metadata": {},
   "outputs": [],
   "source": [
    "def event_fights_parser(event_soup):\n",
    "        \n",
    "    holder = event_soup.findAll('a', attrs={'href': re.compile('fight-details')})\n",
    "    \n",
    "    event_fights_holder = []\n",
    "    \n",
    "    for x in range(0, len(holder)):\n",
    "        \n",
    "        event_fights_holder.append(holder[x].get('href'))\n",
    "        \n",
    "    return event_fights_holder"
   ]
  },
  {
   "cell_type": "code",
   "execution_count": 12,
   "metadata": {},
   "outputs": [],
   "source": [
    "event_fight_list = list(map(event_fights_parser, event_soups))"
   ]
  },
  {
   "cell_type": "code",
   "execution_count": 13,
   "metadata": {},
   "outputs": [],
   "source": [
    "event_database_df['fight_list'] = event_fight_list"
   ]
  },
  {
   "cell_type": "code",
   "execution_count": 21,
   "metadata": {},
   "outputs": [],
   "source": [
    "def fight_participants_fetcher(event_soup):\n",
    "    \n",
    "    fight_pairs = []\n",
    "    \n",
    "    name_holder = event_soup.findChildren('a', attrs={'class': re.compile('b-link')})\n",
    "\n",
    "    fighter1_list_holder, fighter2_list_holder = name_holder[0::2], name_holder[1::2]\n",
    "\n",
    "    fighter1_list = []\n",
    "    fighter2_list = []\n",
    "\n",
    "    for fighter1 in fighter1_list_holder:\n",
    "        fighter1_list.append(fighter1.text.strip())\n",
    "        \n",
    "    for fighter2 in fighter2_list_holder:\n",
    "        fighter2_list.append(fighter2.text.strip())\n",
    "      \n",
    "    fighters_in_ring = zip(fighter1_list, fighter2_list)\n",
    "    \n",
    "    for duo in fighters_in_ring:\n",
    "        fight_pairs.append(duo)\n",
    "        \n",
    "    return fight_pairs"
   ]
  },
  {
   "cell_type": "code",
   "execution_count": 22,
   "metadata": {},
   "outputs": [
    {
     "data": {
      "text/plain": [
       "[[('Roy Nelson', 'Brendan Schaub'),\n",
       "  ('Matt Hamill', 'Jon Jones'),\n",
       "  ('Kevin Ferguson', 'Houston Alexander'),\n",
       "  ('Frankie Edgar', 'Matt Veach'),\n",
       "  ('Matt Mitrione', 'Marcus Jones'),\n",
       "  ('James McSweeney', 'Darrill Schoonover'),\n",
       "  ('Jon Madsen', 'Justin Wren'),\n",
       "  ('Brian Stann', 'Rodney Wallace'),\n",
       "  ('John Howard', 'Dennis Hallman'),\n",
       "  ('Mark Bocek', 'Joe Brammer')],\n",
       " [('Demian Maia', 'Ben Askren'),\n",
       "  ('Stevie Ray', 'Michael Johnson'),\n",
       "  ('Beneil Dariush', 'Frank Camacho'),\n",
       "  ('Ciryl Gane', \"Don'Tale Mayes\"),\n",
       "  ('Muslim Salikhov', 'Laureano Staropoli'),\n",
       "  ('Randa Markos', 'Ashley Yoder'),\n",
       "  ('Rafael Fiziev', 'Alex White'),\n",
       "  ('Movsar Evloev', 'Enrique Barzola'),\n",
       "  ('Sergei Pavlovich', 'Maurice Greene'),\n",
       "  ('Loma Lookboonmee', 'Alexandra Albu'),\n",
       "  ('Raphael Pessoa', 'Jeff Hughes')]]"
      ]
     },
     "execution_count": 22,
     "metadata": {},
     "output_type": "execute_result"
    }
   ],
   "source": [
    "matchups = list(map(fight_participants_fetcher, event_soups))\n",
    "matchups[:2]"
   ]
  },
  {
   "cell_type": "code",
   "execution_count": 23,
   "metadata": {},
   "outputs": [],
   "source": [
    "event_database_df['matchups'] = matchups"
   ]
  },
  {
   "cell_type": "code",
   "execution_count": 76,
   "metadata": {},
   "outputs": [
    {
     "data": {
      "text/plain": [
       "'http://www.ufcstats.com/event-details/91d73ee59347ac16'"
      ]
     },
     "execution_count": 76,
     "metadata": {},
     "output_type": "execute_result"
    }
   ],
   "source": [
    "event_url_list[0]"
   ]
  },
  {
   "cell_type": "code",
   "execution_count": 120,
   "metadata": {},
   "outputs": [],
   "source": [
    "def fight_strikes(event_soup):\n",
    "        \n",
    "    fighter1_strikes = event_soup.findAll('p', attrs={'class': re.compile('b-fight-details__table')})[3]\n",
    "    fighter2_strikes = event_soup.findAll('p', attrs={'class': re.compile('b-fight-details__table')})[4]\n",
    "    \n",
    "    return int(fighter1_strikes.text.strip()), int(fighter2_strikes.text.strip())"
   ]
  },
  {
   "cell_type": "code",
   "execution_count": 121,
   "metadata": {},
   "outputs": [
    {
     "data": {
      "text/plain": [
       "(8, 12)"
      ]
     },
     "execution_count": 121,
     "metadata": {},
     "output_type": "execute_result"
    }
   ],
   "source": [
    "fight_strikes(event_soups[0])"
   ]
  },
  {
   "cell_type": "code",
   "execution_count": 122,
   "metadata": {},
   "outputs": [],
   "source": [
    "def fight_takedowns(event_soup):\n",
    "        \n",
    "    fighter1_takedowns = event_soup.findAll('p', attrs={'class': re.compile('b-fight-details__table')})[5]\n",
    "    fighter2_takedowns = event_soup.findAll('p', attrs={'class': re.compile('b-fight-details__table')})[6]\n",
    "    \n",
    "    return int(fighter1_takedowns.text.strip()), int(fighter2_takedowns.text.strip())"
   ]
  },
  {
   "cell_type": "code",
   "execution_count": 124,
   "metadata": {},
   "outputs": [
    {
     "data": {
      "text/plain": [
       "(1, 0)"
      ]
     },
     "execution_count": 124,
     "metadata": {},
     "output_type": "execute_result"
    }
   ],
   "source": [
    "fight_takedowns(event_soups[0])"
   ]
  },
  {
   "cell_type": "code",
   "execution_count": 127,
   "metadata": {},
   "outputs": [],
   "source": [
    "def fight_submissions(event_soup):\n",
    "        \n",
    "    fighter1_submissions = event_soup.findAll('p', attrs={'class': re.compile('b-fight-details__table')})[7]\n",
    "    fighter2_submissions = event_soup.findAll('p', attrs={'class': re.compile('b-fight-details__table')})[8]\n",
    "    \n",
    "    return int(fighter1_submissions.text.strip()), int(fighter2_submissions.text.strip())"
   ]
  },
  {
   "cell_type": "code",
   "execution_count": 128,
   "metadata": {},
   "outputs": [
    {
     "data": {
      "text/plain": [
       "(0, 0)"
      ]
     },
     "execution_count": 128,
     "metadata": {},
     "output_type": "execute_result"
    }
   ],
   "source": [
    "fight_submissions(event_soups[0])"
   ]
  },
  {
   "cell_type": "code",
   "execution_count": 132,
   "metadata": {},
   "outputs": [],
   "source": [
    "def fight_passes(event_soup):\n",
    "        \n",
    "    fighter1_passes = event_soup.findAll('p', attrs={'class': re.compile('b-fight-details__table')})[9]\n",
    "    fighter2_passes = event_soup.findAll('p', attrs={'class': re.compile('b-fight-details__table')})[10]\n",
    "    \n",
    "    return int(fighter1_passes.text.strip()), int(fighter2_passes.text.strip())"
   ]
  },
  {
   "cell_type": "code",
   "execution_count": 133,
   "metadata": {},
   "outputs": [
    {
     "data": {
      "text/plain": [
       "(2, 0)"
      ]
     },
     "execution_count": 133,
     "metadata": {},
     "output_type": "execute_result"
    }
   ],
   "source": [
    "fight_passes(event_soups[0])"
   ]
  },
  {
   "cell_type": "code",
   "execution_count": 149,
   "metadata": {},
   "outputs": [],
   "source": [
    "def fight_weight_class(event_soup):\n",
    "        \n",
    "    weight_class = event_soup.findAll('p', attrs={'class': re.compile('b-fight-details__table')})[11]\n",
    "    \n",
    "    return weight_class.text.strip()"
   ]
  },
  {
   "cell_type": "code",
   "execution_count": 150,
   "metadata": {},
   "outputs": [
    {
     "data": {
      "text/plain": [
       "'Heavyweight'"
      ]
     },
     "execution_count": 150,
     "metadata": {},
     "output_type": "execute_result"
    }
   ],
   "source": [
    "fight_weight_class(event_soups[0])"
   ]
  },
  {
   "cell_type": "code",
   "execution_count": 177,
   "metadata": {},
   "outputs": [],
   "source": [
    "def fight_win_method(event_soup):\n",
    "        \n",
    "    win_method = event_soup.findAll('p', attrs={'class': re.compile('b-fight-details__table')})[12]\n",
    "    win_method_detail = event_soup.findAll('p', attrs={'class': re.compile('b-fight-details__table')})[13]\n",
    "    \n",
    "    return win_method.text.strip(), win_method_detail.text.strip()"
   ]
  },
  {
   "cell_type": "code",
   "execution_count": 181,
   "metadata": {},
   "outputs": [
    {
     "data": {
      "text/plain": [
       "('KO/TKO', 'Punch')"
      ]
     },
     "execution_count": 181,
     "metadata": {},
     "output_type": "execute_result"
    }
   ],
   "source": [
    "fight_win_method(event_soups[0])"
   ]
  },
  {
   "cell_type": "code",
   "execution_count": 192,
   "metadata": {},
   "outputs": [],
   "source": [
    "def fight_final_round(event_soup):\n",
    "        \n",
    "    ending_round = event_soup.findAll('p', attrs={'class': re.compile('b-fight-details__table')})[14]\n",
    "    \n",
    "    return int(ending_round.text.strip())"
   ]
  },
  {
   "cell_type": "code",
   "execution_count": 193,
   "metadata": {},
   "outputs": [
    {
     "data": {
      "text/plain": [
       "1"
      ]
     },
     "execution_count": 193,
     "metadata": {},
     "output_type": "execute_result"
    }
   ],
   "source": [
    "fight_final_round(event_soups[0])"
   ]
  },
  {
   "cell_type": "code",
   "execution_count": 199,
   "metadata": {},
   "outputs": [],
   "source": [
    "def fight_final_round_time(event_soup):\n",
    "    \n",
    "    ending_round_time = event_soup.findAll('p', attrs={'class': re.compile('b-fight-details__table')})[15]\n",
    "    \n",
    "    return ending_round_time.text.strip()"
   ]
  },
  {
   "cell_type": "code",
   "execution_count": 200,
   "metadata": {},
   "outputs": [
    {
     "data": {
      "text/plain": [
       "'3:45'"
      ]
     },
     "execution_count": 200,
     "metadata": {},
     "output_type": "execute_result"
    }
   ],
   "source": [
    "fight_final_round_time(event_soups[0])"
   ]
  },
  {
   "cell_type": "code",
   "execution_count": 135,
   "metadata": {},
   "outputs": [],
   "source": [
    "event_database_df.to_csv('event_database_csv', index=False)"
   ]
  },
  {
   "cell_type": "markdown",
   "metadata": {},
   "source": [
    "PROTOCODE =================================="
   ]
  }
 ],
 "metadata": {
  "kernelspec": {
   "display_name": "Python [conda env:work-env] *",
   "language": "python",
   "name": "conda-env-work-env-py"
  },
  "language_info": {
   "codemirror_mode": {
    "name": "ipython",
    "version": 3
   },
   "file_extension": ".py",
   "mimetype": "text/x-python",
   "name": "python",
   "nbconvert_exporter": "python",
   "pygments_lexer": "ipython3",
   "version": "3.7.7"
  }
 },
 "nbformat": 4,
 "nbformat_minor": 2
}
